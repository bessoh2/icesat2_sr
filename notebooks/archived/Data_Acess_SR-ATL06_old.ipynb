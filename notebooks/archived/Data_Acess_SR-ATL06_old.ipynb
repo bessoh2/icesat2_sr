{
 "cells": [
  {
   "cell_type": "markdown",
   "id": "ea788a5d",
   "metadata": {},
   "source": [
    "# Data Access\n",
    "\n",
    "Taken from a notebook created by Tyler Sutterly for the 2022 ICESat-2 Hackweek, put on by the e-science institute at UW."
   ]
  },
  {
   "cell_type": "code",
   "execution_count": 1,
   "id": "c775a0e6",
   "metadata": {},
   "outputs": [],
   "source": [
    "import os\n",
    "import geopandas as gpd\n",
    "import ipyleaflet\n",
    "import ipywidgets as widgets\n",
    "import logging\n",
    "#import panel as pn\n",
    "#pn.extension()\n",
    "import matplotlib.lines\n",
    "import matplotlib.colors as colors\n",
    "import matplotlib.gridspec as gridspec\n",
    "import matplotlib.pyplot as plt\n",
    "from mpl_toolkits.axes_grid1.inset_locator import inset_axes\n",
    "import numpy as np\n",
    "from shapely.geometry import Polygon\n",
    "import warnings\n",
    "# grimp and nisar functions\n",
    "#import grimpfunc as grimp\n",
    "#import nisardev as nisar\n",
    "# sliderule functions\n",
    "import sliderule.icesat2\n",
    "import sliderule.io\n",
    "import sliderule.ipysliderule\n",
    "import pandas as pd\n",
    "from datetime import datetime\n",
    "# register progress bar and set workers\n",
    "#ProgressBar().register()\n",
    "#dask.config.set(num_workers=2)\n",
    "# turn off warnings for demo\n",
    "warnings.filterwarnings('ignore')"
   ]
  },
  {
   "cell_type": "code",
   "execution_count": 2,
   "id": "61da7ccc",
   "metadata": {},
   "outputs": [],
   "source": [
    "%matplotlib inline"
   ]
  },
  {
   "cell_type": "code",
   "execution_count": 3,
   "id": "93d152c9",
   "metadata": {},
   "outputs": [],
   "source": [
    "# set the url for the sliderule service\n",
    "# set the logging level\n",
    "sliderule.icesat2.init(\"icesat2sliderule.org\", loglevel=logging.WARNING)"
   ]
  },
  {
   "cell_type": "code",
   "execution_count": 4,
   "id": "7ad3e4c6",
   "metadata": {},
   "outputs": [
    {
     "data": {
      "application/vnd.jupyter.widget-view+json": {
       "model_id": "481c063a2cd74b51be8c86e6caf0b143",
       "version_major": 2,
       "version_minor": 0
      },
      "text/plain": [
       "VBox(children=(Dropdown(description='Asset:', description_tooltip='Asset: Location for SlideRule to get the da…"
      ]
     },
     "metadata": {},
     "output_type": "display_data"
    }
   ],
   "source": [
    "# display widgets for setting SlideRule parameters\n",
    "SRwidgets = sliderule.ipysliderule.widgets()\n",
    "# show widgets\n",
    "widgets.VBox([\n",
    "    SRwidgets.asset,\n",
    "    SRwidgets.release,\n",
    "    SRwidgets.surface_type,\n",
    "    SRwidgets.length,\n",
    "    SRwidgets.step,\n",
    "    SRwidgets.confidence,\n",
    "    SRwidgets.land_class,\n",
    "    SRwidgets.iteration,\n",
    "    SRwidgets.spread,\n",
    "    SRwidgets.count,\n",
    "    SRwidgets.window,\n",
    "    SRwidgets.sigma\n",
    "])"
   ]
  },
  {
   "cell_type": "code",
   "execution_count": 5,
   "id": "f66375c9",
   "metadata": {},
   "outputs": [
    {
     "data": {
      "application/vnd.jupyter.widget-view+json": {
       "model_id": "bd8a648a49ef4cfaa8e0d1f897d56266",
       "version_major": 2,
       "version_minor": 0
      },
      "text/plain": [
       "VBox(children=(Dropdown(description='Projection:', description_tooltip='Projection: leaflet map projection\\n\\t…"
      ]
     },
     "metadata": {},
     "output_type": "display_data"
    }
   ],
   "source": [
    "widgets.VBox([SRwidgets.projection, SRwidgets.layers])"
   ]
  },
  {
   "cell_type": "code",
   "execution_count": 6,
   "id": "e92a66fb",
   "metadata": {},
   "outputs": [
    {
     "data": {
      "text/html": [
       "<div>\n",
       "<style scoped>\n",
       "    .dataframe tbody tr th:only-of-type {\n",
       "        vertical-align: middle;\n",
       "    }\n",
       "\n",
       "    .dataframe tbody tr th {\n",
       "        vertical-align: top;\n",
       "    }\n",
       "\n",
       "    .dataframe thead th {\n",
       "        text-align: right;\n",
       "    }\n",
       "</style>\n",
       "<table border=\"1\" class=\"dataframe\">\n",
       "  <thead>\n",
       "    <tr style=\"text-align: right;\">\n",
       "      <th></th>\n",
       "      <th>DN</th>\n",
       "      <th>geometry</th>\n",
       "    </tr>\n",
       "  </thead>\n",
       "  <tbody>\n",
       "    <tr>\n",
       "      <th>0</th>\n",
       "      <td>0</td>\n",
       "      <td>MULTIPOLYGON (((-119.79834 37.95837, -119.7980...</td>\n",
       "    </tr>\n",
       "    <tr>\n",
       "      <th>1</th>\n",
       "      <td>1</td>\n",
       "      <td>MULTIPOLYGON (((-119.58991 38.18616, -119.5888...</td>\n",
       "    </tr>\n",
       "  </tbody>\n",
       "</table>\n",
       "</div>"
      ],
      "text/plain": [
       "   DN                                           geometry\n",
       "0   0  MULTIPOLYGON (((-119.79834 37.95837, -119.7980...\n",
       "1   1  MULTIPOLYGON (((-119.58991 38.18616, -119.5888..."
      ]
     },
     "execution_count": 6,
     "metadata": {},
     "output_type": "execute_result"
    }
   ],
   "source": [
    "polygon_gdf = gpd.read_file('./../data/UpperTuolRiverBasinOutline.geojson', crs='epsg:4326')\n",
    "polygon_gdf.head()"
   ]
  },
  {
   "cell_type": "code",
   "execution_count": 9,
   "id": "72f496e6",
   "metadata": {},
   "outputs": [
    {
     "data": {
      "text/plain": [
       "<AxesSubplot:>"
      ]
     },
     "execution_count": 9,
     "metadata": {},
     "output_type": "execute_result"
    },
    {
     "data": {
      "image/png": "[encoded data removed]",
      "text/plain": [
       "<Figure size 432x288 with 1 Axes>"
      ]
     },
     "metadata": {
      "needs_background": "light"
     },
     "output_type": "display_data"
    }
   ],
   "source": [
    "polygon_gdf.loc[[1],'geometry'].plot()"
   ]
  },
  {
   "cell_type": "code",
   "execution_count": 7,
   "id": "3b927830-6003-4db5-aab5-7071735d1db3",
   "metadata": {},
   "outputs": [],
   "source": [
    "polygon_gdf = polygon_gdf[1:]"
   ]
  },
  {
   "cell_type": "code",
   "execution_count": 25,
   "id": "b4ed483d",
   "metadata": {},
   "outputs": [
    {
     "data": {
      "text/plain": [
       "1    MULTIPOLYGON (((-119.58991 38.18616, -119.5888...\n",
       "Name: geometry, dtype: geometry"
      ]
     },
     "execution_count": 25,
     "metadata": {},
     "output_type": "execute_result"
    }
   ],
   "source": [
    "polygon_gdf.geometry"
   ]
  },
  {
   "cell_type": "code",
   "execution_count": 8,
   "id": "33430950-5a9a-40d6-8a78-2184fe9a83c1",
   "metadata": {},
   "outputs": [],
   "source": [
    "gdf_exploded = polygon_gdf.explode()"
   ]
  },
  {
   "cell_type": "code",
   "execution_count": 10,
   "id": "5984696f-f6d8-40b4-b231-72af6019ff51",
   "metadata": {},
   "outputs": [
    {
     "data": {
      "text/html": [
       "<div>\n",
       "<style scoped>\n",
       "    .dataframe tbody tr th:only-of-type {\n",
       "        vertical-align: middle;\n",
       "    }\n",
       "\n",
       "    .dataframe tbody tr th {\n",
       "        vertical-align: top;\n",
       "    }\n",
       "\n",
       "    .dataframe thead th {\n",
       "        text-align: right;\n",
       "    }\n",
       "</style>\n",
       "<table border=\"1\" class=\"dataframe\">\n",
       "  <thead>\n",
       "    <tr style=\"text-align: right;\">\n",
       "      <th></th>\n",
       "      <th></th>\n",
       "      <th>DN</th>\n",
       "      <th>geometry</th>\n",
       "    </tr>\n",
       "  </thead>\n",
       "  <tbody>\n",
       "    <tr>\n",
       "      <th>1</th>\n",
       "      <th>0</th>\n",
       "      <td>1</td>\n",
       "      <td>POLYGON ((-119.58991 38.18616, -119.58888 38.1...</td>\n",
       "    </tr>\n",
       "  </tbody>\n",
       "</table>\n",
       "</div>"
      ],
      "text/plain": [
       "     DN                                           geometry\n",
       "1 0   1  POLYGON ((-119.58991 38.18616, -119.58888 38.1..."
      ]
     },
     "execution_count": 10,
     "metadata": {},
     "output_type": "execute_result"
    }
   ],
   "source": [
    "gdf_exploded"
   ]
  },
  {
   "cell_type": "code",
   "execution_count": 9,
   "id": "8044efb7",
   "metadata": {},
   "outputs": [
    {
     "data": {
      "application/vnd.jupyter.widget-view+json": {
       "model_id": "a3523fd1a2f04a3094851159c957bdda",
       "version_major": 2,
       "version_minor": 0
      },
      "text/plain": [
       "Map(center=[39, -108], controls=(ZoomControl(options=['position', 'zoom_in_text', 'zoom_in_title', 'zoom_out_t…"
      ]
     },
     "metadata": {},
     "output_type": "display_data"
    }
   ],
   "source": [
    "# create ipyleaflet map in specified projection\n",
    "m = sliderule.ipysliderule.leaflet(SRwidgets.projection.value)\n",
    "m.add_layer(layers=SRwidgets.layers.value)\n",
    "\n",
    "# Comment this section out if you want to draw your own polygon!\n",
    "# ---\n",
    "#box = shapely.geometry.Polygon([(-108.3,38.9), (-108.0,38.9), (-108.0,39.1), (-108.3, 39.1)])\n",
    "#geobox = gpd.GeoDataFrame(geometry=[box], crs='EPSG:4326')\n",
    "default_polygon = sliderule.io.from_geodataframe(gdf_exploded)\n",
    "geodata = ipyleaflet.GeoData(geo_dataframe=gdf_exploded)\n",
    "m.map.add_layer(geodata)\n",
    "# ---\n",
    "\n",
    "m.map"
   ]
  },
  {
   "cell_type": "code",
   "execution_count": 10,
   "id": "c7f758eb",
   "metadata": {},
   "outputs": [],
   "source": [
    "#%%time\n",
    "# sliderule asset and data release\n",
    "asset = SRwidgets.asset.value\n",
    "release = SRwidgets.release.value\n",
    "\n",
    "# build sliderule parameters using latest values from widget\n",
    "params = {\n",
    "    # surface type: 0-land, 1-ocean, 2-sea ice, 3-land ice, 4-inland water\n",
    "    \"srt\": SRwidgets.surface_type.index,\n",
    "    # length of ATL06-SR segment in meters\n",
    "    \"len\": SRwidgets.length.value,\n",
    "    # step distance for successive ATL06-SR segments in meters\n",
    "    \"res\": SRwidgets.step.value,\n",
    "    # confidence level for PE selection\n",
    "    \"cnf\": SRwidgets.confidence.value,\n",
    "    # ATL08 land surface classifications\n",
    "    \"atl08_class\": list(SRwidgets.land_class.value),\n",
    "    # maximum iterations, not including initial least-squares-fit selection\n",
    "    \"maxi\": SRwidgets.iteration.value,\n",
    "    # minimum along track spread\n",
    "    \"ats\": SRwidgets.spread.value,\n",
    "    # minimum PE count\n",
    "    \"cnt\": SRwidgets.count.value,\n",
    "    # minimum height of PE window in meters\n",
    "    \"H_min_win\": SRwidgets.window.value,\n",
    "    # maximum robust dispersion in meters\n",
    "    \"sigma_r_max\": SRwidgets.sigma.value\n",
    "}\n",
    "\n",
    "region = sliderule.icesat2.toregion(gdf_exploded)\n",
    "params[\"poly\"] = region[\"poly\"]   # will always be the convex hull of the polygon\n",
    "params[\"raster\"] = region[\"raster\"]   # raster will include all vertices, including holes. This is more processing, but is only an issue with very large requests.\n",
    "gdf = sliderule.icesat2.atl06p(params, asset, version=release)"
   ]
  },
  {
   "cell_type": "code",
   "execution_count": 11,
   "id": "8cf50d72",
   "metadata": {},
   "outputs": [
    {
     "name": "stdout",
     "output_type": "stream",
     "text": [
      "Returned 152603 records\n"
     ]
    },
    {
     "data": {
      "text/html": [
       "<div>\n",
       "<style scoped>\n",
       "    .dataframe tbody tr th:only-of-type {\n",
       "        vertical-align: middle;\n",
       "    }\n",
       "\n",
       "    .dataframe tbody tr th {\n",
       "        vertical-align: top;\n",
       "    }\n",
       "\n",
       "    .dataframe thead th {\n",
       "        text-align: right;\n",
       "    }\n",
       "</style>\n",
       "<table border=\"1\" class=\"dataframe\">\n",
       "  <thead>\n",
       "    <tr style=\"text-align: right;\">\n",
       "      <th></th>\n",
       "      <th>delta_time</th>\n",
       "      <th>w_surface_window_final</th>\n",
       "      <th>dh_fit_dx</th>\n",
       "      <th>spot</th>\n",
       "      <th>segment_id</th>\n",
       "      <th>pflags</th>\n",
       "      <th>h_mean</th>\n",
       "      <th>gt</th>\n",
       "      <th>rms_misfit</th>\n",
       "      <th>h_sigma</th>\n",
       "      <th>n_fit_photons</th>\n",
       "      <th>cycle</th>\n",
       "      <th>distance</th>\n",
       "      <th>dh_fit_dy</th>\n",
       "      <th>rgt</th>\n",
       "      <th>geometry</th>\n",
       "    </tr>\n",
       "    <tr>\n",
       "      <th>time</th>\n",
       "      <th></th>\n",
       "      <th></th>\n",
       "      <th></th>\n",
       "      <th></th>\n",
       "      <th></th>\n",
       "      <th></th>\n",
       "      <th></th>\n",
       "      <th></th>\n",
       "      <th></th>\n",
       "      <th></th>\n",
       "      <th></th>\n",
       "      <th></th>\n",
       "      <th></th>\n",
       "      <th></th>\n",
       "      <th></th>\n",
       "      <th></th>\n",
       "    </tr>\n",
       "  </thead>\n",
       "  <tbody>\n",
       "    <tr>\n",
       "      <th>2018-10-15 23:22:20.018965444</th>\n",
       "      <td>2.488094e+07</td>\n",
       "      <td>3.0</td>\n",
       "      <td>-0.018228</td>\n",
       "      <td>4</td>\n",
       "      <td>210188</td>\n",
       "      <td>0</td>\n",
       "      <td>2501.377184</td>\n",
       "      <td>30</td>\n",
       "      <td>0.091912</td>\n",
       "      <td>0.033182</td>\n",
       "      <td>15</td>\n",
       "      <td>1</td>\n",
       "      <td>4.215353e+06</td>\n",
       "      <td>0.0</td>\n",
       "      <td>265</td>\n",
       "      <td>POINT (-119.62341 37.88878)</td>\n",
       "    </tr>\n",
       "    <tr>\n",
       "      <th>2018-10-15 23:22:20.021811344</th>\n",
       "      <td>2.488094e+07</td>\n",
       "      <td>3.0</td>\n",
       "      <td>-0.010939</td>\n",
       "      <td>4</td>\n",
       "      <td>210189</td>\n",
       "      <td>0</td>\n",
       "      <td>2501.116873</td>\n",
       "      <td>30</td>\n",
       "      <td>0.109110</td>\n",
       "      <td>0.028329</td>\n",
       "      <td>18</td>\n",
       "      <td>1</td>\n",
       "      <td>4.215373e+06</td>\n",
       "      <td>0.0</td>\n",
       "      <td>265</td>\n",
       "      <td>POINT (-119.62343 37.88896)</td>\n",
       "    </tr>\n",
       "    <tr>\n",
       "      <th>2018-10-15 23:22:20.027481712</th>\n",
       "      <td>2.488094e+07</td>\n",
       "      <td>3.0</td>\n",
       "      <td>-0.000515</td>\n",
       "      <td>4</td>\n",
       "      <td>210191</td>\n",
       "      <td>0</td>\n",
       "      <td>2501.053838</td>\n",
       "      <td>30</td>\n",
       "      <td>0.107823</td>\n",
       "      <td>0.032855</td>\n",
       "      <td>11</td>\n",
       "      <td>1</td>\n",
       "      <td>4.215413e+06</td>\n",
       "      <td>0.0</td>\n",
       "      <td>265</td>\n",
       "      <td>POINT (-119.62348 37.88932)</td>\n",
       "    </tr>\n",
       "    <tr>\n",
       "      <th>2018-10-15 23:22:20.030305900</th>\n",
       "      <td>2.488094e+07</td>\n",
       "      <td>3.0</td>\n",
       "      <td>0.008181</td>\n",
       "      <td>4</td>\n",
       "      <td>210192</td>\n",
       "      <td>0</td>\n",
       "      <td>2501.176924</td>\n",
       "      <td>30</td>\n",
       "      <td>0.156936</td>\n",
       "      <td>0.041974</td>\n",
       "      <td>14</td>\n",
       "      <td>1</td>\n",
       "      <td>4.215434e+06</td>\n",
       "      <td>0.0</td>\n",
       "      <td>265</td>\n",
       "      <td>POINT (-119.62350 37.88950)</td>\n",
       "    </tr>\n",
       "    <tr>\n",
       "      <th>2018-10-15 23:22:20.033126928</th>\n",
       "      <td>2.488094e+07</td>\n",
       "      <td>3.0</td>\n",
       "      <td>0.004802</td>\n",
       "      <td>4</td>\n",
       "      <td>210193</td>\n",
       "      <td>0</td>\n",
       "      <td>2501.271832</td>\n",
       "      <td>30</td>\n",
       "      <td>0.169124</td>\n",
       "      <td>0.045422</td>\n",
       "      <td>14</td>\n",
       "      <td>1</td>\n",
       "      <td>4.215454e+06</td>\n",
       "      <td>0.0</td>\n",
       "      <td>265</td>\n",
       "      <td>POINT (-119.62352 37.88968)</td>\n",
       "    </tr>\n",
       "  </tbody>\n",
       "</table>\n",
       "</div>"
      ],
      "text/plain": [
       "                                 delta_time  w_surface_window_final  \\\n",
       "time                                                                  \n",
       "2018-10-15 23:22:20.018965444  2.488094e+07                     3.0   \n",
       "2018-10-15 23:22:20.021811344  2.488094e+07                     3.0   \n",
       "2018-10-15 23:22:20.027481712  2.488094e+07                     3.0   \n",
       "2018-10-15 23:22:20.030305900  2.488094e+07                     3.0   \n",
       "2018-10-15 23:22:20.033126928  2.488094e+07                     3.0   \n",
       "\n",
       "                               dh_fit_dx  spot  segment_id  pflags  \\\n",
       "time                                                                 \n",
       "2018-10-15 23:22:20.018965444  -0.018228     4      210188       0   \n",
       "2018-10-15 23:22:20.021811344  -0.010939     4      210189       0   \n",
       "2018-10-15 23:22:20.027481712  -0.000515     4      210191       0   \n",
       "2018-10-15 23:22:20.030305900   0.008181     4      210192       0   \n",
       "2018-10-15 23:22:20.033126928   0.004802     4      210193       0   \n",
       "\n",
       "                                    h_mean  gt  rms_misfit   h_sigma  \\\n",
       "time                                                                   \n",
       "2018-10-15 23:22:20.018965444  2501.377184  30    0.091912  0.033182   \n",
       "2018-10-15 23:22:20.021811344  2501.116873  30    0.109110  0.028329   \n",
       "2018-10-15 23:22:20.027481712  2501.053838  30    0.107823  0.032855   \n",
       "2018-10-15 23:22:20.030305900  2501.176924  30    0.156936  0.041974   \n",
       "2018-10-15 23:22:20.033126928  2501.271832  30    0.169124  0.045422   \n",
       "\n",
       "                               n_fit_photons  cycle      distance  dh_fit_dy  \\\n",
       "time                                                                           \n",
       "2018-10-15 23:22:20.018965444             15      1  4.215353e+06        0.0   \n",
       "2018-10-15 23:22:20.021811344             18      1  4.215373e+06        0.0   \n",
       "2018-10-15 23:22:20.027481712             11      1  4.215413e+06        0.0   \n",
       "2018-10-15 23:22:20.030305900             14      1  4.215434e+06        0.0   \n",
       "2018-10-15 23:22:20.033126928             14      1  4.215454e+06        0.0   \n",
       "\n",
       "                               rgt                     geometry  \n",
       "time                                                             \n",
       "2018-10-15 23:22:20.018965444  265  POINT (-119.62341 37.88878)  \n",
       "2018-10-15 23:22:20.021811344  265  POINT (-119.62343 37.88896)  \n",
       "2018-10-15 23:22:20.027481712  265  POINT (-119.62348 37.88932)  \n",
       "2018-10-15 23:22:20.030305900  265  POINT (-119.62350 37.88950)  \n",
       "2018-10-15 23:22:20.033126928  265  POINT (-119.62352 37.88968)  "
      ]
     },
     "execution_count": 11,
     "metadata": {},
     "output_type": "execute_result"
    }
   ],
   "source": [
    "print(f'Returned {gdf.shape[0]} records')\n",
    "gdf.head()"
   ]
  },
  {
   "cell_type": "code",
   "execution_count": 31,
   "id": "e573abc4-50fa-4154-978d-63fc3e23ac49",
   "metadata": {},
   "outputs": [
    {
     "data": {
      "application/vnd.jupyter.widget-view+json": {
       "model_id": "f120ecc6dd46475b91e046d4f65e758c",
       "version_major": 2,
       "version_minor": 0
      },
      "text/plain": [
       "VBox(children=(Dropdown(description='Variable:', description_tooltip='Variable: variable to display on leaflet…"
      ]
     },
     "metadata": {},
     "output_type": "display_data"
    }
   ],
   "source": [
    "widgets.VBox([\n",
    "    SRwidgets.variable,\n",
    "    SRwidgets.cmap,\n",
    "    SRwidgets.reverse,\n",
    "])"
   ]
  },
  {
   "cell_type": "code",
   "execution_count": 32,
   "id": "2b7f2301-d2cc-4318-9488-8675ab01bf48",
   "metadata": {},
   "outputs": [],
   "source": [
    "m.GeoData(gdf, column_name=SRwidgets.variable.value, cmap='viridis',\n",
    "    max_plot_points=10000, tooltip=True, colorbar=True)"
   ]
  },
  {
   "cell_type": "code",
   "execution_count": 36,
   "id": "d0524477-7668-42b7-8310-ca7f4ecc9517",
   "metadata": {},
   "outputs": [],
   "source": [
    "gdf.sort_index(inplace=True)\n",
    "gdf['acqdate'] = gdf.index.date\n",
    "gdf['acqdate_string'] = gdf['acqdate'].apply(lambda x: datetime.strftime(x, '%Y-%m-%d'))"
   ]
  },
  {
   "cell_type": "code",
   "execution_count": 40,
   "id": "65751d5a-1337-4397-b71e-372cbd4eabf9",
   "metadata": {},
   "outputs": [
    {
     "data": {
      "text/plain": [
       "array([datetime.date(2018, 10, 15), datetime.date(2018, 11, 13),\n",
       "       datetime.date(2018, 12, 11), datetime.date(2019, 1, 9),\n",
       "       datetime.date(2019, 2, 12), datetime.date(2019, 3, 12),\n",
       "       datetime.date(2019, 4, 10), datetime.date(2019, 5, 14),\n",
       "       datetime.date(2019, 6, 11), datetime.date(2019, 7, 9),\n",
       "       datetime.date(2019, 7, 15), datetime.date(2019, 8, 7),\n",
       "       datetime.date(2019, 8, 13), datetime.date(2019, 9, 9),\n",
       "       datetime.date(2019, 10, 8), datetime.date(2019, 10, 14),\n",
       "       datetime.date(2019, 11, 12), datetime.date(2019, 12, 9),\n",
       "       datetime.date(2019, 12, 11), datetime.date(2020, 1, 7),\n",
       "       datetime.date(2020, 1, 13), datetime.date(2020, 2, 5),\n",
       "       datetime.date(2020, 2, 11), datetime.date(2020, 3, 9),\n",
       "       datetime.date(2020, 3, 10), datetime.date(2020, 4, 7),\n",
       "       datetime.date(2020, 4, 12), datetime.date(2020, 6, 8),\n",
       "       datetime.date(2020, 7, 7), datetime.date(2020, 7, 12),\n",
       "       datetime.date(2020, 8, 5), datetime.date(2020, 8, 10),\n",
       "       datetime.date(2020, 10, 6), datetime.date(2020, 10, 11),\n",
       "       datetime.date(2020, 11, 9), datetime.date(2020, 12, 6),\n",
       "       datetime.date(2020, 12, 8), datetime.date(2021, 1, 10),\n",
       "       datetime.date(2021, 2, 2), datetime.date(2021, 2, 8),\n",
       "       datetime.date(2021, 3, 7), datetime.date(2021, 3, 13),\n",
       "       datetime.date(2021, 4, 5), datetime.date(2021, 4, 11),\n",
       "       datetime.date(2021, 5, 10), datetime.date(2021, 6, 6),\n",
       "       datetime.date(2021, 6, 8), datetime.date(2021, 7, 5),\n",
       "       datetime.date(2021, 7, 10), datetime.date(2021, 8, 8),\n",
       "       datetime.date(2021, 9, 5), datetime.date(2021, 10, 4),\n",
       "       datetime.date(2021, 10, 9), datetime.date(2021, 11, 7),\n",
       "       datetime.date(2021, 12, 5), datetime.date(2022, 1, 3),\n",
       "       datetime.date(2022, 1, 8), datetime.date(2022, 2, 6)], dtype=object)"
      ]
     },
     "execution_count": 40,
     "metadata": {},
     "output_type": "execute_result"
    }
   ],
   "source": [
    "gdf.acqdate.unique()"
   ]
  },
  {
   "cell_type": "code",
   "execution_count": 33,
   "id": "f382830c",
   "metadata": {},
   "outputs": [],
   "source": [
    "gdf.to_file('./../data/tuolumne_all_06032022.geojson', driver='GeoJSON')"
   ]
  },
  {
   "cell_type": "code",
   "execution_count": 12,
   "id": "05fd8d3e-48c5-4ec9-a891-8b907dc6a230",
   "metadata": {},
   "outputs": [],
   "source": [
    "gdf.to_file('tuolumne_all_06032022.geojson', driver='GeoJSON')"
   ]
  },
  {
   "cell_type": "code",
   "execution_count": 13,
   "id": "05bd0a32-aa07-4c0f-ae5e-f944445789b3",
   "metadata": {},
   "outputs": [
    {
     "name": "stderr",
     "output_type": "stream",
     "text": [
      "ERROR:fiona.ogrext:second must be in 0..59\n",
      "Traceback (most recent call last):\n",
      "  File \"fiona/ogrext.pyx\", line 275, in fiona.ogrext.FeatureBuilder.build\n",
      "ValueError: second must be in 0..59\n"
     ]
    }
   ],
   "source": [
    "gdf2 = gpd.read_file('tuolumne_all_06032022.geojson')"
   ]
  },
  {
   "cell_type": "code",
   "execution_count": 14,
   "id": "0d33ecab-e8a7-490f-b675-affc0e31bc13",
   "metadata": {},
   "outputs": [
    {
     "data": {
      "text/html": [
       "<div>\n",
       "<style scoped>\n",
       "    .dataframe tbody tr th:only-of-type {\n",
       "        vertical-align: middle;\n",
       "    }\n",
       "\n",
       "    .dataframe tbody tr th {\n",
       "        vertical-align: top;\n",
       "    }\n",
       "\n",
       "    .dataframe thead th {\n",
       "        text-align: right;\n",
       "    }\n",
       "</style>\n",
       "<table border=\"1\" class=\"dataframe\">\n",
       "  <thead>\n",
       "    <tr style=\"text-align: right;\">\n",
       "      <th></th>\n",
       "      <th>time</th>\n",
       "      <th>delta_time</th>\n",
       "      <th>w_surface_window_final</th>\n",
       "      <th>dh_fit_dx</th>\n",
       "      <th>spot</th>\n",
       "      <th>segment_id</th>\n",
       "      <th>pflags</th>\n",
       "      <th>h_mean</th>\n",
       "      <th>gt</th>\n",
       "      <th>rms_misfit</th>\n",
       "      <th>h_sigma</th>\n",
       "      <th>n_fit_photons</th>\n",
       "      <th>cycle</th>\n",
       "      <th>distance</th>\n",
       "      <th>dh_fit_dy</th>\n",
       "      <th>rgt</th>\n",
       "      <th>geometry</th>\n",
       "    </tr>\n",
       "  </thead>\n",
       "  <tbody>\n",
       "    <tr>\n",
       "      <th>0</th>\n",
       "      <td>2018-10-15T23:22:20.018999</td>\n",
       "      <td>2.488094e+07</td>\n",
       "      <td>3.0</td>\n",
       "      <td>-0.018228</td>\n",
       "      <td>4</td>\n",
       "      <td>210188</td>\n",
       "      <td>0</td>\n",
       "      <td>2501.377184</td>\n",
       "      <td>30</td>\n",
       "      <td>0.091912</td>\n",
       "      <td>0.033182</td>\n",
       "      <td>15</td>\n",
       "      <td>1</td>\n",
       "      <td>4.215353e+06</td>\n",
       "      <td>0.0</td>\n",
       "      <td>265</td>\n",
       "      <td>POINT (-119.62341 37.88878)</td>\n",
       "    </tr>\n",
       "    <tr>\n",
       "      <th>1</th>\n",
       "      <td>2018-10-15T23:22:20.021999</td>\n",
       "      <td>2.488094e+07</td>\n",
       "      <td>3.0</td>\n",
       "      <td>-0.010939</td>\n",
       "      <td>4</td>\n",
       "      <td>210189</td>\n",
       "      <td>0</td>\n",
       "      <td>2501.116873</td>\n",
       "      <td>30</td>\n",
       "      <td>0.109110</td>\n",
       "      <td>0.028329</td>\n",
       "      <td>18</td>\n",
       "      <td>1</td>\n",
       "      <td>4.215373e+06</td>\n",
       "      <td>0.0</td>\n",
       "      <td>265</td>\n",
       "      <td>POINT (-119.62343 37.88896)</td>\n",
       "    </tr>\n",
       "    <tr>\n",
       "      <th>2</th>\n",
       "      <td>2018-10-15T23:22:20.027000</td>\n",
       "      <td>2.488094e+07</td>\n",
       "      <td>3.0</td>\n",
       "      <td>-0.000515</td>\n",
       "      <td>4</td>\n",
       "      <td>210191</td>\n",
       "      <td>0</td>\n",
       "      <td>2501.053838</td>\n",
       "      <td>30</td>\n",
       "      <td>0.107823</td>\n",
       "      <td>0.032855</td>\n",
       "      <td>11</td>\n",
       "      <td>1</td>\n",
       "      <td>4.215413e+06</td>\n",
       "      <td>0.0</td>\n",
       "      <td>265</td>\n",
       "      <td>POINT (-119.62348 37.88932)</td>\n",
       "    </tr>\n",
       "    <tr>\n",
       "      <th>3</th>\n",
       "      <td>2018-10-15T23:22:20.030001</td>\n",
       "      <td>2.488094e+07</td>\n",
       "      <td>3.0</td>\n",
       "      <td>0.008181</td>\n",
       "      <td>4</td>\n",
       "      <td>210192</td>\n",
       "      <td>0</td>\n",
       "      <td>2501.176924</td>\n",
       "      <td>30</td>\n",
       "      <td>0.156936</td>\n",
       "      <td>0.041974</td>\n",
       "      <td>14</td>\n",
       "      <td>1</td>\n",
       "      <td>4.215434e+06</td>\n",
       "      <td>0.0</td>\n",
       "      <td>265</td>\n",
       "      <td>POINT (-119.62350 37.88950)</td>\n",
       "    </tr>\n",
       "    <tr>\n",
       "      <th>4</th>\n",
       "      <td>2018-10-15T23:22:20.033001</td>\n",
       "      <td>2.488094e+07</td>\n",
       "      <td>3.0</td>\n",
       "      <td>0.004802</td>\n",
       "      <td>4</td>\n",
       "      <td>210193</td>\n",
       "      <td>0</td>\n",
       "      <td>2501.271832</td>\n",
       "      <td>30</td>\n",
       "      <td>0.169124</td>\n",
       "      <td>0.045422</td>\n",
       "      <td>14</td>\n",
       "      <td>1</td>\n",
       "      <td>4.215454e+06</td>\n",
       "      <td>0.0</td>\n",
       "      <td>265</td>\n",
       "      <td>POINT (-119.62352 37.88968)</td>\n",
       "    </tr>\n",
       "  </tbody>\n",
       "</table>\n",
       "</div>"
      ],
      "text/plain": [
       "                         time    delta_time  w_surface_window_final  \\\n",
       "0  2018-10-15T23:22:20.018999  2.488094e+07                     3.0   \n",
       "1  2018-10-15T23:22:20.021999  2.488094e+07                     3.0   \n",
       "2  2018-10-15T23:22:20.027000  2.488094e+07                     3.0   \n",
       "3  2018-10-15T23:22:20.030001  2.488094e+07                     3.0   \n",
       "4  2018-10-15T23:22:20.033001  2.488094e+07                     3.0   \n",
       "\n",
       "   dh_fit_dx  spot  segment_id  pflags       h_mean  gt  rms_misfit   h_sigma  \\\n",
       "0  -0.018228     4      210188       0  2501.377184  30    0.091912  0.033182   \n",
       "1  -0.010939     4      210189       0  2501.116873  30    0.109110  0.028329   \n",
       "2  -0.000515     4      210191       0  2501.053838  30    0.107823  0.032855   \n",
       "3   0.008181     4      210192       0  2501.176924  30    0.156936  0.041974   \n",
       "4   0.004802     4      210193       0  2501.271832  30    0.169124  0.045422   \n",
       "\n",
       "   n_fit_photons  cycle      distance  dh_fit_dy  rgt  \\\n",
       "0             15      1  4.215353e+06        0.0  265   \n",
       "1             18      1  4.215373e+06        0.0  265   \n",
       "2             11      1  4.215413e+06        0.0  265   \n",
       "3             14      1  4.215434e+06        0.0  265   \n",
       "4             14      1  4.215454e+06        0.0  265   \n",
       "\n",
       "                      geometry  \n",
       "0  POINT (-119.62341 37.88878)  \n",
       "1  POINT (-119.62343 37.88896)  \n",
       "2  POINT (-119.62348 37.88932)  \n",
       "3  POINT (-119.62350 37.88950)  \n",
       "4  POINT (-119.62352 37.88968)  "
      ]
     },
     "execution_count": 14,
     "metadata": {},
     "output_type": "execute_result"
    }
   ],
   "source": [
    "gdf2.head()"
   ]
  },
  {
   "cell_type": "code",
   "execution_count": 15,
   "id": "2ec35a41",
   "metadata": {},
   "outputs": [
    {
     "data": {
      "text/plain": [
       "<AxesSubplot:>"
      ]
     },
     "execution_count": 15,
     "metadata": {},
     "output_type": "execute_result"
    },
    {
     "data": {
      "image/png": "[encoded data removed]",
      "text/plain": [
       "<Figure size 432x288 with 1 Axes>"
      ]
     },
     "metadata": {
      "needs_background": "light"
     },
     "output_type": "display_data"
    }
   ],
   "source": [
    "fig, ax = plt.subplots()\n",
    "gdf.plot(ax=ax)\n",
    "polygon_gdf.plot(ax=ax)"
   ]
  },
  {
   "cell_type": "code",
   "execution_count": null,
   "id": "b3ef0cb5",
   "metadata": {},
   "outputs": [],
   "source": []
  },
  {
   "cell_type": "code",
   "execution_count": null,
   "id": "a2ccfafb",
   "metadata": {},
   "outputs": [],
   "source": []
  }
 ],
 "metadata": {
  "kernelspec": {
   "display_name": "Python 3 (ipykernel)",
   "language": "python",
   "name": "python3"
  },
  "language_info": {
   "codemirror_mode": {
    "name": "ipython",
    "version": 3
   },
   "file_extension": ".py",
   "mimetype": "text/x-python",
   "name": "python",
   "nbconvert_exporter": "python",
   "pygments_lexer": "ipython3",
   "version": "3.8.13"
  }
 },
 "nbformat": 4,
 "nbformat_minor": 5
}
