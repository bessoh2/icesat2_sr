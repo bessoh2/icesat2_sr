{
 "cells": [
  {
   "cell_type": "markdown",
   "id": "d63e6d4d",
   "metadata": {},
   "source": [
    "# Calculate Basin Average Depth Near Peak SWE  \n",
    "For use in the site summary table"
   ]
  },
  {
   "cell_type": "code",
   "execution_count": 1,
   "id": "4dc24472",
   "metadata": {},
   "outputs": [],
   "source": [
    "import numpy as np\n",
    "import pandas as pd\n",
    "import geopandas as gpd\n",
    "import matplotlib.pyplot as plt\n",
    "import contextily as cx\n",
    "from matplotlib_scalebar.scalebar import ScaleBar\n",
    "from mpl_toolkits.axes_grid1.inset_locator import inset_axes\n",
    "import rioxarray as rxr\n",
    "import rasterio as rio\n",
    "from rasterio.plot import show\n",
    "from rasterio.merge import merge\n",
    "from pathlib import Path\n",
    "from rasterstats import zonal_stats"
   ]
  },
  {
   "cell_type": "code",
   "execution_count": 2,
   "id": "708cce0e",
   "metadata": {},
   "outputs": [],
   "source": [
    "%matplotlib inline"
   ]
  },
  {
   "cell_type": "code",
   "execution_count": 4,
   "id": "77626f36",
   "metadata": {},
   "outputs": [
    {
     "name": "stdout",
     "output_type": "stream",
     "text": [
      "/Users/Hannah/Documents/Documents_Grad/Research/IDS_westernUS/SlideRule_tuolumne/notebooks\n"
     ]
    }
   ],
   "source": [
    "!pwd"
   ]
  },
  {
   "cell_type": "markdown",
   "id": "7dc87da9",
   "metadata": {},
   "source": [
    "## Tuolumne Snow Depth"
   ]
  },
  {
   "cell_type": "code",
   "execution_count": 9,
   "id": "a69ba0ce",
   "metadata": {},
   "outputs": [],
   "source": [
    "aso = rio.open('../../data/lidar/tuolumne/snow_on/raw/ASO_3M_SD_USCATE_20190324.tif')"
   ]
  },
  {
   "cell_type": "code",
   "execution_count": 10,
   "id": "9ce017a0",
   "metadata": {},
   "outputs": [
    {
     "data": {
      "text/plain": [
       "CRS.from_epsg(32611)"
      ]
     },
     "execution_count": 10,
     "metadata": {},
     "output_type": "execute_result"
    }
   ],
   "source": [
    "aso.crs"
   ]
  },
  {
   "cell_type": "code",
   "execution_count": 7,
   "id": "1ad70ed5",
   "metadata": {},
   "outputs": [],
   "source": [
    "outline = gpd.read_file('../data/UpperTuolRiverBasinOutline.geojson')"
   ]
  },
  {
   "cell_type": "code",
   "execution_count": 8,
   "id": "89e1520a",
   "metadata": {},
   "outputs": [
    {
     "data": {
      "text/plain": [
       "<Geographic 2D CRS: EPSG:4326>\n",
       "Name: WGS 84\n",
       "Axis Info [ellipsoidal]:\n",
       "- Lat[north]: Geodetic latitude (degree)\n",
       "- Lon[east]: Geodetic longitude (degree)\n",
       "Area of Use:\n",
       "- name: World.\n",
       "- bounds: (-180.0, -90.0, 180.0, 90.0)\n",
       "Datum: World Geodetic System 1984\n",
       "- Ellipsoid: WGS 84\n",
       "- Prime Meridian: Greenwich"
      ]
     },
     "execution_count": 8,
     "metadata": {},
     "output_type": "execute_result"
    }
   ],
   "source": [
    "outline.crs"
   ]
  },
  {
   "cell_type": "code",
   "execution_count": 11,
   "id": "057d410c",
   "metadata": {},
   "outputs": [],
   "source": [
    "outline = outline.to_crs('epsg:32611')"
   ]
  },
  {
   "cell_type": "code",
   "execution_count": 31,
   "id": "35b1d1b2",
   "metadata": {},
   "outputs": [],
   "source": [
    "mean_sd_2019 = zonal_stats(outline,'../../data/lidar/tuolumne/snow_on/raw/ASO_3M_SD_USCATE_20190324.tif',\n",
    "            stats=\"mean min max median percentile_25 percentile_75 std\")"
   ]
  },
  {
   "cell_type": "code",
   "execution_count": 32,
   "id": "7fc12276",
   "metadata": {},
   "outputs": [
    {
     "data": {
      "text/plain": [
       "[{'min': 0.0,\n",
       "  'max': 24.925031661987305,\n",
       "  'mean': 2.7457223038256706,\n",
       "  'std': 1.5775688919995081,\n",
       "  'median': 2.823103189468384,\n",
       "  'percentile_25': 1.7708569765090942,\n",
       "  'percentile_75': 3.651228189468384},\n",
       " {'min': 0.0,\n",
       "  'max': 24.925031661987305,\n",
       "  'mean': 2.7457223038256706,\n",
       "  'std': 1.5775688919995081,\n",
       "  'median': 2.823103189468384,\n",
       "  'percentile_25': 1.7708569765090942,\n",
       "  'percentile_75': 3.651228189468384}]"
      ]
     },
     "execution_count": 32,
     "metadata": {},
     "output_type": "execute_result"
    }
   ],
   "source": [
    "mean_sd_2019"
   ]
  },
  {
   "cell_type": "code",
   "execution_count": 30,
   "id": "1b4532a7",
   "metadata": {},
   "outputs": [
    {
     "data": {
      "text/plain": [
       "[{'min': 0.0,\n",
       "  'max': 24.997648239135742,\n",
       "  'mean': 0.9712311388732052,\n",
       "  'std': 0.8906892483920672,\n",
       "  'median': 0.9278247952461243,\n",
       "  'percentile_25': 0.12550637125968933,\n",
       "  'percentile_75': 1.4770689010620117},\n",
       " {'min': 0.0,\n",
       "  'max': 24.997648239135742,\n",
       "  'mean': 0.9712311388732052,\n",
       "  'std': 0.8906892483920672,\n",
       "  'median': 0.9278247952461243,\n",
       "  'percentile_25': 0.12550637125968933,\n",
       "  'percentile_75': 1.4770689010620117}]"
      ]
     },
     "execution_count": 30,
     "metadata": {},
     "output_type": "execute_result"
    }
   ],
   "source": [
    "mean_sd_2020"
   ]
  },
  {
   "cell_type": "code",
   "execution_count": 36,
   "id": "e0761b95",
   "metadata": {},
   "outputs": [
    {
     "data": {
      "text/plain": [
       "[{'min': 0.0,\n",
       "  'max': 7.849906921386719,\n",
       "  'mean': 0.9667388331201703,\n",
       "  'std': 0.5253193560138081,\n",
       "  'median': 1.046650767326355,\n",
       "  'percentile_25': 0.6105408668518066,\n",
       "  'percentile_75': 1.3310670256614685},\n",
       " {'min': 0.0,\n",
       "  'max': 7.849906921386719,\n",
       "  'mean': 0.9667388331201703,\n",
       "  'std': 0.5253193560138081,\n",
       "  'median': 1.046650767326355,\n",
       "  'percentile_25': 0.6105408668518066,\n",
       "  'percentile_75': 1.3310670256614685}]"
      ]
     },
     "execution_count": 36,
     "metadata": {},
     "output_type": "execute_result"
    }
   ],
   "source": [
    "mean_sd_2021"
   ]
  },
  {
   "cell_type": "code",
   "execution_count": 38,
   "id": "8548b41e",
   "metadata": {},
   "outputs": [
    {
     "data": {
      "text/plain": [
       "[{'min': 0.0,\n",
       "  'max': 197.1892852783203,\n",
       "  'mean': 0.967251519388307,\n",
       "  'std': 0.7145717021040515,\n",
       "  'median': 0.9796717166900635,\n",
       "  'percentile_25': 0.4665178656578064,\n",
       "  'percentile_75': 1.3407869338989258},\n",
       " {'min': 0.0,\n",
       "  'max': 197.1892852783203,\n",
       "  'mean': 0.967251519388307,\n",
       "  'std': 0.7145717021040515,\n",
       "  'median': 0.9796717166900635,\n",
       "  'percentile_25': 0.4665178656578064,\n",
       "  'percentile_75': 1.3407869338989258}]"
      ]
     },
     "execution_count": 38,
     "metadata": {},
     "output_type": "execute_result"
    }
   ],
   "source": [
    "mean_sd_2022"
   ]
  },
  {
   "cell_type": "code",
   "execution_count": 45,
   "id": "e7973dc6",
   "metadata": {},
   "outputs": [
    {
     "name": "stderr",
     "output_type": "stream",
     "text": [
      "/Users/Hannah/opt/miniconda3/envs/datum_reproj3/lib/python3.8/site-packages/rasterstats/io.py:302: UserWarning: Setting nodata to -999; specify nodata explicitly\n",
      "  warnings.warn(\"Setting nodata to -999; specify nodata explicitly\")\n"
     ]
    }
   ],
   "source": [
    "mean_sd_2020 = zonal_stats(outline,'../../data/lidar/tuolumne/snow_on/raw/ASO_Tuolumne_snowdepth_3m_20200413.tif',\n",
    "            stats=\"mean min max median percentile_25 percentile_75 std\")"
   ]
  },
  {
   "cell_type": "code",
   "execution_count": 35,
   "id": "34ea6dff",
   "metadata": {},
   "outputs": [],
   "source": [
    "mean_sd_2021 = zonal_stats(outline,'../../data/lidar/tuolumne/snow_on/raw/ASO_Tuolumne_Mosaic_snowdepth_50m_20210225.tif',\n",
    "            stats=\"mean min max median percentile_25 percentile_75 std\")"
   ]
  },
  {
   "cell_type": "code",
   "execution_count": 37,
   "id": "7b4cf26b",
   "metadata": {},
   "outputs": [],
   "source": [
    "mean_sd_2022 = zonal_stats(outline,'../../data/lidar/tuolumne/snow_on/raw/ASO_Tuolumne_Mosaic_snowdepth_3m_20220204.tif',\n",
    "            stats=\"mean min max median percentile_25 percentile_75 std\")"
   ]
  },
  {
   "cell_type": "code",
   "execution_count": 25,
   "id": "d12ade69",
   "metadata": {},
   "outputs": [
    {
     "data": {
      "text/plain": [
       "0.967251519388307"
      ]
     },
     "execution_count": 25,
     "metadata": {},
     "output_type": "execute_result"
    }
   ],
   "source": [
    "mean_sd_2022[0]['mean']"
   ]
  },
  {
   "cell_type": "code",
   "execution_count": 28,
   "id": "ea2f43f3",
   "metadata": {},
   "outputs": [
    {
     "data": {
      "text/plain": [
       "1.4127359488018383"
      ]
     },
     "execution_count": 28,
     "metadata": {},
     "output_type": "execute_result"
    }
   ],
   "source": [
    "(mean_sd_2022[0]['mean'] + mean_sd_2021[0]['mean'] + mean_sd_2020[0]['mean'] + mean_sd_2019[0]['mean']) / 4"
   ]
  },
  {
   "cell_type": "markdown",
   "id": "83a091dc",
   "metadata": {},
   "source": [
    "## Grand Mesa Snow Depth"
   ]
  },
  {
   "cell_type": "code",
   "execution_count": 39,
   "id": "20bad67a",
   "metadata": {},
   "outputs": [],
   "source": [
    "gm_outline = gpd.read_file('../../data/site_outlines/gm_outline.geojson')"
   ]
  },
  {
   "cell_type": "code",
   "execution_count": 41,
   "id": "cece9df6",
   "metadata": {},
   "outputs": [
    {
     "data": {
      "text/html": [
       "<div>\n",
       "<style scoped>\n",
       "    .dataframe tbody tr th:only-of-type {\n",
       "        vertical-align: middle;\n",
       "    }\n",
       "\n",
       "    .dataframe tbody tr th {\n",
       "        vertical-align: top;\n",
       "    }\n",
       "\n",
       "    .dataframe thead th {\n",
       "        text-align: right;\n",
       "    }\n",
       "</style>\n",
       "<table border=\"1\" class=\"dataframe\">\n",
       "  <thead>\n",
       "    <tr style=\"text-align: right;\">\n",
       "      <th></th>\n",
       "      <th>date</th>\n",
       "      <th>fn</th>\n",
       "      <th>doy</th>\n",
       "      <th>decyear</th>\n",
       "      <th>dowy</th>\n",
       "      <th>platform</th>\n",
       "      <th>acqdate</th>\n",
       "      <th>geometry</th>\n",
       "    </tr>\n",
       "  </thead>\n",
       "  <tbody>\n",
       "    <tr>\n",
       "      <th>0</th>\n",
       "      <td>2018-01-01T00:00:00</td>\n",
       "      <td>../../data/lidar/grandmesa/ASO_3M_PCDTM_USCOGM...</td>\n",
       "      <td>1</td>\n",
       "      <td>2018.0</td>\n",
       "      <td>93</td>\n",
       "      <td>WaDNR</td>\n",
       "      <td>2018-01-01T00:00:00</td>\n",
       "      <td>POLYGON ((246393.000 4334322.000, 246393.000 4...</td>\n",
       "    </tr>\n",
       "  </tbody>\n",
       "</table>\n",
       "</div>"
      ],
      "text/plain": [
       "                  date                                                 fn  \\\n",
       "0  2018-01-01T00:00:00  ../../data/lidar/grandmesa/ASO_3M_PCDTM_USCOGM...   \n",
       "\n",
       "   doy  decyear  dowy platform              acqdate  \\\n",
       "0    1   2018.0    93    WaDNR  2018-01-01T00:00:00   \n",
       "\n",
       "                                            geometry  \n",
       "0  POLYGON ((246393.000 4334322.000, 246393.000 4...  "
      ]
     },
     "execution_count": 41,
     "metadata": {},
     "output_type": "execute_result"
    }
   ],
   "source": [
    "gm_outline"
   ]
  },
  {
   "cell_type": "code",
   "execution_count": 47,
   "id": "8d471fb9",
   "metadata": {},
   "outputs": [
    {
     "data": {
      "text/plain": [
       "<AxesSubplot:>"
      ]
     },
     "execution_count": 47,
     "metadata": {},
     "output_type": "execute_result"
    },
    {
     "data": {
      "image/png": "[encoded data removed]",
      "text/plain": [
       "<Figure size 432x288 with 1 Axes>"
      ]
     },
     "metadata": {
      "needs_background": "light"
     },
     "output_type": "display_data"
    }
   ],
   "source": [
    "gm_outline.plot()"
   ]
  },
  {
   "cell_type": "code",
   "execution_count": 46,
   "id": "6724028f",
   "metadata": {},
   "outputs": [
    {
     "data": {
      "text/plain": [
       "<AxesSubplot:>"
      ]
     },
     "execution_count": 46,
     "metadata": {},
     "output_type": "execute_result"
    },
    {
     "data": {
      "image/png": "[encoded data removed]",
      "text/plain": [
       "<Figure size 432x288 with 1 Axes>"
      ]
     },
     "metadata": {
      "needs_background": "light"
     },
     "output_type": "display_data"
    }
   ],
   "source": [
    "gm_outline.boundary.plot()"
   ]
  },
  {
   "cell_type": "code",
   "execution_count": 43,
   "id": "576fafa9",
   "metadata": {},
   "outputs": [],
   "source": [
    "mean_sd_2017_gm = zonal_stats(gm_outline,'../../data/lidar/grandmesa/ASO_3M_SD_USCOGM_20170225.tif',\n",
    "            stats=\"mean min max median percentile_25 percentile_75 std\")"
   ]
  },
  {
   "cell_type": "code",
   "execution_count": 44,
   "id": "940a721c",
   "metadata": {},
   "outputs": [
    {
     "data": {
      "text/plain": [
       "[{'min': -37.366607666015625,\n",
       "  'max': 29.180513381958008,\n",
       "  'mean': 1.1834105751835948,\n",
       "  'std': 0.6053369405409128,\n",
       "  'median': 1.2764607667922974,\n",
       "  'percentile_25': 0.9004842042922974,\n",
       "  'percentile_75': 1.5821248292922974}]"
      ]
     },
     "execution_count": 44,
     "metadata": {},
     "output_type": "execute_result"
    }
   ],
   "source": [
    "mean_sd_2017_gm"
   ]
  },
  {
   "cell_type": "code",
   "execution_count": 48,
   "id": "bb13e71d",
   "metadata": {},
   "outputs": [],
   "source": [
    "metrics_gm_snowoff = mean_sd_2017_gm = zonal_stats(gm_outline,'../../data/lidar/grandmesa/ASO_3M_PCDTM_USCOGM_20160926_20160926.tif',\n",
    "            stats=\"mean min max median percentile_25 percentile_75 std\")"
   ]
  },
  {
   "cell_type": "code",
   "execution_count": 49,
   "id": "c994f5e5",
   "metadata": {},
   "outputs": [
    {
     "data": {
      "text/plain": [
       "[{'min': 2087.152099609375,\n",
       "  'max': 3396.672119140625,\n",
       "  'mean': 3022.0535852964886,\n",
       "  'std': 191.20802312344415,\n",
       "  'median': 3054.652099609375,\n",
       "  'percentile_25': 2983.904052734375,\n",
       "  'percentile_75': 3131.222900390625}]"
      ]
     },
     "execution_count": 49,
     "metadata": {},
     "output_type": "execute_result"
    }
   ],
   "source": [
    "metrics_gm_snowoff"
   ]
  },
  {
   "cell_type": "code",
   "execution_count": 53,
   "id": "253fcfa2",
   "metadata": {},
   "outputs": [
    {
     "data": {
      "text/plain": [
       "0    349.417755\n",
       "dtype: float64"
      ]
     },
     "execution_count": 53,
     "metadata": {},
     "output_type": "execute_result"
    }
   ],
   "source": [
    "gm_outline.area / 1e6"
   ]
  },
  {
   "cell_type": "markdown",
   "id": "7652165c",
   "metadata": {},
   "source": [
    "## Methow Snow Depth"
   ]
  },
  {
   "cell_type": "code",
   "execution_count": 60,
   "id": "652cd598",
   "metadata": {},
   "outputs": [],
   "source": [
    "cso = gpd.read_file('../../data/cso/cso-data_092022.geojson')"
   ]
  },
  {
   "cell_type": "code",
   "execution_count": 61,
   "id": "2df25dde",
   "metadata": {},
   "outputs": [],
   "source": [
    "methow_outline = gpd.read_file('../../data/site_outlines/methow_outline.geojson')"
   ]
  },
  {
   "cell_type": "code",
   "execution_count": 62,
   "id": "fec6ca30",
   "metadata": {},
   "outputs": [],
   "source": [
    "cso['depth_m'] = cso['depth']/100"
   ]
  },
  {
   "cell_type": "code",
   "execution_count": 55,
   "id": "0fd18939",
   "metadata": {},
   "outputs": [
    {
     "data": {
      "text/plain": [
       "dtype('O')"
      ]
     },
     "execution_count": 55,
     "metadata": {},
     "output_type": "execute_result"
    }
   ],
   "source": [
    "cso['timestamp'].dtype"
   ]
  },
  {
   "cell_type": "code",
   "execution_count": 63,
   "id": "12baa00c",
   "metadata": {},
   "outputs": [],
   "source": [
    "cso['time'] = pd.to_datetime(cso['timestamp'])"
   ]
  },
  {
   "cell_type": "code",
   "execution_count": 17,
   "id": "51476b65",
   "metadata": {},
   "outputs": [
    {
     "data": {
      "text/html": [
       "<div>\n",
       "<style scoped>\n",
       "    .dataframe tbody tr th:only-of-type {\n",
       "        vertical-align: middle;\n",
       "    }\n",
       "\n",
       "    .dataframe tbody tr th {\n",
       "        vertical-align: top;\n",
       "    }\n",
       "\n",
       "    .dataframe thead th {\n",
       "        text-align: right;\n",
       "    }\n",
       "</style>\n",
       "<table border=\"1\" class=\"dataframe\">\n",
       "  <thead>\n",
       "    <tr style=\"text-align: right;\">\n",
       "      <th></th>\n",
       "      <th>id</th>\n",
       "      <th>author</th>\n",
       "      <th>depth</th>\n",
       "      <th>source</th>\n",
       "      <th>timestamp</th>\n",
       "      <th>elevation</th>\n",
       "      <th>_ms</th>\n",
       "      <th>geometry</th>\n",
       "    </tr>\n",
       "  </thead>\n",
       "  <tbody>\n",
       "    <tr>\n",
       "      <th>0</th>\n",
       "      <td>gz86+3JP</td>\n",
       "      <td>David Hill</td>\n",
       "      <td>65.000000</td>\n",
       "      <td>MountainHub</td>\n",
       "      <td>2020-12-28T20:32:46.319000+00:00</td>\n",
       "      <td>830.746399</td>\n",
       "      <td>1609187566319</td>\n",
       "      <td>POINT (-120.21671 48.57078)</td>\n",
       "    </tr>\n",
       "    <tr>\n",
       "      <th>1</th>\n",
       "      <td>Jo5GG2Sw</td>\n",
       "      <td>Bob Sutherland</td>\n",
       "      <td>49.999998</td>\n",
       "      <td>MountainHub</td>\n",
       "      <td>2020-01-23T20:07:28.351999+00:00</td>\n",
       "      <td>679.372925</td>\n",
       "      <td>1579810048352</td>\n",
       "      <td>POINT (-120.15874 48.62850)</td>\n",
       "    </tr>\n",
       "  </tbody>\n",
       "</table>\n",
       "</div>"
      ],
      "text/plain": [
       "         id          author      depth       source  \\\n",
       "0  gz86+3JP      David Hill  65.000000  MountainHub   \n",
       "1  Jo5GG2Sw  Bob Sutherland  49.999998  MountainHub   \n",
       "\n",
       "                          timestamp   elevation            _ms  \\\n",
       "0  2020-12-28T20:32:46.319000+00:00  830.746399  1609187566319   \n",
       "1  2020-01-23T20:07:28.351999+00:00  679.372925  1579810048352   \n",
       "\n",
       "                      geometry  \n",
       "0  POINT (-120.21671 48.57078)  \n",
       "1  POINT (-120.15874 48.62850)  "
      ]
     },
     "execution_count": 17,
     "metadata": {},
     "output_type": "execute_result"
    }
   ],
   "source": [
    "cso.head(2)"
   ]
  },
  {
   "cell_type": "code",
   "execution_count": 19,
   "id": "89bd21ca",
   "metadata": {},
   "outputs": [
    {
     "data": {
      "text/plain": [
       "<Geographic 2D CRS: EPSG:4326>\n",
       "Name: WGS 84\n",
       "Axis Info [ellipsoidal]:\n",
       "- Lat[north]: Geodetic latitude (degree)\n",
       "- Lon[east]: Geodetic longitude (degree)\n",
       "Area of Use:\n",
       "- name: World.\n",
       "- bounds: (-180.0, -90.0, 180.0, 90.0)\n",
       "Datum: World Geodetic System 1984\n",
       "- Ellipsoid: WGS 84\n",
       "- Prime Meridian: Greenwich"
      ]
     },
     "execution_count": 19,
     "metadata": {},
     "output_type": "execute_result"
    }
   ],
   "source": [
    "methow_outline.crs"
   ]
  },
  {
   "cell_type": "code",
   "execution_count": 23,
   "id": "15f016f5",
   "metadata": {},
   "outputs": [
    {
     "data": {
      "text/plain": [
       "<AxesSubplot:>"
      ]
     },
     "execution_count": 23,
     "metadata": {},
     "output_type": "execute_result"
    },
    {
     "data": {
      "image/png": "[encoded data removed]",
      "text/plain": [
       "<Figure size 432x288 with 1 Axes>"
      ]
     },
     "metadata": {
      "needs_background": "light"
     },
     "output_type": "display_data"
    }
   ],
   "source": [
    "methow_outline[3:].plot()"
   ]
  },
  {
   "cell_type": "code",
   "execution_count": 34,
   "id": "1dd0db0e",
   "metadata": {},
   "outputs": [
    {
     "data": {
      "text/plain": [
       "<AxesSubplot:>"
      ]
     },
     "execution_count": 34,
     "metadata": {},
     "output_type": "execute_result"
    },
    {
     "data": {
      "image/png": "[encoded data removed]",
      "text/plain": [
       "<Figure size 432x288 with 1 Axes>"
      ]
     },
     "metadata": {
      "needs_background": "light"
     },
     "output_type": "display_data"
    }
   ],
   "source": [
    "fig, ax = plt.subplots()\n",
    "methow_outline[3:].plot(facecolor=None, edgecolor='k', ax=ax)\n",
    "cso.plot(ax=ax, c='orange')"
   ]
  },
  {
   "cell_type": "code",
   "execution_count": 20,
   "id": "7e5dfce4",
   "metadata": {},
   "outputs": [
    {
     "data": {
      "text/plain": [
       "<Geographic 2D CRS: EPSG:4326>\n",
       "Name: WGS 84\n",
       "Axis Info [ellipsoidal]:\n",
       "- Lat[north]: Geodetic latitude (degree)\n",
       "- Lon[east]: Geodetic longitude (degree)\n",
       "Area of Use:\n",
       "- name: World.\n",
       "- bounds: (-180.0, -90.0, 180.0, 90.0)\n",
       "Datum: World Geodetic System 1984\n",
       "- Ellipsoid: WGS 84\n",
       "- Prime Meridian: Greenwich"
      ]
     },
     "execution_count": 20,
     "metadata": {},
     "output_type": "execute_result"
    }
   ],
   "source": [
    "cso.crs"
   ]
  },
  {
   "cell_type": "code",
   "execution_count": 64,
   "id": "a8bea587",
   "metadata": {},
   "outputs": [],
   "source": [
    "methow_outline = methow_outline[3:]"
   ]
  },
  {
   "cell_type": "code",
   "execution_count": 65,
   "id": "85e3a20a",
   "metadata": {},
   "outputs": [],
   "source": [
    "cso_methow = gpd.clip(cso, methow_outline)"
   ]
  },
  {
   "cell_type": "code",
   "execution_count": 40,
   "id": "6ea40d6e",
   "metadata": {},
   "outputs": [
    {
     "data": {
      "text/plain": [
       "<AxesSubplot:>"
      ]
     },
     "execution_count": 40,
     "metadata": {},
     "output_type": "execute_result"
    },
    {
     "data": {
      "image/png": "[encoded data removed]",
      "text/plain": [
       "<Figure size 432x288 with 1 Axes>"
      ]
     },
     "metadata": {
      "needs_background": "light"
     },
     "output_type": "display_data"
    }
   ],
   "source": [
    "fig, ax = plt.subplots()\n",
    "methow_outline.plot(facecolor=None, edgecolor='k', ax=ax)\n",
    "cso_methow.plot(ax=ax, c='orange')"
   ]
  },
  {
   "cell_type": "code",
   "execution_count": 66,
   "id": "9fc9506d",
   "metadata": {},
   "outputs": [],
   "source": [
    "cso = cso.set_index('time')\n",
    "cso_methow = cso_methow.set_index('time')"
   ]
  },
  {
   "cell_type": "code",
   "execution_count": 43,
   "id": "8ae99ea9",
   "metadata": {},
   "outputs": [
    {
     "data": {
      "text/plain": [
       "<AxesSubplot:xlabel='time'>"
      ]
     },
     "execution_count": 43,
     "metadata": {},
     "output_type": "execute_result"
    },
    {
     "data": {
      "image/png": "[encoded data removed]",
      "text/plain": [
       "<Figure size 432x288 with 1 Axes>"
      ]
     },
     "metadata": {
      "needs_background": "light"
     },
     "output_type": "display_data"
    }
   ],
   "source": [
    "fig, ax = plt.subplots()\n",
    "cso_methow['depth_m'].plot(ax=ax, linestyle='none', marker='.', color='k', markersize=5)"
   ]
  },
  {
   "cell_type": "code",
   "execution_count": 73,
   "id": "3ebf92b5",
   "metadata": {},
   "outputs": [
    {
     "data": {
      "text/plain": [
       "0.541255759946891"
      ]
     },
     "execution_count": 73,
     "metadata": {},
     "output_type": "execute_result"
    }
   ],
   "source": [
    "cso_mean = cso_methow['depth_m'].mean()\n",
    "cso_mean"
   ]
  },
  {
   "cell_type": "code",
   "execution_count": 74,
   "id": "f4197197",
   "metadata": {},
   "outputs": [
    {
     "data": {
      "text/plain": [
       "0.549999989641229"
      ]
     },
     "execution_count": 74,
     "metadata": {},
     "output_type": "execute_result"
    }
   ],
   "source": [
    "cso_median = cso_methow['depth_m'].median()\n",
    "cso_median"
   ]
  },
  {
   "cell_type": "code",
   "execution_count": 46,
   "id": "71ab4851",
   "metadata": {},
   "outputs": [
    {
     "data": {
      "text/html": [
       "<div>\n",
       "<style scoped>\n",
       "    .dataframe tbody tr th:only-of-type {\n",
       "        vertical-align: middle;\n",
       "    }\n",
       "\n",
       "    .dataframe tbody tr th {\n",
       "        vertical-align: top;\n",
       "    }\n",
       "\n",
       "    .dataframe thead th {\n",
       "        text-align: right;\n",
       "    }\n",
       "</style>\n",
       "<table border=\"1\" class=\"dataframe\">\n",
       "  <thead>\n",
       "    <tr style=\"text-align: right;\">\n",
       "      <th></th>\n",
       "      <th>id</th>\n",
       "      <th>author</th>\n",
       "      <th>depth</th>\n",
       "      <th>source</th>\n",
       "      <th>timestamp</th>\n",
       "      <th>elevation</th>\n",
       "      <th>_ms</th>\n",
       "      <th>geometry</th>\n",
       "      <th>depth_m</th>\n",
       "    </tr>\n",
       "    <tr>\n",
       "      <th>time</th>\n",
       "      <th></th>\n",
       "      <th></th>\n",
       "      <th></th>\n",
       "      <th></th>\n",
       "      <th></th>\n",
       "      <th></th>\n",
       "      <th></th>\n",
       "      <th></th>\n",
       "      <th></th>\n",
       "    </tr>\n",
       "  </thead>\n",
       "  <tbody>\n",
       "    <tr>\n",
       "      <th>2020-12-28 20:32:46.319000+00:00</th>\n",
       "      <td>gz86+3JP</td>\n",
       "      <td>David Hill</td>\n",
       "      <td>65.000000</td>\n",
       "      <td>MountainHub</td>\n",
       "      <td>2020-12-28T20:32:46.319000+00:00</td>\n",
       "      <td>830.746399</td>\n",
       "      <td>1609187566319</td>\n",
       "      <td>POINT (-120.21671 48.57078)</td>\n",
       "      <td>0.65</td>\n",
       "    </tr>\n",
       "    <tr>\n",
       "      <th>2020-01-23 20:07:28.351999+00:00</th>\n",
       "      <td>Jo5GG2Sw</td>\n",
       "      <td>Bob Sutherland</td>\n",
       "      <td>49.999998</td>\n",
       "      <td>MountainHub</td>\n",
       "      <td>2020-01-23T20:07:28.351999+00:00</td>\n",
       "      <td>679.372925</td>\n",
       "      <td>1579810048352</td>\n",
       "      <td>POINT (-120.15874 48.62850)</td>\n",
       "      <td>0.50</td>\n",
       "    </tr>\n",
       "  </tbody>\n",
       "</table>\n",
       "</div>"
      ],
      "text/plain": [
       "                                        id          author      depth  \\\n",
       "time                                                                    \n",
       "2020-12-28 20:32:46.319000+00:00  gz86+3JP      David Hill  65.000000   \n",
       "2020-01-23 20:07:28.351999+00:00  Jo5GG2Sw  Bob Sutherland  49.999998   \n",
       "\n",
       "                                       source  \\\n",
       "time                                            \n",
       "2020-12-28 20:32:46.319000+00:00  MountainHub   \n",
       "2020-01-23 20:07:28.351999+00:00  MountainHub   \n",
       "\n",
       "                                                         timestamp  \\\n",
       "time                                                                 \n",
       "2020-12-28 20:32:46.319000+00:00  2020-12-28T20:32:46.319000+00:00   \n",
       "2020-01-23 20:07:28.351999+00:00  2020-01-23T20:07:28.351999+00:00   \n",
       "\n",
       "                                   elevation            _ms  \\\n",
       "time                                                          \n",
       "2020-12-28 20:32:46.319000+00:00  830.746399  1609187566319   \n",
       "2020-01-23 20:07:28.351999+00:00  679.372925  1579810048352   \n",
       "\n",
       "                                                     geometry  depth_m  \n",
       "time                                                                    \n",
       "2020-12-28 20:32:46.319000+00:00  POINT (-120.21671 48.57078)     0.65  \n",
       "2020-01-23 20:07:28.351999+00:00  POINT (-120.15874 48.62850)     0.50  "
      ]
     },
     "execution_count": 46,
     "metadata": {},
     "output_type": "execute_result"
    }
   ],
   "source": [
    "cso_methow.head(2)"
   ]
  },
  {
   "cell_type": "code",
   "execution_count": 15,
   "id": "ce6796b9",
   "metadata": {},
   "outputs": [
    {
     "data": {
      "text/plain": [
       "Int64Index([ 1,  2,  2,  1,  3,  2,  1,  2,  2,  3,\n",
       "            ...\n",
       "             2,  2, 12,  3,  1,  2, 12, 12,  2,  1],\n",
       "           dtype='int64', name='time', length=139)"
      ]
     },
     "execution_count": 15,
     "metadata": {},
     "output_type": "execute_result"
    }
   ],
   "source": [
    "cso.index.month"
   ]
  },
  {
   "cell_type": "code",
   "execution_count": 69,
   "id": "574340e0",
   "metadata": {},
   "outputs": [],
   "source": [
    "cso_spring = cso[cso.index.month > 1]\n",
    "cso_spring = cso_spring[cso_spring.index.month <5]\n",
    "\n",
    "cso_methow_spring = cso_methow[cso_methow.index.month > 1]\n",
    "cso_methow_spring = cso_methow_spring[cso_methow_spring.index.month <5]"
   ]
  },
  {
   "cell_type": "code",
   "execution_count": 75,
   "id": "a2b87794",
   "metadata": {},
   "outputs": [
    {
     "data": {
      "text/plain": [
       "<AxesSubplot:xlabel='time'>"
      ]
     },
     "execution_count": 75,
     "metadata": {},
     "output_type": "execute_result"
    },
    {
     "data": {
      "image/png": "[encoded data removed]",
      "text/plain": [
       "<Figure size 432x288 with 1 Axes>"
      ]
     },
     "metadata": {
      "needs_background": "light"
     },
     "output_type": "display_data"
    }
   ],
   "source": [
    "fig, ax = plt.subplots()\n",
    "cso['depth_m'].plot(ax=ax, linestyle='none', marker='.', color='k', markersize=5)"
   ]
  },
  {
   "cell_type": "code",
   "execution_count": 72,
   "id": "627aef78",
   "metadata": {},
   "outputs": [
    {
     "data": {
      "text/plain": [
       "<AxesSubplot:xlabel='time'>"
      ]
     },
     "execution_count": 72,
     "metadata": {},
     "output_type": "execute_result"
    },
    {
     "data": {
      "image/png": "[encoded data removed]",
      "text/plain": [
       "<Figure size 432x288 with 1 Axes>"
      ]
     },
     "metadata": {
      "needs_background": "light"
     },
     "output_type": "display_data"
    }
   ],
   "source": [
    "fig, ax = plt.subplots()\n",
    "cso_methow['depth_m'].plot(ax=ax, linestyle='none', marker='.', color='k', markersize=5)"
   ]
  },
  {
   "cell_type": "code",
   "execution_count": 77,
   "id": "3badbc0c",
   "metadata": {},
   "outputs": [
    {
     "data": {
      "text/plain": [
       "<matplotlib.collections.PathCollection at 0x7fe69d2c54c0>"
      ]
     },
     "execution_count": 77,
     "metadata": {},
     "output_type": "execute_result"
    },
    {
     "data": {
      "image/png": "[encoded data removed]",
      "text/plain": [
       "<Figure size 432x288 with 1 Axes>"
      ]
     },
     "metadata": {
      "needs_background": "light"
     },
     "output_type": "display_data"
    }
   ],
   "source": [
    "fig, ax = plt.subplots()\n",
    "plt.scatter(cso_methow['depth_m'], cso_methow['elevation'])"
   ]
  },
  {
   "cell_type": "code",
   "execution_count": 80,
   "id": "ad980cbf",
   "metadata": {},
   "outputs": [
    {
     "data": {
      "text/plain": [
       "<matplotlib.collections.PathCollection at 0x7fe699ef7d60>"
      ]
     },
     "execution_count": 80,
     "metadata": {},
     "output_type": "execute_result"
    },
    {
     "data": {
      "image/png": "[encoded data removed]",
      "text/plain": [
       "<Figure size 432x288 with 1 Axes>"
      ]
     },
     "metadata": {
      "needs_background": "light"
     },
     "output_type": "display_data"
    }
   ],
   "source": [
    "fig, ax = plt.subplots()\n",
    "plt.scatter(cso['depth_m'], cso['elevation'])\n",
    "plt.scatter(cso_methow['depth_m'], cso_methow['elevation'], c='orange')"
   ]
  },
  {
   "cell_type": "code",
   "execution_count": 70,
   "id": "d2669968",
   "metadata": {},
   "outputs": [
    {
     "data": {
      "text/plain": [
       "<AxesSubplot:xlabel='time'>"
      ]
     },
     "execution_count": 70,
     "metadata": {},
     "output_type": "execute_result"
    },
    {
     "data": {
      "image/png": "[encoded data removed]",
      "text/plain": [
       "<Figure size 432x288 with 1 Axes>"
      ]
     },
     "metadata": {
      "needs_background": "light"
     },
     "output_type": "display_data"
    }
   ],
   "source": [
    "fig, ax = plt.subplots()\n",
    "cso_methow_spring['depth_m'].plot(ax=ax, linestyle='none', marker='.', color='k', markersize=5)"
   ]
  },
  {
   "cell_type": "code",
   "execution_count": 71,
   "id": "3c5b2e34",
   "metadata": {},
   "outputs": [
    {
     "data": {
      "text/plain": [
       "<AxesSubplot:xlabel='time'>"
      ]
     },
     "execution_count": 71,
     "metadata": {},
     "output_type": "execute_result"
    },
    {
     "data": {
      "image/png": "[encoded data removed]",
      "text/plain": [
       "<Figure size 432x288 with 1 Axes>"
      ]
     },
     "metadata": {
      "needs_background": "light"
     },
     "output_type": "display_data"
    }
   ],
   "source": [
    "fig, ax = plt.subplots()\n",
    "cso_spring['depth_m'].plot(ax=ax, linestyle='none', marker='.', color='k', markersize=5)"
   ]
  },
  {
   "cell_type": "code",
   "execution_count": 68,
   "id": "e4beb30c",
   "metadata": {},
   "outputs": [
    {
     "data": {
      "text/plain": [
       "1.1055809337595626"
      ]
     },
     "execution_count": 68,
     "metadata": {},
     "output_type": "execute_result"
    }
   ],
   "source": [
    "cso_spring_mean = cso_spring['depth_m'].mean()\n",
    "cso_spring_mean"
   ]
  },
  {
   "cell_type": "code",
   "execution_count": 81,
   "id": "54263199",
   "metadata": {},
   "outputs": [
    {
     "data": {
      "text/plain": [
       "0.6711618847389014"
      ]
     },
     "execution_count": 81,
     "metadata": {},
     "output_type": "execute_result"
    }
   ],
   "source": [
    "cso_methow_spring_mean = cso_methow_spring['depth_m'].mean()\n",
    "cso_methow_spring_mean"
   ]
  },
  {
   "cell_type": "code",
   "execution_count": 89,
   "id": "d6665b8b",
   "metadata": {},
   "outputs": [
    {
     "name": "stdout",
     "output_type": "stream",
     "text": [
      "2019 mean:  0.5282714237791112\n",
      "2020 mean:  0.46394284916077405\n",
      "2021 mean:  0.704999979828648\n",
      "2022 mean:  0.5904249884170105\n"
     ]
    }
   ],
   "source": [
    "cso_methow_2019 = cso_methow[cso_methow['depth_m'].index.year == 2019]\n",
    "print('2019 mean: ', cso_methow_2019['depth_m'].mean())\n",
    "cso_methow_2020 = cso_methow[cso_methow['depth_m'].index.year == 2020]\n",
    "print('2020 mean: ', cso_methow_2020['depth_m'].mean())\n",
    "cso_methow_2021 = cso_methow[cso_methow['depth_m'].index.year == 2021]\n",
    "print('2021 mean: ', cso_methow_2021['depth_m'].mean())\n",
    "cso_methow_2022 = cso_methow[cso_methow['depth_m'].index.year == 2022]\n",
    "print('2022 mean: ', cso_methow_2022['depth_m'].mean())"
   ]
  },
  {
   "cell_type": "code",
   "execution_count": 90,
   "id": "01733c5b",
   "metadata": {},
   "outputs": [
    {
     "name": "stdout",
     "output_type": "stream",
     "text": [
      "2019 std:  0.22490669810494524\n",
      "2020 std:  0.2048763072356499\n",
      "2021 std:  0.2106755903674547\n",
      "2022 std:  0.2092964164917612\n"
     ]
    }
   ],
   "source": [
    "cso_methow_2019 = cso_methow[cso_methow['depth_m'].index.year == 2019]\n",
    "print('2019 std: ', cso_methow_2019['depth_m'].std())\n",
    "cso_methow_2020 = cso_methow[cso_methow['depth_m'].index.year == 2020]\n",
    "print('2020 std: ', cso_methow_2020['depth_m'].std())\n",
    "cso_methow_2021 = cso_methow[cso_methow['depth_m'].index.year == 2021]\n",
    "print('2021 std: ', cso_methow_2021['depth_m'].std())\n",
    "cso_methow_2022 = cso_methow[cso_methow['depth_m'].index.year == 2022]\n",
    "print('2022 std: ', cso_methow_2022['depth_m'].std())"
   ]
  },
  {
   "cell_type": "code",
   "execution_count": null,
   "id": "5ec3855f",
   "metadata": {},
   "outputs": [],
   "source": []
  }
 ],
 "metadata": {
  "kernelspec": {
   "display_name": "Python 3",
   "language": "python",
   "name": "python3"
  },
  "language_info": {
   "codemirror_mode": {
    "name": "ipython",
    "version": 3
   },
   "file_extension": ".py",
   "mimetype": "text/x-python",
   "name": "python",
   "nbconvert_exporter": "python",
   "pygments_lexer": "ipython3",
   "version": "3.8.10"
  }
 },
 "nbformat": 4,
 "nbformat_minor": 5
}
