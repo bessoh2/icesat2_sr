{
 "cells": [
  {
   "cell_type": "markdown",
   "id": "51a5d1ba",
   "metadata": {},
   "source": [
    "# Canopy Metrics"
   ]
  },
  {
   "cell_type": "markdown",
   "id": "92ae113e",
   "metadata": {},
   "source": [
    "To Do:\n",
    "* Track down 1m resolution DSM from ASO Tuolumne: contact Ryan, Nicoleta\n",
    "* Subtract DSM and DTM\n",
    "* Calculate proportion of pixels with canopy over 2m"
   ]
  },
  {
   "cell_type": "code",
   "execution_count": 1,
   "id": "24976c1f",
   "metadata": {},
   "outputs": [],
   "source": [
    "import numpy as np\n",
    "import pandas as pd\n",
    "import geopandas as gpd\n",
    "import matplotlib.pyplot as plt\n",
    "import contextily as cx\n",
    "from matplotlib_scalebar.scalebar import ScaleBar\n",
    "from mpl_toolkits.axes_grid1.inset_locator import inset_axes"
   ]
  },
  {
   "cell_type": "code",
   "execution_count": null,
   "id": "99a1de6d",
   "metadata": {},
   "outputs": [],
   "source": []
  }
 ],
 "metadata": {
  "kernelspec": {
   "display_name": "Python 3",
   "language": "python",
   "name": "python3"
  },
  "language_info": {
   "codemirror_mode": {
    "name": "ipython",
    "version": 3
   },
   "file_extension": ".py",
   "mimetype": "text/x-python",
   "name": "python",
   "nbconvert_exporter": "python",
   "pygments_lexer": "ipython3",
   "version": "3.8.10"
  }
 },
 "nbformat": 4,
 "nbformat_minor": 5
}
