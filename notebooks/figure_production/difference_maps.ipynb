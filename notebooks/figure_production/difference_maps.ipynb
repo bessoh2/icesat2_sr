{
 "cells": [
  {
   "cell_type": "markdown",
   "id": "ba421f95",
   "metadata": {},
   "source": [
    "# Make hex Difference Maps"
   ]
  },
  {
   "cell_type": "code",
   "execution_count": 10,
   "id": "dc8824d1",
   "metadata": {},
   "outputs": [],
   "source": [
    "import os\n",
    "import numpy as np\n",
    "import pandas as pd\n",
    "import geopandas as gpd\n",
    "import matplotlib.pyplot as plt\n",
    "import contextily as cx\n",
    "import scipy.stats\n",
    "from matplotlib_scalebar.scalebar import ScaleBar\n",
    "import matplotlib.dates as mdates\n",
    "from matplotlib.ticker import (MultipleLocator, AutoMinorLocator)\n",
    "from astropy.time import Time\n",
    "import datetime\n",
    "import rioxarray as rxr\n",
    "from rasterio.plot import show\n",
    "import rasterio as rio\n",
    "from rasterio import features\n",
    "import hvplot.pandas\n",
    "import pickle\n",
    "#from holoviews.element.tiles import EsriImagery, StamenTerrain\n",
    "from geoviews import opts, tile_sources as gvts\n",
    "#from imview.lib import pltlib"
   ]
  },
  {
   "cell_type": "code",
   "execution_count": 2,
   "id": "841c208d",
   "metadata": {},
   "outputs": [],
   "source": [
    "%matplotlib inline"
   ]
  },
  {
   "cell_type": "code",
   "execution_count": 3,
   "id": "887b0284",
   "metadata": {},
   "outputs": [],
   "source": [
    "plt.rcParams['figure.facecolor']='w'\n",
    "plt.rcParams['axes.facecolor']='w'\n",
    "plt.rcParams['savefig.facecolor']='w'\n",
    "\n",
    "plt.rcParams['font.size'] = '16'"
   ]
  },
  {
   "cell_type": "code",
   "execution_count": 4,
   "id": "c97ece0a",
   "metadata": {},
   "outputs": [],
   "source": [
    "pd.set_option('display.max_columns', None)"
   ]
  },
  {
   "cell_type": "code",
   "execution_count": 9,
   "id": "56d9ab70",
   "metadata": {},
   "outputs": [
    {
     "data": {
      "text/plain": [
       "(152603, 31)"
      ]
     },
     "execution_count": 9,
     "metadata": {},
     "output_type": "execute_result"
    }
   ],
   "source": [
    "atl06sr_fn2 = '../../../data/atl06/atl06sr_tuolumne_all_slope_asosnowon_06272022.geojson'\n",
    "atl06sr_gdf2 = gpd.read_file(atl06sr_fn2)\n",
    "atl06sr_gdf2.time = pd.DatetimeIndex(atl06sr_gdf2.time)\n",
    "atl06sr_gdf2 = atl06sr_gdf2.set_index(['time'])\n",
    "atl06sr_gdf2.sort_index(inplace=True)\n",
    "atl06sr_gdf2['acqdate'] = atl06sr_gdf2.index.date\n",
    "atl06sr_col = 'h_mean'\n",
    "atl06sr_title = 'ICESat-2 ATL06-SR 40m (ground)'\n",
    "atl06sr_gdf2.shape"
   ]
  },
  {
   "cell_type": "code",
   "execution_count": 7,
   "id": "4c51b9a4",
   "metadata": {},
   "outputs": [],
   "source": [
    "atl06sr_gdf = atl06sr_gdf_ll.to_crs('epsg:32611')"
   ]
  },
  {
   "cell_type": "code",
   "execution_count": null,
   "id": "916b6f4c",
   "metadata": {},
   "outputs": [],
   "source": []
  },
  {
   "cell_type": "markdown",
   "id": "57836b87",
   "metadata": {},
   "source": [
    "### Create the hex map using code from GDA 2021"
   ]
  },
  {
   "cell_type": "code",
   "execution_count": null,
   "id": "9a79ef7c",
   "metadata": {},
   "outputs": [],
   "source": []
  },
  {
   "cell_type": "code",
   "execution_count": null,
   "id": "5777d3ba",
   "metadata": {},
   "outputs": [],
   "source": [
    "f, ax = plt.subplots()\n",
    "\n",
    "hb = ax.hexbin(atl06sr_gdf.geometry.x, atl06sr_gdf.geometry.y, C=atl06sr_gdf['dif_plus'], \n",
    "               reduce_C_function=np.median, gridsize=50, alpha=0.8, cmap = 'BuPu', mincnt=0.0001)\n",
    "plt.colorbar(hb, label='Elevation Difference (m)')\n",
    "#states_gdf_aea.plot(ax=ax, facecolor='none', edgecolor='k')\n",
    "#plt.xlim([glas_bounds[0],glas_bounds[2]])\n",
    "#plt.ylim([glas_bounds[1], glas_bounds[3]])\n",
    "plt.xticks(rotation=45)\n",
    "plt.title('ATL06SR Difference from Snow Off ASO')"
   ]
  },
  {
   "cell_type": "code",
   "execution_count": null,
   "id": "8348b15e",
   "metadata": {},
   "outputs": [],
   "source": []
  }
 ],
 "metadata": {
  "kernelspec": {
   "display_name": "Python 3",
   "language": "python",
   "name": "python3"
  },
  "language_info": {
   "codemirror_mode": {
    "name": "ipython",
    "version": 3
   },
   "file_extension": ".py",
   "mimetype": "text/x-python",
   "name": "python",
   "nbconvert_exporter": "python",
   "pygments_lexer": "ipython3",
   "version": "3.8.10"
  }
 },
 "nbformat": 4,
 "nbformat_minor": 5
}
