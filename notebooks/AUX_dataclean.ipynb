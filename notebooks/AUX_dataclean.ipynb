{
 "cells": [
  {
   "cell_type": "markdown",
   "id": "6b10ab63-b3c2-4ef1-aafa-e075ad0f1a43",
   "metadata": {},
   "source": [
    "# Clean CDEC Data and Save to Pickle"
   ]
  },
  {
   "cell_type": "code",
   "execution_count": 8,
   "id": "5dd01472-8645-4549-91e6-92e71e841cac",
   "metadata": {},
   "outputs": [],
   "source": [
    "import os\n",
    "import numpy as np\n",
    "import pandas as pd\n",
    "import geopandas as gpd\n",
    "import matplotlib.pyplot as plt\n",
    "import datetime\n",
    "import pickle\n",
    "from astropy.time import Time\n",
    "from rasterio.plot import show\n",
    "import rasterio as rio\n",
    "from rasterio import features"
   ]
  },
  {
   "cell_type": "code",
   "execution_count": 56,
   "id": "79182c2c-ca12-4aa3-aeda-595234c962f4",
   "metadata": {},
   "outputs": [],
   "source": [
    "pd.set_option('display.max_columns', None)"
   ]
  },
  {
   "cell_type": "code",
   "execution_count": 21,
   "id": "25e238b7-6458-409f-9b99-a330497f03c4",
   "metadata": {},
   "outputs": [],
   "source": [
    "#Add DOY and DOWY column\n",
    "def add_dowy(df, col=None):\n",
    "    print(\"Adding Day of Water Year (DOWY)\")\n",
    "    if col is None:\n",
    "        df['doy'] = df.index.dayofyear\n",
    "        df['decyear'] = Time(df.index).decimalyear\n",
    "    else:\n",
    "        df['doy'] = pd.to_datetime(df[col]).dt.dayofyear\n",
    "        df['decyear'] = Time(pd.to_datetime(df[col])).decimalyear\n",
    "    \n",
    "    #df['dowy'] = (df['doy'].index - pd.DateOffset(months=9)).dayofyear\n",
    "    # Sept 30 is doy 273\n",
    "    df['dowy'] = df['doy'] - 273\n",
    "    df.loc[df['dowy'] <= 0, 'dowy'] += 365"
   ]
  },
  {
   "cell_type": "markdown",
   "id": "ff070693-5cce-4cf6-9959-3602a4cd5a77",
   "metadata": {},
   "source": [
    "## Load CDEC Snow Depth for same date range and add to time series  \n",
    "-> Only run this once, then load the pickle file to avoid redundancy\n",
    "\n",
    "#### To Do: Check out SNOTEL access API - they have CDEC sites too!"
   ]
  },
  {
   "cell_type": "code",
   "execution_count": 3,
   "id": "174ac100-2ade-499d-b5e6-6ef5c876a044",
   "metadata": {},
   "outputs": [],
   "source": [
    "tum = pd.read_csv('../data/CDEC/TUM_18.csv')\n",
    "dan = pd.read_csv('../data/CDEC/DAN_18.csv')\n",
    "\n",
    "tum = tum.rename(columns={'OBS DATE':'OBS_DATE', 'DATE TIME':'DATE_TIME'})\n",
    "dan = dan.rename(columns={'OBS DATE':'OBS_DATE', 'DATE TIME':'DATE_TIME'})"
   ]
  },
  {
   "cell_type": "code",
   "execution_count": 4,
   "id": "2e2825ee-f512-4594-b016-51d110153eda",
   "metadata": {},
   "outputs": [],
   "source": [
    "tum_elev = 2621.28\n",
    "dan_elev = 2965"
   ]
  },
  {
   "cell_type": "code",
   "execution_count": 5,
   "id": "0a62963c-9617-42ca-90dd-9731c52ebf35",
   "metadata": {},
   "outputs": [],
   "source": [
    "# from stack overflow\n",
    "\n",
    "from datetime import date\n",
    "\n",
    "\n",
    "def int2date(argdate: int) -> date:\n",
    "    \"\"\"\n",
    "    If you have date as an integer, use this method to obtain a datetime.date object.\n",
    "\n",
    "    Parameters\n",
    "    ----------\n",
    "    argdate : int\n",
    "      Date as a regular integer value (example: 20160618)\n",
    "\n",
    "    Returns\n",
    "    -------\n",
    "    dateandtime.date\n",
    "      A date object which corresponds to the given value `argdate`.\n",
    "    \"\"\"\n",
    "    year = int(argdate / 10000)\n",
    "    month = int((argdate % 10000) / 100)\n",
    "    day = int(argdate % 100)\n",
    "\n",
    "    return date(year, month, day)"
   ]
  },
  {
   "cell_type": "markdown",
   "id": "246b3e47-1e06-4677-8e09-0ee459fef8b9",
   "metadata": {},
   "source": [
    "#### Fill in Nan values so OBS_DATE can be converted to DateTimeIndex  \n",
    "I found the locations where this column was Nan, and then used the dates on either side to fill in."
   ]
  },
  {
   "cell_type": "code",
   "execution_count": 6,
   "id": "00e32f43-a696-4f72-b8e3-6d30ebf83969",
   "metadata": {},
   "outputs": [],
   "source": [
    "tum.loc[126, 'OBS_DATE'] = 20190204.0\n",
    "tum.loc[134, 'OBS_DATE'] = 20190212.0\n",
    "tum.loc[394, 'OBS_DATE'] = 20191030.0"
   ]
  },
  {
   "cell_type": "markdown",
   "id": "7815c1ae-cbd2-4d09-ad98-944711bf3501",
   "metadata": {},
   "source": [
    "#### Convert snow depth from inches to meters, convert time to datetime index, add doy"
   ]
  },
  {
   "cell_type": "code",
   "execution_count": 11,
   "id": "051801a4-599b-401f-b33f-1dc4e5c095ad",
   "metadata": {},
   "outputs": [
    {
     "name": "stdout",
     "output_type": "stream",
     "text": [
      "Adding Day of Water Year (DOWY)\n"
     ]
    }
   ],
   "source": [
    "snwd = pd.DataFrame([tum.OBS_DATE, tum.VALUE]).transpose()\n",
    "snwd.VALUE = snwd.VALUE * 2.54/100\n",
    "snwd = snwd.rename(columns={'VALUE':'tum_m'})\n",
    "snwd['dan_m'] = dan.VALUE * 2.54/100\n",
    "\n",
    "snwd['Date'] = snwd['OBS_DATE'].map(lambda x: int(x))\n",
    "snwd['Date'] = pd.DatetimeIndex(snwd['Date'].map(lambda x: int2date(x)))\n",
    "\n",
    "snwd = snwd.set_index('Date')\n",
    "snwd.sort_index(inplace=True)\n",
    "snwd = snwd.drop(columns=['OBS_DATE'])\n",
    "add_dowy(snwd)"
   ]
  },
  {
   "cell_type": "code",
   "execution_count": 54,
   "id": "d0707894-df45-4818-b4b3-2a49d6e67ad5",
   "metadata": {},
   "outputs": [],
   "source": [
    "#snwd = snwd[snwd['tum_m'] < 2.9]"
   ]
  },
  {
   "cell_type": "code",
   "execution_count": 12,
   "id": "c81c6e98-9498-499d-9bc3-03842f335cd5",
   "metadata": {},
   "outputs": [
    {
     "data": {
      "text/html": [
       "<div>\n",
       "<style scoped>\n",
       "    .dataframe tbody tr th:only-of-type {\n",
       "        vertical-align: middle;\n",
       "    }\n",
       "\n",
       "    .dataframe tbody tr th {\n",
       "        vertical-align: top;\n",
       "    }\n",
       "\n",
       "    .dataframe thead th {\n",
       "        text-align: right;\n",
       "    }\n",
       "</style>\n",
       "<table border=\"1\" class=\"dataframe\">\n",
       "  <thead>\n",
       "    <tr style=\"text-align: right;\">\n",
       "      <th></th>\n",
       "      <th>tum_m</th>\n",
       "      <th>dan_m</th>\n",
       "      <th>doy</th>\n",
       "      <th>decyear</th>\n",
       "      <th>dowy</th>\n",
       "    </tr>\n",
       "    <tr>\n",
       "      <th>Date</th>\n",
       "      <th></th>\n",
       "      <th></th>\n",
       "      <th></th>\n",
       "      <th></th>\n",
       "      <th></th>\n",
       "    </tr>\n",
       "  </thead>\n",
       "  <tbody>\n",
       "    <tr>\n",
       "      <th>2018-10-01</th>\n",
       "      <td>0.0254</td>\n",
       "      <td>-0.0508</td>\n",
       "      <td>274</td>\n",
       "      <td>2018.747945</td>\n",
       "      <td>1</td>\n",
       "    </tr>\n",
       "    <tr>\n",
       "      <th>2018-10-02</th>\n",
       "      <td>0.0000</td>\n",
       "      <td>NaN</td>\n",
       "      <td>275</td>\n",
       "      <td>2018.750685</td>\n",
       "      <td>2</td>\n",
       "    </tr>\n",
       "  </tbody>\n",
       "</table>\n",
       "</div>"
      ],
      "text/plain": [
       "             tum_m   dan_m  doy      decyear  dowy\n",
       "Date                                              \n",
       "2018-10-01  0.0254 -0.0508  274  2018.747945     1\n",
       "2018-10-02  0.0000     NaN  275  2018.750685     2"
      ]
     },
     "execution_count": 12,
     "metadata": {},
     "output_type": "execute_result"
    }
   ],
   "source": [
    "snwd.head(2)"
   ]
  },
  {
   "cell_type": "code",
   "execution_count": 14,
   "id": "58e36b73-0672-428e-a4d4-e4149eafe071",
   "metadata": {},
   "outputs": [
    {
     "data": {
      "text/plain": [
       "<matplotlib.legend.Legend at 0x7f8b761da0d0>"
      ]
     },
     "execution_count": 14,
     "metadata": {},
     "output_type": "execute_result"
    },
    {
     "data": {
      "image/png": "[encoded data removed]",
      "text/plain": [
       "<Figure size 640x480 with 1 Axes>"
      ]
     },
     "metadata": {},
     "output_type": "display_data"
    }
   ],
   "source": [
    "fig, ax = plt.subplots()\n",
    "snwd['tum_m'][snwd['tum_m'] < 2.9].plot(alpha=0.5, color='navy', lw=1)\n",
    "snwd['dan_m'][snwd['dan_m'] < 2.9].plot(alpha=0.5, color='cornflowerblue', lw=1)\n",
    "ax.axhline(y = 0, c = 'k')\n",
    "plt.ylabel('Snow Depth m')\n",
    "plt.legend()"
   ]
  },
  {
   "cell_type": "code",
   "execution_count": 51,
   "id": "8652df59-c30d-4405-9c09-5e12f4c47e1b",
   "metadata": {},
   "outputs": [],
   "source": [
    "# Save the combined geodataframe of the two cdec sites\n",
    "\n",
    "out_fn = '../data/CDEC/cdec_gdf.pkl'\n",
    "\n",
    "with open(out_fn, 'wb') as f:\n",
    "    pickle.dump(snwd, f)"
   ]
  },
  {
   "cell_type": "markdown",
   "id": "2c99de56-9889-4e22-bc63-d18f59637d2e",
   "metadata": {},
   "source": [
    "## Create GDF of CDEC Coordinates and Radius "
   ]
  },
  {
   "cell_type": "code",
   "execution_count": 77,
   "id": "9ca5d259-d0df-4b0e-b961-ceca7eeb0148",
   "metadata": {},
   "outputs": [],
   "source": [
    "tum_elev = 2621.28\n",
    "dan_elev = 2965\n",
    "\n",
    "tum_coords = [37.873000,-119.350000]\n",
    "dan_coords = [37.897000,-119.257000]\n",
    "\n",
    "tum_band = [2371.28, 2871.28]\n",
    "dan_band = [2715,3215]"
   ]
  },
  {
   "cell_type": "code",
   "execution_count": 78,
   "id": "b2e9f26f-2f2b-45d1-918b-1aea0994394b",
   "metadata": {},
   "outputs": [
    {
     "data": {
      "text/plain": [
       "2715"
      ]
     },
     "execution_count": 78,
     "metadata": {},
     "output_type": "execute_result"
    }
   ],
   "source": [
    "dan_elev - 250"
   ]
  },
  {
   "cell_type": "markdown",
   "id": "a6a6d756-ae0d-4a22-84f5-426470170865",
   "metadata": {},
   "source": [
    "### Create 5 km radius around TUM CDEC site"
   ]
  },
  {
   "cell_type": "code",
   "execution_count": 92,
   "id": "d03073c0-3b28-4e12-9d1b-f62bc0d1ebaf",
   "metadata": {},
   "outputs": [],
   "source": [
    "# Create a transform that will go from the native ICESat-2 and Snotel CS (4326) to the common projection we will use (32610, ie UTM Zone 10 N)\n",
    "\n",
    "target_crs = \"EPSG:32611\"\n",
    "from pyproj import Transformer,CRS\n",
    "to_target_crs = Transformer.from_crs(4326,target_crs)"
   ]
  },
  {
   "cell_type": "code",
   "execution_count": 93,
   "id": "a13f07e8-a253-4fc4-98a1-3b50d6f4adaf",
   "metadata": {},
   "outputs": [],
   "source": [
    "# Transform the snotel site locations to 32610\n",
    "# Originally written by Hannah for Methow notebook\n",
    "\n",
    "points_cdec = []\n",
    "cdec_coords = [(37.873000,-119.350000,2621.28),(37.897000,-119.257000,2965)]\n",
    "for pt in to_target_crs.itransform(cdec_coords):\n",
    "    points_cdec.append(pt)\n",
    "x_cdec = [x_tuple[0] for x_tuple in points_cdec]\n",
    "y_cdec = [y_tuple[1] for y_tuple in points_cdec]\n",
    "z_cdec = [z_tuple[2] for z_tuple in points_cdec]\n",
    "cdec_gdf = gpd.GeoDataFrame(geometry=gpd.points_from_xy(x_cdec, y_cdec), crs='epsg:32611')\n",
    "cdec_gdf['elevation_m'] = z_cdec"
   ]
  },
  {
   "cell_type": "code",
   "execution_count": 94,
   "id": "0756a6ce-2b65-470c-9cd8-5b0d6e15ded7",
   "metadata": {},
   "outputs": [
    {
     "data": {
      "text/plain": [
       "<AxesSubplot: >"
      ]
     },
     "execution_count": 94,
     "metadata": {},
     "output_type": "execute_result"
    },
    {
     "data": {
      "image/png": "[encoded data removed]",
      "text/plain": [
       "<Figure size 640x480 with 1 Axes>"
      ]
     },
     "metadata": {},
     "output_type": "display_data"
    }
   ],
   "source": [
    "fig, ax = plt.subplots()\n",
    "\n",
    "outline_gdf.plot(ax=ax)\n",
    "cdec_gdf.plot(ax=ax, c='r')"
   ]
  },
  {
   "cell_type": "code",
   "execution_count": 95,
   "id": "58787db5-414f-407a-a085-adcdbbe0cb23",
   "metadata": {},
   "outputs": [
    {
     "data": {
      "text/html": [
       "<div>\n",
       "<style scoped>\n",
       "    .dataframe tbody tr th:only-of-type {\n",
       "        vertical-align: middle;\n",
       "    }\n",
       "\n",
       "    .dataframe tbody tr th {\n",
       "        vertical-align: top;\n",
       "    }\n",
       "\n",
       "    .dataframe thead th {\n",
       "        text-align: right;\n",
       "    }\n",
       "</style>\n",
       "<table border=\"1\" class=\"dataframe\">\n",
       "  <thead>\n",
       "    <tr style=\"text-align: right;\">\n",
       "      <th></th>\n",
       "      <th>geometry</th>\n",
       "      <th>elevation_m</th>\n",
       "      <th>site</th>\n",
       "    </tr>\n",
       "  </thead>\n",
       "  <tbody>\n",
       "    <tr>\n",
       "      <th>0</th>\n",
       "      <td>POINT (293306.562 4194327.335)</td>\n",
       "      <td>2621.28</td>\n",
       "      <td>tum</td>\n",
       "    </tr>\n",
       "    <tr>\n",
       "      <th>1</th>\n",
       "      <td>POINT (301551.877 4196788.619)</td>\n",
       "      <td>2965.00</td>\n",
       "      <td>dan</td>\n",
       "    </tr>\n",
       "  </tbody>\n",
       "</table>\n",
       "</div>"
      ],
      "text/plain": [
       "                         geometry  elevation_m site\n",
       "0  POINT (293306.562 4194327.335)      2621.28  tum\n",
       "1  POINT (301551.877 4196788.619)      2965.00  dan"
      ]
     },
     "execution_count": 95,
     "metadata": {},
     "output_type": "execute_result"
    }
   ],
   "source": [
    "cdec_gdf['site'] = ''\n",
    "cdec_gdf.loc[0, 'site'] = 'tum'\n",
    "cdec_gdf.loc[1, 'site'] = 'dan'\n",
    "cdec_gdf"
   ]
  },
  {
   "cell_type": "code",
   "execution_count": 96,
   "id": "f7a9dd08-66c1-4b34-a79b-f8bef13066ad",
   "metadata": {},
   "outputs": [],
   "source": [
    "from shapely.geometry import Point\n",
    "\n",
    "tum = Point((cdec_gdf[cdec_gdf['site'] == 'tum'].geometry.x, cdec_gdf[cdec_gdf['site'] == 'tum'].geometry.y))\n",
    "dan = Point((cdec_gdf[cdec_gdf['site'] == 'dan'].geometry.x, cdec_gdf[cdec_gdf['site'] == 'dan'].geometry.y))"
   ]
  },
  {
   "cell_type": "code",
   "execution_count": 97,
   "id": "a810420b-d8c2-4fca-80fd-68ec89b7abd4",
   "metadata": {},
   "outputs": [
    {
     "name": "stderr",
     "output_type": "stream",
     "text": [
      "/Users/Hannah/opt/miniconda3/envs/analysis_2022/lib/python3.8/site-packages/pandas/core/dtypes/cast.py:128: ShapelyDeprecationWarning: The array interface is deprecated and will no longer work in Shapely 2.0. Convert the '.coords' to a numpy array instead.\n",
      "  arr = construct_1d_object_array_from_listlike(values)\n",
      "/Users/Hannah/opt/miniconda3/envs/analysis_2022/lib/python3.8/site-packages/pandas/core/construction.py:810: ShapelyDeprecationWarning: The array interface is deprecated and will no longer work in Shapely 2.0. Convert the '.coords' to a numpy array instead.\n",
      "  subarr = construct_1d_object_array_from_listlike(arr)\n"
     ]
    },
    {
     "data": {
      "text/html": [
       "<div>\n",
       "<style scoped>\n",
       "    .dataframe tbody tr th:only-of-type {\n",
       "        vertical-align: middle;\n",
       "    }\n",
       "\n",
       "    .dataframe tbody tr th {\n",
       "        vertical-align: top;\n",
       "    }\n",
       "\n",
       "    .dataframe thead th {\n",
       "        text-align: right;\n",
       "    }\n",
       "</style>\n",
       "<table border=\"1\" class=\"dataframe\">\n",
       "  <thead>\n",
       "    <tr style=\"text-align: right;\">\n",
       "      <th></th>\n",
       "      <th>site</th>\n",
       "      <th>geometry</th>\n",
       "    </tr>\n",
       "  </thead>\n",
       "  <tbody>\n",
       "    <tr>\n",
       "      <th>0</th>\n",
       "      <td>tum_5km</td>\n",
       "      <td>POINT (293306.5622950811 4194327.334556827)</td>\n",
       "    </tr>\n",
       "    <tr>\n",
       "      <th>1</th>\n",
       "      <td>dan_5km</td>\n",
       "      <td>POINT (301551.8767049168 4196788.618859532)</td>\n",
       "    </tr>\n",
       "  </tbody>\n",
       "</table>\n",
       "</div>"
      ],
      "text/plain": [
       "      site                                     geometry\n",
       "0  tum_5km  POINT (293306.5622950811 4194327.334556827)\n",
       "1  dan_5km  POINT (301551.8767049168 4196788.618859532)"
      ]
     },
     "execution_count": 97,
     "metadata": {},
     "output_type": "execute_result"
    }
   ],
   "source": [
    "df_center= pd.DataFrame({'site':'tum_5km','geometry':[tum]})\n",
    "df_center.loc[len(df_center)]={'site':'dan_5km', 'geometry':dan}\n",
    "df_center"
   ]
  },
  {
   "cell_type": "code",
   "execution_count": 98,
   "id": "0fc00db2-16d4-4159-b68c-6d4511f95d70",
   "metadata": {},
   "outputs": [
    {
     "data": {
      "text/html": [
       "<div>\n",
       "<style scoped>\n",
       "    .dataframe tbody tr th:only-of-type {\n",
       "        vertical-align: middle;\n",
       "    }\n",
       "\n",
       "    .dataframe tbody tr th {\n",
       "        vertical-align: top;\n",
       "    }\n",
       "\n",
       "    .dataframe thead th {\n",
       "        text-align: right;\n",
       "    }\n",
       "</style>\n",
       "<table border=\"1\" class=\"dataframe\">\n",
       "  <thead>\n",
       "    <tr style=\"text-align: right;\">\n",
       "      <th></th>\n",
       "      <th>site</th>\n",
       "      <th>geometry</th>\n",
       "    </tr>\n",
       "  </thead>\n",
       "  <tbody>\n",
       "    <tr>\n",
       "      <th>0</th>\n",
       "      <td>tum_5km</td>\n",
       "      <td>POLYGON ((298306.562 4194327.335, 298282.486 4...</td>\n",
       "    </tr>\n",
       "    <tr>\n",
       "      <th>1</th>\n",
       "      <td>dan_5km</td>\n",
       "      <td>POLYGON ((306551.877 4196788.619, 306527.800 4...</td>\n",
       "    </tr>\n",
       "  </tbody>\n",
       "</table>\n",
       "</div>"
      ],
      "text/plain": [
       "      site                                           geometry\n",
       "0  tum_5km  POLYGON ((298306.562 4194327.335, 298282.486 4...\n",
       "1  dan_5km  POLYGON ((306551.877 4196788.619, 306527.800 4..."
      ]
     },
     "execution_count": 98,
     "metadata": {},
     "output_type": "execute_result"
    }
   ],
   "source": [
    "gdf_center = gpd.GeoDataFrame(df_center, geometry=df_center['geometry'], crs='epsg:32611')\n",
    "gdf_center['geometry'] = gdf_center.geometry.buffer(5000)\n",
    "gdf_center"
   ]
  },
  {
   "cell_type": "code",
   "execution_count": 99,
   "id": "3aad8682-bc8f-4135-9c05-542ab82a1dce",
   "metadata": {},
   "outputs": [
    {
     "data": {
      "text/plain": [
       "<AxesSubplot: >"
      ]
     },
     "execution_count": 99,
     "metadata": {},
     "output_type": "execute_result"
    },
    {
     "data": {
      "image/png": "[encoded data removed]",
      "text/plain": [
       "<Figure size 640x480 with 1 Axes>"
      ]
     },
     "metadata": {},
     "output_type": "display_data"
    }
   ],
   "source": [
    "fig, ax = plt.subplots()\n",
    "\n",
    "outline_gdf.plot(ax=ax)\n",
    "cdec_gdf.plot(ax=ax, c='r')\n",
    "gdf_center.plot(ax=ax, facecolor='none')"
   ]
  },
  {
   "cell_type": "markdown",
   "id": "bb7ee736-2783-42f9-a293-3148c41c85e7",
   "metadata": {},
   "source": [
    "## Combine the geodataframes"
   ]
  },
  {
   "cell_type": "code",
   "execution_count": 100,
   "id": "3eb9f622-420b-4fbb-acd2-f84e84749f12",
   "metadata": {},
   "outputs": [
    {
     "data": {
      "text/html": [
       "<div>\n",
       "<style scoped>\n",
       "    .dataframe tbody tr th:only-of-type {\n",
       "        vertical-align: middle;\n",
       "    }\n",
       "\n",
       "    .dataframe tbody tr th {\n",
       "        vertical-align: top;\n",
       "    }\n",
       "\n",
       "    .dataframe thead th {\n",
       "        text-align: right;\n",
       "    }\n",
       "</style>\n",
       "<table border=\"1\" class=\"dataframe\">\n",
       "  <thead>\n",
       "    <tr style=\"text-align: right;\">\n",
       "      <th></th>\n",
       "      <th>geometry</th>\n",
       "      <th>elevation_m</th>\n",
       "      <th>site</th>\n",
       "    </tr>\n",
       "  </thead>\n",
       "  <tbody>\n",
       "    <tr>\n",
       "      <th>0</th>\n",
       "      <td>POINT (293306.562 4194327.335)</td>\n",
       "      <td>2621.28</td>\n",
       "      <td>tum</td>\n",
       "    </tr>\n",
       "    <tr>\n",
       "      <th>1</th>\n",
       "      <td>POINT (301551.877 4196788.619)</td>\n",
       "      <td>2965.00</td>\n",
       "      <td>dan</td>\n",
       "    </tr>\n",
       "    <tr>\n",
       "      <th>2</th>\n",
       "      <td>POLYGON ((298306.562 4194327.335, 298282.486 4...</td>\n",
       "      <td>NaN</td>\n",
       "      <td>tum_5km</td>\n",
       "    </tr>\n",
       "    <tr>\n",
       "      <th>3</th>\n",
       "      <td>POLYGON ((306551.877 4196788.619, 306527.800 4...</td>\n",
       "      <td>NaN</td>\n",
       "      <td>dan_5km</td>\n",
       "    </tr>\n",
       "  </tbody>\n",
       "</table>\n",
       "</div>"
      ],
      "text/plain": [
       "                                            geometry  elevation_m     site\n",
       "0                     POINT (293306.562 4194327.335)      2621.28      tum\n",
       "1                     POINT (301551.877 4196788.619)      2965.00      dan\n",
       "2  POLYGON ((298306.562 4194327.335, 298282.486 4...          NaN  tum_5km\n",
       "3  POLYGON ((306551.877 4196788.619, 306527.800 4...          NaN  dan_5km"
      ]
     },
     "execution_count": 100,
     "metadata": {},
     "output_type": "execute_result"
    }
   ],
   "source": [
    "cdec_geom = pd.concat([cdec_gdf, gdf_center], ignore_index=True)\n",
    "cdec_geom"
   ]
  },
  {
   "cell_type": "code",
   "execution_count": 101,
   "id": "29cb93de-4065-45e4-9676-3e4725a9cb28",
   "metadata": {},
   "outputs": [
    {
     "data": {
      "text/plain": [
       "<AxesSubplot: >"
      ]
     },
     "execution_count": 101,
     "metadata": {},
     "output_type": "execute_result"
    },
    {
     "data": {
      "image/png": "[encoded data removed]",
      "text/plain": [
       "<Figure size 640x480 with 1 Axes>"
      ]
     },
     "metadata": {},
     "output_type": "display_data"
    }
   ],
   "source": [
    "fig, ax = plt.subplots()\n",
    "\n",
    "outline_gdf.plot(ax=ax)\n",
    "cdec_geom[cdec_geom.geometry.geom_type == 'Point'].plot(ax=ax, color='r')\n",
    "cdec_geom[cdec_geom.geometry.geom_type == 'Polygon'].plot(ax=ax, facecolor='none', edgecolor='k')\n",
    "# cdec_gdf.plot(ax=ax, c='r')\n",
    "# gdf_center.plot(ax=ax, facecolor='none')"
   ]
  },
  {
   "cell_type": "code",
   "execution_count": 102,
   "id": "1a9e839f-1c9b-4ad8-aa0d-4f11ca978f05",
   "metadata": {},
   "outputs": [
    {
     "data": {
      "text/plain": [
       "<Derived Projected CRS: EPSG:32611>\n",
       "Name: WGS 84 / UTM zone 11N\n",
       "Axis Info [cartesian]:\n",
       "- E[east]: Easting (metre)\n",
       "- N[north]: Northing (metre)\n",
       "Area of Use:\n",
       "- name: Between 120°W and 114°W, northern hemisphere between equator and 84°N, onshore and offshore. Canada - Alberta; British Columbia (BC); Northwest Territories (NWT); Nunavut. Mexico. United States (USA).\n",
       "- bounds: (-120.0, 0.0, -114.0, 84.0)\n",
       "Coordinate Operation:\n",
       "- name: UTM zone 11N\n",
       "- method: Transverse Mercator\n",
       "Datum: World Geodetic System 1984 ensemble\n",
       "- Ellipsoid: WGS 84\n",
       "- Prime Meridian: Greenwich"
      ]
     },
     "execution_count": 102,
     "metadata": {},
     "output_type": "execute_result"
    }
   ],
   "source": [
    "cdec_geom.crs"
   ]
  },
  {
   "cell_type": "markdown",
   "id": "efd5335b-57f4-4031-bb52-11718ae82ec9",
   "metadata": {},
   "source": [
    "### Save the radius geodataframes"
   ]
  },
  {
   "cell_type": "code",
   "execution_count": 103,
   "id": "96c5a66c-1b50-44d9-94f9-f6280c960bfa",
   "metadata": {},
   "outputs": [],
   "source": [
    "cdec_out_fn = '../data/CDEC/cdec_geometries.pkl'\n",
    "\n",
    "with open(cdec_out_fn, 'wb') as f:\n",
    "    pickle.dump(cdec_geom, f)"
   ]
  },
  {
   "cell_type": "markdown",
   "id": "2be49e41-2016-48ce-b1e8-6a7620a1e39a",
   "metadata": {},
   "source": [
    "## Clean the Tuolumne Outline file"
   ]
  },
  {
   "cell_type": "code",
   "execution_count": 34,
   "id": "2681498c-a27e-4de5-b0e4-fcb352e83574",
   "metadata": {},
   "outputs": [],
   "source": [
    "outline_gdf = gpd.read_file('../data/UpperTuolRiverBasinOutline.geojson')\n",
    "outline_gdf = outline_gdf[0:1]\n",
    "outline_gdf = outline_gdf.to_crs('EPSG:32611')\n",
    "\n",
    "outline_fn = '../../data/site_outlines/tuolumne_outline_32611'\n",
    "\n",
    "with open(outline_fn, 'wb') as f:\n",
    "    pickle.dump(outline_gdf, f)"
   ]
  },
  {
   "cell_type": "markdown",
   "id": "92f9fa6d-2f2a-484c-87ba-2bab7fac380d",
   "metadata": {
    "tags": []
   },
   "source": [
    "# Clip Lakes to Tuolumne "
   ]
  },
  {
   "cell_type": "code",
   "execution_count": 35,
   "id": "2eb32fe9-74dc-41b4-801e-bbac1b1d6022",
   "metadata": {},
   "outputs": [],
   "source": [
    "outline_gdf = pickle.load(open('../../data/site_outlines/tuolumne_outline_32611', 'rb'))"
   ]
  },
  {
   "cell_type": "code",
   "execution_count": 27,
   "id": "3cb7ef8f-ab69-4563-8ce4-a9ab97db785f",
   "metadata": {},
   "outputs": [],
   "source": [
    "lakes = gpd.read_file('../../data/site_outlines/California_Lakes.geojson')"
   ]
  },
  {
   "cell_type": "code",
   "execution_count": 29,
   "id": "f4e2d820-177c-47e7-b8a0-96daf89e3a86",
   "metadata": {},
   "outputs": [],
   "source": [
    "lakes = lakes.to_crs('EPSG:32611')"
   ]
  },
  {
   "cell_type": "code",
   "execution_count": 36,
   "id": "494bbb4b-d262-46ff-a667-29bdb52350dc",
   "metadata": {},
   "outputs": [
    {
     "name": "stderr",
     "output_type": "stream",
     "text": [
      "/Users/Hannah/opt/miniconda3/envs/analysis_2022/lib/python3.8/site-packages/geopandas/tools/clip.py:66: FutureWarning: In a future version, `df.iloc[:, i] = newvals` will attempt to set the values inplace instead of always setting a new array. To retain the old behavior, use either `df[df.columns[i]] = newvals` or, if columns are non-unique, `df.isetitem(i, newvals)`\n",
      "  clipped.loc[\n"
     ]
    }
   ],
   "source": [
    "lakes = gpd.clip(lakes, outline_gdf)"
   ]
  },
  {
   "cell_type": "code",
   "execution_count": 37,
   "id": "0b0a4965-7dd4-4459-9c31-13c415ce377c",
   "metadata": {},
   "outputs": [
    {
     "data": {
      "text/plain": [
       "<AxesSubplot: >"
      ]
     },
     "execution_count": 37,
     "metadata": {},
     "output_type": "execute_result"
    },
    {
     "data": {
      "image/png": "[encoded data removed]",
      "text/plain": [
       "<Figure size 640x480 with 1 Axes>"
      ]
     },
     "metadata": {},
     "output_type": "display_data"
    }
   ],
   "source": [
    "fig, ax = plt.subplots()\n",
    "\n",
    "lakes.plot(ax=ax)\n",
    "outline_gdf.plot(ax=ax, facecolor='none')"
   ]
  },
  {
   "cell_type": "code",
   "execution_count": 38,
   "id": "2ad1f4b1-9509-455c-be45-2d3bca8aeb64",
   "metadata": {},
   "outputs": [],
   "source": [
    "out_fn = '../../data/site_outlines/lakes_tuolumne.pkl'\n",
    "\n",
    "with open(out_fn, 'wb') as f:\n",
    "    pickle.dump(lakes, f)"
   ]
  },
  {
   "cell_type": "markdown",
   "id": "c3d663b2-2de2-4b44-aae8-4fb9e3031a77",
   "metadata": {},
   "source": [
    "# Create ASO GDF with Temporal Data for Plotting"
   ]
  },
  {
   "cell_type": "markdown",
   "id": "8beed896-e714-44f2-bffd-877f15ca91e1",
   "metadata": {},
   "source": [
    "## Clip and save all ASO snow-on files to study area"
   ]
  },
  {
   "cell_type": "code",
   "execution_count": 39,
   "id": "980a00d5-ca74-4437-b4c9-824c2d05aab1",
   "metadata": {},
   "outputs": [
    {
     "data": {
      "text/plain": [
       "['../../data/lidar/tuolumne/snow_on/coarse_20m/ASO_3M_SD_USCATE_20190324_20m.tif',\n",
       " '../../data/lidar/tuolumne/snow_on/coarse_20m/ASO_3M_SD_USCATE_20190417_20m.tif',\n",
       " '../../data/lidar/tuolumne/snow_on/coarse_20m/ASO_3M_SD_USCATE_20190503_20m.tif',\n",
       " '../../data/lidar/tuolumne/snow_on/coarse_20m/ASO_3M_SD_USCATE_20190705_20m.tif',\n",
       " '../../data/lidar/tuolumne/snow_on/coarse_20m/ASO_Tuolumne_Mosaic_snowdepth_3m_20200507_20m.tif',\n",
       " '../../data/lidar/tuolumne/snow_on/coarse_20m/ASO_Tuolumne_Mosaic_snowdepth_3m_20220204_20m.tif',\n",
       " '../../data/lidar/tuolumne/snow_on/coarse_20m/ASO_Tuolumne_Mosaic_snowdepth_3m_20220228_20m.tif',\n",
       " '../../data/lidar/tuolumne/snow_on/coarse_20m/ASO_Tuolumne_Mosaic_snowdepth_3m_20220405_20m.tif',\n",
       " '../../data/lidar/tuolumne/snow_on/coarse_20m/ASO_Tuolumne_Mosaic_snowdepth_3m_20220429_20m.tif',\n",
       " '../../data/lidar/tuolumne/snow_on/coarse_20m/ASO_Tuolumne_Mosaic_snowdepth_3m_20220518_20m.tif',\n",
       " '../../data/lidar/tuolumne/snow_on/coarse_20m/ASO_Tuolumne_Mosaic_snowdepth_50m_20210225_20m.tif',\n",
       " '../../data/lidar/tuolumne/snow_on/coarse_20m/ASO_Tuolumne_snowdepth_3m_20200413_20m.tif',\n",
       " '../../data/lidar/tuolumne/snow_on/coarse_20m/ASO_Tuolumne_snowdepth_3m_20200522_20m.tif',\n",
       " '../../data/lidar/tuolumne/snow_on/coarse_20m/ASO_Tuolumne_snowdepth_3m_20210429_20m.tif']"
      ]
     },
     "execution_count": 39,
     "metadata": {},
     "output_type": "execute_result"
    }
   ],
   "source": [
    "aso_dir = '../../data/lidar/tuolumne/snow_on/coarse_20m'\n",
    "aso_fn_list = !ls $aso_dir/ASO*.tif\n",
    "aso_fn_list"
   ]
  },
  {
   "cell_type": "code",
   "execution_count": 40,
   "id": "be4daa77-7bb1-4932-8c27-82547477f4a7",
   "metadata": {},
   "outputs": [
    {
     "data": {
      "text/plain": [
       "14"
      ]
     },
     "execution_count": 40,
     "metadata": {},
     "output_type": "execute_result"
    }
   ],
   "source": [
    "len(aso_fn_list)"
   ]
  },
  {
   "cell_type": "code",
   "execution_count": 41,
   "id": "5ec4d86e-4068-42cf-a75e-69c8bf201ab0",
   "metadata": {},
   "outputs": [
    {
     "data": {
      "text/plain": [
       "'../../data/lidar/tuolumne/snow_on/raw/ASO_Tuolumne_snowdepth_3m_20210429.tif'"
      ]
     },
     "execution_count": 41,
     "metadata": {},
     "output_type": "execute_result"
    }
   ],
   "source": [
    "#aso_fn_list.pop(-1)"
   ]
  },
  {
   "cell_type": "code",
   "execution_count": 41,
   "id": "9e5f3863-be4f-472e-a96e-48a3e42e7763",
   "metadata": {},
   "outputs": [
    {
     "data": {
      "text/plain": [
       "['../../data/lidar/tuolumne/snow_on/coarse_20m/ASO_3M_SD_USCATE_20190324_20m.tif',\n",
       " '../../data/lidar/tuolumne/snow_on/coarse_20m/ASO_3M_SD_USCATE_20190417_20m.tif',\n",
       " '../../data/lidar/tuolumne/snow_on/coarse_20m/ASO_3M_SD_USCATE_20190503_20m.tif',\n",
       " '../../data/lidar/tuolumne/snow_on/coarse_20m/ASO_3M_SD_USCATE_20190705_20m.tif',\n",
       " '../../data/lidar/tuolumne/snow_on/coarse_20m/ASO_Tuolumne_Mosaic_snowdepth_3m_20200507_20m.tif',\n",
       " '../../data/lidar/tuolumne/snow_on/coarse_20m/ASO_Tuolumne_Mosaic_snowdepth_3m_20220204_20m.tif',\n",
       " '../../data/lidar/tuolumne/snow_on/coarse_20m/ASO_Tuolumne_Mosaic_snowdepth_3m_20220228_20m.tif',\n",
       " '../../data/lidar/tuolumne/snow_on/coarse_20m/ASO_Tuolumne_Mosaic_snowdepth_3m_20220405_20m.tif',\n",
       " '../../data/lidar/tuolumne/snow_on/coarse_20m/ASO_Tuolumne_Mosaic_snowdepth_3m_20220429_20m.tif',\n",
       " '../../data/lidar/tuolumne/snow_on/coarse_20m/ASO_Tuolumne_Mosaic_snowdepth_3m_20220518_20m.tif',\n",
       " '../../data/lidar/tuolumne/snow_on/coarse_20m/ASO_Tuolumne_Mosaic_snowdepth_50m_20210225_20m.tif',\n",
       " '../../data/lidar/tuolumne/snow_on/coarse_20m/ASO_Tuolumne_snowdepth_3m_20200413_20m.tif',\n",
       " '../../data/lidar/tuolumne/snow_on/coarse_20m/ASO_Tuolumne_snowdepth_3m_20200522_20m.tif',\n",
       " '../../data/lidar/tuolumne/snow_on/coarse_20m/ASO_Tuolumne_snowdepth_3m_20210429_20m.tif']"
      ]
     },
     "execution_count": 41,
     "metadata": {},
     "output_type": "execute_result"
    }
   ],
   "source": [
    "aso_fn_list"
   ]
  },
  {
   "cell_type": "code",
   "execution_count": 42,
   "id": "019dc7c3-ee2f-4343-9416-e6a9c64b6825",
   "metadata": {},
   "outputs": [],
   "source": [
    "# Code adapted from David Shean's code, from Grand Mesa analysis presumably\n",
    "\n",
    "aso_feat_list = []\n",
    "ovr_scale = 8\n",
    "dt_fieldnum = -2\n",
    "for fn in aso_fn_list:\n",
    "    src = rio.open(fn)\n",
    "    a = src.read(1, masked=True, out_shape=(src.count, int(src.height / ovr_scale), int(src.width / ovr_scale)))\n",
    "    ovr_transform = src.transform * src.transform.scale(src.width / a.shape[-1], src.height / a.shape[-2])\n",
    "    mask = np.ma.getmaskarray(a).astype(np.uint8) - 1\n",
    "    shapes = features.shapes(mask, mask=mask, transform=ovr_transform)\n",
    "    geom_list = list(shapes)\n",
    "    dt = os.path.splitext(os.path.split(fn)[-1])[0].split('_')[dt_fieldnum]\n",
    "    aso_feat_list.extend([{'properties':{'fn':fn, 'date':dt}, 'geometry':i[0]} for i in geom_list])"
   ]
  },
  {
   "cell_type": "code",
   "execution_count": 43,
   "id": "b35fdd8b-3eb0-4cdd-9232-13f5be6d5c8b",
   "metadata": {},
   "outputs": [],
   "source": [
    "aso_gdf = gpd.GeoDataFrame.from_features(aso_feat_list, crs=src.crs)\n",
    "#aso_gdf = aso_gdf.to_crs(crs)"
   ]
  },
  {
   "cell_type": "code",
   "execution_count": 44,
   "id": "d0bbf00e-410d-442c-8648-eb947c945a6c",
   "metadata": {},
   "outputs": [
    {
     "data": {
      "text/html": [
       "<div>\n",
       "<style scoped>\n",
       "    .dataframe tbody tr th:only-of-type {\n",
       "        vertical-align: middle;\n",
       "    }\n",
       "\n",
       "    .dataframe tbody tr th {\n",
       "        vertical-align: top;\n",
       "    }\n",
       "\n",
       "    .dataframe thead th {\n",
       "        text-align: right;\n",
       "    }\n",
       "</style>\n",
       "<table border=\"1\" class=\"dataframe\">\n",
       "  <thead>\n",
       "    <tr style=\"text-align: right;\">\n",
       "      <th></th>\n",
       "      <th>geometry</th>\n",
       "      <th>fn</th>\n",
       "      <th>date</th>\n",
       "    </tr>\n",
       "  </thead>\n",
       "  <tbody>\n",
       "    <tr>\n",
       "      <th>20</th>\n",
       "      <td>POLYGON ((242718.000 4234845.000, 242718.000 4...</td>\n",
       "      <td>../../data/lidar/tuolumne/snow_on/coarse_20m/A...</td>\n",
       "      <td>20200522</td>\n",
       "    </tr>\n",
       "    <tr>\n",
       "      <th>21</th>\n",
       "      <td>POLYGON ((212352.000 4234641.000, 212352.000 4...</td>\n",
       "      <td>../../data/lidar/tuolumne/snow_on/coarse_20m/A...</td>\n",
       "      <td>20210429</td>\n",
       "    </tr>\n",
       "  </tbody>\n",
       "</table>\n",
       "</div>"
      ],
      "text/plain": [
       "                                             geometry  \\\n",
       "20  POLYGON ((242718.000 4234845.000, 242718.000 4...   \n",
       "21  POLYGON ((212352.000 4234641.000, 212352.000 4...   \n",
       "\n",
       "                                                   fn      date  \n",
       "20  ../../data/lidar/tuolumne/snow_on/coarse_20m/A...  20200522  \n",
       "21  ../../data/lidar/tuolumne/snow_on/coarse_20m/A...  20210429  "
      ]
     },
     "execution_count": 44,
     "metadata": {},
     "output_type": "execute_result"
    }
   ],
   "source": [
    "aso_gdf.tail(2)"
   ]
  },
  {
   "cell_type": "code",
   "execution_count": 45,
   "id": "f5e1364e-401a-4a98-a658-7f2a277fffe0",
   "metadata": {},
   "outputs": [],
   "source": [
    "area_thresh = 1e8\n",
    "aso_gdf = aso_gdf.loc[aso_gdf.area > area_thresh]"
   ]
  },
  {
   "cell_type": "code",
   "execution_count": 46,
   "id": "e9e8702c-64be-4823-b8b3-74ce7e4c093f",
   "metadata": {},
   "outputs": [],
   "source": [
    "aso_gdf['date'] = pd.to_datetime(aso_gdf['date'])"
   ]
  },
  {
   "cell_type": "code",
   "execution_count": 47,
   "id": "264d3d7f-7d0d-4cc7-9676-c2e670505ca8",
   "metadata": {},
   "outputs": [],
   "source": [
    "aso_gdf['platform'] = 'ASO'"
   ]
  },
  {
   "cell_type": "code",
   "execution_count": 48,
   "id": "64c02705-877f-4b17-81b5-adddb406c791",
   "metadata": {},
   "outputs": [
    {
     "name": "stdout",
     "output_type": "stream",
     "text": [
      "Adding Day of Water Year (DOWY)\n"
     ]
    }
   ],
   "source": [
    "add_dowy(aso_gdf, col='date')\n",
    "aso_gdf.set_index('date', inplace=True)\n",
    "aso_gdf['acqdate'] = aso_gdf.index.date"
   ]
  },
  {
   "cell_type": "code",
   "execution_count": 49,
   "id": "d42813be-e962-4925-8ae6-bf393d2184e1",
   "metadata": {},
   "outputs": [],
   "source": [
    "aso_gdf['site'] = 'tuolumne'"
   ]
  },
  {
   "cell_type": "code",
   "execution_count": 57,
   "id": "47ab9283-1637-42c3-abaa-918c5c799bfb",
   "metadata": {},
   "outputs": [
    {
     "data": {
      "text/html": [
       "<div>\n",
       "<style scoped>\n",
       "    .dataframe tbody tr th:only-of-type {\n",
       "        vertical-align: middle;\n",
       "    }\n",
       "\n",
       "    .dataframe tbody tr th {\n",
       "        vertical-align: top;\n",
       "    }\n",
       "\n",
       "    .dataframe thead th {\n",
       "        text-align: right;\n",
       "    }\n",
       "</style>\n",
       "<table border=\"1\" class=\"dataframe\">\n",
       "  <thead>\n",
       "    <tr style=\"text-align: right;\">\n",
       "      <th></th>\n",
       "      <th>geometry</th>\n",
       "      <th>fn</th>\n",
       "      <th>platform</th>\n",
       "      <th>doy</th>\n",
       "      <th>decyear</th>\n",
       "      <th>dowy</th>\n",
       "      <th>acqdate</th>\n",
       "      <th>site</th>\n",
       "    </tr>\n",
       "    <tr>\n",
       "      <th>date</th>\n",
       "      <th></th>\n",
       "      <th></th>\n",
       "      <th></th>\n",
       "      <th></th>\n",
       "      <th></th>\n",
       "      <th></th>\n",
       "      <th></th>\n",
       "      <th></th>\n",
       "    </tr>\n",
       "  </thead>\n",
       "  <tbody>\n",
       "    <tr>\n",
       "      <th>2019-03-24</th>\n",
       "      <td>POLYGON ((242715.000 4234848.000, 242715.000 4...</td>\n",
       "      <td>../../data/lidar/tuolumne/snow_on/coarse_20m/A...</td>\n",
       "      <td>ASO</td>\n",
       "      <td>83</td>\n",
       "      <td>2019.224658</td>\n",
       "      <td>175</td>\n",
       "      <td>2019-03-24</td>\n",
       "      <td>tuolumne</td>\n",
       "    </tr>\n",
       "    <tr>\n",
       "      <th>2019-04-17</th>\n",
       "      <td>POLYGON ((254726.111 4234848.000, 259690.704 4...</td>\n",
       "      <td>../../data/lidar/tuolumne/snow_on/coarse_20m/A...</td>\n",
       "      <td>ASO</td>\n",
       "      <td>107</td>\n",
       "      <td>2019.290411</td>\n",
       "      <td>199</td>\n",
       "      <td>2019-04-17</td>\n",
       "      <td>tuolumne</td>\n",
       "    </tr>\n",
       "    <tr>\n",
       "      <th>2019-05-03</th>\n",
       "      <td>POLYGON ((254726.111 4234848.000, 259690.704 4...</td>\n",
       "      <td>../../data/lidar/tuolumne/snow_on/coarse_20m/A...</td>\n",
       "      <td>ASO</td>\n",
       "      <td>123</td>\n",
       "      <td>2019.334247</td>\n",
       "      <td>215</td>\n",
       "      <td>2019-05-03</td>\n",
       "      <td>tuolumne</td>\n",
       "    </tr>\n",
       "    <tr>\n",
       "      <th>2019-07-05</th>\n",
       "      <td>POLYGON ((242715.000 4234848.000, 242715.000 4...</td>\n",
       "      <td>../../data/lidar/tuolumne/snow_on/coarse_20m/A...</td>\n",
       "      <td>ASO</td>\n",
       "      <td>186</td>\n",
       "      <td>2019.506849</td>\n",
       "      <td>278</td>\n",
       "      <td>2019-07-05</td>\n",
       "      <td>tuolumne</td>\n",
       "    </tr>\n",
       "    <tr>\n",
       "      <th>2020-05-07</th>\n",
       "      <td>POLYGON ((242715.000 4234848.000, 242715.000 4...</td>\n",
       "      <td>../../data/lidar/tuolumne/snow_on/coarse_20m/A...</td>\n",
       "      <td>ASO</td>\n",
       "      <td>128</td>\n",
       "      <td>2020.346995</td>\n",
       "      <td>220</td>\n",
       "      <td>2020-05-07</td>\n",
       "      <td>tuolumne</td>\n",
       "    </tr>\n",
       "  </tbody>\n",
       "</table>\n",
       "</div>"
      ],
      "text/plain": [
       "                                                     geometry  \\\n",
       "date                                                            \n",
       "2019-03-24  POLYGON ((242715.000 4234848.000, 242715.000 4...   \n",
       "2019-04-17  POLYGON ((254726.111 4234848.000, 259690.704 4...   \n",
       "2019-05-03  POLYGON ((254726.111 4234848.000, 259690.704 4...   \n",
       "2019-07-05  POLYGON ((242715.000 4234848.000, 242715.000 4...   \n",
       "2020-05-07  POLYGON ((242715.000 4234848.000, 242715.000 4...   \n",
       "\n",
       "                                                           fn platform  doy  \\\n",
       "date                                                                          \n",
       "2019-03-24  ../../data/lidar/tuolumne/snow_on/coarse_20m/A...      ASO   83   \n",
       "2019-04-17  ../../data/lidar/tuolumne/snow_on/coarse_20m/A...      ASO  107   \n",
       "2019-05-03  ../../data/lidar/tuolumne/snow_on/coarse_20m/A...      ASO  123   \n",
       "2019-07-05  ../../data/lidar/tuolumne/snow_on/coarse_20m/A...      ASO  186   \n",
       "2020-05-07  ../../data/lidar/tuolumne/snow_on/coarse_20m/A...      ASO  128   \n",
       "\n",
       "                decyear  dowy     acqdate      site  \n",
       "date                                                 \n",
       "2019-03-24  2019.224658   175  2019-03-24  tuolumne  \n",
       "2019-04-17  2019.290411   199  2019-04-17  tuolumne  \n",
       "2019-05-03  2019.334247   215  2019-05-03  tuolumne  \n",
       "2019-07-05  2019.506849   278  2019-07-05  tuolumne  \n",
       "2020-05-07  2020.346995   220  2020-05-07  tuolumne  "
      ]
     },
     "execution_count": 57,
     "metadata": {},
     "output_type": "execute_result"
    }
   ],
   "source": [
    "aso_gdf.head()"
   ]
  },
  {
   "cell_type": "code",
   "execution_count": 55,
   "id": "be9f770b-1fa8-4d99-b42e-ea1f1a3a91f0",
   "metadata": {},
   "outputs": [
    {
     "data": {
      "text/plain": [
       "True"
      ]
     },
     "execution_count": 55,
     "metadata": {},
     "output_type": "execute_result"
    }
   ],
   "source": [
    "aso_gdf.index.is_unique"
   ]
  },
  {
   "cell_type": "code",
   "execution_count": 59,
   "id": "7f2c28e5-b249-4a23-bea3-88fe39256d58",
   "metadata": {},
   "outputs": [
    {
     "data": {
      "text/plain": [
       "dtype('O')"
      ]
     },
     "execution_count": 59,
     "metadata": {},
     "output_type": "execute_result"
    }
   ],
   "source": [
    "aso_gdf.fn.dtype"
   ]
  },
  {
   "cell_type": "code",
   "execution_count": 51,
   "id": "d95ae145-35da-458d-ac22-3cea3fda66b6",
   "metadata": {},
   "outputs": [],
   "source": [
    "aso_fn = '../../data/aso_dates.pkl'\n",
    "\n",
    "with open(aso_fn, 'wb') as f:\n",
    "    pickle.dump(aso_gdf, f)"
   ]
  },
  {
   "cell_type": "code",
   "execution_count": 464,
   "id": "a6edf864-5f29-4606-b69f-fc4eeb15b20a",
   "metadata": {},
   "outputs": [],
   "source": [
    "# save aso date information to a geojson for use in other notebooks\n",
    "\n",
    "# aso_gdf_tosave.index = aso_gdf_tosave.index.astype(str)\n",
    "# aso_gdf_tosave['acqdate'] = aso_gdf_tosave['acqdate'].astype(str)\n",
    "# aso_gdf.to_file('../../data/aso_dates.geojson', driver='GeoJSON')"
   ]
  },
  {
   "cell_type": "markdown",
   "id": "66311199-f94c-4ee9-b567-8c3fa0fabd77",
   "metadata": {},
   "source": [
    "### Test how different my original snow off DEM is from the newer 2019 DEM"
   ]
  },
  {
   "cell_type": "code",
   "execution_count": 159,
   "id": "5d662df6-2380-49d7-a443-fb1c52663faa",
   "metadata": {},
   "outputs": [
    {
     "data": {
      "text/plain": [
       "<matplotlib.collections.QuadMesh at 0x7f85be2e5130>"
      ]
     },
     "execution_count": 159,
     "metadata": {},
     "output_type": "execute_result"
    },
    {
     "data": {
      "image/png": "[encoded data removed]",
      "text/plain": [
       "<Figure size 432x288 with 2 Axes>"
      ]
     },
     "metadata": {
      "needs_background": "light"
     },
     "output_type": "display_data"
    }
   ],
   "source": [
    "# Code from https://www.earthdatascience.org/courses/use-data-open-source-python/intro-raster-data-python/raster-data-processing/crop-raster-data-with-shapefile-in-python/\n",
    "# from shapely.geometry import mapping\n",
    "\n",
    "# lidar_pre_arr = rxr.open_rasterio(lidar_fn, masked=True).squeeze()\n",
    "# lidar_2019_pre_arr = rxr.open_rasterio(lidar_fn_2019, masked=True).squeeze()\n",
    "\n",
    "# lidar_clipped = lidar_pre_arr.rio.clip(outline_gdf.geometry.apply(mapping))\n",
    "# lidar_clipped_2019 = lidar_2019_pre_arr.rio.clip(outline_gdf.geometry.apply(mapping))\n",
    "\n",
    "# lidar_differences = lidar_clipped_2019 - lidar_clipped\n",
    "\n",
    "# lidar_differences.plot()"
   ]
  },
  {
   "cell_type": "code",
   "execution_count": 168,
   "id": "26d4d974-dbc3-4aef-9935-0400879b3435",
   "metadata": {},
   "outputs": [
    {
     "data": {
      "text/plain": [
       "count    152603.000000\n",
       "mean        -52.067447\n",
       "std         395.338362\n",
       "min       -3858.916016\n",
       "25%           0.043457\n",
       "50%           0.312500\n",
       "75%           0.712402\n",
       "max         114.337524\n",
       "dtype: float64"
      ]
     },
     "execution_count": 168,
     "metadata": {},
     "output_type": "execute_result"
    }
   ],
   "source": [
    "# lidar_differences = atl06sr_gdf['h_mean ASO_3M_PCDTM_USCATE_20191010_20191010 diff'] - atl06sr_gdf['h_mean mcc_dem_3p0m_agg_TUOtrimmed_MANUAL diff']\n",
    "# lidar_differences.describe()"
   ]
  },
  {
   "cell_type": "code",
   "execution_count": 160,
   "id": "6a2069ba-5997-47f2-8d2f-91a11dd26689",
   "metadata": {},
   "outputs": [],
   "source": [
    "#lidar_clipped_2019.rio.to_raster('../../data/lidar/tuolumne/snow_off/ASO_3M_PCDTM_USCATE_20191010_studyextent.tif')"
   ]
  },
  {
   "cell_type": "code",
   "execution_count": null,
   "id": "991455ec-dc6e-4e72-a3dd-bc0398d17211",
   "metadata": {},
   "outputs": [],
   "source": []
  }
 ],
 "metadata": {
  "kernelspec": {
   "display_name": "Python 3 (ipykernel)",
   "language": "python",
   "name": "python3"
  },
  "language_info": {
   "codemirror_mode": {
    "name": "ipython",
    "version": 3
   },
   "file_extension": ".py",
   "mimetype": "text/x-python",
   "name": "python",
   "nbconvert_exporter": "python",
   "pygments_lexer": "ipython3",
   "version": "3.8.13"
  }
 },
 "nbformat": 4,
 "nbformat_minor": 5
}
