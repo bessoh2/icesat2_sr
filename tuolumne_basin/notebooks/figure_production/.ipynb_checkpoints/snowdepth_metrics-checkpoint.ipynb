{
 "cells": [
  {
   "cell_type": "markdown",
   "id": "d63e6d4d",
   "metadata": {},
   "source": [
    "# Calculate Basin Average Depth Near Peak SWE in the Tuolumne Basin and Methow Valley  \n",
    "For use in Table 1 of Besso et al., 2023"
   ]
  },
  {
   "cell_type": "code",
   "execution_count": 1,
   "id": "4dc24472",
   "metadata": {},
   "outputs": [],
   "source": [
    "import numpy as np\n",
    "import pandas as pd\n",
    "import geopandas as gpd\n",
    "import matplotlib.pyplot as plt\n",
    "from rasterstats import zonal_stats\n",
    "from scipy import stats\n",
    "import pickle"
   ]
  },
  {
   "cell_type": "code",
   "execution_count": 2,
   "id": "708cce0e",
   "metadata": {},
   "outputs": [],
   "source": [
    "%matplotlib inline"
   ]
  },
  {
   "cell_type": "code",
   "execution_count": 4,
   "id": "77626f36",
   "metadata": {},
   "outputs": [
    {
     "name": "stdout",
     "output_type": "stream",
     "text": [
      "/Users/Hannah/Documents/Documents_Grad/Research/IDS_westernUS/SlideRule_tuolumne/notebooks/figure_production\n"
     ]
    }
   ],
   "source": [
    "!pwd"
   ]
  },
  {
   "cell_type": "markdown",
   "id": "8c11e88d-c268-4165-abc3-b125be0afdc2",
   "metadata": {},
   "source": [
    "#### Define interquartile range function:"
   ]
  },
  {
   "cell_type": "code",
   "execution_count": 3,
   "id": "0a99c535-4558-49ba-b63d-2621a7d57f91",
   "metadata": {},
   "outputs": [],
   "source": [
    "def iqr2(x):\n",
    "    IQR = stats.iqr(x, interpolation = 'midpoint')\n",
    "    return IQR"
   ]
  },
  {
   "cell_type": "code",
   "execution_count": 4,
   "id": "7f049f0e-56d0-4022-ba14-7d8d8dfdc740",
   "metadata": {},
   "outputs": [],
   "source": [
    "def iqr(p25, p75):\n",
    "    iqr = p75 - p25\n",
    "    return iqr"
   ]
  },
  {
   "cell_type": "markdown",
   "id": "7dc87da9",
   "metadata": {},
   "source": [
    "## Calculate Tuolumne Snow Depth"
   ]
  },
  {
   "cell_type": "markdown",
   "id": "dbcae556-ef9e-4d7f-9e0f-2cbcf49e5de0",
   "metadata": {},
   "source": [
    "#### Load site outline file:"
   ]
  },
  {
   "cell_type": "code",
   "execution_count": 3,
   "id": "726a2062-63c6-4ff1-9857-68eae865a67b",
   "metadata": {},
   "outputs": [],
   "source": [
    "outline_gdf = pickle.load(open('../../../data/site_outlines/tuolumne_outline_32611.pkl', 'rb'))"
   ]
  },
  {
   "cell_type": "markdown",
   "id": "06e871c3-cbb2-4a7b-a91d-443751477052",
   "metadata": {},
   "source": [
    "#### Calculate stats for 2019:"
   ]
  },
  {
   "cell_type": "code",
   "execution_count": 15,
   "id": "35b1d1b2",
   "metadata": {},
   "outputs": [
    {
     "data": {
      "text/plain": [
       "[{'min': 0.0,\n",
       "  'max': 24.925031661987305,\n",
       "  'mean': 2.7457223038256706,\n",
       "  'std': 1.5775688919995081,\n",
       "  'median': 2.823103189468384,\n",
       "  'percentile_25': 1.7708569765090942,\n",
       "  'percentile_75': 3.651228189468384,\n",
       "  'iqr': None}]"
      ]
     },
     "execution_count": 15,
     "metadata": {},
     "output_type": "execute_result"
    }
   ],
   "source": [
    "stats_2019 = zonal_stats(outline_gdf,'../../../data/lidar/tuolumne/snow_on/raw/ASO_3M_SD_USCATE_20190324.tif',\n",
    "            stats=\"mean min max median percentile_25 percentile_75 std\",\n",
    "            add_stats={'iqr':iqr})\n",
    "stats_2019"
   ]
  },
  {
   "cell_type": "code",
   "execution_count": 26,
   "id": "5921e919-aeaa-4097-aba8-05c20b6a1df3",
   "metadata": {},
   "outputs": [
    {
     "data": {
      "text/plain": [
       "1.8803712129592896"
      ]
     },
     "execution_count": 26,
     "metadata": {},
     "output_type": "execute_result"
    }
   ],
   "source": [
    "iqr(stats_2019[0]['percentile_25'], stats_2019[0]['percentile_75'])"
   ]
  },
  {
   "cell_type": "markdown",
   "id": "8a2610b2-ec8c-4343-802c-bea5e2e1f3da",
   "metadata": {},
   "source": [
    "#### Calculate stats for 2020:"
   ]
  },
  {
   "cell_type": "code",
   "execution_count": 16,
   "id": "e7973dc6",
   "metadata": {},
   "outputs": [
    {
     "name": "stderr",
     "output_type": "stream",
     "text": [
      "/Users/Hannah/opt/miniconda3/envs/analysis_2022/lib/python3.8/site-packages/rasterstats/io.py:313: UserWarning: Setting nodata to -999; specify nodata explicitly\n",
      "  warnings.warn(\"Setting nodata to -999; specify nodata explicitly\")\n"
     ]
    },
    {
     "data": {
      "text/plain": [
       "[{'min': -0.0,\n",
       "  'max': 24.997648239135742,\n",
       "  'mean': 0.9712311388732052,\n",
       "  'std': 0.8906892483920672,\n",
       "  'median': 0.9278247952461243,\n",
       "  'percentile_25': 0.12550637125968933,\n",
       "  'percentile_75': 1.4770689010620117,\n",
       "  'iqr': None}]"
      ]
     },
     "execution_count": 16,
     "metadata": {},
     "output_type": "execute_result"
    }
   ],
   "source": [
    "stats_2020 = zonal_stats(outline_gdf,'../../../data/lidar/tuolumne/snow_on/raw/ASO_Tuolumne_snowdepth_3m_20200413.tif',\n",
    "            stats=\"mean min max median percentile_25 percentile_75 std\",\n",
    "                        add_stats={'iqr':iqr})\n",
    "stats_2020"
   ]
  },
  {
   "cell_type": "code",
   "execution_count": 27,
   "id": "bc7d3945-fa3a-479c-83db-80c88b159b5f",
   "metadata": {},
   "outputs": [
    {
     "data": {
      "text/plain": [
       "1.3515625298023224"
      ]
     },
     "execution_count": 27,
     "metadata": {},
     "output_type": "execute_result"
    }
   ],
   "source": [
    "iqr(stats_2020[0]['percentile_25'], stats_2020[0]['percentile_75'])"
   ]
  },
  {
   "cell_type": "markdown",
   "id": "1d6cd534-3592-4dc5-aa8c-7a51f26eda1c",
   "metadata": {},
   "source": [
    "#### Calculate stats for 2021:"
   ]
  },
  {
   "cell_type": "code",
   "execution_count": 17,
   "id": "34ea6dff",
   "metadata": {},
   "outputs": [
    {
     "data": {
      "text/plain": [
       "[{'min': 0.0,\n",
       "  'max': 7.849906921386719,\n",
       "  'mean': 0.9667388331201703,\n",
       "  'std': 0.5253193560138081,\n",
       "  'median': 1.046650767326355,\n",
       "  'percentile_25': 0.6105408668518066,\n",
       "  'percentile_75': 1.3310670256614685,\n",
       "  'iqr': None}]"
      ]
     },
     "execution_count": 17,
     "metadata": {},
     "output_type": "execute_result"
    }
   ],
   "source": [
    "stats_2021 = zonal_stats(outline_gdf,'../../../data/lidar/tuolumne/snow_on/raw/ASO_Tuolumne_Mosaic_snowdepth_50m_20210225.tif',\n",
    "            stats=\"mean min max median percentile_25 percentile_75 std\",\n",
    "                        add_stats={'iqr':iqr})\n",
    "stats_2021"
   ]
  },
  {
   "cell_type": "code",
   "execution_count": 28,
   "id": "7836842b-de0c-466f-8f0a-dc0fa5e5f034",
   "metadata": {},
   "outputs": [
    {
     "data": {
      "text/plain": [
       "0.7205261588096619"
      ]
     },
     "execution_count": 28,
     "metadata": {},
     "output_type": "execute_result"
    }
   ],
   "source": [
    "iqr(stats_2021[0]['percentile_25'], stats_2021[0]['percentile_75'])"
   ]
  },
  {
   "cell_type": "markdown",
   "id": "d0afd25d-4705-4dd8-be7d-103176a7e7eb",
   "metadata": {},
   "source": [
    "#### Calculate stats for 2022:"
   ]
  },
  {
   "cell_type": "code",
   "execution_count": 18,
   "id": "7b4cf26b",
   "metadata": {},
   "outputs": [
    {
     "name": "stderr",
     "output_type": "stream",
     "text": [
      "/Users/Hannah/opt/miniconda3/envs/analysis_2022/lib/python3.8/site-packages/rasterstats/io.py:313: UserWarning: Setting nodata to -999; specify nodata explicitly\n",
      "  warnings.warn(\"Setting nodata to -999; specify nodata explicitly\")\n"
     ]
    },
    {
     "data": {
      "text/plain": [
       "[{'min': 0.0,\n",
       "  'max': 197.1892852783203,\n",
       "  'mean': 0.967251519388307,\n",
       "  'std': 0.7145717021040515,\n",
       "  'median': 0.9796717166900635,\n",
       "  'percentile_25': 0.4665178656578064,\n",
       "  'percentile_75': 1.3407869338989258,\n",
       "  'iqr': None}]"
      ]
     },
     "execution_count": 18,
     "metadata": {},
     "output_type": "execute_result"
    }
   ],
   "source": [
    "stats_2022 = zonal_stats(outline_gdf,'../../../data/lidar/tuolumne/snow_on/raw/ASO_Tuolumne_Mosaic_snowdepth_3m_20220204.tif',\n",
    "            stats=\"mean min max median percentile_25 percentile_75 std\",\n",
    "                        add_stats={'iqr':iqr})\n",
    "stats_2022"
   ]
  },
  {
   "cell_type": "code",
   "execution_count": 29,
   "id": "7c8469f1-4d93-4266-baa9-486025341670",
   "metadata": {},
   "outputs": [
    {
     "data": {
      "text/plain": [
       "0.8742690682411194"
      ]
     },
     "execution_count": 29,
     "metadata": {},
     "output_type": "execute_result"
    }
   ],
   "source": [
    "iqr(stats_2022[0]['percentile_25'], stats_2022[0]['percentile_75'])"
   ]
  },
  {
   "cell_type": "markdown",
   "id": "7652165c",
   "metadata": {},
   "source": [
    "## Calculate Methow Snow Depth"
   ]
  },
  {
   "cell_type": "markdown",
   "id": "6c6e28f4-6cba-42a6-b4ce-0bd527b47be4",
   "metadata": {},
   "source": [
    "#### Load site outline file and in situ CSO measurements:"
   ]
  },
  {
   "cell_type": "code",
   "execution_count": 77,
   "id": "652cd598",
   "metadata": {},
   "outputs": [],
   "source": [
    "cso = gpd.read_file('../../../data/cso/cso-data_092022.geojson')"
   ]
  },
  {
   "cell_type": "code",
   "execution_count": 58,
   "id": "2df25dde",
   "metadata": {},
   "outputs": [],
   "source": [
    "methow_outline = gpd.read_file('../../../data/site_outlines/methow_outline.geojson')\n",
    "methow_outline = methow_outline[3:]"
   ]
  },
  {
   "cell_type": "markdown",
   "id": "f67c0da8-7882-446f-93ba-6e7aa891b125",
   "metadata": {},
   "source": [
    "#### Convert CSO snow depth to cm"
   ]
  },
  {
   "cell_type": "code",
   "execution_count": 78,
   "id": "fec6ca30",
   "metadata": {},
   "outputs": [],
   "source": [
    "cso['depth_m'] = cso['depth']/100"
   ]
  },
  {
   "cell_type": "code",
   "execution_count": 79,
   "id": "8d47f4e1-37df-4b1a-a32f-a5a0e7403eac",
   "metadata": {},
   "outputs": [],
   "source": [
    "cso['timestamp'] = cso['timestamp'].astype(str)"
   ]
  },
  {
   "cell_type": "code",
   "execution_count": 80,
   "id": "61bfe486-3790-4a20-a733-584dd351deca",
   "metadata": {},
   "outputs": [],
   "source": [
    "cso['time'] = ''\n",
    "for i in range(0,127):\n",
    "    x = datetime.strptime(cso.loc[i,'timestamp'], '%Y-%m-%dT%H:%M:%S.%f%z')\n",
    "    j = pd.to_datetime(x)\n",
    "    cso.loc[i,'time'] = j"
   ]
  },
  {
   "cell_type": "code",
   "execution_count": 81,
   "id": "c401076d-ed95-4bf5-84fa-c6c73f393847",
   "metadata": {},
   "outputs": [],
   "source": [
    "for i in range(128,148):\n",
    "    x = datetime.strptime(cso.loc[i,'timestamp'], '%Y-%m-%dT%H:%M:%S%z')\n",
    "    j = pd.to_datetime(x)\n",
    "    cso.loc[i,'time'] = j"
   ]
  },
  {
   "cell_type": "code",
   "execution_count": 86,
   "id": "34075abe-d88b-4e4a-bb39-421a08824b19",
   "metadata": {},
   "outputs": [],
   "source": [
    "cso['time'] = pd.to_datetime(cso['time'])"
   ]
  },
  {
   "cell_type": "code",
   "execution_count": 63,
   "id": "51476b65",
   "metadata": {},
   "outputs": [
    {
     "data": {
      "text/html": [
       "<div>\n",
       "<style scoped>\n",
       "    .dataframe tbody tr th:only-of-type {\n",
       "        vertical-align: middle;\n",
       "    }\n",
       "\n",
       "    .dataframe tbody tr th {\n",
       "        vertical-align: top;\n",
       "    }\n",
       "\n",
       "    .dataframe thead th {\n",
       "        text-align: right;\n",
       "    }\n",
       "</style>\n",
       "<table border=\"1\" class=\"dataframe\">\n",
       "  <thead>\n",
       "    <tr style=\"text-align: right;\">\n",
       "      <th></th>\n",
       "      <th>id</th>\n",
       "      <th>author</th>\n",
       "      <th>depth</th>\n",
       "      <th>source</th>\n",
       "      <th>timestamp</th>\n",
       "      <th>elevation</th>\n",
       "      <th>_ms</th>\n",
       "      <th>geometry</th>\n",
       "      <th>depth_m</th>\n",
       "      <th>time</th>\n",
       "    </tr>\n",
       "  </thead>\n",
       "  <tbody>\n",
       "    <tr>\n",
       "      <th>0</th>\n",
       "      <td>gz86+3JP</td>\n",
       "      <td>David Hill</td>\n",
       "      <td>65.000000</td>\n",
       "      <td>MountainHub</td>\n",
       "      <td>2020-12-28T20:32:46.319000+00:00</td>\n",
       "      <td>830.746399</td>\n",
       "      <td>1609187566319</td>\n",
       "      <td>POINT (-120.21671 48.57078)</td>\n",
       "      <td>0.65</td>\n",
       "      <td>2020-12-28 20:32:46.319000+00:00</td>\n",
       "    </tr>\n",
       "    <tr>\n",
       "      <th>1</th>\n",
       "      <td>Jo5GG2Sw</td>\n",
       "      <td>Bob Sutherland</td>\n",
       "      <td>49.999998</td>\n",
       "      <td>MountainHub</td>\n",
       "      <td>2020-01-23T20:07:28.351999+00:00</td>\n",
       "      <td>679.372925</td>\n",
       "      <td>1579810048352</td>\n",
       "      <td>POINT (-120.15874 48.62850)</td>\n",
       "      <td>0.50</td>\n",
       "      <td>2020-01-23 20:07:28.351999+00:00</td>\n",
       "    </tr>\n",
       "  </tbody>\n",
       "</table>\n",
       "</div>"
      ],
      "text/plain": [
       "         id          author      depth       source  \\\n",
       "0  gz86+3JP      David Hill  65.000000  MountainHub   \n",
       "1  Jo5GG2Sw  Bob Sutherland  49.999998  MountainHub   \n",
       "\n",
       "                          timestamp   elevation            _ms  \\\n",
       "0  2020-12-28T20:32:46.319000+00:00  830.746399  1609187566319   \n",
       "1  2020-01-23T20:07:28.351999+00:00  679.372925  1579810048352   \n",
       "\n",
       "                      geometry  depth_m                              time  \n",
       "0  POINT (-120.21671 48.57078)     0.65  2020-12-28 20:32:46.319000+00:00  \n",
       "1  POINT (-120.15874 48.62850)     0.50  2020-01-23 20:07:28.351999+00:00  "
      ]
     },
     "execution_count": 63,
     "metadata": {},
     "output_type": "execute_result"
    }
   ],
   "source": [
    "cso.head(2)"
   ]
  },
  {
   "cell_type": "markdown",
   "id": "9c02089c-21bb-4a55-ba2f-a8da17433040",
   "metadata": {},
   "source": [
    "#### Plot outline and downloaded CSO data:"
   ]
  },
  {
   "cell_type": "code",
   "execution_count": 34,
   "id": "1dd0db0e",
   "metadata": {},
   "outputs": [
    {
     "data": {
      "text/plain": [
       "<AxesSubplot:>"
      ]
     },
     "execution_count": 34,
     "metadata": {},
     "output_type": "execute_result"
    },
    {
     "data": {
      "image/png": "[encoded data removed]",
      "text/plain": [
       "<Figure size 432x288 with 1 Axes>"
      ]
     },
     "metadata": {
      "needs_background": "light"
     },
     "output_type": "display_data"
    }
   ],
   "source": [
    "fig, ax = plt.subplots()\n",
    "methow_outline[3:].plot(facecolor=None, edgecolor='k', ax=ax)\n",
    "cso.plot(ax=ax, c='orange')"
   ]
  },
  {
   "cell_type": "markdown",
   "id": "9dc709e2-0399-4ed9-a38e-3f1aadd2f9d2",
   "metadata": {},
   "source": [
    "#### Crop CSO data to site outline:"
   ]
  },
  {
   "cell_type": "code",
   "execution_count": 88,
   "id": "85e3a20a",
   "metadata": {},
   "outputs": [],
   "source": [
    "cso_methow = gpd.clip(cso, methow_outline)"
   ]
  },
  {
   "cell_type": "code",
   "execution_count": 10,
   "id": "6ea40d6e",
   "metadata": {},
   "outputs": [
    {
     "data": {
      "text/plain": [
       "<AxesSubplot: >"
      ]
     },
     "execution_count": 10,
     "metadata": {},
     "output_type": "execute_result"
    },
    {
     "data": {
      "image/png": "[encoded data removed]",
      "text/plain": [
       "<Figure size 640x480 with 1 Axes>"
      ]
     },
     "metadata": {},
     "output_type": "display_data"
    }
   ],
   "source": [
    "fig, ax = plt.subplots()\n",
    "methow_outline.plot(facecolor=None, edgecolor='k', ax=ax)\n",
    "cso_methow.plot(ax=ax, c='orange')"
   ]
  },
  {
   "cell_type": "code",
   "execution_count": 89,
   "id": "9fc9506d",
   "metadata": {},
   "outputs": [],
   "source": [
    "cso = cso.set_index('time')\n",
    "cso_methow = cso_methow.set_index('time')"
   ]
  },
  {
   "cell_type": "code",
   "execution_count": 91,
   "id": "8ae99ea9",
   "metadata": {},
   "outputs": [
    {
     "data": {
      "text/plain": [
       "<Axes: xlabel='time'>"
      ]
     },
     "execution_count": 91,
     "metadata": {},
     "output_type": "execute_result"
    },
    {
     "data": {
      "image/png": "[encoded data removed]",
      "text/plain": [
       "<Figure size 640x480 with 1 Axes>"
      ]
     },
     "metadata": {},
     "output_type": "display_data"
    }
   ],
   "source": [
    "fig, ax = plt.subplots()\n",
    "cso_methow['depth_m'].plot(ax=ax, linestyle='none', marker='.', color='k', markersize=5)"
   ]
  },
  {
   "cell_type": "markdown",
   "id": "58e36761-17f7-4d46-b23a-f5167090a71a",
   "metadata": {},
   "source": [
    "#### Calculate yearly statistics:"
   ]
  },
  {
   "cell_type": "code",
   "execution_count": 97,
   "id": "01733c5b",
   "metadata": {},
   "outputs": [
    {
     "name": "stdout",
     "output_type": "stream",
     "text": [
      "2019 std:  0.22490669810494524\n",
      "2020 std:  0.20661841164192635\n",
      "2021 std:  0.2106755903674547\n",
      "2022 std:  0.20929641649176117\n"
     ]
    }
   ],
   "source": [
    "cso_methow_2019 = cso_methow[cso_methow['depth_m'].index.year == 2019]\n",
    "print('2019 std: ', cso_methow_2019['depth_m'].std())\n",
    "cso_methow_2020 = cso_methow[cso_methow['depth_m'].index.year == 2020]\n",
    "print('2020 std: ', cso_methow_2020['depth_m'].std())\n",
    "cso_methow_2021 = cso_methow[cso_methow['depth_m'].index.year == 2021]\n",
    "print('2021 std: ', cso_methow_2021['depth_m'].std())\n",
    "cso_methow_2022 = cso_methow[cso_methow['depth_m'].index.year == 2022]\n",
    "print('2022 std: ', cso_methow_2022['depth_m'].std())"
   ]
  },
  {
   "cell_type": "code",
   "execution_count": 98,
   "id": "5ec3855f",
   "metadata": {},
   "outputs": [
    {
     "name": "stdout",
     "output_type": "stream",
     "text": [
      "2019 median:  0.554399995803833\n",
      "2020 median:  0.499999981165871\n",
      "2021 median:  0.764999971183783\n",
      "2022 median:  0.514999980600847\n"
     ]
    }
   ],
   "source": [
    "cso_methow_2019 = cso_methow[cso_methow['depth_m'].index.year == 2019]\n",
    "print('2019 median: ', cso_methow_2019['depth_m'].median())\n",
    "cso_methow_2020 = cso_methow[cso_methow['depth_m'].index.year == 2020]\n",
    "print('2020 median: ', cso_methow_2020['depth_m'].median())\n",
    "cso_methow_2021 = cso_methow[cso_methow['depth_m'].index.year == 2021]\n",
    "print('2021 median: ', cso_methow_2021['depth_m'].median())\n",
    "cso_methow_2022 = cso_methow[cso_methow['depth_m'].index.year == 2022]\n",
    "print('2022 median: ', cso_methow_2022['depth_m'].median())"
   ]
  },
  {
   "cell_type": "code",
   "execution_count": 99,
   "id": "f739205f-5090-4ff4-94ee-9e637e1fa283",
   "metadata": {},
   "outputs": [
    {
     "name": "stdout",
     "output_type": "stream",
     "text": [
      "2019 iqr:  0.24959999084472695\n",
      "2020 iqr:  0.38000001130047706\n",
      "2021 iqr:  0.42499996609856794\n",
      "2022 iqr:  0.279499997551563\n"
     ]
    }
   ],
   "source": [
    "cso_methow_2019 = cso_methow[cso_methow['depth_m'].index.year == 2019]\n",
    "print('2019 iqr: ', iqr2(cso_methow_2019['depth_m']))\n",
    "cso_methow_2020 = cso_methow[cso_methow['depth_m'].index.year == 2020]\n",
    "print('2020 iqr: ', iqr2(cso_methow_2020['depth_m']))\n",
    "cso_methow_2021 = cso_methow[cso_methow['depth_m'].index.year == 2021]\n",
    "print('2021 iqr: ', iqr2(cso_methow_2021['depth_m']))\n",
    "cso_methow_2022 = cso_methow[cso_methow['depth_m'].index.year == 2022]\n",
    "print('2022 iqr: ', iqr2(cso_methow_2022['depth_m']))"
   ]
  },
  {
   "cell_type": "code",
   "execution_count": 100,
   "id": "0990b2dd-6d81-4a68-a36c-14845449f317",
   "metadata": {},
   "outputs": [
    {
     "name": "stdout",
     "output_type": "stream",
     "text": [
      "2019 25 percentile:  0.365\n",
      "2020 25 percentile:  0.299999988699523\n",
      "2021 25 percentilen:  0.4825\n",
      "2022 25 percentile:  0.48249998615691553\n"
     ]
    }
   ],
   "source": [
    "cso_methow_2019 = cso_methow[cso_methow['depth_m'].index.year == 2019]\n",
    "print('2019 25 percentile: ', np.percentile(cso_methow_2019['depth_m'], 25))\n",
    "cso_methow_2020 = cso_methow[cso_methow['depth_m'].index.year == 2020]\n",
    "print('2020 25 percentile: ', np.percentile(cso_methow_2020['depth_m'], 25))\n",
    "cso_methow_2021 = cso_methow[cso_methow['depth_m'].index.year == 2021]\n",
    "print('2021 25 percentilen: ', np.percentile(cso_methow_2021['depth_m'], 25))\n",
    "cso_methow_2022 = cso_methow[cso_methow['depth_m'].index.year == 2022]\n",
    "print('2022 25 percentile: ', np.percentile(cso_methow_2022['depth_m'], 25))"
   ]
  },
  {
   "cell_type": "code",
   "execution_count": 101,
   "id": "239c3145-d5ca-4e5b-80d8-a48c046afcbe",
   "metadata": {},
   "outputs": [
    {
     "name": "stdout",
     "output_type": "stream",
     "text": [
      "2019 75 percentile:  0.6095999908447269\n",
      "2020 75 percentile:  0.68\n",
      "2021 75 percentilen:  0.8999999660985679\n",
      "2022 75 percentile:  0.68724998248426\n"
     ]
    }
   ],
   "source": [
    "cso_methow_2019 = cso_methow[cso_methow['depth_m'].index.year == 2019]\n",
    "print('2019 75 percentile: ', np.percentile(cso_methow_2019['depth_m'], 75))\n",
    "cso_methow_2020 = cso_methow[cso_methow['depth_m'].index.year == 2020]\n",
    "print('2020 75 percentile: ', np.percentile(cso_methow_2020['depth_m'], 75))\n",
    "cso_methow_2021 = cso_methow[cso_methow['depth_m'].index.year == 2021]\n",
    "print('2021 75 percentilen: ', np.percentile(cso_methow_2021['depth_m'], 75))\n",
    "cso_methow_2022 = cso_methow[cso_methow['depth_m'].index.year == 2022]\n",
    "print('2022 75 percentile: ', np.percentile(cso_methow_2022['depth_m'], 75))"
   ]
  }
 ],
 "metadata": {
  "kernelspec": {
   "display_name": "Python 3 (ipykernel)",
   "language": "python",
   "name": "python3"
  },
  "language_info": {
   "codemirror_mode": {
    "name": "ipython",
    "version": 3
   },
   "file_extension": ".py",
   "mimetype": "text/x-python",
   "name": "python",
   "nbconvert_exporter": "python",
   "pygments_lexer": "ipython3",
   "version": "3.9.16"
  }
 },
 "nbformat": 4,
 "nbformat_minor": 5
}
