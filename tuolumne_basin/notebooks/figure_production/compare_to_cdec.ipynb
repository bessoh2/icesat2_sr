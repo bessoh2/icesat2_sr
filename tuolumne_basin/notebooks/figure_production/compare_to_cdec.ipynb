{
 "cells": [
  {
   "cell_type": "markdown",
   "id": "07bc491e-0058-427d-8da6-f0106bde6f40",
   "metadata": {},
   "source": [
    "# Compare ATL06-SR to CDEC snow depth\n",
    "## Calculate:  \n",
    "* #### median differences, \n",
    "* #### RMSE, \n",
    "* #### standard deviation"
   ]
  },
  {
   "cell_type": "markdown",
   "id": "6ac78206-411d-4ef8-b209-754bc832af78",
   "metadata": {},
   "source": [
    "### Import necessary packages:"
   ]
  },
  {
   "cell_type": "code",
   "execution_count": 77,
   "id": "3697782f-11ef-41b3-ba45-a8ebd1560d30",
   "metadata": {},
   "outputs": [],
   "source": [
    "import os\n",
    "import numpy as np\n",
    "import pandas as pd\n",
    "import geopandas as gpd\n",
    "import matplotlib.pyplot as plt\n",
    "import matplotlib.cbook as cbook\n",
    "import scipy.stats\n",
    "from astropy.time import Time\n",
    "import datetime\n",
    "from rasterstats import zonal_stats\n",
    "import pickle\n",
    "from scipy import stats"
   ]
  },
  {
   "cell_type": "code",
   "execution_count": 78,
   "id": "286e802d-441c-4384-84fe-3c87d8be98fc",
   "metadata": {},
   "outputs": [],
   "source": [
    "%matplotlib inline"
   ]
  },
  {
   "cell_type": "code",
   "execution_count": 79,
   "id": "00d27fa8-84ee-4cd8-b562-6e67f714b4f8",
   "metadata": {},
   "outputs": [],
   "source": [
    "plt.rcParams['figure.facecolor']='w'\n",
    "plt.rcParams['axes.facecolor']='w'\n",
    "plt.rcParams['savefig.facecolor']='w'\n",
    "\n",
    "plt.rcParams['font.size'] = '16'"
   ]
  },
  {
   "cell_type": "code",
   "execution_count": 80,
   "id": "62c20ed6-e6d5-46af-9aa9-efb01c06df50",
   "metadata": {},
   "outputs": [],
   "source": [
    "pd.set_option('display.max_columns', None)"
   ]
  },
  {
   "cell_type": "code",
   "execution_count": 81,
   "id": "98fce2df-e193-4700-9675-a88f618315b9",
   "metadata": {},
   "outputs": [],
   "source": [
    "def iqr(x):\n",
    "    IQR = stats.iqr(x, interpolation = 'midpoint', nan_policy='omit')\n",
    "    return IQR"
   ]
  },
  {
   "cell_type": "markdown",
   "id": "32f05256-7476-4561-90e4-d03415890393",
   "metadata": {},
   "source": [
    "### Load the data:"
   ]
  },
  {
   "cell_type": "code",
   "execution_count": 82,
   "id": "6ad967b7-d156-449c-85e1-dfea96f158c6",
   "metadata": {},
   "outputs": [
    {
     "name": "stderr",
     "output_type": "stream",
     "text": [
      "/var/folders/yr/1f67jccn6hl_lyxnqy7qjpq40000gp/T/ipykernel_896/4102051283.py:1: UserWarning: Unpickling a shapely <2.0 geometry object. Please save the pickle again; shapely 2.1 will not have this compatibility.\n",
      "  atl06sr_gdf = pickle.load(open('../data/ATL06sr/tuolumne_all_sr-atl06-09282022_processed_bicubic_snowonaso.pkl', 'rb'))\n",
      "/var/folders/yr/1f67jccn6hl_lyxnqy7qjpq40000gp/T/ipykernel_896/4102051283.py:3: UserWarning: Unpickling a shapely <2.0 geometry object. Please save the pickle again; shapely 2.1 will not have this compatibility.\n",
      "  outline_gdf = pickle.load(open('../../data/site_outlines/tuolumne_outline_32611.pkl', 'rb'))\n",
      "/var/folders/yr/1f67jccn6hl_lyxnqy7qjpq40000gp/T/ipykernel_896/4102051283.py:6: UserWarning: Unpickling a shapely <2.0 geometry object. Please save the pickle again; shapely 2.1 will not have this compatibility.\n",
      "  cdec_geom = pickle.load(open('../data/CDEC/cdec_geometries.pkl', 'rb'))\n"
     ]
    }
   ],
   "source": [
    "atl06sr_gdf = pickle.load(open('../data/ATL06sr/tuolumne_all_sr-atl06-09282022_processed_bicubic_snowonaso.pkl', 'rb'))\n",
    "\n",
    "outline_gdf = pickle.load(open('../../data/site_outlines/tuolumne_outline_32611.pkl', 'rb'))\n",
    "\n",
    "snwd = pickle.load(open('../data/CDEC/cdec_gdf.pkl', 'rb'))\n",
    "cdec_geom = pickle.load(open('../data/CDEC/cdec_geometries.pkl', 'rb'))"
   ]
  },
  {
   "cell_type": "markdown",
   "id": "c1013d1e-4677-4f71-a324-b54d478f9885",
   "metadata": {},
   "source": [
    "### Remove outliers:"
   ]
  },
  {
   "cell_type": "code",
   "execution_count": 83,
   "id": "91e229f3-0a35-445f-bad9-1f395f6b662c",
   "metadata": {},
   "outputs": [],
   "source": [
    "atl06sr_gdf['zscore'] = (atl06sr_gdf['diff_plus_bicubic'] - atl06sr_gdf['diff_plus_bicubic'].mean()) / atl06sr_gdf['diff_plus_bicubic'].std()\n",
    "\n",
    "zscore_thresh = 3\n",
    "absdiff_thresh = 5.0"
   ]
  },
  {
   "cell_type": "code",
   "execution_count": 84,
   "id": "ece8106a-240e-41ed-905d-6b49f5efae47",
   "metadata": {},
   "outputs": [],
   "source": [
    "atl06_idx = (atl06sr_gdf['zscore'].abs() <= zscore_thresh) & (atl06sr_gdf['diff_plus_bicubic'].abs() <= absdiff_thresh)\n",
    "\n",
    "inner_snowoff_idx = (atl06sr_gdf['zscore'].abs() <= zscore_thresh) & \\\n",
    "    (atl06sr_gdf['diff_plus_bicubic'].abs() <= absdiff_thresh) & \\\n",
    "    (atl06sr_gdf['snow_presence'] == 0)\n",
    "\n",
    "inner_snowon_idx = (atl06sr_gdf['zscore'].abs() <= zscore_thresh) & \\\n",
    "    (atl06sr_gdf['diff_plus_bicubic'].abs() <= absdiff_thresh) & \\\n",
    "    (atl06sr_gdf['snow_presence'] == 1)"
   ]
  },
  {
   "cell_type": "code",
   "execution_count": 85,
   "id": "afd3ecd8-ce54-4a02-9f26-fd4be9d3fe37",
   "metadata": {},
   "outputs": [],
   "source": [
    "atl06sr_gdf_inner = atl06sr_gdf[atl06_idx]"
   ]
  },
  {
   "cell_type": "code",
   "execution_count": 86,
   "id": "3520e199-1395-4ef1-a51f-ccea4df47de7",
   "metadata": {},
   "outputs": [],
   "source": [
    "atl06sr_gdf['snow_presence'] = atl06sr_gdf['snow_presence'].astype(str).astype(int)"
   ]
  },
  {
   "cell_type": "markdown",
   "id": "c078aea1-bb91-4d0e-89e7-6908df1b5b9a",
   "metadata": {},
   "source": [
    "### Create a table of statistics for the ATL06-SR and CDEC data:"
   ]
  },
  {
   "cell_type": "code",
   "execution_count": 87,
   "id": "48573a6d-907f-41f3-9a03-1e6e54af500e",
   "metadata": {},
   "outputs": [],
   "source": [
    "def make_comparison_table(df):\n",
    "    comp_table_all = pd.DataFrame()\n",
    "    comp_table_all.index = pd.DatetimeIndex(data=df['acqdate'].unique())\n",
    "    comp_table_all['acqdate'] = comp_table_all.index.date\n",
    "    \n",
    "    # compute the median depth for each ATL06 date\n",
    "    comp_table_all['median'] = ''\n",
    "    for date in comp_table_all['acqdate']:\n",
    "        comp_table_all.loc[comp_table_all['acqdate']==date, 'median'] = np.nanmedian(df.loc[df['acqdate']==date,'diff_plus_bicubic'])\n",
    "    \n",
    "    # compute the iqr for each ATL06 date\n",
    "    comp_table_all['iqr'] = ''\n",
    "    for date in comp_table_all['acqdate']:\n",
    "        comp_table_all.loc[comp_table_all['acqdate']==date, 'iqr'] = iqr(df.loc[df['acqdate']==date,'diff_plus_bicubic'])\n",
    "        \n",
    "    comp_table_all['stdev'] = ''\n",
    "    for date in comp_table_all['acqdate']:\n",
    "        comp_table_all.loc[comp_table_all['acqdate']==date, 'stdev'] = np.std(df.loc[df['acqdate']==date,'diff_plus_bicubic'])\n",
    "    \n",
    "    # compute the sample size for each ATL06 date\n",
    "    comp_table_all['n'] = ''\n",
    "    for date in comp_table_all['acqdate']:\n",
    "        comp_table_all.loc[comp_table_all['acqdate']==date, 'n'] = df.loc[df['acqdate']==date, 'diff_plus_bicubic'].count()\n",
    "    \n",
    "    # compute the depth on that day at the tuolumne meadows cdec pillow\n",
    "    comp_table_all['tum_depth'] = ''\n",
    "    for date in comp_table_all.index.to_pydatetime():\n",
    "        comp_table_all.loc[comp_table_all.index==date,'tum_depth'] = snwd[snwd.index == date]['tum_m']\n",
    "    \n",
    "    # compute the depth on that day at the dana meadows cdec pillow\n",
    "    comp_table_all['dan_depth'] = ''\n",
    "    for date in comp_table_all.index.to_pydatetime():\n",
    "        comp_table_all.loc[comp_table_all.index==date,'dan_depth'] = snwd[snwd.index == date]['dan_clean']\n",
    "    \n",
    "    # compute the difference between the atl06 median depth and the depth on that day at the dana meadows snow pillow\n",
    "    comp_table_all['atl06-dan_diff'] = ''\n",
    "    for date in comp_table_all.index.to_pydatetime():\n",
    "        comp_table_all.loc[comp_table_all.index==date,'atl06-dan_diff'] = comp_table_all.loc[comp_table_all.index==date,'median'] - comp_table_all.loc[comp_table_all.index==date,'dan_depth']\n",
    "    \n",
    "    # compute the difference between the atl06 median depth and the depth on that day at the tuolumne meadows snow pillow    \n",
    "    comp_table_all['atl06-tum_diff'] = ''\n",
    "    for date in comp_table_all.index.to_pydatetime():\n",
    "        comp_table_all.loc[comp_table_all.index==date,'atl06-tum_diff'] = comp_table_all.loc[comp_table_all.index==date,'median'] - comp_table_all.loc[comp_table_all.index==date,'tum_depth']\n",
    "    \n",
    "    # compute the mean of the tum and dan snow sensors on days with atl06 data\n",
    "    comp_table_all['cdec_mean'] = np.nan\n",
    "    for date in comp_table_all.index.to_pydatetime():\n",
    "        comp_table_all.loc[comp_table_all.index==date,'cdec_mean'] = (comp_table_all.loc[comp_table_all.index==date,'tum_depth'] + comp_table_all.loc[comp_table_all.index==date,'dan_depth']) / 2\n",
    "    \n",
    "    # compute the difference between the atl06sr median depth and the average of the two cdec sites\n",
    "    comp_table_all['atl06-cdec_mean'] = np.nan\n",
    "    for date in comp_table_all.index.to_pydatetime():\n",
    "        comp_table_all.loc[comp_table_all.index==date,'atl06-cdec_mean'] = ((comp_table_all.loc[comp_table_all.index==date,'median'] - comp_table_all.loc[comp_table_all.index==date,'cdec_mean']))\n",
    "    \n",
    "    comp_table_all['rmse_tum'] = np.nan\n",
    "    for date in comp_table_all.index:\n",
    "        squared_dif = (df.loc[df.acqdate==date.date(), 'diff_plus_bicubic'] - comp_table_all.loc[comp_table_all.index==date,'tum_depth'][0])**2\n",
    "        comp_table_all.loc[comp_table_all.acqdate==date.date(), 'rmse_tum'] = np.sqrt(np.nansum(squared_dif/squared_dif.count()))\n",
    "        \n",
    "    comp_table_all['rmse_dan'] = np.nan\n",
    "    for date in comp_table_all.index:\n",
    "        squared_dif = (df.loc[df.acqdate==date.date(), 'diff_plus_bicubic'] - comp_table_all.loc[comp_table_all.index==date,'dan_depth'][0])**2\n",
    "        comp_table_all.loc[comp_table_all.acqdate==date.date(), 'rmse_dan'] = np.sqrt(np.nansum(squared_dif/squared_dif.count()))\n",
    "    \n",
    "    comp_table_all['mae_tum'] = np.nan\n",
    "    for date in comp_table_all.index:\n",
    "        abs_dif = abs(atl06sr_gdf.loc[atl06sr_gdf.acqdate==date.date(), 'diff_plus_bicubic'] - \n",
    "                                    comp_table_all.loc[comp_table_all.index==date,'tum_depth'][0])\n",
    "        abs_dif_sum = np.nansum(abs_dif)\n",
    "        n = abs_dif.count()\n",
    "        if n != 0:\n",
    "            comp_table_all.loc[comp_table_all['acqdate']==date.date(), 'mae_tum'] = abs_dif_sum/n\n",
    "        else:\n",
    "            comp_table_all.loc[comp_table_all['acqdate']==date.date(), 'mae_tum'] = np.nan\n",
    "    \n",
    "    comp_table_all['mae_dan'] = np.nan\n",
    "    for date in comp_table_all.index:\n",
    "        abs_dif = abs(atl06sr_gdf.loc[atl06sr_gdf.acqdate==date.date(), 'diff_plus_bicubic'] - \n",
    "                                    comp_table_all.loc[comp_table_all.index==date,'dan_depth'][0])\n",
    "        abs_dif_sum = np.nansum(abs_dif)\n",
    "        n = abs_dif.count()\n",
    "        if n != 0:\n",
    "            comp_table_all.loc[comp_table_all['acqdate']==date.date(), 'mae_dan'] = abs_dif_sum/n\n",
    "        else:\n",
    "            comp_table_all.loc[comp_table_all['acqdate']==date.date(), 'mae_dan'] = np.nan\n",
    "    \n",
    "    comp_table_all['snow_presence'] = 0\n",
    "    for date in comp_table_all.index:\n",
    "        comp_table_all.loc[comp_table_all.index==date,'snow_presence'] = np.nanmean(df.loc[df['acqdate']==date.date(), 'snow_presence'])\n",
    "    \n",
    "    return comp_table_all"
   ]
  },
  {
   "cell_type": "code",
   "execution_count": 88,
   "id": "7372e938-61ee-47e3-9e8f-9092714cb8ab",
   "metadata": {
    "tags": []
   },
   "outputs": [],
   "source": [
    "comp_df = make_comparison_table(atl06sr_gdf_inner)"
   ]
  },
  {
   "cell_type": "code",
   "execution_count": 89,
   "id": "24d10eae-e06e-4a76-af08-42504c63d36b",
   "metadata": {},
   "outputs": [
    {
     "data": {
      "text/html": [
       "<div>\n",
       "<style scoped>\n",
       "    .dataframe tbody tr th:only-of-type {\n",
       "        vertical-align: middle;\n",
       "    }\n",
       "\n",
       "    .dataframe tbody tr th {\n",
       "        vertical-align: top;\n",
       "    }\n",
       "\n",
       "    .dataframe thead th {\n",
       "        text-align: right;\n",
       "    }\n",
       "</style>\n",
       "<table border=\"1\" class=\"dataframe\">\n",
       "  <thead>\n",
       "    <tr style=\"text-align: right;\">\n",
       "      <th></th>\n",
       "      <th>acqdate</th>\n",
       "      <th>median</th>\n",
       "      <th>iqr</th>\n",
       "      <th>stdev</th>\n",
       "      <th>n</th>\n",
       "      <th>tum_depth</th>\n",
       "      <th>dan_depth</th>\n",
       "      <th>atl06-dan_diff</th>\n",
       "      <th>atl06-tum_diff</th>\n",
       "      <th>cdec_mean</th>\n",
       "      <th>atl06-cdec_mean</th>\n",
       "      <th>rmse_tum</th>\n",
       "      <th>rmse_dan</th>\n",
       "      <th>mae_tum</th>\n",
       "      <th>mae_dan</th>\n",
       "      <th>snow_presence</th>\n",
       "    </tr>\n",
       "  </thead>\n",
       "  <tbody>\n",
       "    <tr>\n",
       "      <th>2018-10-15</th>\n",
       "      <td>2018-10-15</td>\n",
       "      <td>-0.177437</td>\n",
       "      <td>0.981439</td>\n",
       "      <td>1.109608</td>\n",
       "      <td>893</td>\n",
       "      <td>0.0</td>\n",
       "      <td>-0.0254</td>\n",
       "      <td>-0.152037</td>\n",
       "      <td>-0.177437</td>\n",
       "      <td>-0.0127</td>\n",
       "      <td>-0.164737</td>\n",
       "      <td>1.125907</td>\n",
       "      <td>1.121880</td>\n",
       "      <td>0.808798</td>\n",
       "      <td>0.803603</td>\n",
       "      <td>0</td>\n",
       "    </tr>\n",
       "    <tr>\n",
       "      <th>2018-12-11</th>\n",
       "      <td>2018-12-11</td>\n",
       "      <td>0.465389</td>\n",
       "      <td>1.554263</td>\n",
       "      <td>1.439795</td>\n",
       "      <td>6010</td>\n",
       "      <td>0.6604</td>\n",
       "      <td>0.7112</td>\n",
       "      <td>-0.245811</td>\n",
       "      <td>-0.195011</td>\n",
       "      <td>0.6858</td>\n",
       "      <td>-0.220411</td>\n",
       "      <td>1.462085</td>\n",
       "      <td>1.471772</td>\n",
       "      <td>1.174246</td>\n",
       "      <td>1.182727</td>\n",
       "      <td>1</td>\n",
       "    </tr>\n",
       "    <tr>\n",
       "      <th>2019-01-09</th>\n",
       "      <td>2019-01-09</td>\n",
       "      <td>1.30759</td>\n",
       "      <td>1.172404</td>\n",
       "      <td>1.264032</td>\n",
       "      <td>60</td>\n",
       "      <td>NaN</td>\n",
       "      <td>NaN</td>\n",
       "      <td>NaN</td>\n",
       "      <td>NaN</td>\n",
       "      <td>NaN</td>\n",
       "      <td>NaN</td>\n",
       "      <td>0.000000</td>\n",
       "      <td>0.000000</td>\n",
       "      <td>NaN</td>\n",
       "      <td>NaN</td>\n",
       "      <td>1</td>\n",
       "    </tr>\n",
       "    <tr>\n",
       "      <th>2019-03-12</th>\n",
       "      <td>2019-03-12</td>\n",
       "      <td>2.485761</td>\n",
       "      <td>2.611059</td>\n",
       "      <td>1.866957</td>\n",
       "      <td>5081</td>\n",
       "      <td>2.4892</td>\n",
       "      <td>2.7178</td>\n",
       "      <td>-0.232039</td>\n",
       "      <td>-0.003439</td>\n",
       "      <td>2.6035</td>\n",
       "      <td>-0.117739</td>\n",
       "      <td>1.898121</td>\n",
       "      <td>1.952366</td>\n",
       "      <td>1.843126</td>\n",
       "      <td>1.823892</td>\n",
       "      <td>1</td>\n",
       "    </tr>\n",
       "    <tr>\n",
       "      <th>2019-04-10</th>\n",
       "      <td>2019-04-10</td>\n",
       "      <td>2.395167</td>\n",
       "      <td>1.201084</td>\n",
       "      <td>1.067347</td>\n",
       "      <td>2314</td>\n",
       "      <td>2.032</td>\n",
       "      <td>NaN</td>\n",
       "      <td>NaN</td>\n",
       "      <td>0.363167</td>\n",
       "      <td>NaN</td>\n",
       "      <td>NaN</td>\n",
       "      <td>1.118951</td>\n",
       "      <td>0.000000</td>\n",
       "      <td>0.959879</td>\n",
       "      <td>NaN</td>\n",
       "      <td>1</td>\n",
       "    </tr>\n",
       "  </tbody>\n",
       "</table>\n",
       "</div>"
      ],
      "text/plain": [
       "               acqdate    median       iqr     stdev     n tum_depth  \\\n",
       "2018-10-15  2018-10-15 -0.177437  0.981439  1.109608   893       0.0   \n",
       "2018-12-11  2018-12-11  0.465389  1.554263  1.439795  6010    0.6604   \n",
       "2019-01-09  2019-01-09   1.30759  1.172404  1.264032    60       NaN   \n",
       "2019-03-12  2019-03-12  2.485761  2.611059  1.866957  5081    2.4892   \n",
       "2019-04-10  2019-04-10  2.395167  1.201084  1.067347  2314     2.032   \n",
       "\n",
       "           dan_depth atl06-dan_diff atl06-tum_diff cdec_mean atl06-cdec_mean  \\\n",
       "2018-10-15   -0.0254      -0.152037      -0.177437   -0.0127       -0.164737   \n",
       "2018-12-11    0.7112      -0.245811      -0.195011    0.6858       -0.220411   \n",
       "2019-01-09       NaN            NaN            NaN       NaN             NaN   \n",
       "2019-03-12    2.7178      -0.232039      -0.003439    2.6035       -0.117739   \n",
       "2019-04-10       NaN            NaN       0.363167       NaN             NaN   \n",
       "\n",
       "            rmse_tum  rmse_dan   mae_tum   mae_dan  snow_presence  \n",
       "2018-10-15  1.125907  1.121880  0.808798  0.803603              0  \n",
       "2018-12-11  1.462085  1.471772  1.174246  1.182727              1  \n",
       "2019-01-09  0.000000  0.000000       NaN       NaN              1  \n",
       "2019-03-12  1.898121  1.952366  1.843126  1.823892              1  \n",
       "2019-04-10  1.118951  0.000000  0.959879       NaN              1  "
      ]
     },
     "execution_count": 89,
     "metadata": {},
     "output_type": "execute_result"
    }
   ],
   "source": [
    "comp_df.head()"
   ]
  },
  {
   "cell_type": "markdown",
   "id": "2ea03aad-9113-4080-bc87-14986559e893",
   "metadata": {},
   "source": [
    "### Calculate some summary statistics:"
   ]
  },
  {
   "cell_type": "code",
   "execution_count": 95,
   "id": "e1fd6425-2cd7-47d4-b417-60250c963328",
   "metadata": {},
   "outputs": [
    {
     "data": {
      "text/plain": [
       "1.172449259999682"
      ]
     },
     "execution_count": 95,
     "metadata": {},
     "output_type": "execute_result"
    }
   ],
   "source": [
    "np.nanmedian(comp_df.loc[comp_df['snow_presence']==1,'stdev'])"
   ]
  },
  {
   "cell_type": "code",
   "execution_count": 96,
   "id": "76f9b5e9-8f8f-4523-ac0e-11b720342107",
   "metadata": {},
   "outputs": [
    {
     "data": {
      "text/plain": [
       "-0.03384996259750947"
      ]
     },
     "execution_count": 96,
     "metadata": {},
     "output_type": "execute_result"
    }
   ],
   "source": [
    "np.nanmedian(comp_df.loc[comp_df['snow_presence']==1,'atl06-tum_diff'])"
   ]
  },
  {
   "cell_type": "code",
   "execution_count": 97,
   "id": "f829c063-6f53-48f1-944c-3f6a1200b37a",
   "metadata": {},
   "outputs": [
    {
     "data": {
      "text/plain": [
       "-0.4425697147877934"
      ]
     },
     "execution_count": 97,
     "metadata": {},
     "output_type": "execute_result"
    }
   ],
   "source": [
    "np.nanmedian(comp_df.loc[comp_df['snow_presence']==1,'atl06-dan_diff'])"
   ]
  },
  {
   "cell_type": "markdown",
   "id": "e68bf682-2cec-431f-9d43-d040f0099665",
   "metadata": {},
   "source": [
    "## Total RMSE"
   ]
  },
  {
   "cell_type": "markdown",
   "id": "a48a75ae-ec22-4275-bd62-6223d2b0d3b2",
   "metadata": {},
   "source": [
    "#### Compared to Tuolumne Meadows CDEC station (TUM):"
   ]
  },
  {
   "cell_type": "code",
   "execution_count": 98,
   "id": "2deed6db-cef4-4222-96a7-e835d3f0ebec",
   "metadata": {},
   "outputs": [
    {
     "name": "stdout",
     "output_type": "stream",
     "text": [
      "Basin RMSE tum: 0.35444696367815803\n"
     ]
    }
   ],
   "source": [
    "squared_dif = np.sum((comp_df['median'] - comp_df['tum_depth'])**2)\n",
    "rmse_all_tum = np.sqrt(squared_dif/comp_df['tum_depth'].count())\n",
    "print('Basin RMSE tum:', rmse_all_tum)"
   ]
  },
  {
   "cell_type": "code",
   "execution_count": 99,
   "id": "436f7236-2a70-4c74-a2c2-ad776f79af37",
   "metadata": {},
   "outputs": [
    {
     "name": "stdout",
     "output_type": "stream",
     "text": [
      "Basin RMSE snowon tum: 0.41591227648150286\n"
     ]
    }
   ],
   "source": [
    "squared_dif = np.sum((comp_df.loc[comp_df['snow_presence']==1,'median'] - comp_df.loc[comp_df['snow_presence']==1,'tum_depth'])**2)\n",
    "rmse_all_snowon_tum = np.sqrt(squared_dif/comp_df.loc[comp_df['snow_presence']==1,'tum_depth'].count())\n",
    "print('Basin RMSE snowon tum:', rmse_all_snowon_tum)"
   ]
  },
  {
   "cell_type": "markdown",
   "id": "0fa64d4b-129c-4ad4-aa13-d046d4c3fb7d",
   "metadata": {},
   "source": [
    "#### Compared to Dana Meadows CDEC station (DAN):"
   ]
  },
  {
   "cell_type": "code",
   "execution_count": 100,
   "id": "49cdec31-f756-4ad8-8cd8-1922942f2ef1",
   "metadata": {},
   "outputs": [
    {
     "name": "stdout",
     "output_type": "stream",
     "text": [
      "Basin RMSE dan: 0.594193321066127\n"
     ]
    }
   ],
   "source": [
    "squared_dif = np.sum((comp_df['median'] - comp_df['dan_depth'])**2)\n",
    "rmse_all_dan = np.sqrt(squared_dif/comp_df['dan_depth'].count())\n",
    "print('Basin RMSE dan:', rmse_all_dan)"
   ]
  },
  {
   "cell_type": "code",
   "execution_count": 101,
   "id": "3a0c4e7e-e77d-42bf-a749-d52c54ad94d6",
   "metadata": {},
   "outputs": [
    {
     "name": "stdout",
     "output_type": "stream",
     "text": [
      "Basin RMSE snowon dan: 0.8066795797809075\n"
     ]
    }
   ],
   "source": [
    "squared_dif = np.sum((comp_df.loc[comp_df['snow_presence']==1,'median'] - comp_df.loc[comp_df['snow_presence']==1,'dan_depth'])**2)\n",
    "rmse_all_snowon_dan = np.sqrt(squared_dif/comp_df.loc[comp_df['snow_presence']==1,'dan_depth'].count())\n",
    "print('Basin RMSE snowon dan:', rmse_all_snowon_dan)"
   ]
  },
  {
   "cell_type": "markdown",
   "id": "cc142844-7c79-4072-8e8d-5491edc42ba6",
   "metadata": {},
   "source": [
    "## MAE"
   ]
  },
  {
   "cell_type": "code",
   "execution_count": 102,
   "id": "0c7ba223-1285-418f-8096-b2a1bee25102",
   "metadata": {},
   "outputs": [
    {
     "name": "stdout",
     "output_type": "stream",
     "text": [
      "Basin MAE tum: 0.23396680436316933\n"
     ]
    }
   ],
   "source": [
    "abs_dif_sum = np.sum(abs(comp_df['median'] - comp_df['tum_depth']))\n",
    "mae_all_tum = abs_dif_sum/comp_df['tum_depth'].count()\n",
    "print('Basin MAE tum:', mae_all_tum)"
   ]
  },
  {
   "cell_type": "code",
   "execution_count": 103,
   "id": "d94db531-e761-4e12-91d9-4cb8a07b9be7",
   "metadata": {},
   "outputs": [
    {
     "name": "stdout",
     "output_type": "stream",
     "text": [
      "Basin MAE dan: 0.3911288264364369\n"
     ]
    }
   ],
   "source": [
    "abs_dif_sum = np.sum(abs(comp_df['median'] - comp_df['dan_depth']))\n",
    "mae_all_dan = abs_dif_sum/comp_df['dan_depth'].count()\n",
    "print('Basin MAE dan:', mae_all_dan)"
   ]
  },
  {
   "cell_type": "markdown",
   "id": "9e2752f3-4d7f-407e-93ef-0b121f0f1eb1",
   "metadata": {},
   "source": [
    "## Create a table of statistics for data within the radii:"
   ]
  },
  {
   "cell_type": "code",
   "execution_count": 120,
   "id": "3f6fdf34-efba-4408-9828-cecce3c6d2de",
   "metadata": {
    "tags": []
   },
   "outputs": [],
   "source": [
    "comp_tumradius = make_comparison_table(atl06sr_gdf_inner.loc[atl06sr_gdf_inner.within(cdec_geom.loc[2, 'geometry'])])"
   ]
  },
  {
   "cell_type": "code",
   "execution_count": 121,
   "id": "01a7d543-1e0e-44a9-89e9-c2bf49f71baa",
   "metadata": {},
   "outputs": [],
   "source": [
    "comp_tumradius = comp_tumradius.drop(columns=['dan_depth', 'atl06-dan_diff', 'rmse_dan', 'mae_dan'])"
   ]
  },
  {
   "cell_type": "code",
   "execution_count": 122,
   "id": "ece4986b-5c9c-4722-8270-a86d94e19108",
   "metadata": {},
   "outputs": [
    {
     "data": {
      "text/html": [
       "<div>\n",
       "<style scoped>\n",
       "    .dataframe tbody tr th:only-of-type {\n",
       "        vertical-align: middle;\n",
       "    }\n",
       "\n",
       "    .dataframe tbody tr th {\n",
       "        vertical-align: top;\n",
       "    }\n",
       "\n",
       "    .dataframe thead th {\n",
       "        text-align: right;\n",
       "    }\n",
       "</style>\n",
       "<table border=\"1\" class=\"dataframe\">\n",
       "  <thead>\n",
       "    <tr style=\"text-align: right;\">\n",
       "      <th></th>\n",
       "      <th>acqdate</th>\n",
       "      <th>median</th>\n",
       "      <th>iqr</th>\n",
       "      <th>stdev</th>\n",
       "      <th>n</th>\n",
       "      <th>tum_depth</th>\n",
       "      <th>atl06-tum_diff</th>\n",
       "      <th>cdec_mean</th>\n",
       "      <th>atl06-cdec_mean</th>\n",
       "      <th>rmse_tum</th>\n",
       "      <th>mae_tum</th>\n",
       "      <th>snow_presence</th>\n",
       "    </tr>\n",
       "  </thead>\n",
       "  <tbody>\n",
       "    <tr>\n",
       "      <th>2019-04-10</th>\n",
       "      <td>2019-04-10</td>\n",
       "      <td>2.241086</td>\n",
       "      <td>1.199373</td>\n",
       "      <td>1.055368</td>\n",
       "      <td>1230</td>\n",
       "      <td>2.032</td>\n",
       "      <td>0.209086</td>\n",
       "      <td>NaN</td>\n",
       "      <td>NaN</td>\n",
       "      <td>1.083435</td>\n",
       "      <td>0.959879</td>\n",
       "      <td>1</td>\n",
       "    </tr>\n",
       "    <tr>\n",
       "      <th>2019-05-14</th>\n",
       "      <td>2019-05-14</td>\n",
       "      <td>1.020929</td>\n",
       "      <td>1.041129</td>\n",
       "      <td>0.996972</td>\n",
       "      <td>903</td>\n",
       "      <td>0.4064</td>\n",
       "      <td>0.614529</td>\n",
       "      <td>0.7747</td>\n",
       "      <td>0.246229</td>\n",
       "      <td>1.239992</td>\n",
       "      <td>1.615722</td>\n",
       "      <td>1</td>\n",
       "    </tr>\n",
       "    <tr>\n",
       "      <th>2019-07-09</th>\n",
       "      <td>2019-07-09</td>\n",
       "      <td>0.076921</td>\n",
       "      <td>0.60883</td>\n",
       "      <td>0.553336</td>\n",
       "      <td>123</td>\n",
       "      <td>0.0</td>\n",
       "      <td>0.076921</td>\n",
       "      <td>NaN</td>\n",
       "      <td>NaN</td>\n",
       "      <td>0.568982</td>\n",
       "      <td>0.617569</td>\n",
       "      <td>0</td>\n",
       "    </tr>\n",
       "    <tr>\n",
       "      <th>2019-12-11</th>\n",
       "      <td>2019-12-11</td>\n",
       "      <td>0.366468</td>\n",
       "      <td>0.732479</td>\n",
       "      <td>0.771137</td>\n",
       "      <td>131</td>\n",
       "      <td>0.7112</td>\n",
       "      <td>-0.344732</td>\n",
       "      <td>NaN</td>\n",
       "      <td>NaN</td>\n",
       "      <td>0.857708</td>\n",
       "      <td>1.056661</td>\n",
       "      <td>1</td>\n",
       "    </tr>\n",
       "    <tr>\n",
       "      <th>2020-01-07</th>\n",
       "      <td>2020-01-07</td>\n",
       "      <td>0.584082</td>\n",
       "      <td>0.664475</td>\n",
       "      <td>0.691107</td>\n",
       "      <td>1752</td>\n",
       "      <td>0.6858</td>\n",
       "      <td>-0.101718</td>\n",
       "      <td>NaN</td>\n",
       "      <td>NaN</td>\n",
       "      <td>0.696081</td>\n",
       "      <td>0.913841</td>\n",
       "      <td>1</td>\n",
       "    </tr>\n",
       "  </tbody>\n",
       "</table>\n",
       "</div>"
      ],
      "text/plain": [
       "               acqdate    median       iqr     stdev     n tum_depth  \\\n",
       "2019-04-10  2019-04-10  2.241086  1.199373  1.055368  1230     2.032   \n",
       "2019-05-14  2019-05-14  1.020929  1.041129  0.996972   903    0.4064   \n",
       "2019-07-09  2019-07-09  0.076921   0.60883  0.553336   123       0.0   \n",
       "2019-12-11  2019-12-11  0.366468  0.732479  0.771137   131    0.7112   \n",
       "2020-01-07  2020-01-07  0.584082  0.664475  0.691107  1752    0.6858   \n",
       "\n",
       "           atl06-tum_diff cdec_mean atl06-cdec_mean  rmse_tum   mae_tum  \\\n",
       "2019-04-10       0.209086       NaN             NaN  1.083435  0.959879   \n",
       "2019-05-14       0.614529    0.7747        0.246229  1.239992  1.615722   \n",
       "2019-07-09       0.076921       NaN             NaN  0.568982  0.617569   \n",
       "2019-12-11      -0.344732       NaN             NaN  0.857708  1.056661   \n",
       "2020-01-07      -0.101718       NaN             NaN  0.696081  0.913841   \n",
       "\n",
       "            snow_presence  \n",
       "2019-04-10              1  \n",
       "2019-05-14              1  \n",
       "2019-07-09              0  \n",
       "2019-12-11              1  \n",
       "2020-01-07              1  "
      ]
     },
     "execution_count": 122,
     "metadata": {},
     "output_type": "execute_result"
    }
   ],
   "source": [
    "comp_tumradius.head()"
   ]
  },
  {
   "cell_type": "code",
   "execution_count": 117,
   "id": "0b4c47d8-aa6c-4fc6-bc7f-f3dc049b5530",
   "metadata": {
    "tags": []
   },
   "outputs": [],
   "source": [
    "comp_danradius = make_comparison_table(atl06sr_gdf_inner.loc[atl06sr_gdf_inner.within(cdec_geom.loc[3, 'geometry'])])"
   ]
  },
  {
   "cell_type": "code",
   "execution_count": 118,
   "id": "0f75d98b-d069-4544-9464-ac1d554fe26e",
   "metadata": {},
   "outputs": [],
   "source": [
    "comp_danradius = comp_danradius.drop(columns=['tum_depth', 'atl06-tum_diff','rmse_tum', 'mae_tum'])"
   ]
  },
  {
   "cell_type": "code",
   "execution_count": 119,
   "id": "b35f667f-353e-4f91-8592-4fbcb58e86c2",
   "metadata": {},
   "outputs": [
    {
     "data": {
      "text/html": [
       "<div>\n",
       "<style scoped>\n",
       "    .dataframe tbody tr th:only-of-type {\n",
       "        vertical-align: middle;\n",
       "    }\n",
       "\n",
       "    .dataframe tbody tr th {\n",
       "        vertical-align: top;\n",
       "    }\n",
       "\n",
       "    .dataframe thead th {\n",
       "        text-align: right;\n",
       "    }\n",
       "</style>\n",
       "<table border=\"1\" class=\"dataframe\">\n",
       "  <thead>\n",
       "    <tr style=\"text-align: right;\">\n",
       "      <th></th>\n",
       "      <th>acqdate</th>\n",
       "      <th>median</th>\n",
       "      <th>iqr</th>\n",
       "      <th>stdev</th>\n",
       "      <th>n</th>\n",
       "      <th>dan_depth</th>\n",
       "      <th>atl06-dan_diff</th>\n",
       "      <th>cdec_mean</th>\n",
       "      <th>atl06-cdec_mean</th>\n",
       "      <th>rmse_dan</th>\n",
       "      <th>mae_dan</th>\n",
       "      <th>snow_presence</th>\n",
       "    </tr>\n",
       "  </thead>\n",
       "  <tbody>\n",
       "    <tr>\n",
       "      <th>2019-07-09</th>\n",
       "      <td>2019-07-09</td>\n",
       "      <td>-0.119576</td>\n",
       "      <td>0.348135</td>\n",
       "      <td>0.40716</td>\n",
       "      <td>67</td>\n",
       "      <td>NaN</td>\n",
       "      <td>NaN</td>\n",
       "      <td>NaN</td>\n",
       "      <td>NaN</td>\n",
       "      <td>0.000000</td>\n",
       "      <td>NaN</td>\n",
       "      <td>0</td>\n",
       "    </tr>\n",
       "    <tr>\n",
       "      <th>2019-12-11</th>\n",
       "      <td>2019-12-11</td>\n",
       "      <td>0.523721</td>\n",
       "      <td>1.229906</td>\n",
       "      <td>1.179557</td>\n",
       "      <td>1301</td>\n",
       "      <td>NaN</td>\n",
       "      <td>NaN</td>\n",
       "      <td>NaN</td>\n",
       "      <td>NaN</td>\n",
       "      <td>0.000000</td>\n",
       "      <td>NaN</td>\n",
       "      <td>1</td>\n",
       "    </tr>\n",
       "    <tr>\n",
       "      <th>2020-02-11</th>\n",
       "      <td>2020-02-11</td>\n",
       "      <td>0.71288</td>\n",
       "      <td>0.730012</td>\n",
       "      <td>0.697149</td>\n",
       "      <td>487</td>\n",
       "      <td>NaN</td>\n",
       "      <td>NaN</td>\n",
       "      <td>NaN</td>\n",
       "      <td>NaN</td>\n",
       "      <td>0.000000</td>\n",
       "      <td>NaN</td>\n",
       "      <td>1</td>\n",
       "    </tr>\n",
       "    <tr>\n",
       "      <th>2020-10-06</th>\n",
       "      <td>2020-10-06</td>\n",
       "      <td>-0.122425</td>\n",
       "      <td>0.417504</td>\n",
       "      <td>0.363563</td>\n",
       "      <td>26</td>\n",
       "      <td>0.0</td>\n",
       "      <td>-0.122425</td>\n",
       "      <td>0.0</td>\n",
       "      <td>-0.122425</td>\n",
       "      <td>0.367988</td>\n",
       "      <td>0.465007</td>\n",
       "      <td>0</td>\n",
       "    </tr>\n",
       "    <tr>\n",
       "      <th>2020-12-08</th>\n",
       "      <td>2020-12-08</td>\n",
       "      <td>0.734616</td>\n",
       "      <td>2.095692</td>\n",
       "      <td>1.638803</td>\n",
       "      <td>180</td>\n",
       "      <td>0.3556</td>\n",
       "      <td>0.379016</td>\n",
       "      <td>0.3048</td>\n",
       "      <td>0.429816</td>\n",
       "      <td>1.694200</td>\n",
       "      <td>1.348152</td>\n",
       "      <td>1</td>\n",
       "    </tr>\n",
       "  </tbody>\n",
       "</table>\n",
       "</div>"
      ],
      "text/plain": [
       "               acqdate    median       iqr     stdev     n dan_depth  \\\n",
       "2019-07-09  2019-07-09 -0.119576  0.348135   0.40716    67       NaN   \n",
       "2019-12-11  2019-12-11  0.523721  1.229906  1.179557  1301       NaN   \n",
       "2020-02-11  2020-02-11   0.71288  0.730012  0.697149   487       NaN   \n",
       "2020-10-06  2020-10-06 -0.122425  0.417504  0.363563    26       0.0   \n",
       "2020-12-08  2020-12-08  0.734616  2.095692  1.638803   180    0.3556   \n",
       "\n",
       "           atl06-dan_diff cdec_mean atl06-cdec_mean  rmse_dan   mae_dan  \\\n",
       "2019-07-09            NaN       NaN             NaN  0.000000       NaN   \n",
       "2019-12-11            NaN       NaN             NaN  0.000000       NaN   \n",
       "2020-02-11            NaN       NaN             NaN  0.000000       NaN   \n",
       "2020-10-06      -0.122425       0.0       -0.122425  0.367988  0.465007   \n",
       "2020-12-08       0.379016    0.3048        0.429816  1.694200  1.348152   \n",
       "\n",
       "            snow_presence  \n",
       "2019-07-09              0  \n",
       "2019-12-11              1  \n",
       "2020-02-11              1  \n",
       "2020-10-06              0  \n",
       "2020-12-08              1  "
      ]
     },
     "execution_count": 119,
     "metadata": {},
     "output_type": "execute_result"
    }
   ],
   "source": [
    "comp_danradius.head()"
   ]
  },
  {
   "cell_type": "code",
   "execution_count": 171,
   "id": "8060bf3f-bb3c-4c53-a2ce-82d65a5514b8",
   "metadata": {},
   "outputs": [],
   "source": [
    "#comp_tumradius.to_csv('../../figures/comp_tumradius.csv')\n",
    "#comp_danradius.to_csv('../../figures/comp_danradius.csv')"
   ]
  },
  {
   "cell_type": "markdown",
   "id": "6624ecec-7744-4383-abc6-c407b28a4305",
   "metadata": {},
   "source": [
    "### Calculate some summary statistics:"
   ]
  },
  {
   "cell_type": "code",
   "execution_count": 123,
   "id": "8cc2ac0b-a8de-49d4-83ee-126c39c12890",
   "metadata": {},
   "outputs": [
    {
     "data": {
      "text/plain": [
       "-0.05681480213358148"
      ]
     },
     "execution_count": 123,
     "metadata": {},
     "output_type": "execute_result"
    }
   ],
   "source": [
    "np.nanmedian(comp_tumradius[comp_tumradius['snow_presence']==1]['atl06-tum_diff'])"
   ]
  },
  {
   "cell_type": "code",
   "execution_count": 126,
   "id": "04123612-b135-4bf5-846c-93c6580ecf22",
   "metadata": {},
   "outputs": [
    {
     "data": {
      "text/plain": [
       "-0.556679442057542"
      ]
     },
     "execution_count": 126,
     "metadata": {},
     "output_type": "execute_result"
    }
   ],
   "source": [
    "np.nanmedian(comp_danradius[comp_danradius['snow_presence']==1]['atl06-dan_diff'])"
   ]
  },
  {
   "cell_type": "markdown",
   "id": "64356226-d6a8-4e66-a7be-d33ee14028a3",
   "metadata": {},
   "source": [
    "### Summary statistics for snow-on data only:"
   ]
  },
  {
   "cell_type": "code",
   "execution_count": 127,
   "id": "3b0a2df8-9fe1-402c-84a8-2fe5b2eb1205",
   "metadata": {},
   "outputs": [
    {
     "name": "stdout",
     "output_type": "stream",
     "text": [
      "iqr median = 1.2010838174510354\n",
      "atl06-tum_diff median = -0.03384996259750947\n",
      "atl06-dan_diff median = -0.4425697147877934\n",
      "stdev median = 1.172449259999682\n",
      "iqr median = 0.7208514836236191\n",
      "atl06-tum_diff median = -0.05681480213358148\n",
      "stdev median = 0.729868021524552\n",
      "atl06-dan_diff median = -0.556679442057542\n",
      "iqr median = 0.7300124863284054\n",
      "stdev median = 0.697148886724722\n"
     ]
    }
   ],
   "source": [
    "for data in [(comp_df[comp_df['snow_presence']==1]['iqr']), \n",
    "             comp_df[comp_df['snow_presence']==1]['atl06-tum_diff'], \\\n",
    "             #comp_df[comp_df['snow_presence']==1]['atl06-tum_percent'], \n",
    "             comp_df[comp_df['snow_presence']==1]['atl06-dan_diff'], \\\n",
    "            #comp_df[comp_df['snow_presence']==1]['atl06-dan_percent'], \n",
    "             comp_df[comp_df['snow_presence']==1]['stdev'],\n",
    "             comp_tumradius[comp_tumradius['snow_presence']==1]['iqr'], \\\n",
    "            comp_tumradius[comp_tumradius['snow_presence']==1]['atl06-tum_diff'], \n",
    "             #comp_tumradius[comp_tumradius['snow_presence']==1]['atl06-tum_percent'], \\\n",
    "             comp_tumradius[comp_tumradius['snow_presence']==1]['stdev'],\n",
    "            comp_danradius[comp_danradius['snow_presence']==1]['atl06-dan_diff'], \n",
    "             #comp_danradius[comp_danradius['snow_presence']==1]['atl06-dan_percent'], \\\n",
    "            comp_danradius[comp_danradius['snow_presence']==1]['iqr'],\n",
    "            comp_danradius[comp_danradius['snow_presence']==1]['stdev']]:\n",
    "    print(f'{data.name}', 'median =', np.nanmedian(data))"
   ]
  },
  {
   "cell_type": "markdown",
   "id": "8643c43b-ac32-4c01-b133-c7a56d1f86a9",
   "metadata": {},
   "source": [
    "### Summary statistics for all data:"
   ]
  },
  {
   "cell_type": "code",
   "execution_count": 131,
   "id": "8dbec317-058a-429d-b279-3e3051eab2ea",
   "metadata": {},
   "outputs": [
    {
     "name": "stdout",
     "output_type": "stream",
     "text": [
      "iqr median = 1.1593251798681194\n",
      "atl06-tum_diff median = -0.08500185489592074\n",
      "atl06-dan_diff median = -0.14402061446150038\n",
      "iqr median = 0.6786580680276302\n",
      "atl06-tum_diff median = -0.10171760850565148\n",
      "atl06-dan_diff median = -0.25452962857525563\n",
      "iqr median = 0.7254105066040211\n"
     ]
    }
   ],
   "source": [
    "for data in [comp_df['iqr'], \n",
    "             comp_df['atl06-tum_diff'],  \n",
    "             comp_df['atl06-dan_diff'],  \n",
    "             comp_tumradius['iqr'], \n",
    "            comp_tumradius['atl06-tum_diff'], \n",
    "            comp_danradius['atl06-dan_diff'], \n",
    "            comp_danradius['iqr']]:\n",
    "    print(f'{data.name}', 'median =', np.nanmedian(data))"
   ]
  },
  {
   "cell_type": "markdown",
   "id": "fd60dbf9-4b8e-4b90-b6a3-47fadb9649ad",
   "metadata": {},
   "source": [
    "## RMSE Within Radius"
   ]
  },
  {
   "cell_type": "code",
   "execution_count": 132,
   "id": "bb52ed07-4a13-4639-b988-c93f5a0b8466",
   "metadata": {},
   "outputs": [
    {
     "name": "stdout",
     "output_type": "stream",
     "text": [
      "Radius RMSE tum: 0.23982400649366345\n"
     ]
    }
   ],
   "source": [
    "squared_dif = np.sum((comp_tumradius['median'] - comp_tumradius['tum_depth'])**2)\n",
    "rmse_radius_tum = np.sqrt(squared_dif/comp_tumradius['tum_depth'].count())\n",
    "print('Radius RMSE tum:', rmse_radius_tum)"
   ]
  },
  {
   "cell_type": "code",
   "execution_count": 133,
   "id": "074c40ab-40dd-4469-8e3a-9416372dc542",
   "metadata": {},
   "outputs": [
    {
     "name": "stdout",
     "output_type": "stream",
     "text": [
      "Radius RMSE snow on tum: 0.28231251058340195\n"
     ]
    }
   ],
   "source": [
    "squared_dif = np.sum((comp_tumradius.loc[comp_tumradius['snow_presence']==1,'median'] - comp_tumradius.loc[comp_tumradius['snow_presence']==1,'tum_depth'])**2)\n",
    "rmse_radius_snowon_tum = np.sqrt(squared_dif/comp_tumradius.loc[comp_tumradius['snow_presence']==1,'tum_depth'].count())\n",
    "print('Radius RMSE snow on tum:', rmse_radius_snowon_tum)"
   ]
  },
  {
   "cell_type": "code",
   "execution_count": 134,
   "id": "749b2f5f-d83c-41a2-bcb2-cb13a2167cea",
   "metadata": {},
   "outputs": [
    {
     "name": "stdout",
     "output_type": "stream",
     "text": [
      "Radius RMSE dan: 0.581403239479639\n"
     ]
    }
   ],
   "source": [
    "squared_dif = np.sum((comp_danradius['median'] - comp_danradius['dan_depth'])**2)\n",
    "rmse_radius_dan = np.sqrt(squared_dif/comp_danradius['dan_depth'].count())\n",
    "print('Radius RMSE dan:', rmse_radius_dan)"
   ]
  },
  {
   "cell_type": "code",
   "execution_count": 135,
   "id": "1880e325-0c5f-417c-8fd5-db52b780d843",
   "metadata": {},
   "outputs": [
    {
     "name": "stdout",
     "output_type": "stream",
     "text": [
      "Radius RMSE snow on dan: 0.6205409137170795\n"
     ]
    }
   ],
   "source": [
    "squared_dif = np.sum((comp_danradius.loc[comp_danradius['snow_presence']==1,'median'] - comp_danradius.loc[comp_danradius['snow_presence']==1,'dan_depth'])**2)\n",
    "rmse_radius_snowon_dan = np.sqrt(squared_dif/comp_danradius.loc[comp_danradius['snow_presence']==1,'dan_depth'].count())\n",
    "print('Radius RMSE snow on dan:', rmse_radius_snowon_dan)"
   ]
  },
  {
   "cell_type": "markdown",
   "id": "7a5db559-81fa-440c-be2e-8f66c4e6a01a",
   "metadata": {},
   "source": [
    "## MAE Within Radius"
   ]
  },
  {
   "cell_type": "code",
   "execution_count": 136,
   "id": "8233dc9e-2ddf-4dc8-af1a-e467c454de16",
   "metadata": {},
   "outputs": [
    {
     "name": "stdout",
     "output_type": "stream",
     "text": [
      "Radius MAE tum: 0.19945624423543973\n"
     ]
    }
   ],
   "source": [
    "abs_dif_sum = np.sum(abs(comp_tumradius['median'] - comp_tumradius['tum_depth']))\n",
    "mae_radius_tum = abs_dif_sum/comp_tumradius['tum_depth'].count()\n",
    "print('Radius MAE tum:', mae_radius_tum)"
   ]
  },
  {
   "cell_type": "code",
   "execution_count": 137,
   "id": "d3ddac75-21ea-4660-988b-150e0f61d56b",
   "metadata": {},
   "outputs": [
    {
     "name": "stdout",
     "output_type": "stream",
     "text": [
      "Radius MAE dan: 0.4878368270539393\n"
     ]
    }
   ],
   "source": [
    "abs_dif_sum = np.sum(abs(comp_danradius['median'] - comp_danradius['dan_depth']))\n",
    "mae_radius_dan = abs_dif_sum/comp_danradius['dan_depth'].count()\n",
    "print('Radius MAE dan:', mae_radius_dan)"
   ]
  },
  {
   "cell_type": "code",
   "execution_count": 141,
   "id": "669fb32e-5edd-48e3-91b0-2fd7c57cc813",
   "metadata": {},
   "outputs": [
    {
     "name": "stderr",
     "output_type": "stream",
     "text": [
      "/Users/Hannah/micromamba/envs/analysis_2023/lib/python3.9/site-packages/numpy/lib/histograms.py:824: RuntimeWarning: invalid value encountered in greater_equal\n",
      "  keep = (tmp_a >= first_edge)\n",
      "/Users/Hannah/micromamba/envs/analysis_2023/lib/python3.9/site-packages/numpy/lib/histograms.py:825: RuntimeWarning: invalid value encountered in less_equal\n",
      "  keep &= (tmp_a <= last_edge)\n"
     ]
    },
    {
     "data": {
      "text/plain": [
       "<matplotlib.legend.Legend at 0x15319d0a0>"
      ]
     },
     "execution_count": 141,
     "metadata": {},
     "output_type": "execute_result"
    },
    {
     "data": {
      "image/png": "[encoded data removed]",
      "text/plain": [
       "<Figure size 640x480 with 1 Axes>"
      ]
     },
     "metadata": {},
     "output_type": "display_data"
    }
   ],
   "source": [
    "fig, ax = plt.subplots()\n",
    "plt.hist(comp_df['atl06-tum_diff'], bins=round(np.sqrt(len(comp_df))), label='tum', alpha=0.5, color='cornflowerblue')\n",
    "plt.hist(comp_df['atl06-dan_diff'], bins=round(np.sqrt(len(comp_df))), label='dan', alpha=0.5, color='orange')\n",
    "plt.vlines(x=0, ymin=0, ymax=32, color='k')\n",
    "plt.xlabel('median difference from cdec (m)')\n",
    "#plt.ylabel('difference between \\nATL06SR and CDEC')\n",
    "plt.legend()"
   ]
  }
 ],
 "metadata": {
  "kernelspec": {
   "display_name": "Python 3 (ipykernel)",
   "language": "python",
   "name": "python3"
  },
  "language_info": {
   "codemirror_mode": {
    "name": "ipython",
    "version": 3
   },
   "file_extension": ".py",
   "mimetype": "text/x-python",
   "name": "python",
   "nbconvert_exporter": "python",
   "pygments_lexer": "ipython3",
   "version": "3.9.16"
  }
 },
 "nbformat": 4,
 "nbformat_minor": 5
}
