{
 "cells": [
  {
   "cell_type": "markdown",
   "id": "69668327-49b4-484b-a980-07fb4057e32b",
   "metadata": {},
   "source": [
    "# Sample DEMs at ATL06SR Point Locations\n",
    "\n",
    "#### Steps:\n",
    "* Sample various rasters at various resolutions (3m, 20m, 100m) at each ATL06SR point: snow-off DTM and slope maps"
   ]
  },
  {
   "cell_type": "code",
   "execution_count": 1,
   "id": "4e132d4e-0a68-4b91-b960-2e64acb18d5f",
   "metadata": {},
   "outputs": [
    {
     "data": {
      "application/javascript": [
       "(function(root) {\n",
       "  function now() {\n",
       "    return new Date();\n",
       "  }\n",
       "\n",
       "  var force = true;\n",
       "  var py_version = '3.1.1'.replace('rc', '-rc.').replace('.dev', '-dev.');\n",
       "  var is_dev = py_version.indexOf(\"+\") !== -1 || py_version.indexOf(\"-\") !== -1;\n",
       "  var reloading = false;\n",
       "  var Bokeh = root.Bokeh;\n",
       "  var bokeh_loaded = Bokeh != null && (Bokeh.version === py_version || (Bokeh.versions !== undefined && Bokeh.versions.has(py_version)));\n",
       "\n",
       "  if (typeof (root._bokeh_timeout) === \"undefined\" || force) {\n",
       "    root._bokeh_timeout = Date.now() + 5000;\n",
       "    root._bokeh_failed_load = false;\n",
       "  }\n",
       "\n",
       "  function run_callbacks() {\n",
       "    try {\n",
       "      root._bokeh_onload_callbacks.forEach(function(callback) {\n",
       "        if (callback != null)\n",
       "          callback();\n",
       "      });\n",
       "    } finally {\n",
       "      delete root._bokeh_onload_callbacks;\n",
       "    }\n",
       "    console.debug(\"Bokeh: all callbacks have finished\");\n",
       "  }\n",
       "\n",
       "  function load_libs(css_urls, js_urls, js_modules, js_exports, callback) {\n",
       "    if (css_urls == null) css_urls = [];\n",
       "    if (js_urls == null) js_urls = [];\n",
       "    if (js_modules == null) js_modules = [];\n",
       "    if (js_exports == null) js_exports = {};\n",
       "\n",
       "    root._bokeh_onload_callbacks.push(callback);\n",
       "\n",
       "    if (root._bokeh_is_loading > 0) {\n",
       "      console.debug(\"Bokeh: BokehJS is being loaded, scheduling callback at\", now());\n",
       "      return null;\n",
       "    }\n",
       "    if (js_urls.length === 0 && js_modules.length === 0 && Object.keys(js_exports).length === 0) {\n",
       "      run_callbacks();\n",
       "      return null;\n",
       "    }\n",
       "    if (!reloading) {\n",
       "      console.debug(\"Bokeh: BokehJS not loaded, scheduling load and callback at\", now());\n",
       "    }\n",
       "\n",
       "    function on_load() {\n",
       "      root._bokeh_is_loading--;\n",
       "      if (root._bokeh_is_loading === 0) {\n",
       "        console.debug(\"Bokeh: all BokehJS libraries/stylesheets loaded\");\n",
       "        run_callbacks()\n",
       "      }\n",
       "    }\n",
       "    window._bokeh_on_load = on_load\n",
       "\n",
       "    function on_error() {\n",
       "      console.error(\"failed to load \" + url);\n",
       "    }\n",
       "\n",
       "    var skip = [];\n",
       "    if (window.requirejs) {\n",
       "      window.requirejs.config({'packages': {}, 'paths': {'jspanel': 'https://cdn.jsdelivr.net/npm/jspanel4@4.12.0/dist/jspanel', 'jspanel-modal': 'https://cdn.jsdelivr.net/npm/jspanel4@4.12.0/dist/extensions/modal/jspanel.modal', 'jspanel-tooltip': 'https://cdn.jsdelivr.net/npm/jspanel4@4.12.0/dist/extensions/tooltip/jspanel.tooltip', 'jspanel-hint': 'https://cdn.jsdelivr.net/npm/jspanel4@4.12.0/dist/extensions/hint/jspanel.hint', 'jspanel-layout': 'https://cdn.jsdelivr.net/npm/jspanel4@4.12.0/dist/extensions/layout/jspanel.layout', 'jspanel-contextmenu': 'https://cdn.jsdelivr.net/npm/jspanel4@4.12.0/dist/extensions/contextmenu/jspanel.contextmenu', 'jspanel-dock': 'https://cdn.jsdelivr.net/npm/jspanel4@4.12.0/dist/extensions/dock/jspanel.dock', 'gridstack': 'https://cdn.jsdelivr.net/npm/gridstack@7.2.3/dist/gridstack-all', 'notyf': 'https://cdn.jsdelivr.net/npm/notyf@3/notyf.min'}, 'shim': {'jspanel': {'exports': 'jsPanel'}, 'gridstack': {'exports': 'GridStack'}}});\n",
       "      require([\"jspanel\"], function(jsPanel) {\n",
       "\twindow.jsPanel = jsPanel\n",
       "\ton_load()\n",
       "      })\n",
       "      require([\"jspanel-modal\"], function() {\n",
       "\ton_load()\n",
       "      })\n",
       "      require([\"jspanel-tooltip\"], function() {\n",
       "\ton_load()\n",
       "      })\n",
       "      require([\"jspanel-hint\"], function() {\n",
       "\ton_load()\n",
       "      })\n",
       "      require([\"jspanel-layout\"], function() {\n",
       "\ton_load()\n",
       "      })\n",
       "      require([\"jspanel-contextmenu\"], function() {\n",
       "\ton_load()\n",
       "      })\n",
       "      require([\"jspanel-dock\"], function() {\n",
       "\ton_load()\n",
       "      })\n",
       "      require([\"gridstack\"], function(GridStack) {\n",
       "\twindow.GridStack = GridStack\n",
       "\ton_load()\n",
       "      })\n",
       "      require([\"notyf\"], function() {\n",
       "\ton_load()\n",
       "      })\n",
       "      root._bokeh_is_loading = css_urls.length + 9;\n",
       "    } else {\n",
       "      root._bokeh_is_loading = css_urls.length + js_urls.length + js_modules.length + Object.keys(js_exports).length;\n",
       "    }\n",
       "\n",
       "    var existing_stylesheets = []\n",
       "    var links = document.getElementsByTagName('link')\n",
       "    for (var i = 0; i < links.length; i++) {\n",
       "      var link = links[i]\n",
       "      if (link.href != null) {\n",
       "\texisting_stylesheets.push(link.href)\n",
       "      }\n",
       "    }\n",
       "    for (var i = 0; i < css_urls.length; i++) {\n",
       "      var url = css_urls[i];\n",
       "      if (existing_stylesheets.indexOf(url) !== -1) {\n",
       "\ton_load()\n",
       "\tcontinue;\n",
       "      }\n",
       "      const element = document.createElement(\"link\");\n",
       "      element.onload = on_load;\n",
       "      element.onerror = on_error;\n",
       "      element.rel = \"stylesheet\";\n",
       "      element.type = \"text/css\";\n",
       "      element.href = url;\n",
       "      console.debug(\"Bokeh: injecting link tag for BokehJS stylesheet: \", url);\n",
       "      document.body.appendChild(element);\n",
       "    }    if (((window['jsPanel'] !== undefined) && (!(window['jsPanel'] instanceof HTMLElement))) || window.requirejs) {\n",
       "      var urls = ['https://cdn.holoviz.org/panel/1.1.1/dist/bundled/floatpanel/jspanel4@4.12.0/dist/jspanel.js', 'https://cdn.holoviz.org/panel/1.1.1/dist/bundled/floatpanel/jspanel4@4.12.0/dist/extensions/modal/jspanel.modal.js', 'https://cdn.holoviz.org/panel/1.1.1/dist/bundled/floatpanel/jspanel4@4.12.0/dist/extensions/tooltip/jspanel.tooltip.js', 'https://cdn.holoviz.org/panel/1.1.1/dist/bundled/floatpanel/jspanel4@4.12.0/dist/extensions/hint/jspanel.hint.js', 'https://cdn.holoviz.org/panel/1.1.1/dist/bundled/floatpanel/jspanel4@4.12.0/dist/extensions/layout/jspanel.layout.js', 'https://cdn.holoviz.org/panel/1.1.1/dist/bundled/floatpanel/jspanel4@4.12.0/dist/extensions/contextmenu/jspanel.contextmenu.js', 'https://cdn.holoviz.org/panel/1.1.1/dist/bundled/floatpanel/jspanel4@4.12.0/dist/extensions/dock/jspanel.dock.js'];\n",
       "      for (var i = 0; i < urls.length; i++) {\n",
       "        skip.push(urls[i])\n",
       "      }\n",
       "    }    if (((window['GridStack'] !== undefined) && (!(window['GridStack'] instanceof HTMLElement))) || window.requirejs) {\n",
       "      var urls = ['https://cdn.holoviz.org/panel/1.1.1/dist/bundled/gridstack/gridstack@7.2.3/dist/gridstack-all.js'];\n",
       "      for (var i = 0; i < urls.length; i++) {\n",
       "        skip.push(urls[i])\n",
       "      }\n",
       "    }    if (((window['Notyf'] !== undefined) && (!(window['Notyf'] instanceof HTMLElement))) || window.requirejs) {\n",
       "      var urls = ['https://cdn.holoviz.org/panel/1.1.1/dist/bundled/notificationarea/notyf@3/notyf.min.js'];\n",
       "      for (var i = 0; i < urls.length; i++) {\n",
       "        skip.push(urls[i])\n",
       "      }\n",
       "    }    var existing_scripts = []\n",
       "    var scripts = document.getElementsByTagName('script')\n",
       "    for (var i = 0; i < scripts.length; i++) {\n",
       "      var script = scripts[i]\n",
       "      if (script.src != null) {\n",
       "\texisting_scripts.push(script.src)\n",
       "      }\n",
       "    }\n",
       "    for (var i = 0; i < js_urls.length; i++) {\n",
       "      var url = js_urls[i];\n",
       "      if (skip.indexOf(url) !== -1 || existing_scripts.indexOf(url) !== -1) {\n",
       "\tif (!window.requirejs) {\n",
       "\t  on_load();\n",
       "\t}\n",
       "\tcontinue;\n",
       "      }\n",
       "      var element = document.createElement('script');\n",
       "      element.onload = on_load;\n",
       "      element.onerror = on_error;\n",
       "      element.async = false;\n",
       "      element.src = url;\n",
       "      console.debug(\"Bokeh: injecting script tag for BokehJS library: \", url);\n",
       "      document.head.appendChild(element);\n",
       "    }\n",
       "    for (var i = 0; i < js_modules.length; i++) {\n",
       "      var url = js_modules[i];\n",
       "      if (skip.indexOf(url) !== -1 || existing_scripts.indexOf(url) !== -1) {\n",
       "\tif (!window.requirejs) {\n",
       "\t  on_load();\n",
       "\t}\n",
       "\tcontinue;\n",
       "      }\n",
       "      var element = document.createElement('script');\n",
       "      element.onload = on_load;\n",
       "      element.onerror = on_error;\n",
       "      element.async = false;\n",
       "      element.src = url;\n",
       "      element.type = \"module\";\n",
       "      console.debug(\"Bokeh: injecting script tag for BokehJS library: \", url);\n",
       "      document.head.appendChild(element);\n",
       "    }\n",
       "    for (const name in js_exports) {\n",
       "      var url = js_exports[name];\n",
       "      if (skip.indexOf(url) >= 0 || root[name] != null) {\n",
       "\tif (!window.requirejs) {\n",
       "\t  on_load();\n",
       "\t}\n",
       "\tcontinue;\n",
       "      }\n",
       "      var element = document.createElement('script');\n",
       "      element.onerror = on_error;\n",
       "      element.async = false;\n",
       "      element.type = \"module\";\n",
       "      console.debug(\"Bokeh: injecting script tag for BokehJS library: \", url);\n",
       "      element.textContent = `\n",
       "      import ${name} from \"${url}\"\n",
       "      window.${name} = ${name}\n",
       "      window._bokeh_on_load()\n",
       "      `\n",
       "      document.head.appendChild(element);\n",
       "    }\n",
       "    if (!js_urls.length && !js_modules.length) {\n",
       "      on_load()\n",
       "    }\n",
       "  };\n",
       "\n",
       "  function inject_raw_css(css) {\n",
       "    const element = document.createElement(\"style\");\n",
       "    element.appendChild(document.createTextNode(css));\n",
       "    document.body.appendChild(element);\n",
       "  }\n",
       "\n",
       "  var js_urls = [\"https://cdn.bokeh.org/bokeh/release/bokeh-3.1.1.min.js\", \"https://cdn.bokeh.org/bokeh/release/bokeh-gl-3.1.1.min.js\", \"https://cdn.bokeh.org/bokeh/release/bokeh-widgets-3.1.1.min.js\", \"https://cdn.bokeh.org/bokeh/release/bokeh-tables-3.1.1.min.js\", \"https://cdn.holoviz.org/panel/1.1.1/dist/panel.min.js\"];\n",
       "  var js_modules = [];\n",
       "  var js_exports = {};\n",
       "  var css_urls = [];\n",
       "  var inline_js = [    function(Bokeh) {\n",
       "      Bokeh.set_log_level(\"info\");\n",
       "    },\n",
       "function(Bokeh) {} // ensure no trailing comma for IE\n",
       "  ];\n",
       "\n",
       "  function run_inline_js() {\n",
       "    if ((root.Bokeh !== undefined) || (force === true)) {\n",
       "      for (var i = 0; i < inline_js.length; i++) {\n",
       "        inline_js[i].call(root, root.Bokeh);\n",
       "      }\n",
       "      // Cache old bokeh versions\n",
       "      if (Bokeh != undefined && !reloading) {\n",
       "\tvar NewBokeh = root.Bokeh;\n",
       "\tif (Bokeh.versions === undefined) {\n",
       "\t  Bokeh.versions = new Map();\n",
       "\t}\n",
       "\tif (NewBokeh.version !== Bokeh.version) {\n",
       "\t  Bokeh.versions.set(NewBokeh.version, NewBokeh)\n",
       "\t}\n",
       "\troot.Bokeh = Bokeh;\n",
       "      }} else if (Date.now() < root._bokeh_timeout) {\n",
       "      setTimeout(run_inline_js, 100);\n",
       "    } else if (!root._bokeh_failed_load) {\n",
       "      console.log(\"Bokeh: BokehJS failed to load within specified timeout.\");\n",
       "      root._bokeh_failed_load = true;\n",
       "    }\n",
       "    root._bokeh_is_initializing = false\n",
       "  }\n",
       "\n",
       "  function load_or_wait() {\n",
       "    // Implement a backoff loop that tries to ensure we do not load multiple\n",
       "    // versions of Bokeh and its dependencies at the same time.\n",
       "    // In recent versions we use the root._bokeh_is_initializing flag\n",
       "    // to determine whether there is an ongoing attempt to initialize\n",
       "    // bokeh, however for backward compatibility we also try to ensure\n",
       "    // that we do not start loading a newer (Panel>=1.0 and Bokeh>3) version\n",
       "    // before older versions are fully initialized.\n",
       "    if (root._bokeh_is_initializing && Date.now() > root._bokeh_timeout) {\n",
       "      root._bokeh_is_initializing = false;\n",
       "      root._bokeh_onload_callbacks = undefined;\n",
       "      console.log(\"Bokeh: BokehJS was loaded multiple times but one version failed to initialize.\");\n",
       "      load_or_wait();\n",
       "    } else if (root._bokeh_is_initializing || (typeof root._bokeh_is_initializing === \"undefined\" && root._bokeh_onload_callbacks !== undefined)) {\n",
       "      setTimeout(load_or_wait, 100);\n",
       "    } else {\n",
       "      Bokeh = root.Bokeh;\n",
       "      bokeh_loaded = Bokeh != null && (Bokeh.version === py_version || (Bokeh.versions !== undefined && Bokeh.versions.has(py_version)));\n",
       "      root._bokeh_is_initializing = true\n",
       "      root._bokeh_onload_callbacks = []\n",
       "      if (!reloading && (!bokeh_loaded || is_dev)) {\n",
       "\troot.Bokeh = undefined;\n",
       "      }\n",
       "      load_libs(css_urls, js_urls, js_modules, js_exports, function() {\n",
       "\tconsole.debug(\"Bokeh: BokehJS plotting callback run at\", now());\n",
       "\trun_inline_js();\n",
       "      });\n",
       "    }\n",
       "  }\n",
       "  // Give older versions of the autoload script a head-start to ensure\n",
       "  // they initialize before we start loading newer version.\n",
       "  setTimeout(load_or_wait, 100)\n",
       "}(window));"
      ],
      "application/vnd.holoviews_load.v0+json": "(function(root) {\n  function now() {\n    return new Date();\n  }\n\n  var force = true;\n  var py_version = '3.1.1'.replace('rc', '-rc.').replace('.dev', '-dev.');\n  var is_dev = py_version.indexOf(\"+\") !== -1 || py_version.indexOf(\"-\") !== -1;\n  var reloading = false;\n  var Bokeh = root.Bokeh;\n  var bokeh_loaded = Bokeh != null && (Bokeh.version === py_version || (Bokeh.versions !== undefined && Bokeh.versions.has(py_version)));\n\n  if (typeof (root._bokeh_timeout) === \"undefined\" || force) {\n    root._bokeh_timeout = Date.now() + 5000;\n    root._bokeh_failed_load = false;\n  }\n\n  function run_callbacks() {\n    try {\n      root._bokeh_onload_callbacks.forEach(function(callback) {\n        if (callback != null)\n          callback();\n      });\n    } finally {\n      delete root._bokeh_onload_callbacks;\n    }\n    console.debug(\"Bokeh: all callbacks have finished\");\n  }\n\n  function load_libs(css_urls, js_urls, js_modules, js_exports, callback) {\n    if (css_urls == null) css_urls = [];\n    if (js_urls == null) js_urls = [];\n    if (js_modules == null) js_modules = [];\n    if (js_exports == null) js_exports = {};\n\n    root._bokeh_onload_callbacks.push(callback);\n\n    if (root._bokeh_is_loading > 0) {\n      console.debug(\"Bokeh: BokehJS is being loaded, scheduling callback at\", now());\n      return null;\n    }\n    if (js_urls.length === 0 && js_modules.length === 0 && Object.keys(js_exports).length === 0) {\n      run_callbacks();\n      return null;\n    }\n    if (!reloading) {\n      console.debug(\"Bokeh: BokehJS not loaded, scheduling load and callback at\", now());\n    }\n\n    function on_load() {\n      root._bokeh_is_loading--;\n      if (root._bokeh_is_loading === 0) {\n        console.debug(\"Bokeh: all BokehJS libraries/stylesheets loaded\");\n        run_callbacks()\n      }\n    }\n    window._bokeh_on_load = on_load\n\n    function on_error() {\n      console.error(\"failed to load \" + url);\n    }\n\n    var skip = [];\n    if (window.requirejs) {\n      window.requirejs.config({'packages': {}, 'paths': {'jspanel': 'https://cdn.jsdelivr.net/npm/jspanel4@4.12.0/dist/jspanel', 'jspanel-modal': 'https://cdn.jsdelivr.net/npm/jspanel4@4.12.0/dist/extensions/modal/jspanel.modal', 'jspanel-tooltip': 'https://cdn.jsdelivr.net/npm/jspanel4@4.12.0/dist/extensions/tooltip/jspanel.tooltip', 'jspanel-hint': 'https://cdn.jsdelivr.net/npm/jspanel4@4.12.0/dist/extensions/hint/jspanel.hint', 'jspanel-layout': 'https://cdn.jsdelivr.net/npm/jspanel4@4.12.0/dist/extensions/layout/jspanel.layout', 'jspanel-contextmenu': 'https://cdn.jsdelivr.net/npm/jspanel4@4.12.0/dist/extensions/contextmenu/jspanel.contextmenu', 'jspanel-dock': 'https://cdn.jsdelivr.net/npm/jspanel4@4.12.0/dist/extensions/dock/jspanel.dock', 'gridstack': 'https://cdn.jsdelivr.net/npm/gridstack@7.2.3/dist/gridstack-all', 'notyf': 'https://cdn.jsdelivr.net/npm/notyf@3/notyf.min'}, 'shim': {'jspanel': {'exports': 'jsPanel'}, 'gridstack': {'exports': 'GridStack'}}});\n      require([\"jspanel\"], function(jsPanel) {\n\twindow.jsPanel = jsPanel\n\ton_load()\n      })\n      require([\"jspanel-modal\"], function() {\n\ton_load()\n      })\n      require([\"jspanel-tooltip\"], function() {\n\ton_load()\n      })\n      require([\"jspanel-hint\"], function() {\n\ton_load()\n      })\n      require([\"jspanel-layout\"], function() {\n\ton_load()\n      })\n      require([\"jspanel-contextmenu\"], function() {\n\ton_load()\n      })\n      require([\"jspanel-dock\"], function() {\n\ton_load()\n      })\n      require([\"gridstack\"], function(GridStack) {\n\twindow.GridStack = GridStack\n\ton_load()\n      })\n      require([\"notyf\"], function() {\n\ton_load()\n      })\n      root._bokeh_is_loading = css_urls.length + 9;\n    } else {\n      root._bokeh_is_loading = css_urls.length + js_urls.length + js_modules.length + Object.keys(js_exports).length;\n    }\n\n    var existing_stylesheets = []\n    var links = document.getElementsByTagName('link')\n    for (var i = 0; i < links.length; i++) {\n      var link = links[i]\n      if (link.href != null) {\n\texisting_stylesheets.push(link.href)\n      }\n    }\n    for (var i = 0; i < css_urls.length; i++) {\n      var url = css_urls[i];\n      if (existing_stylesheets.indexOf(url) !== -1) {\n\ton_load()\n\tcontinue;\n      }\n      const element = document.createElement(\"link\");\n      element.onload = on_load;\n      element.onerror = on_error;\n      element.rel = \"stylesheet\";\n      element.type = \"text/css\";\n      element.href = url;\n      console.debug(\"Bokeh: injecting link tag for BokehJS stylesheet: \", url);\n      document.body.appendChild(element);\n    }    if (((window['jsPanel'] !== undefined) && (!(window['jsPanel'] instanceof HTMLElement))) || window.requirejs) {\n      var urls = ['https://cdn.holoviz.org/panel/1.1.1/dist/bundled/floatpanel/jspanel4@4.12.0/dist/jspanel.js', 'https://cdn.holoviz.org/panel/1.1.1/dist/bundled/floatpanel/jspanel4@4.12.0/dist/extensions/modal/jspanel.modal.js', 'https://cdn.holoviz.org/panel/1.1.1/dist/bundled/floatpanel/jspanel4@4.12.0/dist/extensions/tooltip/jspanel.tooltip.js', 'https://cdn.holoviz.org/panel/1.1.1/dist/bundled/floatpanel/jspanel4@4.12.0/dist/extensions/hint/jspanel.hint.js', 'https://cdn.holoviz.org/panel/1.1.1/dist/bundled/floatpanel/jspanel4@4.12.0/dist/extensions/layout/jspanel.layout.js', 'https://cdn.holoviz.org/panel/1.1.1/dist/bundled/floatpanel/jspanel4@4.12.0/dist/extensions/contextmenu/jspanel.contextmenu.js', 'https://cdn.holoviz.org/panel/1.1.1/dist/bundled/floatpanel/jspanel4@4.12.0/dist/extensions/dock/jspanel.dock.js'];\n      for (var i = 0; i < urls.length; i++) {\n        skip.push(urls[i])\n      }\n    }    if (((window['GridStack'] !== undefined) && (!(window['GridStack'] instanceof HTMLElement))) || window.requirejs) {\n      var urls = ['https://cdn.holoviz.org/panel/1.1.1/dist/bundled/gridstack/gridstack@7.2.3/dist/gridstack-all.js'];\n      for (var i = 0; i < urls.length; i++) {\n        skip.push(urls[i])\n      }\n    }    if (((window['Notyf'] !== undefined) && (!(window['Notyf'] instanceof HTMLElement))) || window.requirejs) {\n      var urls = ['https://cdn.holoviz.org/panel/1.1.1/dist/bundled/notificationarea/notyf@3/notyf.min.js'];\n      for (var i = 0; i < urls.length; i++) {\n        skip.push(urls[i])\n      }\n    }    var existing_scripts = []\n    var scripts = document.getElementsByTagName('script')\n    for (var i = 0; i < scripts.length; i++) {\n      var script = scripts[i]\n      if (script.src != null) {\n\texisting_scripts.push(script.src)\n      }\n    }\n    for (var i = 0; i < js_urls.length; i++) {\n      var url = js_urls[i];\n      if (skip.indexOf(url) !== -1 || existing_scripts.indexOf(url) !== -1) {\n\tif (!window.requirejs) {\n\t  on_load();\n\t}\n\tcontinue;\n      }\n      var element = document.createElement('script');\n      element.onload = on_load;\n      element.onerror = on_error;\n      element.async = false;\n      element.src = url;\n      console.debug(\"Bokeh: injecting script tag for BokehJS library: \", url);\n      document.head.appendChild(element);\n    }\n    for (var i = 0; i < js_modules.length; i++) {\n      var url = js_modules[i];\n      if (skip.indexOf(url) !== -1 || existing_scripts.indexOf(url) !== -1) {\n\tif (!window.requirejs) {\n\t  on_load();\n\t}\n\tcontinue;\n      }\n      var element = document.createElement('script');\n      element.onload = on_load;\n      element.onerror = on_error;\n      element.async = false;\n      element.src = url;\n      element.type = \"module\";\n      console.debug(\"Bokeh: injecting script tag for BokehJS library: \", url);\n      document.head.appendChild(element);\n    }\n    for (const name in js_exports) {\n      var url = js_exports[name];\n      if (skip.indexOf(url) >= 0 || root[name] != null) {\n\tif (!window.requirejs) {\n\t  on_load();\n\t}\n\tcontinue;\n      }\n      var element = document.createElement('script');\n      element.onerror = on_error;\n      element.async = false;\n      element.type = \"module\";\n      console.debug(\"Bokeh: injecting script tag for BokehJS library: \", url);\n      element.textContent = `\n      import ${name} from \"${url}\"\n      window.${name} = ${name}\n      window._bokeh_on_load()\n      `\n      document.head.appendChild(element);\n    }\n    if (!js_urls.length && !js_modules.length) {\n      on_load()\n    }\n  };\n\n  function inject_raw_css(css) {\n    const element = document.createElement(\"style\");\n    element.appendChild(document.createTextNode(css));\n    document.body.appendChild(element);\n  }\n\n  var js_urls = [\"https://cdn.bokeh.org/bokeh/release/bokeh-3.1.1.min.js\", \"https://cdn.bokeh.org/bokeh/release/bokeh-gl-3.1.1.min.js\", \"https://cdn.bokeh.org/bokeh/release/bokeh-widgets-3.1.1.min.js\", \"https://cdn.bokeh.org/bokeh/release/bokeh-tables-3.1.1.min.js\", \"https://cdn.holoviz.org/panel/1.1.1/dist/panel.min.js\"];\n  var js_modules = [];\n  var js_exports = {};\n  var css_urls = [];\n  var inline_js = [    function(Bokeh) {\n      Bokeh.set_log_level(\"info\");\n    },\nfunction(Bokeh) {} // ensure no trailing comma for IE\n  ];\n\n  function run_inline_js() {\n    if ((root.Bokeh !== undefined) || (force === true)) {\n      for (var i = 0; i < inline_js.length; i++) {\n        inline_js[i].call(root, root.Bokeh);\n      }\n      // Cache old bokeh versions\n      if (Bokeh != undefined && !reloading) {\n\tvar NewBokeh = root.Bokeh;\n\tif (Bokeh.versions === undefined) {\n\t  Bokeh.versions = new Map();\n\t}\n\tif (NewBokeh.version !== Bokeh.version) {\n\t  Bokeh.versions.set(NewBokeh.version, NewBokeh)\n\t}\n\troot.Bokeh = Bokeh;\n      }} else if (Date.now() < root._bokeh_timeout) {\n      setTimeout(run_inline_js, 100);\n    } else if (!root._bokeh_failed_load) {\n      console.log(\"Bokeh: BokehJS failed to load within specified timeout.\");\n      root._bokeh_failed_load = true;\n    }\n    root._bokeh_is_initializing = false\n  }\n\n  function load_or_wait() {\n    // Implement a backoff loop that tries to ensure we do not load multiple\n    // versions of Bokeh and its dependencies at the same time.\n    // In recent versions we use the root._bokeh_is_initializing flag\n    // to determine whether there is an ongoing attempt to initialize\n    // bokeh, however for backward compatibility we also try to ensure\n    // that we do not start loading a newer (Panel>=1.0 and Bokeh>3) version\n    // before older versions are fully initialized.\n    if (root._bokeh_is_initializing && Date.now() > root._bokeh_timeout) {\n      root._bokeh_is_initializing = false;\n      root._bokeh_onload_callbacks = undefined;\n      console.log(\"Bokeh: BokehJS was loaded multiple times but one version failed to initialize.\");\n      load_or_wait();\n    } else if (root._bokeh_is_initializing || (typeof root._bokeh_is_initializing === \"undefined\" && root._bokeh_onload_callbacks !== undefined)) {\n      setTimeout(load_or_wait, 100);\n    } else {\n      Bokeh = root.Bokeh;\n      bokeh_loaded = Bokeh != null && (Bokeh.version === py_version || (Bokeh.versions !== undefined && Bokeh.versions.has(py_version)));\n      root._bokeh_is_initializing = true\n      root._bokeh_onload_callbacks = []\n      if (!reloading && (!bokeh_loaded || is_dev)) {\n\troot.Bokeh = undefined;\n      }\n      load_libs(css_urls, js_urls, js_modules, js_exports, function() {\n\tconsole.debug(\"Bokeh: BokehJS plotting callback run at\", now());\n\trun_inline_js();\n      });\n    }\n  }\n  // Give older versions of the autoload script a head-start to ensure\n  // they initialize before we start loading newer version.\n  setTimeout(load_or_wait, 100)\n}(window));"
     },
     "metadata": {},
     "output_type": "display_data"
    },
    {
     "data": {
      "application/javascript": [
       "\n",
       "if ((window.PyViz === undefined) || (window.PyViz instanceof HTMLElement)) {\n",
       "  window.PyViz = {comms: {}, comm_status:{}, kernels:{}, receivers: {}, plot_index: []}\n",
       "}\n",
       "\n",
       "\n",
       "    function JupyterCommManager() {\n",
       "    }\n",
       "\n",
       "    JupyterCommManager.prototype.register_target = function(plot_id, comm_id, msg_handler) {\n",
       "      if (window.comm_manager || ((window.Jupyter !== undefined) && (Jupyter.notebook.kernel != null))) {\n",
       "        var comm_manager = window.comm_manager || Jupyter.notebook.kernel.comm_manager;\n",
       "        comm_manager.register_target(comm_id, function(comm) {\n",
       "          comm.on_msg(msg_handler);\n",
       "        });\n",
       "      } else if ((plot_id in window.PyViz.kernels) && (window.PyViz.kernels[plot_id])) {\n",
       "        window.PyViz.kernels[plot_id].registerCommTarget(comm_id, function(comm) {\n",
       "          comm.onMsg = msg_handler;\n",
       "        });\n",
       "      } else if (typeof google != 'undefined' && google.colab.kernel != null) {\n",
       "        google.colab.kernel.comms.registerTarget(comm_id, (comm) => {\n",
       "          var messages = comm.messages[Symbol.asyncIterator]();\n",
       "          function processIteratorResult(result) {\n",
       "            var message = result.value;\n",
       "            console.log(message)\n",
       "            var content = {data: message.data, comm_id};\n",
       "            var buffers = []\n",
       "            for (var buffer of message.buffers || []) {\n",
       "              buffers.push(new DataView(buffer))\n",
       "            }\n",
       "            var metadata = message.metadata || {};\n",
       "            var msg = {content, buffers, metadata}\n",
       "            msg_handler(msg);\n",
       "            return messages.next().then(processIteratorResult);\n",
       "          }\n",
       "          return messages.next().then(processIteratorResult);\n",
       "        })\n",
       "      }\n",
       "    }\n",
       "\n",
       "    JupyterCommManager.prototype.get_client_comm = function(plot_id, comm_id, msg_handler) {\n",
       "      if (comm_id in window.PyViz.comms) {\n",
       "        return window.PyViz.comms[comm_id];\n",
       "      } else if (window.comm_manager || ((window.Jupyter !== undefined) && (Jupyter.notebook.kernel != null))) {\n",
       "        var comm_manager = window.comm_manager || Jupyter.notebook.kernel.comm_manager;\n",
       "        var comm = comm_manager.new_comm(comm_id, {}, {}, {}, comm_id);\n",
       "        if (msg_handler) {\n",
       "          comm.on_msg(msg_handler);\n",
       "        }\n",
       "      } else if ((plot_id in window.PyViz.kernels) && (window.PyViz.kernels[plot_id])) {\n",
       "        var comm = window.PyViz.kernels[plot_id].connectToComm(comm_id);\n",
       "        comm.open();\n",
       "        if (msg_handler) {\n",
       "          comm.onMsg = msg_handler;\n",
       "        }\n",
       "      } else if (typeof google != 'undefined' && google.colab.kernel != null) {\n",
       "        var comm_promise = google.colab.kernel.comms.open(comm_id)\n",
       "        comm_promise.then((comm) => {\n",
       "          window.PyViz.comms[comm_id] = comm;\n",
       "          if (msg_handler) {\n",
       "            var messages = comm.messages[Symbol.asyncIterator]();\n",
       "            function processIteratorResult(result) {\n",
       "              var message = result.value;\n",
       "              var content = {data: message.data};\n",
       "              var metadata = message.metadata || {comm_id};\n",
       "              var msg = {content, metadata}\n",
       "              msg_handler(msg);\n",
       "              return messages.next().then(processIteratorResult);\n",
       "            }\n",
       "            return messages.next().then(processIteratorResult);\n",
       "          }\n",
       "        }) \n",
       "        var sendClosure = (data, metadata, buffers, disposeOnDone) => {\n",
       "          return comm_promise.then((comm) => {\n",
       "            comm.send(data, metadata, buffers, disposeOnDone);\n",
       "          });\n",
       "        };\n",
       "        var comm = {\n",
       "          send: sendClosure\n",
       "        };\n",
       "      }\n",
       "      window.PyViz.comms[comm_id] = comm;\n",
       "      return comm;\n",
       "    }\n",
       "    window.PyViz.comm_manager = new JupyterCommManager();\n",
       "    \n",
       "\n",
       "\n",
       "var JS_MIME_TYPE = 'application/javascript';\n",
       "var HTML_MIME_TYPE = 'text/html';\n",
       "var EXEC_MIME_TYPE = 'application/vnd.holoviews_exec.v0+json';\n",
       "var CLASS_NAME = 'output';\n",
       "\n",
       "/**\n",
       " * Render data to the DOM node\n",
       " */\n",
       "function render(props, node) {\n",
       "  var div = document.createElement(\"div\");\n",
       "  var script = document.createElement(\"script\");\n",
       "  node.appendChild(div);\n",
       "  node.appendChild(script);\n",
       "}\n",
       "\n",
       "/**\n",
       " * Handle when a new output is added\n",
       " */\n",
       "function handle_add_output(event, handle) {\n",
       "  var output_area = handle.output_area;\n",
       "  var output = handle.output;\n",
       "  if ((output.data == undefined) || (!output.data.hasOwnProperty(EXEC_MIME_TYPE))) {\n",
       "    return\n",
       "  }\n",
       "  var id = output.metadata[EXEC_MIME_TYPE][\"id\"];\n",
       "  var toinsert = output_area.element.find(\".\" + CLASS_NAME.split(' ')[0]);\n",
       "  if (id !== undefined) {\n",
       "    var nchildren = toinsert.length;\n",
       "    var html_node = toinsert[nchildren-1].children[0];\n",
       "    html_node.innerHTML = output.data[HTML_MIME_TYPE];\n",
       "    var scripts = [];\n",
       "    var nodelist = html_node.querySelectorAll(\"script\");\n",
       "    for (var i in nodelist) {\n",
       "      if (nodelist.hasOwnProperty(i)) {\n",
       "        scripts.push(nodelist[i])\n",
       "      }\n",
       "    }\n",
       "\n",
       "    scripts.forEach( function (oldScript) {\n",
       "      var newScript = document.createElement(\"script\");\n",
       "      var attrs = [];\n",
       "      var nodemap = oldScript.attributes;\n",
       "      for (var j in nodemap) {\n",
       "        if (nodemap.hasOwnProperty(j)) {\n",
       "          attrs.push(nodemap[j])\n",
       "        }\n",
       "      }\n",
       "      attrs.forEach(function(attr) { newScript.setAttribute(attr.name, attr.value) });\n",
       "      newScript.appendChild(document.createTextNode(oldScript.innerHTML));\n",
       "      oldScript.parentNode.replaceChild(newScript, oldScript);\n",
       "    });\n",
       "    if (JS_MIME_TYPE in output.data) {\n",
       "      toinsert[nchildren-1].children[1].textContent = output.data[JS_MIME_TYPE];\n",
       "    }\n",
       "    output_area._hv_plot_id = id;\n",
       "    if ((window.Bokeh !== undefined) && (id in Bokeh.index)) {\n",
       "      window.PyViz.plot_index[id] = Bokeh.index[id];\n",
       "    } else {\n",
       "      window.PyViz.plot_index[id] = null;\n",
       "    }\n",
       "  } else if (output.metadata[EXEC_MIME_TYPE][\"server_id\"] !== undefined) {\n",
       "    var bk_div = document.createElement(\"div\");\n",
       "    bk_div.innerHTML = output.data[HTML_MIME_TYPE];\n",
       "    var script_attrs = bk_div.children[0].attributes;\n",
       "    for (var i = 0; i < script_attrs.length; i++) {\n",
       "      toinsert[toinsert.length - 1].childNodes[1].setAttribute(script_attrs[i].name, script_attrs[i].value);\n",
       "    }\n",
       "    // store reference to server id on output_area\n",
       "    output_area._bokeh_server_id = output.metadata[EXEC_MIME_TYPE][\"server_id\"];\n",
       "  }\n",
       "}\n",
       "\n",
       "/**\n",
       " * Handle when an output is cleared or removed\n",
       " */\n",
       "function handle_clear_output(event, handle) {\n",
       "  var id = handle.cell.output_area._hv_plot_id;\n",
       "  var server_id = handle.cell.output_area._bokeh_server_id;\n",
       "  if (((id === undefined) || !(id in PyViz.plot_index)) && (server_id !== undefined)) { return; }\n",
       "  var comm = window.PyViz.comm_manager.get_client_comm(\"hv-extension-comm\", \"hv-extension-comm\", function () {});\n",
       "  if (server_id !== null) {\n",
       "    comm.send({event_type: 'server_delete', 'id': server_id});\n",
       "    return;\n",
       "  } else if (comm !== null) {\n",
       "    comm.send({event_type: 'delete', 'id': id});\n",
       "  }\n",
       "  delete PyViz.plot_index[id];\n",
       "  if ((window.Bokeh !== undefined) & (id in window.Bokeh.index)) {\n",
       "    var doc = window.Bokeh.index[id].model.document\n",
       "    doc.clear();\n",
       "    const i = window.Bokeh.documents.indexOf(doc);\n",
       "    if (i > -1) {\n",
       "      window.Bokeh.documents.splice(i, 1);\n",
       "    }\n",
       "  }\n",
       "}\n",
       "\n",
       "/**\n",
       " * Handle kernel restart event\n",
       " */\n",
       "function handle_kernel_cleanup(event, handle) {\n",
       "  delete PyViz.comms[\"hv-extension-comm\"];\n",
       "  window.PyViz.plot_index = {}\n",
       "}\n",
       "\n",
       "/**\n",
       " * Handle update_display_data messages\n",
       " */\n",
       "function handle_update_output(event, handle) {\n",
       "  handle_clear_output(event, {cell: {output_area: handle.output_area}})\n",
       "  handle_add_output(event, handle)\n",
       "}\n",
       "\n",
       "function register_renderer(events, OutputArea) {\n",
       "  function append_mime(data, metadata, element) {\n",
       "    // create a DOM node to render to\n",
       "    var toinsert = this.create_output_subarea(\n",
       "    metadata,\n",
       "    CLASS_NAME,\n",
       "    EXEC_MIME_TYPE\n",
       "    );\n",
       "    this.keyboard_manager.register_events(toinsert);\n",
       "    // Render to node\n",
       "    var props = {data: data, metadata: metadata[EXEC_MIME_TYPE]};\n",
       "    render(props, toinsert[0]);\n",
       "    element.append(toinsert);\n",
       "    return toinsert\n",
       "  }\n",
       "\n",
       "  events.on('output_added.OutputArea', handle_add_output);\n",
       "  events.on('output_updated.OutputArea', handle_update_output);\n",
       "  events.on('clear_output.CodeCell', handle_clear_output);\n",
       "  events.on('delete.Cell', handle_clear_output);\n",
       "  events.on('kernel_ready.Kernel', handle_kernel_cleanup);\n",
       "\n",
       "  OutputArea.prototype.register_mime_type(EXEC_MIME_TYPE, append_mime, {\n",
       "    safe: true,\n",
       "    index: 0\n",
       "  });\n",
       "}\n",
       "\n",
       "if (window.Jupyter !== undefined) {\n",
       "  try {\n",
       "    var events = require('base/js/events');\n",
       "    var OutputArea = require('notebook/js/outputarea').OutputArea;\n",
       "    if (OutputArea.prototype.mime_types().indexOf(EXEC_MIME_TYPE) == -1) {\n",
       "      register_renderer(events, OutputArea);\n",
       "    }\n",
       "  } catch(err) {\n",
       "  }\n",
       "}\n"
      ],
      "application/vnd.holoviews_load.v0+json": "\nif ((window.PyViz === undefined) || (window.PyViz instanceof HTMLElement)) {\n  window.PyViz = {comms: {}, comm_status:{}, kernels:{}, receivers: {}, plot_index: []}\n}\n\n\n    function JupyterCommManager() {\n    }\n\n    JupyterCommManager.prototype.register_target = function(plot_id, comm_id, msg_handler) {\n      if (window.comm_manager || ((window.Jupyter !== undefined) && (Jupyter.notebook.kernel != null))) {\n        var comm_manager = window.comm_manager || Jupyter.notebook.kernel.comm_manager;\n        comm_manager.register_target(comm_id, function(comm) {\n          comm.on_msg(msg_handler);\n        });\n      } else if ((plot_id in window.PyViz.kernels) && (window.PyViz.kernels[plot_id])) {\n        window.PyViz.kernels[plot_id].registerCommTarget(comm_id, function(comm) {\n          comm.onMsg = msg_handler;\n        });\n      } else if (typeof google != 'undefined' && google.colab.kernel != null) {\n        google.colab.kernel.comms.registerTarget(comm_id, (comm) => {\n          var messages = comm.messages[Symbol.asyncIterator]();\n          function processIteratorResult(result) {\n            var message = result.value;\n            console.log(message)\n            var content = {data: message.data, comm_id};\n            var buffers = []\n            for (var buffer of message.buffers || []) {\n              buffers.push(new DataView(buffer))\n            }\n            var metadata = message.metadata || {};\n            var msg = {content, buffers, metadata}\n            msg_handler(msg);\n            return messages.next().then(processIteratorResult);\n          }\n          return messages.next().then(processIteratorResult);\n        })\n      }\n    }\n\n    JupyterCommManager.prototype.get_client_comm = function(plot_id, comm_id, msg_handler) {\n      if (comm_id in window.PyViz.comms) {\n        return window.PyViz.comms[comm_id];\n      } else if (window.comm_manager || ((window.Jupyter !== undefined) && (Jupyter.notebook.kernel != null))) {\n        var comm_manager = window.comm_manager || Jupyter.notebook.kernel.comm_manager;\n        var comm = comm_manager.new_comm(comm_id, {}, {}, {}, comm_id);\n        if (msg_handler) {\n          comm.on_msg(msg_handler);\n        }\n      } else if ((plot_id in window.PyViz.kernels) && (window.PyViz.kernels[plot_id])) {\n        var comm = window.PyViz.kernels[plot_id].connectToComm(comm_id);\n        comm.open();\n        if (msg_handler) {\n          comm.onMsg = msg_handler;\n        }\n      } else if (typeof google != 'undefined' && google.colab.kernel != null) {\n        var comm_promise = google.colab.kernel.comms.open(comm_id)\n        comm_promise.then((comm) => {\n          window.PyViz.comms[comm_id] = comm;\n          if (msg_handler) {\n            var messages = comm.messages[Symbol.asyncIterator]();\n            function processIteratorResult(result) {\n              var message = result.value;\n              var content = {data: message.data};\n              var metadata = message.metadata || {comm_id};\n              var msg = {content, metadata}\n              msg_handler(msg);\n              return messages.next().then(processIteratorResult);\n            }\n            return messages.next().then(processIteratorResult);\n          }\n        }) \n        var sendClosure = (data, metadata, buffers, disposeOnDone) => {\n          return comm_promise.then((comm) => {\n            comm.send(data, metadata, buffers, disposeOnDone);\n          });\n        };\n        var comm = {\n          send: sendClosure\n        };\n      }\n      window.PyViz.comms[comm_id] = comm;\n      return comm;\n    }\n    window.PyViz.comm_manager = new JupyterCommManager();\n    \n\n\nvar JS_MIME_TYPE = 'application/javascript';\nvar HTML_MIME_TYPE = 'text/html';\nvar EXEC_MIME_TYPE = 'application/vnd.holoviews_exec.v0+json';\nvar CLASS_NAME = 'output';\n\n/**\n * Render data to the DOM node\n */\nfunction render(props, node) {\n  var div = document.createElement(\"div\");\n  var script = document.createElement(\"script\");\n  node.appendChild(div);\n  node.appendChild(script);\n}\n\n/**\n * Handle when a new output is added\n */\nfunction handle_add_output(event, handle) {\n  var output_area = handle.output_area;\n  var output = handle.output;\n  if ((output.data == undefined) || (!output.data.hasOwnProperty(EXEC_MIME_TYPE))) {\n    return\n  }\n  var id = output.metadata[EXEC_MIME_TYPE][\"id\"];\n  var toinsert = output_area.element.find(\".\" + CLASS_NAME.split(' ')[0]);\n  if (id !== undefined) {\n    var nchildren = toinsert.length;\n    var html_node = toinsert[nchildren-1].children[0];\n    html_node.innerHTML = output.data[HTML_MIME_TYPE];\n    var scripts = [];\n    var nodelist = html_node.querySelectorAll(\"script\");\n    for (var i in nodelist) {\n      if (nodelist.hasOwnProperty(i)) {\n        scripts.push(nodelist[i])\n      }\n    }\n\n    scripts.forEach( function (oldScript) {\n      var newScript = document.createElement(\"script\");\n      var attrs = [];\n      var nodemap = oldScript.attributes;\n      for (var j in nodemap) {\n        if (nodemap.hasOwnProperty(j)) {\n          attrs.push(nodemap[j])\n        }\n      }\n      attrs.forEach(function(attr) { newScript.setAttribute(attr.name, attr.value) });\n      newScript.appendChild(document.createTextNode(oldScript.innerHTML));\n      oldScript.parentNode.replaceChild(newScript, oldScript);\n    });\n    if (JS_MIME_TYPE in output.data) {\n      toinsert[nchildren-1].children[1].textContent = output.data[JS_MIME_TYPE];\n    }\n    output_area._hv_plot_id = id;\n    if ((window.Bokeh !== undefined) && (id in Bokeh.index)) {\n      window.PyViz.plot_index[id] = Bokeh.index[id];\n    } else {\n      window.PyViz.plot_index[id] = null;\n    }\n  } else if (output.metadata[EXEC_MIME_TYPE][\"server_id\"] !== undefined) {\n    var bk_div = document.createElement(\"div\");\n    bk_div.innerHTML = output.data[HTML_MIME_TYPE];\n    var script_attrs = bk_div.children[0].attributes;\n    for (var i = 0; i < script_attrs.length; i++) {\n      toinsert[toinsert.length - 1].childNodes[1].setAttribute(script_attrs[i].name, script_attrs[i].value);\n    }\n    // store reference to server id on output_area\n    output_area._bokeh_server_id = output.metadata[EXEC_MIME_TYPE][\"server_id\"];\n  }\n}\n\n/**\n * Handle when an output is cleared or removed\n */\nfunction handle_clear_output(event, handle) {\n  var id = handle.cell.output_area._hv_plot_id;\n  var server_id = handle.cell.output_area._bokeh_server_id;\n  if (((id === undefined) || !(id in PyViz.plot_index)) && (server_id !== undefined)) { return; }\n  var comm = window.PyViz.comm_manager.get_client_comm(\"hv-extension-comm\", \"hv-extension-comm\", function () {});\n  if (server_id !== null) {\n    comm.send({event_type: 'server_delete', 'id': server_id});\n    return;\n  } else if (comm !== null) {\n    comm.send({event_type: 'delete', 'id': id});\n  }\n  delete PyViz.plot_index[id];\n  if ((window.Bokeh !== undefined) & (id in window.Bokeh.index)) {\n    var doc = window.Bokeh.index[id].model.document\n    doc.clear();\n    const i = window.Bokeh.documents.indexOf(doc);\n    if (i > -1) {\n      window.Bokeh.documents.splice(i, 1);\n    }\n  }\n}\n\n/**\n * Handle kernel restart event\n */\nfunction handle_kernel_cleanup(event, handle) {\n  delete PyViz.comms[\"hv-extension-comm\"];\n  window.PyViz.plot_index = {}\n}\n\n/**\n * Handle update_display_data messages\n */\nfunction handle_update_output(event, handle) {\n  handle_clear_output(event, {cell: {output_area: handle.output_area}})\n  handle_add_output(event, handle)\n}\n\nfunction register_renderer(events, OutputArea) {\n  function append_mime(data, metadata, element) {\n    // create a DOM node to render to\n    var toinsert = this.create_output_subarea(\n    metadata,\n    CLASS_NAME,\n    EXEC_MIME_TYPE\n    );\n    this.keyboard_manager.register_events(toinsert);\n    // Render to node\n    var props = {data: data, metadata: metadata[EXEC_MIME_TYPE]};\n    render(props, toinsert[0]);\n    element.append(toinsert);\n    return toinsert\n  }\n\n  events.on('output_added.OutputArea', handle_add_output);\n  events.on('output_updated.OutputArea', handle_update_output);\n  events.on('clear_output.CodeCell', handle_clear_output);\n  events.on('delete.Cell', handle_clear_output);\n  events.on('kernel_ready.Kernel', handle_kernel_cleanup);\n\n  OutputArea.prototype.register_mime_type(EXEC_MIME_TYPE, append_mime, {\n    safe: true,\n    index: 0\n  });\n}\n\nif (window.Jupyter !== undefined) {\n  try {\n    var events = require('base/js/events');\n    var OutputArea = require('notebook/js/outputarea').OutputArea;\n    if (OutputArea.prototype.mime_types().indexOf(EXEC_MIME_TYPE) == -1) {\n      register_renderer(events, OutputArea);\n    }\n  } catch(err) {\n  }\n}\n"
     },
     "metadata": {},
     "output_type": "display_data"
    },
    {
     "data": {
      "text/html": [
       "<style>*[data-root-id],\n",
       "*[data-root-id] > * {\n",
       "  box-sizing: border-box;\n",
       "  font-family: var(--jp-ui-font-family);\n",
       "  font-size: var(--jp-ui-font-size1);\n",
       "  color: var(--vscode-editor-foreground, var(--jp-ui-font-color1));\n",
       "}\n",
       "\n",
       "/* Override VSCode background color */\n",
       ".cell-output-ipywidget-background:has(> .cell-output-ipywidget-background\n",
       "    > .lm-Widget\n",
       "    > *[data-root-id]),\n",
       ".cell-output-ipywidget-background:has(> .lm-Widget > *[data-root-id]) {\n",
       "  background-color: transparent !important;\n",
       "}\n",
       "</style>"
      ]
     },
     "metadata": {},
     "output_type": "display_data"
    }
   ],
   "source": [
    "import os\n",
    "import numpy as np\n",
    "import pandas as pd\n",
    "import geopandas as gpd\n",
    "import matplotlib.pyplot as plt\n",
    "import rasterio as rio\n",
    "import pickle\n",
    "import pyproj\n",
    "\n",
    "# Import file containing sampling function written by Friedrich Knuth\n",
    "import core"
   ]
  },
  {
   "cell_type": "code",
   "execution_count": 3,
   "id": "32251e70-518f-45f5-82cd-830081d967ee",
   "metadata": {},
   "outputs": [],
   "source": [
    "%matplotlib inline"
   ]
  },
  {
   "cell_type": "code",
   "execution_count": 5,
   "id": "42091237-596e-4e7a-bd54-31ef7a8a5314",
   "metadata": {},
   "outputs": [],
   "source": [
    "pd.set_option('display.max_columns', None)"
   ]
  },
  {
   "cell_type": "markdown",
   "id": "747eaec6-601f-4fdd-8abf-203605bd6aa1",
   "metadata": {},
   "source": [
    "### Load SlideRule data and site outline:"
   ]
  },
  {
   "cell_type": "code",
   "execution_count": 17,
   "id": "cc951c3d-9cad-4105-ab28-686bdc5d8037",
   "metadata": {},
   "outputs": [
    {
     "name": "stderr",
     "output_type": "stream",
     "text": [
      "/var/folders/yr/1f67jccn6hl_lyxnqy7qjpq40000gp/T/ipykernel_68182/206260649.py:2: UserWarning: Unpickling a shapely <2.0 geometry object. Please save the pickle again; shapely 2.1 will not have this compatibility.\n",
      "  outline_gdf = pickle.load(open('../../data/site_outlines/methow_outline_4326.pkl', 'rb'))\n"
     ]
    }
   ],
   "source": [
    "atl06sr = pickle.load(open('../../data/atl06/methow_all_sr-atl06-10172022_processed_wo-dems_7912.pkl', 'rb'))\n",
    "outline_gdf = pickle.load(open('../../data/site_outlines/methow_outline_4326.pkl', 'rb'))"
   ]
  },
  {
   "cell_type": "code",
   "execution_count": 27,
   "id": "d265d69f-1b4f-4d2a-a08d-c1bd192afad3",
   "metadata": {},
   "outputs": [
    {
     "data": {
      "text/plain": [
       "<Geographic 3D CRS: EPSG:7912>\n",
       "Name: ITRF2014\n",
       "Axis Info [ellipsoidal]:\n",
       "- Lat[north]: Geodetic latitude (degree)\n",
       "- Lon[east]: Geodetic longitude (degree)\n",
       "- h[up]: Ellipsoidal height (metre)\n",
       "Area of Use:\n",
       "- name: World.\n",
       "- bounds: (-180.0, -90.0, 180.0, 90.0)\n",
       "Datum: International Terrestrial Reference Frame 2014\n",
       "- Ellipsoid: GRS 1980\n",
       "- Prime Meridian: Greenwich"
      ]
     },
     "execution_count": 27,
     "metadata": {},
     "output_type": "execute_result"
    }
   ],
   "source": [
    "atl06sr.crs"
   ]
  },
  {
   "cell_type": "markdown",
   "id": "f6161cf2-162a-4d3e-95b9-b8dbc7cec8f2",
   "metadata": {},
   "source": [
    "### Convert the geometry from 2d to 3d:"
   ]
  },
  {
   "cell_type": "code",
   "execution_count": 29,
   "id": "3e4ed289-08b1-45bc-a82a-c4f8eea54067",
   "metadata": {},
   "outputs": [],
   "source": [
    "atl06sr_7912 = atl06sr.set_geometry(gpd.points_from_xy(atl06sr.geometry.x, atl06sr.geometry.y, atl06sr.h_mean))\n",
    "atl06sr_gdf = atl06sr_7912.to_crs(\"EPSG:2927+5703\")"
   ]
  },
  {
   "cell_type": "markdown",
   "id": "55f395ec-1e34-42ba-94a4-c26ba1fd53e9",
   "metadata": {
    "tags": []
   },
   "source": [
    "# Difference with Reference DTM "
   ]
  },
  {
   "cell_type": "markdown",
   "id": "6d75b0bc-75e4-4377-951a-0a69bd967e8c",
   "metadata": {},
   "source": [
    "## Load Snow Off DTM & Slope DTMs\n",
    "The DTM was commissioned by WaDNR, flown in summer 2018.  \n",
    "I created the slope raster by:  \n",
    "* downscaling the DTM (to coarser resolution):  \n",
    " \"gdalwarp -tr 20 20 methow_basin_2018_dtm_combined_32610_1m.tif methow_basin_2018_dtm_combined_32610_20m.tif -co COMPRESS=LZW -co TILED=YES -co BIGTIFF=IF_SAFER\"\n",
    "*   and used gdaldem to output a slope file in the command line:  \n",
    "\"gdaldem slope $lidar_fn  $lidar_slope_fn -co COMPRESS=LZW -co TILED=YES -co BIGTIFF=IF_SAFER\" "
   ]
  },
  {
   "cell_type": "code",
   "execution_count": 75,
   "id": "111eab9a-db03-4738-93a7-488238b0ddca",
   "metadata": {},
   "outputs": [],
   "source": [
    "lidar_fn = '../../data/lidar/native_res/methow_basin_2018_dtm_origcrs_combined_1m.tif'"
   ]
  },
  {
   "cell_type": "code",
   "execution_count": 76,
   "id": "f1b27ad4-1772-4a56-8806-c0d9b55a4b75",
   "metadata": {},
   "outputs": [],
   "source": [
    "lidar_snowoff_src = rio.open(lidar_fn)"
   ]
  },
  {
   "cell_type": "markdown",
   "id": "309a4d44-5369-415b-b7c5-8c65e0888931",
   "metadata": {},
   "source": [
    "## Sample snow-off DEM  \n",
    "Using two different methods:  \n",
    "1. The sample_raster function from David Shean. This uses nearest neighbor, which isn't the best interpolation method. The below function not only samples the DTM, but then computes the difference between the data using: **ICESat-2 - DTM**  \n",
    "2. Using bicubic interopolation method written by Friedrich Knuth (UW) from https://github.com/uw-cryo/raster_sampling  \n",
    "  \n",
    "Then compare the two methods. Spoiler alert, bicubic is better. We originally used the first method, but ended up switching to the second method for the final version.  \n",
    "\n",
    "We also ran this code for a coarser version of the DTM (downscaled to 20m resolution) but resolution didn't make a big difference so we stuck with the original high resolution."
   ]
  },
  {
   "cell_type": "markdown",
   "id": "8e3e5eef-9d44-4fe1-bfce-f7f27f4d2a3e",
   "metadata": {},
   "source": [
    "### 1) Nearest Neighbor"
   ]
  },
  {
   "cell_type": "code",
   "execution_count": 22,
   "id": "893bc892-cda4-46d5-b27e-c55f6f3de4c3",
   "metadata": {},
   "outputs": [],
   "source": [
    "# This function written by David Shean, UW\n",
    "# This function uses nearest neighbor, which is not ideal\n",
    "\n",
    "def sample_raster(df, src, diff_col=None):\n",
    "    #df_proj = df.to_crs(src.crs)\n",
    "    coord = [(pt.x, pt.y) for pt in df.to_crs(src.crs).geometry]\n",
    "    s = np.fromiter(src.sample(coord), dtype=src.dtypes[0])\n",
    "    #s[s == src.nodata] = np.nan\n",
    "    sm = np.ma.masked_equal(s, src.nodata)\n",
    "    sample_colname = os.path.splitext(os.path.split(src.name)[-1])[0]\n",
    "    df[sample_colname] = sm\n",
    "    if diff_col is not None:\n",
    "        out_colname = '{} {} diff'.format(diff_col, sample_colname)\n",
    "        df[out_colname] = df[diff_col] - df[sample_colname]\n",
    "    else:\n",
    "        out_colname = sample_colname\n",
    "    return out_colname"
   ]
  },
  {
   "cell_type": "code",
   "execution_count": 23,
   "id": "b19afe23-b0bf-45e2-9a45-6dc1e250d292",
   "metadata": {},
   "outputs": [
    {
     "data": {
      "text/plain": [
       "'h_mean methow_basin_2018_dtm_combined_32610_1m diff'"
      ]
     },
     "execution_count": 23,
     "metadata": {},
     "output_type": "execute_result"
    }
   ],
   "source": [
    "# Sample snow-off lidar at native resolution\n",
    "\n",
    "atl06sr_diff_col = sample_raster(atl06sr_gdf, lidar_snowoff_src, diff_col='h_mean')\n",
    "atl06sr_diff_col"
   ]
  },
  {
   "cell_type": "markdown",
   "id": "046a5528-621d-4424-819b-16df356a3baa",
   "metadata": {},
   "source": [
    "### Sample the coarser resolution snow-off data:"
   ]
  },
  {
   "cell_type": "code",
   "execution_count": 24,
   "id": "44124fa5-e6e1-4d10-aede-c1e3dc3fd507",
   "metadata": {},
   "outputs": [
    {
     "data": {
      "text/plain": [
       "'h_mean methow_basin_2018_dtm_combined_32610_20m diff'"
      ]
     },
     "execution_count": 24,
     "metadata": {},
     "output_type": "execute_result"
    }
   ],
   "source": [
    "# Sample snow-off lidar at approximate resolution of ICESat-2 points\n",
    "\n",
    "atl06sr_diff20_col = sample_raster(atl06sr_gdf, lidar_snowoff20_src, diff_col='h_mean')\n",
    "atl06sr_diff20_col"
   ]
  },
  {
   "cell_type": "code",
   "execution_count": 64,
   "id": "177c7401-c4fb-40a6-8c28-377cc385cb20",
   "metadata": {},
   "outputs": [
    {
     "data": {
      "text/plain": [
       "Index(['pflags', 'h_mean', 'dh_fit_dy', 'spot', 'w_surface_window_final',\n",
       "       'h_sigma', 'distance', 'segment_id', 'dh_fit_dx', 'rgt', 'cycle',\n",
       "       'delta_time', 'gt', 'n_fit_photons', 'rms_misfit', 'geometry',\n",
       "       'acqdate', 'doy', 'decyear', 'dowy', 'snow_presence', 'lidar_z',\n",
       "       'difference', 'lidar_z_20m', 'difference_20m', 'slope_3m', 'slope_20m',\n",
       "       'slope_100m'],\n",
       "      dtype='object')"
      ]
     },
     "execution_count": 64,
     "metadata": {},
     "output_type": "execute_result"
    }
   ],
   "source": [
    "atl06sr_gdf = atl06sr_gdf.rename(columns={'methow_basin_2018_dtm_combined_32610_1m':'lidar_z',\n",
    "                                          'methow_basin_2018_dtm_combined_32610_20m':'lidar_z_20m',\n",
    "                                          'h_mean methow_basin_2018_dtm_combined_32610_20m diff':'difference_20m',\n",
    "                                          'h_mean methow_basin_2018_dtm_combined_32610_1m diff':'difference', \n",
    "                                          # 'methow_basin_2018_dtm_combined_32610_3m_slope':'slope_3m',\n",
    "                                          # 'methow_basin_2018_dtm_combined_32610_20m_slope':'slope_20m',\n",
    "                                          # 'methow_basin_2018_dtm_combined_32610_100m_slope':'slope_100m'\n",
    "                                         })\n",
    "atl06sr_gdf.columns"
   ]
  },
  {
   "cell_type": "code",
   "execution_count": 66,
   "id": "f3faf8ad-c87b-45d2-94c4-e60dc1ba504e",
   "metadata": {},
   "outputs": [
    {
     "name": "stderr",
     "output_type": "stream",
     "text": [
      "/Users/Hannah/opt/miniconda3/envs/analysis_2022/lib/python3.8/site-packages/numpy/lib/function_base.py:4691: UserWarning: Warning: 'partition' will ignore the 'mask' of the MaskedArray.\n",
      "  arr.partition(\n"
     ]
    },
    {
     "data": {
      "text/plain": [
       "count    146647.000000\n",
       "mean         -0.517273\n",
       "std           1.205088\n",
       "min         -21.648634\n",
       "25%          -1.019876\n",
       "50%          -0.375062\n",
       "75%           0.097123\n",
       "max          15.269414\n",
       "Name: difference, dtype: float64"
      ]
     },
     "execution_count": 66,
     "metadata": {},
     "output_type": "execute_result"
    }
   ],
   "source": [
    "atl06sr_gdf['difference'].describe()"
   ]
  },
  {
   "cell_type": "code",
   "execution_count": 67,
   "id": "f79e7ef1-e022-43f5-9974-84c4c407f89d",
   "metadata": {},
   "outputs": [
    {
     "name": "stderr",
     "output_type": "stream",
     "text": [
      "/Users/Hannah/opt/miniconda3/envs/analysis_2022/lib/python3.8/site-packages/numpy/lib/function_base.py:4691: UserWarning: Warning: 'partition' will ignore the 'mask' of the MaskedArray.\n",
      "  arr.partition(\n"
     ]
    },
    {
     "data": {
      "text/plain": [
       "count    146662.000000\n",
       "mean         -0.545213\n",
       "std           2.364963\n",
       "min         -32.482130\n",
       "25%          -1.626569\n",
       "50%          -0.369045\n",
       "75%           0.625908\n",
       "max          26.855712\n",
       "Name: difference_20m, dtype: float64"
      ]
     },
     "execution_count": 67,
     "metadata": {},
     "output_type": "execute_result"
    }
   ],
   "source": [
    "atl06sr_gdf['difference_20m'].describe()"
   ]
  },
  {
   "cell_type": "markdown",
   "id": "2a586141-f43e-4979-ad39-034b59175a59",
   "metadata": {},
   "source": [
    "^ These differences include snow on data. They differ only slightly depending on the resolution of the snow off lidar data"
   ]
  },
  {
   "cell_type": "markdown",
   "id": "5f803797-7695-4fc2-b738-6193fe11177d",
   "metadata": {},
   "source": [
    "### 2) Bicubic Interpolation"
   ]
  },
  {
   "cell_type": "code",
   "execution_count": 38,
   "id": "88859a3a-6bac-4909-ab71-3f95de013b73",
   "metadata": {},
   "outputs": [],
   "source": [
    "coord = [(pt.x, pt.y) for pt in atl06sr_gdf.to_crs(lidar_snowoff_src.crs).geometry]"
   ]
  },
  {
   "cell_type": "code",
   "execution_count": 40,
   "id": "fd96fdd1-2952-4267-b7a1-ea95ea6e9d8d",
   "metadata": {},
   "outputs": [],
   "source": [
    "# This function was written by Friedrich Knuth, UW and is contained in core.py\n",
    "# The sampling technique can be specified, here we use bicubic\n",
    "\n",
    "bicubic_interp = core.interpolate(lidar_fn, coord, offset=3, kind='cubic')"
   ]
  },
  {
   "cell_type": "markdown",
   "id": "d6aec71f-d9ae-4701-a346-9f116279b85a",
   "metadata": {},
   "source": [
    "### Convert to meters from US feet:"
   ]
  },
  {
   "cell_type": "code",
   "execution_count": 49,
   "id": "f7f277d1-6d3b-4873-affc-ae9799a98b00",
   "metadata": {},
   "outputs": [],
   "source": [
    "atl06sr_gdf['bicubic_lidar_z'] = bicubic_interp * 0.3048006096"
   ]
  },
  {
   "cell_type": "code",
   "execution_count": 50,
   "id": "5547a434-8d89-479f-a59b-106ed35c6a4b",
   "metadata": {},
   "outputs": [
    {
     "data": {
      "text/plain": [
       "count    146555.000000\n",
       "mean       1164.465688\n",
       "std         466.850074\n",
       "min         429.967476\n",
       "25%         763.416226\n",
       "50%        1080.183978\n",
       "75%        1564.625700\n",
       "max        2511.914966\n",
       "Name: bicubic_lidar_z, dtype: float64"
      ]
     },
     "execution_count": 50,
     "metadata": {},
     "output_type": "execute_result"
    }
   ],
   "source": [
    "atl06sr_gdf['bicubic_lidar_z'].describe()"
   ]
  },
  {
   "cell_type": "code",
   "execution_count": 48,
   "id": "db2fd564-13fa-43c4-b209-68fb95457a64",
   "metadata": {},
   "outputs": [
    {
     "data": {
      "text/plain": [
       "count    148886.000000\n",
       "mean       1171.833201\n",
       "std         471.163848\n",
       "min         429.798740\n",
       "25%         765.990421\n",
       "50%        1086.841926\n",
       "75%        1578.618713\n",
       "max        2511.080553\n",
       "dtype: float64"
      ]
     },
     "execution_count": 48,
     "metadata": {},
     "output_type": "execute_result"
    }
   ],
   "source": [
    "atl06sr_gdf.geometry.z.describe()"
   ]
  },
  {
   "cell_type": "markdown",
   "id": "572e4fac-071c-487b-bee9-30265d8fe921",
   "metadata": {},
   "source": [
    "### Compare snow depth calculations using the original transformation steps versus the newer, better transformation steps:  \n",
    "There's a much smaller negative bias (median of -0.036 m versus -0.38 m) using the newer, better transformation steps"
   ]
  },
  {
   "cell_type": "code",
   "execution_count": 42,
   "id": "2ecb974f-169c-4995-a3dc-22cc1a1ed565",
   "metadata": {},
   "outputs": [
    {
     "name": "stderr",
     "output_type": "stream",
     "text": [
      "/var/folders/yr/1f67jccn6hl_lyxnqy7qjpq40000gp/T/ipykernel_68182/1766937078.py:1: UserWarning: Unpickling a shapely <2.0 geometry object. Please save the pickle again; shapely 2.1 will not have this compatibility.\n",
      "  orig_atl06sr_gdf = pickle.load(open('../../data/atl06/methow_all_sr-atl06-10172022_processed_bicubic.pkl', 'rb'))\n"
     ]
    }
   ],
   "source": [
    "orig_atl06sr_gdf = pickle.load(open('../../data/atl06/methow_all_sr-atl06-10172022_processed_bicubic.pkl', 'rb'))"
   ]
  },
  {
   "cell_type": "markdown",
   "id": "2b2eb29c-388d-46d7-873c-bc1452eb9794",
   "metadata": {},
   "source": [
    "### Calculate the difference between the ATL06-SR elevations and the bicubic-sampled snow-off lidar elevations"
   ]
  },
  {
   "cell_type": "code",
   "execution_count": 51,
   "id": "90d7573c-fd21-4749-a105-5096438eaeea",
   "metadata": {},
   "outputs": [],
   "source": [
    "atl06sr_gdf['difference_bicubic'] = atl06sr_gdf.geometry.z - atl06sr_gdf['bicubic_lidar_z']"
   ]
  },
  {
   "cell_type": "code",
   "execution_count": 52,
   "id": "055ed798-29bd-4ada-a899-1d21e3f9c885",
   "metadata": {},
   "outputs": [
    {
     "data": {
      "text/plain": [
       "count    146555.000000\n",
       "mean         -0.186275\n",
       "std           1.112350\n",
       "min         -23.310822\n",
       "25%          -0.651838\n",
       "50%          -0.036163\n",
       "75%           0.386887\n",
       "max          14.806998\n",
       "Name: difference_bicubic, dtype: float64"
      ]
     },
     "execution_count": 52,
     "metadata": {},
     "output_type": "execute_result"
    }
   ],
   "source": [
    "atl06sr_gdf['difference_bicubic'].describe()"
   ]
  },
  {
   "cell_type": "code",
   "execution_count": 53,
   "id": "f763cdd9-3b56-4786-a908-a18f4b70d5a6",
   "metadata": {},
   "outputs": [
    {
     "data": {
      "text/plain": [
       "count    146533.000000\n",
       "mean         -0.517483\n",
       "std           1.198546\n",
       "min         -17.800872\n",
       "25%          -1.019377\n",
       "50%          -0.375760\n",
       "75%           0.095302\n",
       "max          15.097490\n",
       "Name: difference_bicubic, dtype: float64"
      ]
     },
     "execution_count": 53,
     "metadata": {},
     "output_type": "execute_result"
    }
   ],
   "source": [
    "orig_atl06sr_gdf['difference_bicubic'].describe()"
   ]
  },
  {
   "cell_type": "markdown",
   "id": "08fa2b46-3847-413b-aafa-c39cfed795b0",
   "metadata": {
    "tags": []
   },
   "source": [
    "## Bicubic Interpolation of 20m resolution slope raster:"
   ]
  },
  {
   "cell_type": "code",
   "execution_count": 77,
   "id": "8e9cad59-6f5e-4f37-a548-29287450a00c",
   "metadata": {},
   "outputs": [],
   "source": [
    "slope_fn_20m = '../../data/lidar/native_res/methow_basin_2018_dtm_origcrs_combined_20m_slope.tif'\n",
    "src_slo_20m = rio.open(slope_fn_20m)"
   ]
  },
  {
   "cell_type": "code",
   "execution_count": 78,
   "id": "6d6cac8f-502d-47e8-85ff-e328b237d8a8",
   "metadata": {},
   "outputs": [],
   "source": [
    "coord = [(pt.x, pt.y) for pt in atl06sr_gdf.to_crs(src_slo_20m.crs).geometry]"
   ]
  },
  {
   "cell_type": "code",
   "execution_count": 79,
   "id": "2d454216-8517-417d-9d44-da504a0a5a63",
   "metadata": {},
   "outputs": [],
   "source": [
    "# This function was written by Friedrich Knuth, UW and is contained in core.py\n",
    "# The sampling technique can be specified, here we use bicubic\n",
    "\n",
    "bicubic_interp = core.interpolate(slope_fn_20m, coord, offset=3, kind='cubic')"
   ]
  },
  {
   "cell_type": "code",
   "execution_count": 81,
   "id": "d03a07bd-505b-43c6-87e2-a76957b175d4",
   "metadata": {},
   "outputs": [],
   "source": [
    "atl06sr_gdf['slope20'] = bicubic_interp"
   ]
  },
  {
   "cell_type": "markdown",
   "id": "5844270f-59bb-42f1-b7a9-50c6b4c0486c",
   "metadata": {},
   "source": [
    "## Remove Dates with N < 30"
   ]
  },
  {
   "cell_type": "code",
   "execution_count": null,
   "id": "b22b25d6-6f8a-469c-9052-9d95a181b5d7",
   "metadata": {},
   "outputs": [],
   "source": [
    "atl06sr_gdf['n'] = atl06sr.groupby('acqdate')['acqdate'].transform('count')\n",
    "atl06sr_gdf = atl06sr_gdf[atl06sr_gdf['n'] > 30]"
   ]
  },
  {
   "cell_type": "markdown",
   "id": "b83186ba-4182-4ec4-bca7-702855fef333",
   "metadata": {
    "tags": []
   },
   "source": [
    "## Filter Outliers  \n",
    "Using the difference between the ATL060SR snow-off data and the bicubic sampled snow-off DTM"
   ]
  },
  {
   "cell_type": "code",
   "execution_count": 63,
   "id": "03fa4ae3-de5f-463a-84f7-d1df2e6107a9",
   "metadata": {},
   "outputs": [],
   "source": [
    "atl06sr_gdf['zscore'] = (atl06sr_gdf['difference_bicubic'] - atl06sr_gdf['difference_bicubic'].mean()) / atl06sr_gdf['difference_bicubic'].std()\n",
    "\n",
    "zscore_thresh = 3\n",
    "absdiff_thresh = 5.0"
   ]
  },
  {
   "cell_type": "code",
   "execution_count": 64,
   "id": "52325c94-c903-461d-937b-fd407634f47b",
   "metadata": {},
   "outputs": [],
   "source": [
    "# get different indexes for snow on versus snow off values\n",
    "\n",
    "atl06_idx = (atl06sr_gdf['zscore'].abs() <= zscore_thresh)\n",
    "\n",
    "inner_snowoff_idx = (atl06sr_gdf['zscore'].abs() <= zscore_thresh) & \\\n",
    "    (atl06sr_gdf['difference_bicubic'].abs() <=absdiff_thresh) & \\\n",
    "    (atl06sr_gdf['snow_presence'] == 0)\n",
    "\n",
    "inner_snowon_idx = (atl06sr_gdf['zscore'].abs() <= zscore_thresh) & \\\n",
    "    (atl06sr_gdf['difference_bicubic'].abs() <=absdiff_thresh) & \\\n",
    "    (atl06sr_gdf['snow_presence'] == 1)"
   ]
  },
  {
   "cell_type": "markdown",
   "id": "804033b5-0499-4a21-9fd5-5d4be0f26f15",
   "metadata": {},
   "source": [
    "## Remove Offset Between Datasets  \n",
    "ICESat-2 is measuring the ground surface as slightly below the surface of the DEM.\n"
   ]
  },
  {
   "cell_type": "code",
   "execution_count": 70,
   "id": "2b3b67ba-56c2-4fa1-98b7-3958270d0e41",
   "metadata": {},
   "outputs": [
    {
     "data": {
      "text/plain": [
       "count    79932.000000\n",
       "mean        -0.151839\n",
       "std          1.193962\n",
       "min        -21.208852\n",
       "25%         -0.634525\n",
       "50%          0.000000\n",
       "75%          0.398409\n",
       "max         15.709196\n",
       "Name: diff_plus, dtype: float64"
      ]
     },
     "execution_count": 70,
     "metadata": {},
     "output_type": "execute_result"
    }
   ],
   "source": [
    "atl06sr_gdf = atl06sr_gdf.assign(diff_plus = atl06sr_gdf['difference'] - atl06sr_gdf.loc[inner_snowoff_idex, 'difference'].median())\n",
    "\n",
    "atl06sr_gdf[atl06sr_gdf['snow_presence'] == 0]['diff_plus'].describe()"
   ]
  },
  {
   "cell_type": "code",
   "execution_count": 69,
   "id": "9ff475c3-d9a3-4726-806b-9a533e90cdab",
   "metadata": {},
   "outputs": [
    {
     "data": {
      "text/plain": [
       "count    78751.000000\n",
       "mean        -0.136332\n",
       "std          0.916780\n",
       "min         -3.436143\n",
       "25%         -0.561569\n",
       "50%          0.000000\n",
       "75%          0.334435\n",
       "max          3.236326\n",
       "Name: diff_plus_bicubic, dtype: float64"
      ]
     },
     "execution_count": 69,
     "metadata": {},
     "output_type": "execute_result"
    }
   ],
   "source": [
    "atl06sr_gdf = atl06sr_gdf.assign(diff_plus_bicubic = atl06sr_gdf['difference_bicubic'] - atl06sr_gdf.loc[inner_snowoff_idx,'difference_bicubic'].median()) \n",
    "\n",
    "atl06sr_gdf[inner_snowoff_idx]['diff_plus_bicubic'].describe()"
   ]
  },
  {
   "cell_type": "markdown",
   "id": "0ace4df7-6a8c-4002-9d1d-fefc09e2f19a",
   "metadata": {},
   "source": [
    "### Compare to the coarser resolution (20m) sampled DTM:"
   ]
  },
  {
   "cell_type": "code",
   "execution_count": 71,
   "id": "51929294-6080-4833-87de-e0b1f8866cc3",
   "metadata": {},
   "outputs": [
    {
     "data": {
      "text/plain": [
       "count    79933.000000\n",
       "mean        -0.188369\n",
       "std          2.270651\n",
       "min        -32.046659\n",
       "25%         -1.181565\n",
       "50%          0.000000\n",
       "75%          0.877699\n",
       "max         27.291183\n",
       "Name: diff_plus_20m, dtype: float64"
      ]
     },
     "execution_count": 71,
     "metadata": {},
     "output_type": "execute_result"
    }
   ],
   "source": [
    "atl06sr_gdf['diff_plus_20m'] = atl06sr_gdf['difference_20m'] - atl06sr_gdf[atl06sr_gdf['snow_presence'] == 0]['difference_20m'].median()\n",
    "atl06sr_gdf[atl06sr_gdf['snow_presence'] == 0]['diff_plus_20m'].describe()"
   ]
  },
  {
   "cell_type": "code",
   "execution_count": 72,
   "id": "d289397c-a9ed-4deb-8ff8-cd893e72a307",
   "metadata": {},
   "outputs": [
    {
     "name": "stderr",
     "output_type": "stream",
     "text": [
      "/Users/Hannah/opt/miniconda3/envs/analysis_2022/lib/python3.8/site-packages/numpy/lib/function_base.py:4691: UserWarning: Warning: 'partition' will ignore the 'mask' of the MaskedArray.\n",
      "  arr.partition(\n"
     ]
    },
    {
     "data": {
      "text/plain": [
       "count    146647.000000\n",
       "mean         -0.077491\n",
       "std           1.205088\n",
       "min         -21.208852\n",
       "25%          -0.580094\n",
       "50%           0.064720\n",
       "75%           0.536906\n",
       "max          15.709196\n",
       "Name: diff_plus, dtype: float64"
      ]
     },
     "execution_count": 72,
     "metadata": {},
     "output_type": "execute_result"
    }
   ],
   "source": [
    "atl06sr_gdf['diff_plus'].describe()"
   ]
  },
  {
   "cell_type": "code",
   "execution_count": 73,
   "id": "e65e1a76-4dc4-4f92-984d-a807f4a40909",
   "metadata": {},
   "outputs": [
    {
     "name": "stderr",
     "output_type": "stream",
     "text": [
      "/Users/Hannah/opt/miniconda3/envs/analysis_2022/lib/python3.8/site-packages/numpy/lib/function_base.py:4691: UserWarning: Warning: 'partition' will ignore the 'mask' of the MaskedArray.\n",
      "  arr.partition(\n"
     ]
    },
    {
     "data": {
      "text/plain": [
       "count    146662.000000\n",
       "mean         -0.109742\n",
       "std           2.364963\n",
       "min         -32.046659\n",
       "25%          -1.191098\n",
       "50%           0.066426\n",
       "75%           1.061379\n",
       "max          27.291183\n",
       "Name: diff_plus_20m, dtype: float64"
      ]
     },
     "execution_count": 73,
     "metadata": {},
     "output_type": "execute_result"
    }
   ],
   "source": [
    "atl06sr_gdf['diff_plus_20m'].describe()"
   ]
  },
  {
   "cell_type": "code",
   "execution_count": 74,
   "id": "2e193b82-b656-4107-b7c9-f8018566a6db",
   "metadata": {},
   "outputs": [
    {
     "data": {
      "text/plain": [
       "Text(0.5, 1.0, '20m')"
      ]
     },
     "execution_count": 74,
     "metadata": {},
     "output_type": "execute_result"
    },
    {
     "data": {
      "image/png": "[encoded data removed]",
      "text/plain": [
       "<Figure size 640x480 with 4 Axes>"
      ]
     },
     "metadata": {},
     "output_type": "display_data"
    }
   ],
   "source": [
    "fig, ax = plt.subplots(1,4, sharey=True)\n",
    "atl06sr_gdf[atl06sr_gdf['snow_presence'] == 0].boxplot(column=['difference'], showfliers=False, ax=ax[0])\n",
    "atl06sr_gdf[atl06sr_gdf['snow_presence'] == 0].boxplot(column=['difference_20m'], showfliers=False, ax=ax[1])\n",
    "atl06sr_gdf.boxplot(column=['diff_plus'], showfliers=False, ax=ax[2])\n",
    "atl06sr_gdf.boxplot(column=['diff_plus_20m'], showfliers=False, ax=ax[3])\n",
    "ax[0].set_ylabel('ATL06SR - ASO Snow Off (m)')\n",
    "fig.suptitle('Snow Off | All Data')\n",
    "ax[0].set_title('3m')\n",
    "ax[1].set_title('20m')\n",
    "ax[2].set_title('3m')\n",
    "ax[3].set_title('20m')"
   ]
  },
  {
   "cell_type": "markdown",
   "id": "dbb5ee29-cfe9-4b34-85a3-a654972e7738",
   "metadata": {},
   "source": [
    "The coarser resolution increases the spread. We will stick with the original resolution of 3m."
   ]
  },
  {
   "cell_type": "markdown",
   "id": "b376bd2c-56ab-4ac2-bb8c-34caf526f7c8",
   "metadata": {},
   "source": [
    "### Compare the samling techniques:"
   ]
  },
  {
   "cell_type": "code",
   "execution_count": 38,
   "id": "6ce34d58-402d-4440-8d88-733842143c02",
   "metadata": {},
   "outputs": [
    {
     "data": {
      "text/plain": [
       "Text(0.5, 0, 'dif_plus')"
      ]
     },
     "execution_count": 38,
     "metadata": {},
     "output_type": "execute_result"
    },
    {
     "data": {
      "image/png": "[encoded data removed]",
      "text/plain": [
       "<Figure size 640x480 with 4 Axes>"
      ]
     },
     "metadata": {},
     "output_type": "display_data"
    }
   ],
   "source": [
    "fig, ax = plt.subplots(1,4, sharey=True)\n",
    "atl06sr_gdf[atl06sr_gdf['snow_presence'] == 0].boxplot(column=['difference'], showfliers=False, ax=ax[0])\n",
    "atl06sr_gdf[atl06sr_gdf['snow_presence'] == 0].boxplot(column=['difference_bicubic'], showfliers=False, ax=ax[1])\n",
    "atl06sr_gdf.boxplot(column=['diff_plus'], showfliers=False, ax=ax[2])\n",
    "atl06sr_gdf.boxplot(column=['diff_plus_bicubic'], showfliers=False, ax=ax[3])\n",
    "ax[0].set_ylabel('ATL06SR - DTM (m)')\n",
    "fig.suptitle('Snow Off | All Data')\n",
    "ax[0].set_title('nn')\n",
    "ax[0].set_xlabel('dif')\n",
    "ax[1].set_title('cub')\n",
    "ax[1].set_xlabel('dif')\n",
    "ax[2].set_title('nn')\n",
    "ax[2].set_xlabel('dif_plus')\n",
    "ax[3].set_title('cub')\n",
    "ax[3].set_xlabel('dif_plus')"
   ]
  },
  {
   "cell_type": "markdown",
   "id": "147e9969-5dbc-4f30-bcaf-76fae7119b63",
   "metadata": {},
   "source": [
    "## Save these sampled fields to the original dataframe  "
   ]
  },
  {
   "cell_type": "code",
   "execution_count": 99,
   "id": "53a4e3d3-098a-466e-a89a-f6a1870c18d2",
   "metadata": {},
   "outputs": [],
   "source": [
    "#atl06sr = pickle.load(open('../../data/atl06/methow_all_sr-atl06-10172022_processed_wo-dems_7912.pkl', 'rb'))"
   ]
  },
  {
   "cell_type": "code",
   "execution_count": 101,
   "id": "7ef87ff8-350b-47c9-a6e5-8f769c1534d1",
   "metadata": {},
   "outputs": [],
   "source": [
    "# atl06sr['acqdate'] = atl06sr.index.date\n",
    "# atl06sr['n'] = atl06sr.groupby('acqdate')['acqdate'].transform('count')\n",
    "# atl06sr['h_mean_transformed'] = atl06sr_gdf.geometry.z\n",
    "# atl06sr['bicubic_lidar_z'] = atl06sr_gdf['bicubic_lidar_z']\n",
    "# atl06sr['difference_bicubic'] = atl06sr_gdf['difference_bicubic']\n",
    "# atl06sr['zscore'] = atl06sr_gdf['zscore']\n",
    "# atl06sr['diff_plus_bicubic_update'] = atl06sr_gdf['diff_plus_bicubic']\n",
    "# atl06sr['slope_20m'] = atl06sr_gdf['slope20']\n",
    "# atl06sr = atl06sr[atl06sr['n'] > 30]"
   ]
  },
  {
   "cell_type": "markdown",
   "id": "0b97e2c6-5e1e-42d4-b079-6d9a40213b33",
   "metadata": {
    "tags": []
   },
   "source": [
    "# Save a file with all the sampled data:  "
   ]
  },
  {
   "cell_type": "code",
   "execution_count": 102,
   "id": "66fddcb3-6913-4665-8901-500e0118ee4b",
   "metadata": {},
   "outputs": [],
   "source": [
    "atl06sr_out_fn = '../../data/atl06/methow_all_sr-atl06-10172022_processed_bicubic_7912.pkl'\n",
    "\n",
    "with open(atl06sr_out_fn, 'wb') as f:\n",
    "    pickle.dump(atl06sr, f)"
   ]
  }
 ],
 "metadata": {
  "kernelspec": {
   "display_name": "Python 3 (ipykernel)",
   "language": "python",
   "name": "python3"
  },
  "language_info": {
   "codemirror_mode": {
    "name": "ipython",
    "version": 3
   },
   "file_extension": ".py",
   "mimetype": "text/x-python",
   "name": "python",
   "nbconvert_exporter": "python",
   "pygments_lexer": "ipython3",
   "version": "3.9.16"
  }
 },
 "nbformat": 4,
 "nbformat_minor": 5
}
