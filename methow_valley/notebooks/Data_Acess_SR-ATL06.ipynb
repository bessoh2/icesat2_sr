{
 "cells": [
  {
   "cell_type": "markdown",
   "id": "4ce139ad",
   "metadata": {},
   "source": [
    "# Data Access\n",
    "\n",
    "This notebook is mostly from a notebook created by Tyler Sutterly for the 2022 ICESat-2 Hackweek, put on by the e-science institute at UW.  "
   ]
  },
  {
   "cell_type": "code",
   "execution_count": 1,
   "id": "95256825",
   "metadata": {},
   "outputs": [],
   "source": [
    "import geopandas as gpd\n",
    "import ipyleaflet\n",
    "import ipywidgets as widgets\n",
    "import logging\n",
    "import matplotlib.pyplot as plt\n",
    "import numpy as np\n",
    "from shapely.geometry import Polygon\n",
    "import warnings\n",
    "import sliderule.icesat2\n",
    "import sliderule.io\n",
    "import sliderule.ipysliderule\n",
    "import pandas as pd\n",
    "from datetime import datetime\n",
    "import pickle\n",
    "warnings.filterwarnings('ignore')"
   ]
  },
  {
   "cell_type": "code",
   "execution_count": 2,
   "id": "818ce376",
   "metadata": {},
   "outputs": [],
   "source": [
    "%matplotlib inline"
   ]
  },
  {
   "cell_type": "code",
   "execution_count": 5,
   "id": "b84a5a92",
   "metadata": {},
   "outputs": [],
   "source": [
    "# set the url for the sliderule service\n",
    "# set the logging level\n",
    "sliderule.icesat2.init(\"slideruleearth.io\", loglevel=logging.WARNING)"
   ]
  },
  {
   "cell_type": "code",
   "execution_count": 7,
   "id": "626961c0",
   "metadata": {},
   "outputs": [
    {
     "data": {
      "application/vnd.jupyter.widget-view+json": {
       "model_id": "968150848b5c4bd48a68c95244cca4ac",
       "version_major": 2,
       "version_minor": 0
      },
      "text/plain": [
       "VBox(children=(Dropdown(description='Asset:', index=2, options=('atlas-local', 'atlas-s3', 'icesat2'), tooltip…"
      ]
     },
     "execution_count": 7,
     "metadata": {},
     "output_type": "execute_result"
    }
   ],
   "source": [
    "# display widgets for setting SlideRule parameters\n",
    "SRwidgets = sliderule.ipysliderule.widgets()\n",
    "# show widgets\n",
    "widgets.VBox([\n",
    "    SRwidgets.asset,\n",
    "    SRwidgets.release,\n",
    "    SRwidgets.surface_type,\n",
    "    SRwidgets.length,\n",
    "    SRwidgets.step,\n",
    "    SRwidgets.confidence,\n",
    "    SRwidgets.land_class,\n",
    "    SRwidgets.iteration,\n",
    "    SRwidgets.spread,\n",
    "    SRwidgets.count,\n",
    "    SRwidgets.window,\n",
    "    SRwidgets.sigma\n",
    "])"
   ]
  },
  {
   "cell_type": "code",
   "execution_count": 48,
   "id": "b6f3ef57",
   "metadata": {},
   "outputs": [
    {
     "data": {
      "application/vnd.jupyter.widget-view+json": {
       "model_id": "04e1a7bc59604408abeaafb0fdd825ca",
       "version_major": 2,
       "version_minor": 0
      },
      "text/plain": [
       "VBox(children=(Dropdown(description='Projection:', description_tooltip='Projection: leaflet map projection\\n\\t…"
      ]
     },
     "metadata": {},
     "output_type": "display_data"
    }
   ],
   "source": [
    "widgets.VBox([SRwidgets.projection, SRwidgets.layers])"
   ]
  },
  {
   "cell_type": "code",
   "execution_count": 55,
   "id": "590527be",
   "metadata": {},
   "outputs": [],
   "source": [
    "# should use the pickle version once I create it.\n",
    "methow = '../../data/site_outlines/methow_outline_4326.pkl'"
   ]
  },
  {
   "cell_type": "code",
   "execution_count": 56,
   "id": "2ac4eeee",
   "metadata": {},
   "outputs": [
    {
     "data": {
      "text/html": [
       "<div>\n",
       "<style scoped>\n",
       "    .dataframe tbody tr th:only-of-type {\n",
       "        vertical-align: middle;\n",
       "    }\n",
       "\n",
       "    .dataframe tbody tr th {\n",
       "        vertical-align: top;\n",
       "    }\n",
       "\n",
       "    .dataframe thead th {\n",
       "        text-align: right;\n",
       "    }\n",
       "</style>\n",
       "<table border=\"1\" class=\"dataframe\">\n",
       "  <thead>\n",
       "    <tr style=\"text-align: right;\">\n",
       "      <th></th>\n",
       "      <th>fn</th>\n",
       "      <th>date</th>\n",
       "      <th>geometry</th>\n",
       "    </tr>\n",
       "  </thead>\n",
       "  <tbody>\n",
       "    <tr>\n",
       "      <th>3</th>\n",
       "      <td>./datasetsA/methow_basin_2018/dtm/raw/methow_b...</td>\n",
       "      <td>2018</td>\n",
       "      <td>POLYGON ((-120.33042 48.80903, -120.33042 48.8...</td>\n",
       "    </tr>\n",
       "  </tbody>\n",
       "</table>\n",
       "</div>"
      ],
      "text/plain": [
       "                                                  fn  date  \\\n",
       "3  ./datasetsA/methow_basin_2018/dtm/raw/methow_b...  2018   \n",
       "\n",
       "                                            geometry  \n",
       "3  POLYGON ((-120.33042 48.80903, -120.33042 48.8...  "
      ]
     },
     "execution_count": 56,
     "metadata": {},
     "output_type": "execute_result"
    }
   ],
   "source": [
    "polygon_gdf = pickle.load(open(methow, 'rb'))\n",
    "polygon_gdf.head()"
   ]
  },
  {
   "cell_type": "code",
   "execution_count": 58,
   "id": "bcdebb5c",
   "metadata": {},
   "outputs": [
    {
     "data": {
      "text/plain": [
       "<Geographic 2D CRS: EPSG:4326>\n",
       "Name: WGS 84\n",
       "Axis Info [ellipsoidal]:\n",
       "- Lat[north]: Geodetic latitude (degree)\n",
       "- Lon[east]: Geodetic longitude (degree)\n",
       "Area of Use:\n",
       "- name: World.\n",
       "- bounds: (-180.0, -90.0, 180.0, 90.0)\n",
       "Datum: World Geodetic System 1984 ensemble\n",
       "- Ellipsoid: WGS 84\n",
       "- Prime Meridian: Greenwich"
      ]
     },
     "execution_count": 58,
     "metadata": {},
     "output_type": "execute_result"
    }
   ],
   "source": [
    "polygon_gdf.crs"
   ]
  },
  {
   "cell_type": "code",
   "execution_count": 59,
   "id": "afbdd322",
   "metadata": {},
   "outputs": [
    {
     "data": {
      "application/vnd.jupyter.widget-view+json": {
       "model_id": "e791e5b026f64986b20a97a87ee0ca77",
       "version_major": 2,
       "version_minor": 0
      },
      "text/plain": [
       "Map(center=[39, -108], controls=(ZoomControl(options=['position', 'zoom_in_text', 'zoom_in_title', 'zoom_out_t…"
      ]
     },
     "metadata": {},
     "output_type": "display_data"
    }
   ],
   "source": [
    "# create ipyleaflet map in specified projection\n",
    "m = sliderule.ipysliderule.leaflet(SRwidgets.projection.value)\n",
    "m.add_layer(layers=SRwidgets.layers.value)\n",
    "\n",
    "# Comment this section out if you want to draw your own polygon!\n",
    "# ---\n",
    "#box = shapely.geometry.Polygon([(-108.3,38.9), (-108.0,38.9), (-108.0,39.1), (-108.3, 39.1)])\n",
    "#geobox = gpd.GeoDataFrame(geometry=[box], crs='EPSG:4326')\n",
    "default_polygon = sliderule.io.from_geodataframe(polygon_gdf)\n",
    "geodata = ipyleaflet.GeoData(geo_dataframe=polygon_gdf)\n",
    "m.map.add_layer(geodata)\n",
    "# ---\n",
    "\n",
    "m.map"
   ]
  },
  {
   "cell_type": "code",
   "execution_count": 60,
   "id": "dda71c97",
   "metadata": {},
   "outputs": [],
   "source": [
    "#%%time\n",
    "# sliderule asset and data release\n",
    "asset = SRwidgets.asset.value\n",
    "release = SRwidgets.release.value\n",
    "\n",
    "# build sliderule parameters using latest values from widget\n",
    "params = {\n",
    "    # surface type: 0-land, 1-ocean, 2-sea ice, 3-land ice, 4-inland water\n",
    "    \"srt\": SRwidgets.surface_type.index,\n",
    "    # length of ATL06-SR segment in meters\n",
    "    \"len\": SRwidgets.length.value,\n",
    "    # step distance for successive ATL06-SR segments in meters\n",
    "    \"res\": SRwidgets.step.value,\n",
    "    # confidence level for PE selection\n",
    "    \"cnf\": SRwidgets.confidence.value,\n",
    "    # ATL08 land surface classifications\n",
    "    \"atl08_class\": list(SRwidgets.land_class.value),\n",
    "    # maximum iterations, not including initial least-squares-fit selection\n",
    "    \"maxi\": SRwidgets.iteration.value,\n",
    "    # minimum along track spread\n",
    "    \"ats\": SRwidgets.spread.value,\n",
    "    # minimum PE count\n",
    "    \"cnt\": SRwidgets.count.value,\n",
    "    # minimum height of PE window in meters\n",
    "    \"H_min_win\": SRwidgets.window.value,\n",
    "    # maximum robust dispersion in meters\n",
    "    \"sigma_r_max\": SRwidgets.sigma.value\n",
    "}\n",
    "\n",
    "region = sliderule.icesat2.toregion(polygon_gdf)\n",
    "params[\"poly\"] = region[\"poly\"]   # will always be the convex hull of the polygon\n",
    "params[\"raster\"] = region[\"raster\"]   # raster will include all vertices, including holes. This is more processing, but is only an issue with very large requests.\n",
    "gdf = sliderule.icesat2.atl06p(params, asset, version=release)"
   ]
  },
  {
   "cell_type": "code",
   "execution_count": 61,
   "id": "6674334f",
   "metadata": {},
   "outputs": [
    {
     "name": "stdout",
     "output_type": "stream",
     "text": [
      "Returned 148886 records\n"
     ]
    },
    {
     "data": {
      "text/html": [
       "<div>\n",
       "<style scoped>\n",
       "    .dataframe tbody tr th:only-of-type {\n",
       "        vertical-align: middle;\n",
       "    }\n",
       "\n",
       "    .dataframe tbody tr th {\n",
       "        vertical-align: top;\n",
       "    }\n",
       "\n",
       "    .dataframe thead th {\n",
       "        text-align: right;\n",
       "    }\n",
       "</style>\n",
       "<table border=\"1\" class=\"dataframe\">\n",
       "  <thead>\n",
       "    <tr style=\"text-align: right;\">\n",
       "      <th></th>\n",
       "      <th>pflags</th>\n",
       "      <th>h_mean</th>\n",
       "      <th>dh_fit_dy</th>\n",
       "      <th>spot</th>\n",
       "      <th>w_surface_window_final</th>\n",
       "      <th>h_sigma</th>\n",
       "      <th>distance</th>\n",
       "      <th>segment_id</th>\n",
       "      <th>dh_fit_dx</th>\n",
       "      <th>rgt</th>\n",
       "      <th>cycle</th>\n",
       "      <th>delta_time</th>\n",
       "      <th>gt</th>\n",
       "      <th>n_fit_photons</th>\n",
       "      <th>rms_misfit</th>\n",
       "      <th>geometry</th>\n",
       "    </tr>\n",
       "    <tr>\n",
       "      <th>time</th>\n",
       "      <th></th>\n",
       "      <th></th>\n",
       "      <th></th>\n",
       "      <th></th>\n",
       "      <th></th>\n",
       "      <th></th>\n",
       "      <th></th>\n",
       "      <th></th>\n",
       "      <th></th>\n",
       "      <th></th>\n",
       "      <th></th>\n",
       "      <th></th>\n",
       "      <th></th>\n",
       "      <th></th>\n",
       "      <th></th>\n",
       "      <th></th>\n",
       "    </tr>\n",
       "  </thead>\n",
       "  <tbody>\n",
       "    <tr>\n",
       "      <th>2018-11-09 22:09:43.662511060</th>\n",
       "      <td>0</td>\n",
       "      <td>774.110259</td>\n",
       "      <td>0.0</td>\n",
       "      <td>5</td>\n",
       "      <td>9.386548</td>\n",
       "      <td>0.079705</td>\n",
       "      <td>5.382001e+06</td>\n",
       "      <td>268398</td>\n",
       "      <td>0.367318</td>\n",
       "      <td>646</td>\n",
       "      <td>1</td>\n",
       "      <td>2.703658e+07</td>\n",
       "      <td>20</td>\n",
       "      <td>41</td>\n",
       "      <td>0.506044</td>\n",
       "      <td>POINT (-120.00053 48.33917)</td>\n",
       "    </tr>\n",
       "    <tr>\n",
       "      <th>2018-11-09 22:09:43.789049908</th>\n",
       "      <td>0</td>\n",
       "      <td>919.941824</td>\n",
       "      <td>0.0</td>\n",
       "      <td>5</td>\n",
       "      <td>3.000000</td>\n",
       "      <td>0.050617</td>\n",
       "      <td>5.382903e+06</td>\n",
       "      <td>268443</td>\n",
       "      <td>0.028568</td>\n",
       "      <td>646</td>\n",
       "      <td>1</td>\n",
       "      <td>2.703658e+07</td>\n",
       "      <td>20</td>\n",
       "      <td>42</td>\n",
       "      <td>0.305572</td>\n",
       "      <td>POINT (-120.00167 48.34723)</td>\n",
       "    </tr>\n",
       "    <tr>\n",
       "      <th>2018-11-09 22:09:43.794872008</th>\n",
       "      <td>0</td>\n",
       "      <td>918.460968</td>\n",
       "      <td>0.0</td>\n",
       "      <td>5</td>\n",
       "      <td>3.029108</td>\n",
       "      <td>0.046853</td>\n",
       "      <td>5.382943e+06</td>\n",
       "      <td>268445</td>\n",
       "      <td>-0.116342</td>\n",
       "      <td>646</td>\n",
       "      <td>1</td>\n",
       "      <td>2.703658e+07</td>\n",
       "      <td>20</td>\n",
       "      <td>31</td>\n",
       "      <td>0.240537</td>\n",
       "      <td>POINT (-120.00172 48.34760)</td>\n",
       "    </tr>\n",
       "    <tr>\n",
       "      <th>2018-11-09 22:09:43.797684372</th>\n",
       "      <td>0</td>\n",
       "      <td>916.399163</td>\n",
       "      <td>0.0</td>\n",
       "      <td>5</td>\n",
       "      <td>3.000000</td>\n",
       "      <td>0.059160</td>\n",
       "      <td>5.382963e+06</td>\n",
       "      <td>268446</td>\n",
       "      <td>-0.091024</td>\n",
       "      <td>646</td>\n",
       "      <td>1</td>\n",
       "      <td>2.703658e+07</td>\n",
       "      <td>20</td>\n",
       "      <td>39</td>\n",
       "      <td>0.325805</td>\n",
       "      <td>POINT (-120.00174 48.34778)</td>\n",
       "    </tr>\n",
       "    <tr>\n",
       "      <th>2018-11-09 22:09:43.800494952</th>\n",
       "      <td>0</td>\n",
       "      <td>915.721672</td>\n",
       "      <td>0.0</td>\n",
       "      <td>5</td>\n",
       "      <td>3.000000</td>\n",
       "      <td>0.038990</td>\n",
       "      <td>5.382983e+06</td>\n",
       "      <td>268447</td>\n",
       "      <td>-0.027886</td>\n",
       "      <td>646</td>\n",
       "      <td>1</td>\n",
       "      <td>2.703658e+07</td>\n",
       "      <td>20</td>\n",
       "      <td>40</td>\n",
       "      <td>0.245902</td>\n",
       "      <td>POINT (-120.00177 48.34796)</td>\n",
       "    </tr>\n",
       "  </tbody>\n",
       "</table>\n",
       "</div>"
      ],
      "text/plain": [
       "                               pflags      h_mean  dh_fit_dy  spot  \\\n",
       "time                                                                 \n",
       "2018-11-09 22:09:43.662511060       0  774.110259        0.0     5   \n",
       "2018-11-09 22:09:43.789049908       0  919.941824        0.0     5   \n",
       "2018-11-09 22:09:43.794872008       0  918.460968        0.0     5   \n",
       "2018-11-09 22:09:43.797684372       0  916.399163        0.0     5   \n",
       "2018-11-09 22:09:43.800494952       0  915.721672        0.0     5   \n",
       "\n",
       "                               w_surface_window_final   h_sigma      distance  \\\n",
       "time                                                                            \n",
       "2018-11-09 22:09:43.662511060                9.386548  0.079705  5.382001e+06   \n",
       "2018-11-09 22:09:43.789049908                3.000000  0.050617  5.382903e+06   \n",
       "2018-11-09 22:09:43.794872008                3.029108  0.046853  5.382943e+06   \n",
       "2018-11-09 22:09:43.797684372                3.000000  0.059160  5.382963e+06   \n",
       "2018-11-09 22:09:43.800494952                3.000000  0.038990  5.382983e+06   \n",
       "\n",
       "                               segment_id  dh_fit_dx  rgt  cycle  \\\n",
       "time                                                               \n",
       "2018-11-09 22:09:43.662511060      268398   0.367318  646      1   \n",
       "2018-11-09 22:09:43.789049908      268443   0.028568  646      1   \n",
       "2018-11-09 22:09:43.794872008      268445  -0.116342  646      1   \n",
       "2018-11-09 22:09:43.797684372      268446  -0.091024  646      1   \n",
       "2018-11-09 22:09:43.800494952      268447  -0.027886  646      1   \n",
       "\n",
       "                                 delta_time  gt  n_fit_photons  rms_misfit  \\\n",
       "time                                                                         \n",
       "2018-11-09 22:09:43.662511060  2.703658e+07  20             41    0.506044   \n",
       "2018-11-09 22:09:43.789049908  2.703658e+07  20             42    0.305572   \n",
       "2018-11-09 22:09:43.794872008  2.703658e+07  20             31    0.240537   \n",
       "2018-11-09 22:09:43.797684372  2.703658e+07  20             39    0.325805   \n",
       "2018-11-09 22:09:43.800494952  2.703658e+07  20             40    0.245902   \n",
       "\n",
       "                                                  geometry  \n",
       "time                                                        \n",
       "2018-11-09 22:09:43.662511060  POINT (-120.00053 48.33917)  \n",
       "2018-11-09 22:09:43.789049908  POINT (-120.00167 48.34723)  \n",
       "2018-11-09 22:09:43.794872008  POINT (-120.00172 48.34760)  \n",
       "2018-11-09 22:09:43.797684372  POINT (-120.00174 48.34778)  \n",
       "2018-11-09 22:09:43.800494952  POINT (-120.00177 48.34796)  "
      ]
     },
     "execution_count": 61,
     "metadata": {},
     "output_type": "execute_result"
    }
   ],
   "source": [
    "print(f'Returned {gdf.shape[0]} records')\n",
    "gdf.head()"
   ]
  },
  {
   "cell_type": "code",
   "execution_count": 62,
   "id": "f303dedd-c453-4a78-a45b-e5ee4f1c8358",
   "metadata": {},
   "outputs": [],
   "source": [
    "out_fn = '../../data/methow_all_sr-atl06-10182022.pkl'\n",
    "\n",
    "with open(out_fn, 'wb') as f:\n",
    "    pickle.dump(gdf, f)"
   ]
  }
 ],
 "metadata": {
  "kernelspec": {
   "display_name": "Python 3 (ipykernel)",
   "language": "python",
   "name": "python3"
  },
  "language_info": {
   "codemirror_mode": {
    "name": "ipython",
    "version": 3
   },
   "file_extension": ".py",
   "mimetype": "text/x-python",
   "name": "python",
   "nbconvert_exporter": "python",
   "pygments_lexer": "ipython3",
   "version": "3.9.16"
  }
 },
 "nbformat": 4,
 "nbformat_minor": 5
}
