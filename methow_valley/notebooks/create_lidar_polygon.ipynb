{
 "cells": [
  {
   "cell_type": "markdown",
   "id": "7ba642f0",
   "metadata": {},
   "source": [
    "## Create a polygon around the extent of the lidar study area  \n",
    "Code adapted from David Shean"
   ]
  },
  {
   "cell_type": "markdown",
   "id": "4e6f9de4",
   "metadata": {},
   "source": [
    "Load a reduced resolution overview for processing  \n",
    "Assumes overviews have already been generated with `gdaladdo -r gauss`"
   ]
  },
  {
   "cell_type": "markdown",
   "id": "973c1332-d42f-4de3-8bb7-137ca070cea9",
   "metadata": {},
   "source": [
    "### Load necessary packages"
   ]
  },
  {
   "cell_type": "code",
   "execution_count": 1,
   "id": "14acfc05",
   "metadata": {},
   "outputs": [],
   "source": [
    "import os\n",
    "import numpy as np\n",
    "import pandas as pd\n",
    "import geopandas as gpd\n",
    "import matplotlib.pyplot as plt\n",
    "from astropy.time import Time\n",
    "from datetime import datetime\n",
    "import rasterio as rio\n",
    "from rasterio import features"
   ]
  },
  {
   "cell_type": "code",
   "execution_count": 2,
   "id": "34ee425f",
   "metadata": {},
   "outputs": [],
   "source": [
    "%matplotlib inline"
   ]
  },
  {
   "cell_type": "markdown",
   "id": "ad159280-b911-489a-a7dd-2565988f2252",
   "metadata": {},
   "source": [
    "#### Define a useful function:"
   ]
  },
  {
   "cell_type": "code",
   "execution_count": 3,
   "id": "bef4f8e2",
   "metadata": {},
   "outputs": [],
   "source": [
    "#Add DOY and DOWY column\n",
    "def add_dowy(df, col=None):\n",
    "    print(\"Adding Day of Water Year (DOWY)\")\n",
    "    if col is None:\n",
    "        df['doy'] = df.index.dayofyear\n",
    "        df['decyear'] = Time(df.index).decimalyear\n",
    "    else:\n",
    "        df['doy'] = pd.to_datetime(df[col]).dt.dayofyear\n",
    "        df['decyear'] = Time(pd.to_datetime(df[col])).decimalyear\n",
    "    \n",
    "    #df['dowy'] = (df['doy'].index - pd.DateOffset(months=9)).dayofyear\n",
    "    # Sept 30 is doy 273\n",
    "    df['dowy'] = df['doy'] - 273\n",
    "    df.loc[df['dowy'] <= 0, 'dowy'] += 365"
   ]
  },
  {
   "cell_type": "markdown",
   "id": "43f2de03-87d0-4c07-a9e9-426a6c215bac",
   "metadata": {},
   "source": [
    "#### Load in the lidar data:"
   ]
  },
  {
   "cell_type": "code",
   "execution_count": 4,
   "id": "adb13e59",
   "metadata": {},
   "outputs": [],
   "source": [
    "dnr_fn = './datasetsA/methow_basin_2018/dtm/raw/methow_basin_2018_dtm_combined_asp-adj_4326.tif'"
   ]
  },
  {
   "cell_type": "markdown",
   "id": "6695be69-1655-4cbe-8347-c2cfef1eed68",
   "metadata": {},
   "source": [
    "#### Create features from the lidar file:"
   ]
  },
  {
   "cell_type": "code",
   "execution_count": 6,
   "id": "89514fc4",
   "metadata": {},
   "outputs": [],
   "source": [
    "# I only have one lidar file, so I pulled this code out of the for loop that was\n",
    "# written by David Shean in his GrandMesa_analysis notebook.\n",
    "\n",
    "dnr_feat_list = []\n",
    "#ovr_scale = 8\n",
    "dt_fieldnum = 4\n",
    "src = rio.open(dnr_fn)\n",
    "a = src.read(1, masked=True)\n",
    "mask = np.ma.getmaskarray(a).astype(np.uint8) - 1\n",
    "shapes = features.shapes(mask, mask=mask, transform=src.transform)\n",
    "geom_list = list(shapes)\n",
    "dt = os.path.splitext(os.path.split(dnr_fn)[-1])[0].split('_')[dt_fieldnum]\n",
    "dnr_feat_list.extend([{'properties':{'fn':dnr_fn, 'date':'2018'}, 'geometry':i[0]} for i in geom_list])"
   ]
  },
  {
   "cell_type": "markdown",
   "id": "09f0faa0-7255-471a-8809-8f3ba1d22d00",
   "metadata": {},
   "source": [
    "Form these features into a geodataframe:"
   ]
  },
  {
   "cell_type": "code",
   "execution_count": 17,
   "id": "05d8f3c5",
   "metadata": {},
   "outputs": [],
   "source": [
    "#dnr_gdf = gpd.GeoDataFrame.from_features(dnr_feat_list, crs=src.crs)\n",
    "dnr_gdf = gpd.GeoDataFrame.from_features(dnr_feat_list, crs=src.crs)"
   ]
  },
  {
   "cell_type": "code",
   "execution_count": 9,
   "id": "f1166725",
   "metadata": {},
   "outputs": [
    {
     "data": {
      "text/plain": [
       "<Projected CRS: EPSG:32613>\n",
       "Name: WGS 84 / UTM zone 13N\n",
       "Axis Info [cartesian]:\n",
       "- [east]: Easting (metre)\n",
       "- [north]: Northing (metre)\n",
       "Area of Use:\n",
       "- undefined\n",
       "Coordinate Operation:\n",
       "- name: UTM zone 13N\n",
       "- method: Transverse Mercator\n",
       "Datum: World Geodetic System 1984\n",
       "- Ellipsoid: WGS 84\n",
       "- Prime Meridian: Greenwich"
      ]
     },
     "execution_count": 9,
     "metadata": {},
     "output_type": "execute_result"
    }
   ],
   "source": [
    "dnr_gdf.crs"
   ]
  },
  {
   "cell_type": "markdown",
   "id": "15aa4409-da6d-4ecf-9911-7c2eebdca439",
   "metadata": {},
   "source": [
    "#### Remove tiny polygons:"
   ]
  },
  {
   "cell_type": "code",
   "execution_count": 18,
   "id": "0fb76ec0",
   "metadata": {},
   "outputs": [],
   "source": [
    "#remove tiny polygons, if using a crs with units in meters (not degrees)\n",
    "area_thresh = 1e8\n",
    "dnr_gdf = dnr_gdf.loc[dnr_gdf.area > area_thresh]"
   ]
  },
  {
   "cell_type": "code",
   "execution_count": null,
   "id": "42f26c0d",
   "metadata": {},
   "outputs": [],
   "source": [
    "# if the above area threshold isn't big enough (or doesn't work because of the crs)\n",
    "#dnr_gdf = dnr_gdf.drop([0,1,2])"
   ]
  },
  {
   "cell_type": "markdown",
   "id": "7c3a1f4c-f712-4fc7-af5b-ef09e045c5e0",
   "metadata": {},
   "source": [
    "#### Add metadata and formatting to the gdf:"
   ]
  },
  {
   "cell_type": "code",
   "execution_count": 21,
   "id": "0107af89",
   "metadata": {},
   "outputs": [
    {
     "name": "stdout",
     "output_type": "stream",
     "text": [
      "Adding Day of Water Year (DOWY)\n"
     ]
    }
   ],
   "source": [
    "dnr_gdf['date'] = pd.to_datetime(dnr_gdf['date'])\n",
    "add_dowy(dnr_gdf, col='date')\n",
    "dnr_gdf['platform'] = 'WaDNR'\n",
    "dnr_gdf['acqdate'] = dnr_gdf['date']\n",
    "dnr_gdf.set_index('date', inplace=True)"
   ]
  },
  {
   "cell_type": "markdown",
   "id": "86273dad-2dfb-4a05-a79d-adbe08cb2d6e",
   "metadata": {},
   "source": [
    "#### Save the geodataframe:"
   ]
  },
  {
   "cell_type": "code",
   "execution_count": 22,
   "id": "2047c722",
   "metadata": {},
   "outputs": [],
   "source": [
    "dnr_gdf.to_file('../../data/gm_outline.geojson', driver='GeoJSON')"
   ]
  }
 ],
 "metadata": {
  "kernelspec": {
   "display_name": "Python 3 (ipykernel)",
   "language": "python",
   "name": "python3"
  },
  "language_info": {
   "codemirror_mode": {
    "name": "ipython",
    "version": 3
   },
   "file_extension": ".py",
   "mimetype": "text/x-python",
   "name": "python",
   "nbconvert_exporter": "python",
   "pygments_lexer": "ipython3",
   "version": "3.9.16"
  }
 },
 "nbformat": 4,
 "nbformat_minor": 5
}
