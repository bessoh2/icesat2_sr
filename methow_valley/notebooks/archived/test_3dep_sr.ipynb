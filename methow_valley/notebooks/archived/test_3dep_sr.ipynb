{
 "cells": [
  {
   "cell_type": "markdown",
   "id": "c0650d11-4c4c-4dcc-916d-2fabf1a16592",
   "metadata": {},
   "source": [
    "## Test New 3DEP SlideRule Capabilities"
   ]
  },
  {
   "cell_type": "code",
   "execution_count": 28,
   "id": "ca44d5ff-19e4-4d9f-b88f-8b58041df8ae",
   "metadata": {},
   "outputs": [],
   "source": [
    "# From boulder_watershed_demo.ipynb\n",
    "import logging\n",
    "import geopandas as gpd\n",
    "import matplotlib.pyplot as plt\n",
    "from sliderule import icesat2\n",
    "\n",
    "# From 3dep_gedi_sample.ipynb\n",
    "import time\n",
    "from sliderule import earthdata, raster\n",
    "import sliderule"
   ]
  },
  {
   "cell_type": "code",
   "execution_count": 29,
   "id": "3fbf4af6-6b49-4048-868f-d760829e1dad",
   "metadata": {},
   "outputs": [],
   "source": [
    "# Configure ICESat-2 API\n",
    "icesat2.init(\"slideruleearth.io\", False)"
   ]
  },
  {
   "cell_type": "code",
   "execution_count": 39,
   "id": "e6a7870a-5a01-4757-a3cb-a0decf181652",
   "metadata": {},
   "outputs": [],
   "source": [
    "!cd ../../data/site_outlines/"
   ]
  },
  {
   "cell_type": "code",
   "execution_count": 40,
   "id": "f4f68d39-91dd-4a43-ad29-5df476ac88b2",
   "metadata": {},
   "outputs": [
    {
     "name": "stdout",
     "output_type": "stream",
     "text": [
      "/Users/Hannah/Documents/Documents_Grad/Research/IDS_westernUS/SlideRule_methow/notebooks\n"
     ]
    }
   ],
   "source": [
    "!pwd"
   ]
  },
  {
   "cell_type": "code",
   "execution_count": 41,
   "id": "17b665f0-525b-498d-80f6-2eb78e6883c5",
   "metadata": {},
   "outputs": [],
   "source": [
    "poly_fn = 'methow_outline_4326.geojson'\n",
    "region = sliderule.toregion(poly_fn)"
   ]
  },
  {
   "cell_type": "code",
   "execution_count": 44,
   "id": "fddd741c-5684-4290-9684-fd8cf63e28ac",
   "metadata": {},
   "outputs": [],
   "source": [
    "poly = region[\"poly\"]\n",
    "lats = [p[\"lat\"] for p in poly]\n",
    "lons = [p[\"lon\"] for p in poly]\n",
    "bbox = [\n",
    "    {'lat': min(lats), 'lon': min(lons)}, # ll\n",
    "    {'lat': min(lats), 'lon': max(lons)}, # lr\n",
    "    {'lat': max(lats), 'lon': max(lons)}, # ur\n",
    "    {'lat': max(lats), 'lon': min(lons)}, # ul\n",
    "    {'lat': min(lats), 'lon': min(lons)}, # ll\n",
    "]"
   ]
  },
  {
   "cell_type": "code",
   "execution_count": 42,
   "id": "9856a591-8f36-43b4-952a-5f1c7e899f24",
   "metadata": {},
   "outputs": [
    {
     "data": {
      "text/plain": [
       "106"
      ]
     },
     "execution_count": 42,
     "metadata": {},
     "output_type": "execute_result"
    }
   ],
   "source": [
    "len(region['poly'])"
   ]
  },
  {
   "cell_type": "code",
   "execution_count": 35,
   "id": "82b2f8ed-7b8f-4edf-b639-5158317d80e1",
   "metadata": {
    "collapsed": true,
    "jupyter": {
     "outputs_hidden": true
    }
   },
   "outputs": [
    {
     "data": {
      "text/plain": [
       "[{'lon': -120.03086975948115, 'lat': 48.23998489506269},\n",
       " {'lon': -120.03085972550102, 'lat': 48.23998489506269},\n",
       " {'lon': -120.03059884201778, 'lat': 48.239994929042815},\n",
       " {'lon': -120.03032792455443, 'lat': 48.240014997003065},\n",
       " {'lon': -120.03016738087244, 'lat': 48.240035064963315},\n",
       " {'lon': -120.03011721097181, 'lat': 48.24004509894344},\n",
       " {'lon': -120.01960159980142, 'lat': 48.242503424073924},\n",
       " {'lon': -120.01956146388092, 'lat': 48.24251345805405},\n",
       " {'lon': -120.0194310221393, 'lat': 48.24255359397454},\n",
       " {'lon': -120.01930058039768, 'lat': 48.24259372989504},\n",
       " {'lon': -120.00092836278986, 'lat': 48.24987839946537},\n",
       " {'lon': -120.00082802298861, 'lat': 48.24991853538587},\n",
       " {'lon': -120.00067751328676, 'lat': 48.249978739266616},\n",
       " {'lon': -120.0002861880619, 'lat': 48.250149316928734},\n",
       " {'lon': -120.0000855084594, 'lat': 48.25024965672998},\n",
       " {'lon': -119.99996510069792, 'lat': 48.25030986061072},\n",
       " {'lon': -119.99986476089667, 'lat': 48.25037006449147},\n",
       " {'lon': -119.99982462497618, 'lat': 48.250400166431845},\n",
       " {'lon': -119.99957377547307, 'lat': 48.250590812054206},\n",
       " {'lon': -119.99923262014883, 'lat': 48.25086172951757},\n",
       " {'lon': -119.99914231432771, 'lat': 48.25094200135856},\n",
       " {'lon': -119.99910217840721, 'lat': 48.25098213727906},\n",
       " {'lon': -119.99603178048915, 'lat': 48.254132807038125},\n",
       " {'lon': -119.99567055720466, 'lat': 48.25450406430273},\n",
       " {'lon': -119.87689833447186, 'lat': 48.3831196215376},\n",
       " {'lon': -119.87682809661099, 'lat': 48.383199893378595},\n",
       " {'lon': -119.87679799467061, 'lat': 48.383240029299095},\n",
       " {'lon': -119.87675785875011, 'lat': 48.38331026715996},\n",
       " {'lon': -119.87672775680974, 'lat': 48.38337047104071},\n",
       " {'lon': -119.87669765486937, 'lat': 48.383561116663074},\n",
       " {'lon': -119.87668762088924, 'lat': 48.38363135452395},\n",
       " {'lon': -119.87668762088924, 'lat': 48.383641388504074},\n",
       " {'lon': -119.87849373731164, 'lat': 48.40080952849696},\n",
       " {'lon': -119.87852383925201, 'lat': 48.40107041198019},\n",
       " {'lon': -119.91802761900188, 'lat': 48.68975805414},\n",
       " {'lon': -119.918037652982, 'lat': 48.689808224040625},\n",
       " {'lon': -119.91808782288263, 'lat': 48.68993866578224},\n",
       " {'lon': -119.91809785686274, 'lat': 48.68995873374249},\n",
       " {'lon': -119.91816809472361, 'lat': 48.690059073543736},\n",
       " {'lon': -119.91831860442548, 'lat': 48.69021961722572},\n",
       " {'lon': -119.91832863840561, 'lat': 48.69022965120585},\n",
       " {'lon': -119.9184891820876, 'lat': 48.6903299910071},\n",
       " {'lon': -119.93598844342459, 'lat': 48.70070512645575},\n",
       " {'lon': -119.93607874924571, 'lat': 48.70075529635637},\n",
       " {'lon': -119.95141067087583, 'lat': 48.70886275229691},\n",
       " {'lon': -119.952875631974, 'lat': 48.70953502896524},\n",
       " {'lon': -119.952955903815, 'lat': 48.70956513090562},\n",
       " {'lon': -120.06771453449804, 'lat': 48.752480463897776},\n",
       " {'lon': -120.0677446364384, 'lat': 48.7524904978779},\n",
       " {'lon': -120.25871134616645, 'lat': 48.806433175026804},\n",
       " {'lon': -120.25907256945092, 'lat': 48.80650341288768},\n",
       " {'lon': -120.25923311313292, 'lat': 48.80653351482805},\n",
       " {'lon': -120.25929331701366, 'lat': 48.80654354880817},\n",
       " {'lon': -120.25936355487453, 'lat': 48.8065535827883},\n",
       " {'lon': -120.32242711995654, 'lat': 48.80876105841567},\n",
       " {'lon': -120.33023355649334, 'lat': 48.80903197587903},\n",
       " {'lon': -120.33042420211571, 'lat': 48.80903197587903},\n",
       " {'lon': -120.33064494967844, 'lat': 48.809021941898905},\n",
       " {'lon': -120.33528064849592, 'lat': 48.80860051473368},\n",
       " {'lon': -120.33558166789966, 'lat': 48.80857041279331},\n",
       " {'lon': -120.33573217760153, 'lat': 48.80854031085293},\n",
       " {'lon': -120.3358425513829, 'lat': 48.80851020891256},\n",
       " {'lon': -120.33593285720401, 'lat': 48.80848010697219},\n",
       " {'lon': -120.33608336690588, 'lat': 48.808429937071566},\n",
       " {'lon': -120.33612350282638, 'lat': 48.808409869111316},\n",
       " {'lon': -120.33640445426985, 'lat': 48.80825935940945},\n",
       " {'lon': -120.3365850659121, 'lat': 48.808159019608205},\n",
       " {'lon': -120.34716088096324, 'lat': 48.80128574322298},\n",
       " {'lon': -120.34733145862536, 'lat': 48.801165335461484},\n",
       " {'lon': -120.34745186638685, 'lat': 48.801075029640366},\n",
       " {'lon': -120.34804387121419, 'lat': 48.80062350053476},\n",
       " {'lon': -120.34876631778315, 'lat': 48.79999135978692},\n",
       " {'lon': -120.3489067935049, 'lat': 48.799860918045304},\n",
       " {'lon': -120.34896699738565, 'lat': 48.79980071416456},\n",
       " {'lon': -120.34909743912726, 'lat': 48.799670272422944},\n",
       " {'lon': -120.34916767698813, 'lat': 48.799579966601826},\n",
       " {'lon': -120.42671027538968, 'lat': 48.69537708300968},\n",
       " {'lon': -120.58069173437909, 'lat': 48.462578710142914},\n",
       " {'lon': -120.59027418539792, 'lat': 48.38413305353017},\n",
       " {'lon': -120.59027418539792, 'lat': 48.38389223800718},\n",
       " {'lon': -120.59026415141778, 'lat': 48.383832034126435},\n",
       " {'lon': -120.59021398151717, 'lat': 48.38367149044444},\n",
       " {'lon': -120.5901036077358, 'lat': 48.38337047104071},\n",
       " {'lon': -120.58999323395443, 'lat': 48.38312965551773},\n",
       " {'lon': -120.58986279221281, 'lat': 48.38287880601462},\n",
       " {'lon': -120.58975241843144, 'lat': 48.38268816039225},\n",
       " {'lon': -120.58967214659044, 'lat': 48.38257778661088},\n",
       " {'lon': -120.58952163688858, 'lat': 48.382377107008395},\n",
       " {'lon': -120.58718371951959, 'lat': 48.38000908769903},\n",
       " {'lon': -120.5870231758376, 'lat': 48.37986861197729},\n",
       " {'lon': -120.58696297195685, 'lat': 48.37981844207666},\n",
       " {'lon': -120.56099503139485, 'lat': 48.360091637152046},\n",
       " {'lon': -120.56086458965324, 'lat': 48.36001136531105},\n",
       " {'lon': -120.56079435179235, 'lat': 48.35997122939055},\n",
       " {'lon': -120.56063380811037, 'lat': 48.359900991529685},\n",
       " {'lon': -120.40864911116572, 'lat': 48.30279761064158},\n",
       " {'lon': -120.40848856748373, 'lat': 48.302747440740966},\n",
       " {'lon': -120.40841832962285, 'lat': 48.302727372780716},\n",
       " {'lon': -120.40836815972223, 'lat': 48.30271733880059},\n",
       " {'lon': -120.11756334775617, 'lat': 48.248563948069076},\n",
       " {'lon': -120.11706164874995, 'lat': 48.24847364224795},\n",
       " {'lon': -120.1170014448692, 'lat': 48.248463608267826},\n",
       " {'lon': -120.11625893034, 'lat': 48.24834320050633},\n",
       " {'lon': -120.11618869247913, 'lat': 48.24833316652621},\n",
       " {'lon': -120.11610842063813, 'lat': 48.24832313254608},\n",
       " {'lon': -120.03086975948115, 'lat': 48.23998489506269}]"
      ]
     },
     "execution_count": 35,
     "metadata": {},
     "output_type": "execute_result"
    }
   ],
   "source": [
    "region[\"poly\"]"
   ]
  },
  {
   "cell_type": "code",
   "execution_count": 11,
   "id": "25fc489e-91c0-49a7-b5c0-b72360f10dea",
   "metadata": {},
   "outputs": [],
   "source": [
    "region2 = gpd.read_file(poly_fn)"
   ]
  },
  {
   "cell_type": "code",
   "execution_count": 20,
   "id": "39dae357-ce4f-47a7-b7eb-ac1c38cad92c",
   "metadata": {},
   "outputs": [
    {
     "data": {
      "text/plain": [
       "<Axes: >"
      ]
     },
     "execution_count": 20,
     "metadata": {},
     "output_type": "execute_result"
    },
    {
     "data": {
      "image/png": "[encoded data removed]",
      "text/plain": [
       "<Figure size 640x480 with 1 Axes>"
      ]
     },
     "metadata": {},
     "output_type": "display_data"
    }
   ],
   "source": [
    "region2.plot()"
   ]
  },
  {
   "cell_type": "code",
   "execution_count": 10,
   "id": "2826eb8b-5f9d-4eb8-b7ba-52051640cb5c",
   "metadata": {},
   "outputs": [
    {
     "data": {
      "text/plain": [
       "\u001b[0;31mSignature:\u001b[0m\n",
       "\u001b[0mearthdata\u001b[0m\u001b[0;34m.\u001b[0m\u001b[0mtnm\u001b[0m\u001b[0;34m(\u001b[0m\u001b[0;34m\u001b[0m\n",
       "\u001b[0;34m\u001b[0m    \u001b[0mshort_name\u001b[0m\u001b[0;34m,\u001b[0m\u001b[0;34m\u001b[0m\n",
       "\u001b[0;34m\u001b[0m    \u001b[0mpolygon\u001b[0m\u001b[0;34m,\u001b[0m\u001b[0;34m\u001b[0m\n",
       "\u001b[0;34m\u001b[0m    \u001b[0mtime_start\u001b[0m\u001b[0;34m=\u001b[0m\u001b[0;32mNone\u001b[0m\u001b[0;34m,\u001b[0m\u001b[0;34m\u001b[0m\n",
       "\u001b[0;34m\u001b[0m    \u001b[0mtime_end\u001b[0m\u001b[0;34m=\u001b[0m\u001b[0;34m'2023-06-28'\u001b[0m\u001b[0;34m,\u001b[0m\u001b[0;34m\u001b[0m\n",
       "\u001b[0;34m\u001b[0m    \u001b[0mas_str\u001b[0m\u001b[0;34m=\u001b[0m\u001b[0;32mTrue\u001b[0m\u001b[0;34m,\u001b[0m\u001b[0;34m\u001b[0m\n",
       "\u001b[0;34m\u001b[0m\u001b[0;34m)\u001b[0m\u001b[0;34m\u001b[0m\u001b[0;34m\u001b[0m\u001b[0m\n",
       "\u001b[0;31mDocstring:\u001b[0m\n",
       "Query `USGS National Map API <https://tnmaccess.nationalmap.gov/api/v1/products>`_ for a list of data within temporal and spatial parameters.  See https://apps.nationalmap.gov/help/documents/TNMAccessAPIDocumentation/TNMAccessAPIDocumentation.pdf for more details on the API.\n",
       "\n",
       "Parameters\n",
       "----------\n",
       "    short_name:         str\n",
       "                        dataset name\n",
       "    polygon:            list\n",
       "                        a single list of longitude,latitude in counter-clockwise order with first and last point matching, defining region of interest (see `polygons </web/rtd/user_guide/SlideRule.html#polygons>`_)\n",
       "    time_start:         str\n",
       "                        starting time for query in format ``<year>-<month>-<day>``\n",
       "    time_end:           str\n",
       "                        ending time for query in format ``<year>-<month>-<day>``\n",
       "\n",
       "Returns\n",
       "-------\n",
       "dict\n",
       "    geojson of resources intersecting area of interest\n",
       "\n",
       "Examples\n",
       "--------\n",
       "    >>> from sliderule import earthdata\n",
       "    >>> region = [ {\"lon\": -108.3435200747503, \"lat\": 38.89102961045247},\n",
       "    ...            {\"lon\": -107.7677425431139, \"lat\": 38.90611184543033},\n",
       "    ...            {\"lon\": -107.7818591266989, \"lat\": 39.26613714985466},\n",
       "    ...            {\"lon\": -108.3605610678553, \"lat\": 39.25086131372244},\n",
       "    ...            {\"lon\": -108.3435200747503, \"lat\": 38.89102961045247} ]\n",
       "    >>> geojson = earthdata.tnm(short_name='Digital Elevation Model (DEM) 1 meter', polygon=region)\n",
       "    >>> geojson\n",
       "    {'type': 'FeatureCollection', 'features': [{'type': 'Feature', 'id': '5eaa4a0582cefae35a21ee8c', 'geometry': {'type': 'Polygon'...\n",
       "\u001b[0;31mFile:\u001b[0m      ~/opt/miniconda3/envs/sliderule_env/lib/python3.11/site-packages/sliderule/earthdata.py\n",
       "\u001b[0;31mType:\u001b[0m      function"
      ]
     },
     "metadata": {},
     "output_type": "display_data"
    }
   ],
   "source": [
    "earthdata.tnm?"
   ]
  },
  {
   "cell_type": "code",
   "execution_count": 70,
   "id": "565784a4-3b46-4803-be08-7e6171a46f72",
   "metadata": {},
   "outputs": [],
   "source": [
    "geojson = earthdata.tnm(short_name='Digital Elevation Model (DEM) 1 meter', polygon=bbox)"
   ]
  },
  {
   "cell_type": "code",
   "execution_count": 74,
   "id": "c6970d04-7e30-4cb3-bab5-c103e6297082",
   "metadata": {},
   "outputs": [],
   "source": [
    "tnm_gdf = gpd.read_file(geojson)"
   ]
  },
  {
   "cell_type": "code",
   "execution_count": 76,
   "id": "d39a071a-fc9b-43a1-bc5a-e14c465d7d74",
   "metadata": {},
   "outputs": [
    {
     "data": {
      "text/plain": [
       "<Axes: >"
      ]
     },
     "execution_count": 76,
     "metadata": {},
     "output_type": "execute_result"
    },
    {
     "data": {
      "image/png": "[encoded data removed]",
      "text/plain": [
       "<Figure size 640x480 with 1 Axes>"
      ]
     },
     "metadata": {},
     "output_type": "display_data"
    }
   ],
   "source": [
    "fig, ax = plt.subplots()\n",
    "tnm_gdf.plot(ax=ax, alpha=0.5)\n",
    "region2.plot(ax=ax, edgecolor='k', facecolor='none')"
   ]
  },
  {
   "cell_type": "code",
   "execution_count": 82,
   "id": "1c5b634f-868b-45a9-87ce-39b9416a5b5d",
   "metadata": {},
   "outputs": [
    {
     "name": "stdout",
     "output_type": "stream",
     "text": [
      "Reference Ground Tracks: [ 364  646 1248  204  806 1149 1309]\n",
      "Cycles: [13 14 15 16]\n",
      "Received 28990 elevations\n",
      "CPU times: user 2.64 s, sys: 466 ms, total: 3.1 s\n",
      "Wall time: 21.5 s\n"
     ]
    }
   ],
   "source": [
    "%%time\n",
    "\n",
    "# Build ATL06 Request\n",
    "parms = {\n",
    "    \"poly\": region['poly'],\n",
    "    \"srt\": icesat2.SRT_LAND,\n",
    "    \"t0\": \"2021-10-1T00:00:00Z\",\n",
    "    \"t1\": \"2022-9-30T00:00:00Z\",\n",
    "    \"cnf\": 4,\n",
    "    \"ats\": 20.0,\n",
    "    \"cnt\": 10,\n",
    "    \"len\": 40.0,\n",
    "    \"res\": 20.0,\n",
    "    \"maxi\": 1,\n",
    "    \"atl08_class\": [\n",
    "        \"atl08_ground\"\n",
    "    ],\n",
    "    \"H_min_win\": 30,\n",
    "    \"sigma_r_max\": 5.0,\n",
    "    \"samples\": {\"3dep\": {\"asset\": \"usgs3dep-1meter-dem\", \"catalog\": geojson, \"algorithm\": \"Cubic\"}}\n",
    "}\n",
    "\n",
    "# Request ATL06 Data\n",
    "gdf = icesat2.atl06p(parms)\n",
    "\n",
    "# Display Statistics\n",
    "print(\"Reference Ground Tracks: {}\".format(gdf[\"rgt\"].unique()))\n",
    "print(\"Cycles: {}\".format(gdf[\"cycle\"].unique()))\n",
    "print(\"Received {} elevations\".format(len(gdf)))"
   ]
  },
  {
   "cell_type": "code",
   "execution_count": 49,
   "id": "676a0a04-c7a3-4652-91c2-6209bbd112c4",
   "metadata": {},
   "outputs": [
    {
     "data": {
      "text/html": [
       "<div>\n",
       "<style scoped>\n",
       "    .dataframe tbody tr th:only-of-type {\n",
       "        vertical-align: middle;\n",
       "    }\n",
       "\n",
       "    .dataframe tbody tr th {\n",
       "        vertical-align: top;\n",
       "    }\n",
       "\n",
       "    .dataframe thead th {\n",
       "        text-align: right;\n",
       "    }\n",
       "</style>\n",
       "<table border=\"1\" class=\"dataframe\">\n",
       "  <thead>\n",
       "    <tr style=\"text-align: right;\">\n",
       "      <th></th>\n",
       "      <th>segment_id</th>\n",
       "      <th>n_fit_photons</th>\n",
       "      <th>cycle</th>\n",
       "      <th>distance</th>\n",
       "      <th>gt</th>\n",
       "      <th>h_sigma</th>\n",
       "      <th>rgt</th>\n",
       "      <th>w_surface_window_final</th>\n",
       "      <th>pflags</th>\n",
       "      <th>dh_fit_dy</th>\n",
       "      <th>h_mean</th>\n",
       "      <th>rms_misfit</th>\n",
       "      <th>dh_fit_dx</th>\n",
       "      <th>spot</th>\n",
       "      <th>geometry</th>\n",
       "      <th>3dep.flags</th>\n",
       "      <th>3dep.file_id</th>\n",
       "      <th>3dep.time</th>\n",
       "      <th>3dep.value</th>\n",
       "    </tr>\n",
       "    <tr>\n",
       "      <th>time</th>\n",
       "      <th></th>\n",
       "      <th></th>\n",
       "      <th></th>\n",
       "      <th></th>\n",
       "      <th></th>\n",
       "      <th></th>\n",
       "      <th></th>\n",
       "      <th></th>\n",
       "      <th></th>\n",
       "      <th></th>\n",
       "      <th></th>\n",
       "      <th></th>\n",
       "      <th></th>\n",
       "      <th></th>\n",
       "      <th></th>\n",
       "      <th></th>\n",
       "      <th></th>\n",
       "      <th></th>\n",
       "      <th></th>\n",
       "    </tr>\n",
       "  </thead>\n",
       "  <tbody>\n",
       "    <tr>\n",
       "      <th>2021-10-16 07:19:32.039333376</th>\n",
       "      <td>732782</td>\n",
       "      <td>16</td>\n",
       "      <td>13</td>\n",
       "      <td>1.467675e+07</td>\n",
       "      <td>30</td>\n",
       "      <td>0.126494</td>\n",
       "      <td>364</td>\n",
       "      <td>30.0</td>\n",
       "      <td>0</td>\n",
       "      <td>0.0</td>\n",
       "      <td>2089.849531</td>\n",
       "      <td>0.502636</td>\n",
       "      <td>0.323801</td>\n",
       "      <td>3</td>\n",
       "      <td>POINT (-120.43168 48.45837)</td>\n",
       "      <td>NaN</td>\n",
       "      <td>NaN</td>\n",
       "      <td>NaN</td>\n",
       "      <td>NaN</td>\n",
       "    </tr>\n",
       "    <tr>\n",
       "      <th>2021-10-16 07:19:32.050669568</th>\n",
       "      <td>732786</td>\n",
       "      <td>19</td>\n",
       "      <td>13</td>\n",
       "      <td>1.467683e+07</td>\n",
       "      <td>30</td>\n",
       "      <td>0.214498</td>\n",
       "      <td>364</td>\n",
       "      <td>30.0</td>\n",
       "      <td>0</td>\n",
       "      <td>0.0</td>\n",
       "      <td>2118.875536</td>\n",
       "      <td>0.760384</td>\n",
       "      <td>0.338790</td>\n",
       "      <td>3</td>\n",
       "      <td>POINT (-120.43180 48.45765)</td>\n",
       "      <td>NaN</td>\n",
       "      <td>NaN</td>\n",
       "      <td>NaN</td>\n",
       "      <td>NaN</td>\n",
       "    </tr>\n",
       "    <tr>\n",
       "      <th>2021-10-16 07:19:32.053509120</th>\n",
       "      <td>732787</td>\n",
       "      <td>24</td>\n",
       "      <td>13</td>\n",
       "      <td>1.467685e+07</td>\n",
       "      <td>30</td>\n",
       "      <td>0.345342</td>\n",
       "      <td>364</td>\n",
       "      <td>30.0</td>\n",
       "      <td>0</td>\n",
       "      <td>0.0</td>\n",
       "      <td>2123.835470</td>\n",
       "      <td>1.514607</td>\n",
       "      <td>0.228316</td>\n",
       "      <td>3</td>\n",
       "      <td>POINT (-120.43184 48.45748)</td>\n",
       "      <td>NaN</td>\n",
       "      <td>NaN</td>\n",
       "      <td>NaN</td>\n",
       "      <td>NaN</td>\n",
       "    </tr>\n",
       "    <tr>\n",
       "      <th>2021-10-16 07:19:32.056344832</th>\n",
       "      <td>732788</td>\n",
       "      <td>18</td>\n",
       "      <td>13</td>\n",
       "      <td>1.467687e+07</td>\n",
       "      <td>30</td>\n",
       "      <td>0.058666</td>\n",
       "      <td>364</td>\n",
       "      <td>30.0</td>\n",
       "      <td>0</td>\n",
       "      <td>0.0</td>\n",
       "      <td>2126.093863</td>\n",
       "      <td>0.206501</td>\n",
       "      <td>0.128027</td>\n",
       "      <td>3</td>\n",
       "      <td>POINT (-120.43187 48.45730)</td>\n",
       "      <td>NaN</td>\n",
       "      <td>NaN</td>\n",
       "      <td>NaN</td>\n",
       "      <td>NaN</td>\n",
       "    </tr>\n",
       "    <tr>\n",
       "      <th>2021-10-16 07:19:32.059178752</th>\n",
       "      <td>732789</td>\n",
       "      <td>20</td>\n",
       "      <td>13</td>\n",
       "      <td>1.467689e+07</td>\n",
       "      <td>30</td>\n",
       "      <td>0.064130</td>\n",
       "      <td>364</td>\n",
       "      <td>30.0</td>\n",
       "      <td>0</td>\n",
       "      <td>0.0</td>\n",
       "      <td>2128.564455</td>\n",
       "      <td>0.246445</td>\n",
       "      <td>0.117912</td>\n",
       "      <td>3</td>\n",
       "      <td>POINT (-120.43190 48.45712)</td>\n",
       "      <td>NaN</td>\n",
       "      <td>NaN</td>\n",
       "      <td>NaN</td>\n",
       "      <td>NaN</td>\n",
       "    </tr>\n",
       "  </tbody>\n",
       "</table>\n",
       "</div>"
      ],
      "text/plain": [
       "                               segment_id  n_fit_photons  cycle      distance  \\\n",
       "time                                                                            \n",
       "2021-10-16 07:19:32.039333376      732782             16     13  1.467675e+07   \n",
       "2021-10-16 07:19:32.050669568      732786             19     13  1.467683e+07   \n",
       "2021-10-16 07:19:32.053509120      732787             24     13  1.467685e+07   \n",
       "2021-10-16 07:19:32.056344832      732788             18     13  1.467687e+07   \n",
       "2021-10-16 07:19:32.059178752      732789             20     13  1.467689e+07   \n",
       "\n",
       "                               gt   h_sigma  rgt  w_surface_window_final  \\\n",
       "time                                                                       \n",
       "2021-10-16 07:19:32.039333376  30  0.126494  364                    30.0   \n",
       "2021-10-16 07:19:32.050669568  30  0.214498  364                    30.0   \n",
       "2021-10-16 07:19:32.053509120  30  0.345342  364                    30.0   \n",
       "2021-10-16 07:19:32.056344832  30  0.058666  364                    30.0   \n",
       "2021-10-16 07:19:32.059178752  30  0.064130  364                    30.0   \n",
       "\n",
       "                               pflags  dh_fit_dy       h_mean  rms_misfit  \\\n",
       "time                                                                        \n",
       "2021-10-16 07:19:32.039333376       0        0.0  2089.849531    0.502636   \n",
       "2021-10-16 07:19:32.050669568       0        0.0  2118.875536    0.760384   \n",
       "2021-10-16 07:19:32.053509120       0        0.0  2123.835470    1.514607   \n",
       "2021-10-16 07:19:32.056344832       0        0.0  2126.093863    0.206501   \n",
       "2021-10-16 07:19:32.059178752       0        0.0  2128.564455    0.246445   \n",
       "\n",
       "                               dh_fit_dx  spot                     geometry  \\\n",
       "time                                                                          \n",
       "2021-10-16 07:19:32.039333376   0.323801     3  POINT (-120.43168 48.45837)   \n",
       "2021-10-16 07:19:32.050669568   0.338790     3  POINT (-120.43180 48.45765)   \n",
       "2021-10-16 07:19:32.053509120   0.228316     3  POINT (-120.43184 48.45748)   \n",
       "2021-10-16 07:19:32.056344832   0.128027     3  POINT (-120.43187 48.45730)   \n",
       "2021-10-16 07:19:32.059178752   0.117912     3  POINT (-120.43190 48.45712)   \n",
       "\n",
       "                              3dep.flags 3dep.file_id 3dep.time 3dep.value  \n",
       "time                                                                        \n",
       "2021-10-16 07:19:32.039333376        NaN          NaN       NaN        NaN  \n",
       "2021-10-16 07:19:32.050669568        NaN          NaN       NaN        NaN  \n",
       "2021-10-16 07:19:32.053509120        NaN          NaN       NaN        NaN  \n",
       "2021-10-16 07:19:32.056344832        NaN          NaN       NaN        NaN  \n",
       "2021-10-16 07:19:32.059178752        NaN          NaN       NaN        NaN  "
      ]
     },
     "execution_count": 49,
     "metadata": {},
     "output_type": "execute_result"
    }
   ],
   "source": [
    "gdf.head()"
   ]
  },
  {
   "cell_type": "code",
   "execution_count": 48,
   "id": "ef900d36-9a07-49cc-959a-5bdfbb372619",
   "metadata": {},
   "outputs": [
    {
     "data": {
      "text/plain": [
       "count                                      6811\n",
       "unique                                     6811\n",
       "top       [816.3962461640342, 816.067815988253]\n",
       "freq                                          1\n",
       "Name: 3dep.value, dtype: object"
      ]
     },
     "execution_count": 48,
     "metadata": {},
     "output_type": "execute_result"
    }
   ],
   "source": [
    "gdf['3dep.value'].describe()"
   ]
  },
  {
   "cell_type": "code",
   "execution_count": null,
   "id": "abeb4977-6ec7-45a7-b20e-9a0fcbf5255c",
   "metadata": {},
   "outputs": [],
   "source": [
    "gdf['h_mean'].describe()"
   ]
  },
  {
   "cell_type": "code",
   "execution_count": 51,
   "id": "d23af502-bd5e-44db-85f2-c64203d07a33",
   "metadata": {},
   "outputs": [
    {
     "data": {
      "text/plain": [
       "6811"
      ]
     },
     "execution_count": 51,
     "metadata": {},
     "output_type": "execute_result"
    }
   ],
   "source": [
    "len(gdf[~gdf['3dep.value'].isna()])"
   ]
  },
  {
   "cell_type": "code",
   "execution_count": 52,
   "id": "8eeb9a1c-5925-4c4f-98c5-b05018a37fb7",
   "metadata": {},
   "outputs": [
    {
     "data": {
      "text/plain": [
       "28990"
      ]
     },
     "execution_count": 52,
     "metadata": {},
     "output_type": "execute_result"
    }
   ],
   "source": [
    "len(gdf)"
   ]
  },
  {
   "cell_type": "code",
   "execution_count": 83,
   "id": "ca384d69-8890-4a07-8c2b-1468540f748a",
   "metadata": {},
   "outputs": [],
   "source": [
    "gdf = gdf[gdf[\"3dep.value\"].notna()]"
   ]
  },
  {
   "cell_type": "code",
   "execution_count": 84,
   "id": "b57d8fe8-0c05-4ad9-ac0c-36f5749351e1",
   "metadata": {},
   "outputs": [],
   "source": [
    "def getFirstValue(x):\n",
    "    if type(x[\"3dep.value\"]) == float:\n",
    "        return x['3dep.value']\n",
    "    else:\n",
    "        return x['3dep.value'][0]\n",
    "gdf[\"3dep\"] = gdf.apply(lambda x: getFirstValue(x), axis=1)"
   ]
  },
  {
   "cell_type": "code",
   "execution_count": 85,
   "id": "1c0422e5-319a-431e-8566-e87a02150cf6",
   "metadata": {},
   "outputs": [],
   "source": [
    "gdf = gdf[gdf[\"3dep\"] > -9999.0]"
   ]
  },
  {
   "cell_type": "code",
   "execution_count": 86,
   "id": "3b9fed1f-3f93-414f-bb1b-6bcabf210781",
   "metadata": {},
   "outputs": [
    {
     "data": {
      "text/plain": [
       "<Axes: title={'center': '3DEP'}>"
      ]
     },
     "execution_count": 86,
     "metadata": {},
     "output_type": "execute_result"
    },
    {
     "data": {
      "image/png": "[encoded data removed]",
      "text/plain": [
       "<Figure size 1200x800 with 2 Axes>"
      ]
     },
     "metadata": {},
     "output_type": "display_data"
    }
   ],
   "source": [
    "f, ax = plt.subplots(1, 2, figsize=[12,8])\n",
    "ax[0].set_title(\"ICESat-2\")\n",
    "ax[0].set_aspect('equal')\n",
    "gdf.plot(ax=ax[0], column='h_mean', cmap='inferno', s=0.1)\n",
    "region2.plot(ax=ax[0], edgecolor='k', facecolor='none')\n",
    "ax[1].set_title(\"3DEP\")\n",
    "ax[1].set_aspect('equal')\n",
    "gdf.plot(ax=ax[1], column='3dep', cmap='inferno', s=0.1)\n",
    "region2.plot(ax=ax[1], edgecolor='k', facecolor='none')"
   ]
  },
  {
   "cell_type": "code",
   "execution_count": 87,
   "id": "25eb0b73-a661-4572-8cd4-0743c0e5afe0",
   "metadata": {},
   "outputs": [],
   "source": [
    "gdf = gpd.clip(gdf, region2)"
   ]
  },
  {
   "cell_type": "code",
   "execution_count": 88,
   "id": "e4b37903-4ebb-42b0-9727-663cb83f5e8e",
   "metadata": {},
   "outputs": [
    {
     "data": {
      "text/plain": [
       "<Axes: title={'center': '3DEP'}>"
      ]
     },
     "execution_count": 88,
     "metadata": {},
     "output_type": "execute_result"
    },
    {
     "data": {
      "image/png": "[encoded data removed]",
      "text/plain": [
       "<Figure size 1200x800 with 2 Axes>"
      ]
     },
     "metadata": {},
     "output_type": "display_data"
    }
   ],
   "source": [
    "f, ax = plt.subplots(1, 2, figsize=[12,8])\n",
    "ax[0].set_title(\"ICESat-2\")\n",
    "ax[0].set_aspect('equal')\n",
    "gdf.plot(ax=ax[0], column='h_mean', cmap='inferno', s=0.1)\n",
    "region2.plot(ax=ax[0], edgecolor='k', facecolor='none')\n",
    "ax[1].set_title(\"3DEP\")\n",
    "ax[1].set_aspect('equal')\n",
    "gdf.plot(ax=ax[1], column='3dep', cmap='inferno', s=0.1)\n",
    "region2.plot(ax=ax[1], edgecolor='k', facecolor='none')"
   ]
  },
  {
   "cell_type": "code",
   "execution_count": 94,
   "id": "783eca66-48bc-4fd7-b1c0-7c679a96d1c4",
   "metadata": {},
   "outputs": [
    {
     "data": {
      "text/html": [
       "<div>\n",
       "<style scoped>\n",
       "    .dataframe tbody tr th:only-of-type {\n",
       "        vertical-align: middle;\n",
       "    }\n",
       "\n",
       "    .dataframe tbody tr th {\n",
       "        vertical-align: top;\n",
       "    }\n",
       "\n",
       "    .dataframe thead th {\n",
       "        text-align: right;\n",
       "    }\n",
       "</style>\n",
       "<table border=\"1\" class=\"dataframe\">\n",
       "  <thead>\n",
       "    <tr style=\"text-align: right;\">\n",
       "      <th></th>\n",
       "      <th>segment_id</th>\n",
       "      <th>n_fit_photons</th>\n",
       "      <th>cycle</th>\n",
       "      <th>distance</th>\n",
       "      <th>gt</th>\n",
       "      <th>h_sigma</th>\n",
       "      <th>rgt</th>\n",
       "      <th>w_surface_window_final</th>\n",
       "      <th>pflags</th>\n",
       "      <th>dh_fit_dy</th>\n",
       "      <th>h_mean</th>\n",
       "      <th>rms_misfit</th>\n",
       "      <th>dh_fit_dx</th>\n",
       "      <th>spot</th>\n",
       "      <th>geometry</th>\n",
       "      <th>3dep.flags</th>\n",
       "      <th>3dep.file_id</th>\n",
       "      <th>3dep.time</th>\n",
       "      <th>3dep</th>\n",
       "    </tr>\n",
       "    <tr>\n",
       "      <th>time</th>\n",
       "      <th></th>\n",
       "      <th></th>\n",
       "      <th></th>\n",
       "      <th></th>\n",
       "      <th></th>\n",
       "      <th></th>\n",
       "      <th></th>\n",
       "      <th></th>\n",
       "      <th></th>\n",
       "      <th></th>\n",
       "      <th></th>\n",
       "      <th></th>\n",
       "      <th></th>\n",
       "      <th></th>\n",
       "      <th></th>\n",
       "      <th></th>\n",
       "      <th></th>\n",
       "      <th></th>\n",
       "      <th></th>\n",
       "    </tr>\n",
       "  </thead>\n",
       "  <tbody>\n",
       "    <tr>\n",
       "      <th>2022-02-13 01:35:29.111714816</th>\n",
       "      <td>733731</td>\n",
       "      <td>85</td>\n",
       "      <td>14</td>\n",
       "      <td>1.469562e+07</td>\n",
       "      <td>50</td>\n",
       "      <td>0.037577</td>\n",
       "      <td>806</td>\n",
       "      <td>30.0</td>\n",
       "      <td>0</td>\n",
       "      <td>0.0</td>\n",
       "      <td>1039.012734</td>\n",
       "      <td>0.346414</td>\n",
       "      <td>-0.321034</td>\n",
       "      <td>5</td>\n",
       "      <td>POINT (-120.12734 48.28512)</td>\n",
       "      <td>[0, 0]</td>\n",
       "      <td>[55834574848, 55834574851]</td>\n",
       "      <td>[0.0, 0.0]</td>\n",
       "      <td>1038.932001</td>\n",
       "    </tr>\n",
       "    <tr>\n",
       "      <th>2022-02-13 01:35:29.108904960</th>\n",
       "      <td>733730</td>\n",
       "      <td>60</td>\n",
       "      <td>14</td>\n",
       "      <td>1.469560e+07</td>\n",
       "      <td>50</td>\n",
       "      <td>0.064468</td>\n",
       "      <td>806</td>\n",
       "      <td>30.0</td>\n",
       "      <td>0</td>\n",
       "      <td>0.0</td>\n",
       "      <td>1044.934139</td>\n",
       "      <td>0.451306</td>\n",
       "      <td>-0.275543</td>\n",
       "      <td>5</td>\n",
       "      <td>POINT (-120.12732 48.28530)</td>\n",
       "      <td>[0, 0]</td>\n",
       "      <td>[55834574848, 55834574851]</td>\n",
       "      <td>[0.0, 0.0]</td>\n",
       "      <td>1046.318899</td>\n",
       "    </tr>\n",
       "    <tr>\n",
       "      <th>2022-02-13 01:35:29.106092288</th>\n",
       "      <td>733729</td>\n",
       "      <td>33</td>\n",
       "      <td>14</td>\n",
       "      <td>1.469558e+07</td>\n",
       "      <td>50</td>\n",
       "      <td>0.095984</td>\n",
       "      <td>806</td>\n",
       "      <td>30.0</td>\n",
       "      <td>0</td>\n",
       "      <td>0.0</td>\n",
       "      <td>1049.535857</td>\n",
       "      <td>0.533694</td>\n",
       "      <td>-0.188929</td>\n",
       "      <td>5</td>\n",
       "      <td>POINT (-120.12729 48.28548)</td>\n",
       "      <td>[0, 0]</td>\n",
       "      <td>[55834574848, 55834574851]</td>\n",
       "      <td>[0.0, 0.0]</td>\n",
       "      <td>1052.020373</td>\n",
       "    </tr>\n",
       "    <tr>\n",
       "      <th>2022-02-13 01:35:29.103273984</th>\n",
       "      <td>733728</td>\n",
       "      <td>55</td>\n",
       "      <td>14</td>\n",
       "      <td>1.469556e+07</td>\n",
       "      <td>50</td>\n",
       "      <td>0.114072</td>\n",
       "      <td>806</td>\n",
       "      <td>30.0</td>\n",
       "      <td>0</td>\n",
       "      <td>0.0</td>\n",
       "      <td>1051.575294</td>\n",
       "      <td>0.810905</td>\n",
       "      <td>0.017249</td>\n",
       "      <td>5</td>\n",
       "      <td>POINT (-120.12727 48.28566)</td>\n",
       "      <td>[0, 0]</td>\n",
       "      <td>[55834574848, 55834574851]</td>\n",
       "      <td>[0.0, 0.0]</td>\n",
       "      <td>1053.199631</td>\n",
       "    </tr>\n",
       "    <tr>\n",
       "      <th>2022-02-13 01:35:29.100450048</th>\n",
       "      <td>733727</td>\n",
       "      <td>55</td>\n",
       "      <td>14</td>\n",
       "      <td>1.469554e+07</td>\n",
       "      <td>50</td>\n",
       "      <td>0.047328</td>\n",
       "      <td>806</td>\n",
       "      <td>30.0</td>\n",
       "      <td>0</td>\n",
       "      <td>0.0</td>\n",
       "      <td>1050.160250</td>\n",
       "      <td>0.316610</td>\n",
       "      <td>0.132228</td>\n",
       "      <td>5</td>\n",
       "      <td>POINT (-120.12724 48.28583)</td>\n",
       "      <td>[0, 0]</td>\n",
       "      <td>[55834574848, 55834574851]</td>\n",
       "      <td>[0.0, 0.0]</td>\n",
       "      <td>1051.549790</td>\n",
       "    </tr>\n",
       "  </tbody>\n",
       "</table>\n",
       "</div>"
      ],
      "text/plain": [
       "                               segment_id  n_fit_photons  cycle      distance  \\\n",
       "time                                                                            \n",
       "2022-02-13 01:35:29.111714816      733731             85     14  1.469562e+07   \n",
       "2022-02-13 01:35:29.108904960      733730             60     14  1.469560e+07   \n",
       "2022-02-13 01:35:29.106092288      733729             33     14  1.469558e+07   \n",
       "2022-02-13 01:35:29.103273984      733728             55     14  1.469556e+07   \n",
       "2022-02-13 01:35:29.100450048      733727             55     14  1.469554e+07   \n",
       "\n",
       "                               gt   h_sigma  rgt  w_surface_window_final  \\\n",
       "time                                                                       \n",
       "2022-02-13 01:35:29.111714816  50  0.037577  806                    30.0   \n",
       "2022-02-13 01:35:29.108904960  50  0.064468  806                    30.0   \n",
       "2022-02-13 01:35:29.106092288  50  0.095984  806                    30.0   \n",
       "2022-02-13 01:35:29.103273984  50  0.114072  806                    30.0   \n",
       "2022-02-13 01:35:29.100450048  50  0.047328  806                    30.0   \n",
       "\n",
       "                               pflags  dh_fit_dy       h_mean  rms_misfit  \\\n",
       "time                                                                        \n",
       "2022-02-13 01:35:29.111714816       0        0.0  1039.012734    0.346414   \n",
       "2022-02-13 01:35:29.108904960       0        0.0  1044.934139    0.451306   \n",
       "2022-02-13 01:35:29.106092288       0        0.0  1049.535857    0.533694   \n",
       "2022-02-13 01:35:29.103273984       0        0.0  1051.575294    0.810905   \n",
       "2022-02-13 01:35:29.100450048       0        0.0  1050.160250    0.316610   \n",
       "\n",
       "                               dh_fit_dx  spot                     geometry  \\\n",
       "time                                                                          \n",
       "2022-02-13 01:35:29.111714816  -0.321034     5  POINT (-120.12734 48.28512)   \n",
       "2022-02-13 01:35:29.108904960  -0.275543     5  POINT (-120.12732 48.28530)   \n",
       "2022-02-13 01:35:29.106092288  -0.188929     5  POINT (-120.12729 48.28548)   \n",
       "2022-02-13 01:35:29.103273984   0.017249     5  POINT (-120.12727 48.28566)   \n",
       "2022-02-13 01:35:29.100450048   0.132228     5  POINT (-120.12724 48.28583)   \n",
       "\n",
       "                              3dep.flags                3dep.file_id  \\\n",
       "time                                                                   \n",
       "2022-02-13 01:35:29.111714816     [0, 0]  [55834574848, 55834574851]   \n",
       "2022-02-13 01:35:29.108904960     [0, 0]  [55834574848, 55834574851]   \n",
       "2022-02-13 01:35:29.106092288     [0, 0]  [55834574848, 55834574851]   \n",
       "2022-02-13 01:35:29.103273984     [0, 0]  [55834574848, 55834574851]   \n",
       "2022-02-13 01:35:29.100450048     [0, 0]  [55834574848, 55834574851]   \n",
       "\n",
       "                                3dep.time         3dep  \n",
       "time                                                    \n",
       "2022-02-13 01:35:29.111714816  [0.0, 0.0]  1038.932001  \n",
       "2022-02-13 01:35:29.108904960  [0.0, 0.0]  1046.318899  \n",
       "2022-02-13 01:35:29.106092288  [0.0, 0.0]  1052.020373  \n",
       "2022-02-13 01:35:29.103273984  [0.0, 0.0]  1053.199631  \n",
       "2022-02-13 01:35:29.100450048  [0.0, 0.0]  1051.549790  "
      ]
     },
     "execution_count": 94,
     "metadata": {},
     "output_type": "execute_result"
    }
   ],
   "source": [
    "gdf.head()"
   ]
  },
  {
   "cell_type": "code",
   "execution_count": 89,
   "id": "90d87748-36c0-4de9-8951-8d048b5e2866",
   "metadata": {},
   "outputs": [
    {
     "data": {
      "text/plain": [
       "340"
      ]
     },
     "execution_count": 89,
     "metadata": {},
     "output_type": "execute_result"
    }
   ],
   "source": [
    "len(gdf)"
   ]
  },
  {
   "cell_type": "code",
   "execution_count": 95,
   "id": "0fbe3d2b-1dec-4cf9-8862-d4f0247b2087",
   "metadata": {},
   "outputs": [],
   "source": [
    "gdf = gdf.drop(columns=['3dep.value','3dep.flags', '3dep.file_id', '3dep.time'])"
   ]
  },
  {
   "cell_type": "code",
   "execution_count": 97,
   "id": "c9bee565-45b1-4bdf-8754-5d12c3219a90",
   "metadata": {},
   "outputs": [],
   "source": [
    "out_fn = '../../data/methow_test_3dep.geojson'\n",
    "\n",
    "gdf.to_file(out_fn, driver=\"GeoJSON\") "
   ]
  },
  {
   "cell_type": "code",
   "execution_count": 65,
   "id": "f5bd85ed-1dc1-4867-82fe-b0e934b7c6f3",
   "metadata": {},
   "outputs": [
    {
     "data": {
      "text/plain": [
       "[{'lat': 48.23998489506269, 'lon': -120.59027418539792},\n",
       " {'lat': 48.23998489506269, 'lon': -119.87668762088924},\n",
       " {'lat': 48.80903197587903, 'lon': -119.87668762088924},\n",
       " {'lat': 48.80903197587903, 'lon': -120.59027418539792},\n",
       " {'lat': 48.23998489506269, 'lon': -120.59027418539792}]"
      ]
     },
     "execution_count": 65,
     "metadata": {},
     "output_type": "execute_result"
    }
   ],
   "source": [
    "bbox"
   ]
  },
  {
   "cell_type": "markdown",
   "id": "99c201e6-ba33-4d48-9f87-8d164e3f9f12",
   "metadata": {},
   "source": [
    "# Code for comparing Methow sampling to SlideRule 3dep sampling.  \n",
    "Incomplete notebook - just keeping the code in case I want to reproduce these efforts later."
   ]
  },
  {
   "cell_type": "markdown",
   "id": "c5c5f678-a942-41b8-a30f-d19a5cd50728",
   "metadata": {},
   "source": [
    "## Compare to 3dep"
   ]
  },
  {
   "cell_type": "code",
   "execution_count": 15,
   "id": "4f077575-65c2-4ed4-baf5-bd76cfa5cba9",
   "metadata": {},
   "outputs": [],
   "source": [
    "coord = [(pt.x, pt.y) for pt in dep_gdf.to_crs(lidar_snowoff_src.crs).geometry]\n",
    "\n",
    "bicubic_interp_3dep = core.interpolate(lidar_fn, coord, offset=3, kind='cubic')"
   ]
  },
  {
   "cell_type": "code",
   "execution_count": 16,
   "id": "0e3be9d0-dee1-4a49-b12d-5162693054bd",
   "metadata": {},
   "outputs": [],
   "source": [
    "dep_gdf['bicubic_lidar_z'] = bicubic_interp_3dep"
   ]
  },
  {
   "cell_type": "code",
   "execution_count": 60,
   "id": "8d129e04-7a98-4172-96e2-a8ce506067d3",
   "metadata": {},
   "outputs": [
    {
     "data": {
      "text/plain": [
       "count    338.000000\n",
       "mean      -0.500028\n",
       "std        2.569377\n",
       "min      -21.067148\n",
       "25%       -1.838787\n",
       "50%       -0.393713\n",
       "75%        0.640161\n",
       "max       12.926314\n",
       "Name: difference_bicubic, dtype: float64"
      ]
     },
     "execution_count": 60,
     "metadata": {},
     "output_type": "execute_result"
    }
   ],
   "source": [
    "dep_gdf['difference_bicubic'].describe()"
   ]
  },
  {
   "cell_type": "code",
   "execution_count": 61,
   "id": "390d7f6d-6868-4376-9a4e-69fb741bbe33",
   "metadata": {},
   "outputs": [
    {
     "data": {
      "text/plain": [
       "count    340.000000\n",
       "mean      -0.479200\n",
       "std        2.608950\n",
       "min      -31.078445\n",
       "25%       -1.705565\n",
       "50%       -0.346021\n",
       "75%        0.682472\n",
       "max       10.062937\n",
       "Name: difference_3dep, dtype: float64"
      ]
     },
     "execution_count": 61,
     "metadata": {},
     "output_type": "execute_result"
    }
   ],
   "source": [
    "dep_gdf['difference_3dep'].describe()"
   ]
  },
  {
   "cell_type": "code",
   "execution_count": 35,
   "id": "a9f493ab-5805-4215-bfba-0484514a6a5c",
   "metadata": {},
   "outputs": [],
   "source": [
    "dep_gdf['difference_bicubic'] = dep_gdf['h_mean'] - dep_gdf['bicubic_lidar_z']"
   ]
  },
  {
   "cell_type": "code",
   "execution_count": 40,
   "id": "e06e86cd-0e67-4b84-bd20-cfda9b6714a3",
   "metadata": {},
   "outputs": [],
   "source": [
    "dep_gdf = dep_gdf.assign(diff_plus_bicubic = dep_gdf['difference_bicubic'] - (-0.436195635256297))"
   ]
  },
  {
   "cell_type": "code",
   "execution_count": 41,
   "id": "64c1eef0-2123-4e35-82d2-d381bece5a19",
   "metadata": {},
   "outputs": [],
   "source": [
    "dep_gdf['difference_3dep'] = dep_gdf['h_mean'] - dep_gdf['3dep']"
   ]
  },
  {
   "cell_type": "code",
   "execution_count": 67,
   "id": "4a01c05a-1ed9-46fd-9607-5e40e550d2e6",
   "metadata": {},
   "outputs": [],
   "source": [
    "dep_gdf['compare_3dep'] = dep_gdf['difference_bicubic'] - dep_gdf['difference_3dep']"
   ]
  },
  {
   "cell_type": "code",
   "execution_count": 68,
   "id": "e590ff91-bb7a-41fc-9a02-a962f21c2402",
   "metadata": {},
   "outputs": [
    {
     "data": {
      "text/plain": [
       "count    338.000000\n",
       "mean      -0.025796\n",
       "std        1.180365\n",
       "min       -4.522874\n",
       "25%       -0.558769\n",
       "50%       -0.038093\n",
       "75%        0.415120\n",
       "max       10.011297\n",
       "Name: compare_3dep, dtype: float64"
      ]
     },
     "execution_count": 68,
     "metadata": {},
     "output_type": "execute_result"
    }
   ],
   "source": [
    "dep_gdf['compare_3dep'].describe()"
   ]
  },
  {
   "cell_type": "code",
   "execution_count": 28,
   "id": "57c83e10-e742-4545-b958-cb543eb3b3f8",
   "metadata": {},
   "outputs": [
    {
     "data": {
      "text/plain": [
       "count     338.000000\n",
       "mean     1619.681926\n",
       "std       362.895766\n",
       "min       918.643372\n",
       "25%      1314.723985\n",
       "50%      1663.623359\n",
       "75%      1947.720467\n",
       "max      2234.270775\n",
       "Name: diff_plus_bicubic, dtype: float64"
      ]
     },
     "execution_count": 28,
     "metadata": {},
     "output_type": "execute_result"
    }
   ],
   "source": [
    "dep_gdf['diff_plus_bicubic'].describe()"
   ]
  },
  {
   "cell_type": "code",
   "execution_count": 30,
   "id": "661ca1f8-69b4-40df-a8d3-a781cd22ed5f",
   "metadata": {},
   "outputs": [
    {
     "data": {
      "text/plain": [
       "count    338.000000\n",
       "mean       0.461992\n",
       "std        1.180365\n",
       "min       -9.575101\n",
       "25%        0.021075\n",
       "50%        0.474289\n",
       "75%        0.994965\n",
       "max        4.959070\n",
       "Name: dif_bicubic_3dep, dtype: float64"
      ]
     },
     "execution_count": 30,
     "metadata": {},
     "output_type": "execute_result"
    }
   ],
   "source": [
    "dep_gdf['dif_bicubic_3dep'].describe()"
   ]
  },
  {
   "cell_type": "code",
   "execution_count": 43,
   "id": "d7e0c38d-0b2a-452f-9ac1-9b42daa93452",
   "metadata": {},
   "outputs": [
    {
     "data": {
      "text/plain": [
       "<AxesSubplot: >"
      ]
     },
     "execution_count": 43,
     "metadata": {},
     "output_type": "execute_result"
    },
    {
     "data": {
      "image/png": "[encoded data removed]",
      "text/plain": [
       "<Figure size 640x480 with 2 Axes>"
      ]
     },
     "metadata": {},
     "output_type": "display_data"
    }
   ],
   "source": [
    "dep_gdf.plot(column='compare_3dep', legend=True)"
   ]
  },
  {
   "cell_type": "code",
   "execution_count": 44,
   "id": "0942b942-fb12-475b-ae32-edd23542a222",
   "metadata": {},
   "outputs": [
    {
     "data": {
      "text/plain": [
       "(array([ 1.,  0.,  0.,  0.,  0.,  0.,  1.,  2.,  6.,  5., 10., 20., 23.,\n",
       "        31., 51., 56., 48., 29., 13., 23.,  8.,  4.,  3.,  0.,  0.,  1.,\n",
       "         1.,  0.,  0.,  0.,  0.,  0.,  0.,  0.,  0.,  0.,  0.,  0.,  0.,\n",
       "         0.,  0.,  0.,  0.,  0.,  0.,  0.,  0.,  0.,  0.,  2.]),\n",
       " array([-4.08667885, -3.79599542, -3.50531199, -3.21462856, -2.92394513,\n",
       "        -2.63326169, -2.34257826, -2.05189483, -1.7612114 , -1.47052797,\n",
       "        -1.17984454, -0.88916111, -0.59847768, -0.30779425, -0.01711082,\n",
       "         0.27357262,  0.56425605,  0.85493948,  1.14562291,  1.43630634,\n",
       "         1.72698977,  2.0176732 ,  2.30835663,  2.59904006,  2.8897235 ,\n",
       "         3.18040693,  3.47109036,  3.76177379,  4.05245722,  4.34314065,\n",
       "         4.63382408,  4.92450751,  5.21519094,  5.50587437,  5.79655781,\n",
       "         6.08724124,  6.37792467,  6.6686081 ,  6.95929153,  7.24997496,\n",
       "         7.54065839,  7.83134182,  8.12202525,  8.41270869,  8.70339212,\n",
       "         8.99407555,  9.28475898,  9.57544241,  9.86612584, 10.15680927,\n",
       "        10.4474927 ]),\n",
       " <BarContainer object of 50 artists>)"
      ]
     },
     "execution_count": 44,
     "metadata": {},
     "output_type": "execute_result"
    },
    {
     "data": {
      "image/png": "[encoded data removed]",
      "text/plain": [
       "<Figure size 640x480 with 1 Axes>"
      ]
     },
     "metadata": {},
     "output_type": "display_data"
    }
   ],
   "source": [
    "plt.hist(dep_gdf['compare_3dep'], bins=50)"
   ]
  },
  {
   "cell_type": "code",
   "execution_count": 45,
   "id": "3437bfa3-32c5-41ea-b27e-f1e75eeba8a2",
   "metadata": {},
   "outputs": [
    {
     "data": {
      "text/plain": [
       "count    338.000000\n",
       "mean       0.410400\n",
       "std        1.180365\n",
       "min       -4.086679\n",
       "25%       -0.122573\n",
       "50%        0.398102\n",
       "75%        0.851316\n",
       "max       10.447493\n",
       "Name: compare_3dep, dtype: float64"
      ]
     },
     "execution_count": 45,
     "metadata": {},
     "output_type": "execute_result"
    }
   ],
   "source": [
    "dep_gdf['compare_3dep'].describe()"
   ]
  },
  {
   "cell_type": "code",
   "execution_count": 64,
   "id": "62431191-52f0-471c-9969-f9e30301de14",
   "metadata": {},
   "outputs": [
    {
     "data": {
      "text/plain": [
       "Text(0.5, 1.0, 'Difference between: ATL06SR - 3dep \\nand ATL06SR - DNR')"
      ]
     },
     "execution_count": 64,
     "metadata": {},
     "output_type": "execute_result"
    },
    {
     "data": {
      "image/png": "[encoded data removed]",
      "text/plain": [
       "<Figure size 640x480 with 1 Axes>"
      ]
     },
     "metadata": {},
     "output_type": "display_data"
    }
   ],
   "source": [
    "fig, ax = plt.subplots()\n",
    "plt.hist((dep_gdf['difference_bicubic'] - dep_gdf['difference_3dep']), bins=50)\n",
    "plt.axvline(x=np.nanmedian(dep_gdf['difference_bicubic'] - dep_gdf['difference_3dep']), color='k')\n",
    "plt.title('Difference between: ATL06SR - 3dep \\nand ATL06SR - DNR')"
   ]
  }
 ],
 "metadata": {
  "kernelspec": {
   "display_name": "Python 3 (ipykernel)",
   "language": "python",
   "name": "python3"
  },
  "language_info": {
   "codemirror_mode": {
    "name": "ipython",
    "version": 3
   },
   "file_extension": ".py",
   "mimetype": "text/x-python",
   "name": "python",
   "nbconvert_exporter": "python",
   "pygments_lexer": "ipython3",
   "version": "3.9.16"
  }
 },
 "nbformat": 4,
 "nbformat_minor": 5
}
