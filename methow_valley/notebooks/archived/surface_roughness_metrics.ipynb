{
 "cells": [
  {
   "cell_type": "markdown",
   "id": "3b7673a9",
   "metadata": {},
   "source": [
    "# Surface Roughness Metrics  \n",
    "Compute TRI using the Riley algorithm (https://gdal.org/programs/gdaldem.html#tri) at resolutions of native (1-3m), 20m, 100m  \n",
    "\n",
    "To Do:  \n",
    "Coarsen the Snow-Off DTMs, then compute TRI:\n",
    "* GM: 3, 20, 100m\n",
    "* Methow: 1, 20, 100m\n",
    "* Tuolumne: 1, 20, 100m  \n",
    "\n",
    "To coarsen:  \n",
    "gdalwarp -tr 20, 20 -r cubic mcc_dem_3p0m_agg_TUOtrimmed_MANUAL_ma.tif mcc_dem_3p0m_agg_TUOtrimmed_MANUAL_ma_20m.tif -co COMPRESS=LZW -co TILED=YES -co BIGTIFF=IF_SAFER  \n",
    "\n",
    "To create TRI:  \n",
    "gdaldem TRI mcc_dem_3p0m_agg_TUOtrimmed_MANUAL_ma_20m.tif mcc_dem_3p0m_agg_TUOtrimmed_MANUAL_ma_20m_tri.tif -co COMPRESS=LZW -co TILED=YES -co BIGTIFF=IF_SAFER\n"
   ]
  },
  {
   "cell_type": "code",
   "execution_count": 29,
   "id": "720a957c",
   "metadata": {},
   "outputs": [],
   "source": [
    "import numpy as np\n",
    "import os\n",
    "import pandas as pd\n",
    "import geopandas as gpd\n",
    "import matplotlib.pyplot as plt\n",
    "import contextily as cx\n",
    "from matplotlib_scalebar.scalebar import ScaleBar\n",
    "from mpl_toolkits.axes_grid1.inset_locator import inset_axes\n",
    "import rioxarray as rxr\n",
    "import rasterio as rio\n",
    "from rasterio.plot import show\n",
    "from rasterio.merge import merge\n",
    "from pathlib import Path\n",
    "from rasterstats import zonal_stats"
   ]
  },
  {
   "cell_type": "code",
   "execution_count": 30,
   "id": "443291dd",
   "metadata": {},
   "outputs": [],
   "source": [
    "%matplotlib inline"
   ]
  },
  {
   "cell_type": "markdown",
   "id": "2b717440",
   "metadata": {},
   "source": [
    "parallel \"gdalwarp --co COMPRESS=LZW -co TILED=YES --co BIGTIFF=IF_SAFER -tr 20, 20 -r cubic {} {.}_20m.tif\" ::: *.tif"
   ]
  },
  {
   "cell_type": "markdown",
   "id": "050affb5",
   "metadata": {},
   "source": [
    "parallel \"gdalwarp --co COMPRESS=LZW -co TILED=YES --co BIGTIFF=IF_SAFER -tr 100, 100 -r cubic {} {.}_100m.tif\" ::: *_20m.tif"
   ]
  },
  {
   "cell_type": "code",
   "execution_count": 1,
   "id": "3e36f1c9",
   "metadata": {},
   "outputs": [
    {
     "name": "stdout",
     "output_type": "stream",
     "text": [
      "/Users/Hannah/Documents/Documents_Grad/Research/IDS_westernUS/SlideRule_methow/notebooks\n"
     ]
    }
   ],
   "source": [
    "!pwd"
   ]
  },
  {
   "cell_type": "code",
   "execution_count": 12,
   "id": "8a727728",
   "metadata": {},
   "outputs": [
    {
     "data": {
      "text/plain": [
       "['../../data/lidar/native_res/ASO_3M_PCDTM_USCATE_20191010.tif',\n",
       " '../../data/lidar/native_res/ASO_3M_PCDTM_USCOGM_20160926_20160926.tif',\n",
       " '../../data/lidar/native_res/methow_basin_2018_dtm_origcrs_combined_1m.tif']"
      ]
     },
     "execution_count": 12,
     "metadata": {},
     "output_type": "execute_result"
    }
   ],
   "source": [
    "aso_dir = '../../data/lidar/native_res'\n",
    "aso_fn_list = !ls $aso_dir/*.tif\n",
    "aso_fn_list"
   ]
  },
  {
   "cell_type": "code",
   "execution_count": 10,
   "id": "5d7dd178",
   "metadata": {},
   "outputs": [
    {
     "data": {
      "text/plain": [
       "'../../data/lidar/native_res/*.tif'"
      ]
     },
     "execution_count": 10,
     "metadata": {},
     "output_type": "execute_result"
    }
   ],
   "source": [
    "aso_fn_list"
   ]
  },
  {
   "cell_type": "code",
   "execution_count": 16,
   "id": "35b5c51f",
   "metadata": {},
   "outputs": [
    {
     "data": {
      "text/plain": [
       "str"
      ]
     },
     "execution_count": 16,
     "metadata": {},
     "output_type": "execute_result"
    }
   ],
   "source": [
    "type(aso_fn_list.n)"
   ]
  },
  {
   "cell_type": "code",
   "execution_count": 18,
   "id": "88e1985f",
   "metadata": {},
   "outputs": [
    {
     "data": {
      "text/plain": [
       "['../../data/lidar/native_res/ASO_3M_PCDTM_USCATE_20191010.tif',\n",
       " '../../data/lidar/native_res/ASO_3M_PCDTM_USCOGM_20160926_20160926.tif',\n",
       " '../../data/lidar/native_res/methow_basin_2018_dtm_origcrs_combined_1m.tif']"
      ]
     },
     "execution_count": 18,
     "metadata": {},
     "output_type": "execute_result"
    }
   ],
   "source": [
    "aso_fn_list.l"
   ]
  },
  {
   "cell_type": "code",
   "execution_count": 19,
   "id": "b037ff87",
   "metadata": {},
   "outputs": [
    {
     "data": {
      "text/plain": [
       "'../../data/lidar/native_res/ASO_3M_PCDTM_USCATE_20191010.tif'"
      ]
     },
     "execution_count": 19,
     "metadata": {},
     "output_type": "execute_result"
    }
   ],
   "source": [
    "(aso_fn_list.l)[0]"
   ]
  },
  {
   "cell_type": "code",
   "execution_count": 36,
   "id": "4a8e07e2",
   "metadata": {},
   "outputs": [
    {
     "data": {
      "text/plain": [
       "['../../data/lidar/native_res/ASO_3M_PCDTM_USCATE_20191010.tif',\n",
       " '../../data/lidar/native_res/ASO_3M_PCDTM_USCOGM_20160926_20160926.tif',\n",
       " '../../data/lidar/native_res/methow_basin_2018_dtm_origcrs_combined_1m.tif',\n",
       " '../../data/lidar/native_res/ASO_3M_PCDTM_USCATE_20191010_20.tif',\n",
       " '../../data/lidar/native_res/ASO_3M_PCDTM_USCATE_20191010_20.tif',\n",
       " '../../data/lidar/native_res/ASO_3M_PCDTM_USCATE_20191010_20.tif',\n",
       " '../../data/lidar/native_res/ASO_3M_PCDTM_USCATE_20191010_20.tif',\n",
       " '../../data/lidar/native_res/ASO_3M_PCDTM_USCATE_20191010_20.tif',\n",
       " '../../data/lidar/native_res/ASO_3M_PCDTM_USCATE_20191010_100.tif',\n",
       " '../../data/lidar/native_res/ASO_3M_PCDTM_USCOGM_20160926_20160926_20.tif',\n",
       " '../../data/lidar/native_res/ASO_3M_PCDTM_USCOGM_20160926_20160926_100.tif',\n",
       " '../../data/lidar/native_res/methow_basin_2018_dtm_origcrs_combined_1m_20.tif',\n",
       " '../../data/lidar/native_res/methow_basin_2018_dtm_origcrs_combined_1m_100.tif',\n",
       " '../../data/lidar/native_res/ASO_3M_PCDTM_USCATE_20191010_20_20.tif',\n",
       " '../../data/lidar/native_res/ASO_3M_PCDTM_USCATE_20191010_20_100.tif',\n",
       " '../../data/lidar/native_res/ASO_3M_PCDTM_USCATE_20191010_20_20.tif',\n",
       " '../../data/lidar/native_res/ASO_3M_PCDTM_USCATE_20191010_20_100.tif',\n",
       " '../../data/lidar/native_res/ASO_3M_PCDTM_USCATE_20191010_20_20.tif',\n",
       " '../../data/lidar/native_res/ASO_3M_PCDTM_USCATE_20191010_20_100.tif',\n",
       " '../../data/lidar/native_res/ASO_3M_PCDTM_USCATE_20191010_20_20.tif',\n",
       " '../../data/lidar/native_res/ASO_3M_PCDTM_USCATE_20191010_20_100.tif',\n",
       " '../../data/lidar/native_res/ASO_3M_PCDTM_USCATE_20191010_20_20.tif',\n",
       " '../../data/lidar/native_res/ASO_3M_PCDTM_USCATE_20191010_20_100.tif',\n",
       " '../../data/lidar/native_res/ASO_3M_PCDTM_USCATE_20191010_100_20.tif',\n",
       " '../../data/lidar/native_res/ASO_3M_PCDTM_USCATE_20191010_100_100.tif',\n",
       " '../../data/lidar/native_res/ASO_3M_PCDTM_USCOGM_20160926_20160926_20_20.tif',\n",
       " '../../data/lidar/native_res/ASO_3M_PCDTM_USCOGM_20160926_20160926_20_100.tif',\n",
       " '../../data/lidar/native_res/ASO_3M_PCDTM_USCOGM_20160926_20160926_100_20.tif',\n",
       " '../../data/lidar/native_res/ASO_3M_PCDTM_USCOGM_20160926_20160926_100_100.tif',\n",
       " '../../data/lidar/native_res/methow_basin_2018_dtm_origcrs_combined_1m_20_20.tif']"
      ]
     },
     "execution_count": 36,
     "metadata": {},
     "output_type": "execute_result"
    }
   ],
   "source": [
    "aso_fn_list.l"
   ]
  },
  {
   "cell_type": "code",
   "execution_count": null,
   "id": "1e20b7bc",
   "metadata": {},
   "outputs": [],
   "source": [
    "#for dem_fn in [aso_fn_list[aso_idx], os.path.splitext(aso_fn_list[aso_idx])+'_8x.tif']:\n",
    "for dem_fn in aso_fn_list.l:\n",
    "    for res in [20,100]:\n",
    "        #gdaldem_fn = os.path.splitext(aso_fn_list[aso_idx])[0]+f'_{v}.tif'\n",
    "        gdaldem_fn = os.path.splitext(dem_fn)[0]+f'_tri.tif'\n",
    "        print(gdaldem_fn)\n",
    "        if not os.path.exists(gdaldem_fn):\n",
    "            !gdaldem TRI {dem_fn} {gdaldem_fn} -co COMPRESS=LZW -co TILED=YES -co BIGTIFF=IF_SAFER\n",
    "        gdaldem_fn = os.path.splitext(dem_fn)[0]+f'_{res}.tif'\n",
    "        print(gdaldem_fn)\n",
    "        if not os.path.exists(gdaldem_fn):\n",
    "            !gdalwarp -tr {res}, {res} -r cubic {dem_fn} {gdaldem_fn} -co COMPRESS=LZW -co TILED=YES -co BIGTIFF=IF_SAFER \n",
    "        #aso_fn_list.append(gdaldem_fn)\n",
    "        gdaldem_src = rio.open(gdaldem_fn)"
   ]
  },
  {
   "cell_type": "markdown",
   "id": "9f812558",
   "metadata": {},
   "source": [
    "## Tuolumne"
   ]
  },
  {
   "cell_type": "code",
   "execution_count": 56,
   "id": "cc5b492d",
   "metadata": {},
   "outputs": [],
   "source": [
    "# Change the nodata value of the original tuolumne snowoff data so that edge effects aren't an issue\n",
    "# https://gis.stackexchange.com/questions/369064/how-to-convert-0-values-to-nodata-values-with-rasterio\n",
    "source_raster_path = \"../../data/lidar/tuolumne/snow_off/ASO_snowoff_linux/mcc_dem_3p0m_agg_TUOtrimmed_MANUAL_10m.tif\"\n",
    "distination_raster_path = \"../../data/lidar/native_res/mcc_dem_3p0m_agg_TUOtrimmed_MANUAL_10m_ma_only.tif\"\n",
    "with rio.open(source_raster_path, \"r+\") as src:\n",
    "    src.nodata = 0 # set the nodata value\n",
    "    profile = src.profile\n",
    "    profile.update(\n",
    "            nodata=0\n",
    "    )\n",
    "\n",
    "    with rio.open(distination_raster_path, 'w',  **profile) as dst:\n",
    "        band = src.read(1)\n",
    "        # band = np.where(band!=1,0,band) # if value is not equal to 1 assign no data value i.e. 0\n",
    "        band = np.where(band==0,0,band) # for completeness\n",
    "        dst.write(band,1)\n"
   ]
  },
  {
   "cell_type": "markdown",
   "id": "3429a1f8",
   "metadata": {},
   "source": [
    "## Mask out Hetch Hetchy (and other lakes/waterbodies)  \n",
    "There were large negative difference values over Hetch Hetchy, which made some summer boxplots (2019-09-09) have a median of 1m instead of near 0.  \n",
    "Lakes layer from https://data.cnra.ca.gov/dataset/california-lakes"
   ]
  },
  {
   "cell_type": "code",
   "execution_count": 31,
   "id": "a3df9468",
   "metadata": {},
   "outputs": [],
   "source": [
    "lakes = gpd.read_file('../../data/California_Lakes.geojson')\n",
    "tuol_outline = gpd.read_file('../../data/site_outlines/UpperTuolRiverBasinOutline.geojson')"
   ]
  },
  {
   "cell_type": "code",
   "execution_count": 34,
   "id": "9348b99f",
   "metadata": {},
   "outputs": [],
   "source": [
    "lakes = lakes.to_crs(tuol_masked_src.crs)\n",
    "tuol_outline = tuol_outline.to_crs(tuol_masked_src.crs)"
   ]
  },
  {
   "cell_type": "code",
   "execution_count": 35,
   "id": "25c5e529",
   "metadata": {},
   "outputs": [],
   "source": [
    "lakes = gpd.clip(lakes, tuol_outline)"
   ]
  },
  {
   "cell_type": "code",
   "execution_count": 65,
   "id": "ce287c21",
   "metadata": {},
   "outputs": [
    {
     "data": {
      "text/plain": [
       "<AxesSubplot:>"
      ]
     },
     "execution_count": 65,
     "metadata": {},
     "output_type": "execute_result"
    },
    {
     "data": {
      "image/png": "[encoded data removed]",
      "text/plain": [
       "<Figure size 432x288 with 1 Axes>"
      ]
     },
     "metadata": {
      "needs_background": "light"
     },
     "output_type": "display_data"
    }
   ],
   "source": [
    "fig, ax = plt.subplots()\n",
    "\n",
    "lakes.plot(ax=ax)\n",
    "tuol_outline.plot(ax=ax, facecolor='none')"
   ]
  },
  {
   "cell_type": "code",
   "execution_count": 36,
   "id": "b1a48a81",
   "metadata": {},
   "outputs": [],
   "source": [
    "tuol_outline_nolakes = gpd.overlay(tuol_outline, lakes, how='difference')"
   ]
  },
  {
   "cell_type": "code",
   "execution_count": 37,
   "id": "f6050606",
   "metadata": {},
   "outputs": [],
   "source": [
    "tuol_outline_nolakes.to_pickle('../../data/site_outlines/tuol_outline_nolakes.pkl')"
   ]
  },
  {
   "cell_type": "code",
   "execution_count": 38,
   "id": "6cfedad2",
   "metadata": {},
   "outputs": [
    {
     "data": {
      "text/plain": [
       "<AxesSubplot:>"
      ]
     },
     "execution_count": 38,
     "metadata": {},
     "output_type": "execute_result"
    },
    {
     "data": {
      "image/png": "[encoded data removed]",
      "text/plain": [
       "<Figure size 432x288 with 1 Axes>"
      ]
     },
     "metadata": {
      "needs_background": "light"
     },
     "output_type": "display_data"
    }
   ],
   "source": [
    "tuol_outline_nolakes[0:1].plot()"
   ]
  },
  {
   "cell_type": "code",
   "execution_count": 77,
   "id": "ac0c2975",
   "metadata": {},
   "outputs": [
    {
     "data": {
      "text/plain": [
       "<AxesSubplot:>"
      ]
     },
     "execution_count": 77,
     "metadata": {},
     "output_type": "execute_result"
    },
    {
     "data": {
      "image/png": "[encoded data removed]",
      "text/plain": [
       "<Figure size 432x288 with 1 Axes>"
      ]
     },
     "metadata": {
      "needs_background": "light"
     },
     "output_type": "display_data"
    }
   ],
   "source": [
    "tuol_outline_nolakes[1:].plot()"
   ]
  },
  {
   "cell_type": "code",
   "execution_count": 78,
   "id": "1bb873cb",
   "metadata": {},
   "outputs": [
    {
     "data": {
      "text/html": [
       "<div>\n",
       "<style scoped>\n",
       "    .dataframe tbody tr th:only-of-type {\n",
       "        vertical-align: middle;\n",
       "    }\n",
       "\n",
       "    .dataframe tbody tr th {\n",
       "        vertical-align: top;\n",
       "    }\n",
       "\n",
       "    .dataframe thead th {\n",
       "        text-align: right;\n",
       "    }\n",
       "</style>\n",
       "<table border=\"1\" class=\"dataframe\">\n",
       "  <thead>\n",
       "    <tr style=\"text-align: right;\">\n",
       "      <th></th>\n",
       "      <th>DN</th>\n",
       "      <th>geometry</th>\n",
       "    </tr>\n",
       "  </thead>\n",
       "  <tbody>\n",
       "    <tr>\n",
       "      <th>1</th>\n",
       "      <td>1</td>\n",
       "      <td>GEOMETRYCOLLECTION Z (LINESTRING Z (281303.787...</td>\n",
       "    </tr>\n",
       "  </tbody>\n",
       "</table>\n",
       "</div>"
      ],
      "text/plain": [
       "   DN                                           geometry\n",
       "1   1  GEOMETRYCOLLECTION Z (LINESTRING Z (281303.787..."
      ]
     },
     "execution_count": 78,
     "metadata": {},
     "output_type": "execute_result"
    }
   ],
   "source": [
    "tuol_outline_nolakes[1:]"
   ]
  },
  {
   "cell_type": "code",
   "execution_count": 87,
   "id": "6461846e",
   "metadata": {},
   "outputs": [
    {
     "data": {
      "text/plain": [
       "<GeometryArray>\n",
       "[<shapely.geometry.collection.GeometryCollection object at 0x7f9f8c13ad60>]\n",
       "Length: 1, dtype: geometry"
      ]
     },
     "execution_count": 87,
     "metadata": {},
     "output_type": "execute_result"
    }
   ],
   "source": [
    "tuol_outline_nolakes[0:1].geometry.values"
   ]
  },
  {
   "cell_type": "code",
   "execution_count": 39,
   "id": "6cb16476",
   "metadata": {},
   "outputs": [],
   "source": [
    "# Convert to a shapely polygon for clipping the raster.\n",
    "shape = tuol_outline_nolakes.loc[0, 'geometry']"
   ]
  },
  {
   "cell_type": "code",
   "execution_count": 67,
   "id": "e3e0f21a",
   "metadata": {},
   "outputs": [
    {
     "data": {
      "text/plain": [
       "<AxesSubplot:>"
      ]
     },
     "execution_count": 67,
     "metadata": {},
     "output_type": "execute_result"
    },
    {
     "data": {
      "image/png": "[encoded data removed]",
      "text/plain": [
       "<Figure size 432x288 with 1 Axes>"
      ]
     },
     "metadata": {
      "needs_background": "light"
     },
     "output_type": "display_data"
    }
   ],
   "source": [
    "tuol_outline_nolakes.plot()"
   ]
  },
  {
   "cell_type": "code",
   "execution_count": 89,
   "id": "78dd4bf4",
   "metadata": {},
   "outputs": [],
   "source": [
    "with rio.open('../../data/lidar/native_res/mcc_dem_3p0m_agg_TUOtrimmed_MANUAL_ma.tif') as src:\n",
    "    out_image, out_transform = rio.mask.mask(src, shape, crop=True)\n",
    "    out_meta = src.meta"
   ]
  },
  {
   "cell_type": "code",
   "execution_count": 91,
   "id": "c686749f",
   "metadata": {},
   "outputs": [],
   "source": [
    "out_meta.update({\"driver\": \"GTiff\",\n",
    "                 \"height\": out_image.shape[1],\n",
    "                 \"width\": out_image.shape[2],\n",
    "                 \"transform\": out_transform})\n",
    "\n",
    "with rio.open('../../data/lidar/native_res/mcc_dem_3p0m_agg_TUOtrimmed_MANUAL_ma.tif', \"w\", **out_meta) as dest:\n",
    "    dest.write(out_image)\n"
   ]
  },
  {
   "cell_type": "code",
   "execution_count": 33,
   "id": "54710c44",
   "metadata": {},
   "outputs": [],
   "source": [
    "tuol_masked_src = rio.open('../../data/lidar/native_res/mcc_dem_3p0m_agg_TUOtrimmed_MANUAL_ma.tif')"
   ]
  },
  {
   "cell_type": "code",
   "execution_count": 100,
   "id": "7d572331",
   "metadata": {},
   "outputs": [],
   "source": [
    "tuol_maskedtri_src = rio.open('../../data/lidar/native_res/mcc_dem_3p0m_agg_TUOtrimmed_MANUAL_ma_tri2.tif')"
   ]
  },
  {
   "cell_type": "code",
   "execution_count": 63,
   "id": "c5958943",
   "metadata": {},
   "outputs": [],
   "source": [
    "tuol_slope_src = rio.open('../../data/lidar/native_res/methow_basin_2018_dtm_origcrs_combined_90m_slope.tif')"
   ]
  },
  {
   "cell_type": "code",
   "execution_count": 64,
   "id": "67216561",
   "metadata": {},
   "outputs": [
    {
     "data": {
      "text/plain": [
       "CRS.from_wkt('PROJCS[\"NAD83(HARN) / Washington South (ftUS)\",GEOGCS[\"NAD83(HARN)\",DATUM[\"NAD83_High_Accuracy_Reference_Network\",SPHEROID[\"GRS 1980\",6378137,298.257222101004,AUTHORITY[\"EPSG\",\"7019\"]],AUTHORITY[\"EPSG\",\"6152\"]],PRIMEM[\"Greenwich\",0],UNIT[\"degree\",0.0174532925199433,AUTHORITY[\"EPSG\",\"9122\"]]],PROJECTION[\"Lambert_Conformal_Conic_2SP\"],PARAMETER[\"latitude_of_origin\",45.3333333333333],PARAMETER[\"central_meridian\",-120.5],PARAMETER[\"standard_parallel_1\",45.8333333333333],PARAMETER[\"standard_parallel_2\",47.3333333333333],PARAMETER[\"false_easting\",1640416.66666667],PARAMETER[\"false_northing\",0],UNIT[\"US survey foot\",0.304800609601219,AUTHORITY[\"EPSG\",\"9003\"]],AXIS[\"Easting\",EAST],AXIS[\"Northing\",NORTH]]')"
      ]
     },
     "execution_count": 64,
     "metadata": {},
     "output_type": "execute_result"
    }
   ],
   "source": [
    "tuol_slope_src.crs"
   ]
  },
  {
   "cell_type": "code",
   "execution_count": 125,
   "id": "286989d0",
   "metadata": {},
   "outputs": [
    {
     "data": {
      "text/plain": [
       "{'driver': 'GTiff', 'dtype': 'float32', 'nodata': -9999.0, 'width': 17468, 'height': 16771, 'count': 1, 'crs': CRS.from_epsg(32611), 'transform': Affine(3.0, 0.0, 254247.0,\n",
       "       0.0, -3.0, 4229643.0), 'blockxsize': 256, 'blockysize': 256, 'tiled': True, 'compress': 'lzw', 'interleave': 'band'}"
      ]
     },
     "execution_count": 125,
     "metadata": {},
     "output_type": "execute_result"
    }
   ],
   "source": [
    "tuol_maskedtri_src.profile"
   ]
  },
  {
   "cell_type": "code",
   "execution_count": 95,
   "id": "6c7e06de",
   "metadata": {},
   "outputs": [],
   "source": [
    "tuol_masked = tuol_masked_src.read(1, masked=True)"
   ]
  },
  {
   "cell_type": "code",
   "execution_count": 101,
   "id": "cd62312a",
   "metadata": {},
   "outputs": [],
   "source": [
    "tuol_maskedtri = tuol_maskedtri_src.read(1, masked=True)"
   ]
  },
  {
   "cell_type": "code",
   "execution_count": 58,
   "id": "24c52a61",
   "metadata": {},
   "outputs": [],
   "source": [
    "tuol_slope = tuol_slope_src.read(1, masked=True)"
   ]
  },
  {
   "cell_type": "code",
   "execution_count": 96,
   "id": "56f98869",
   "metadata": {},
   "outputs": [
    {
     "data": {
      "text/plain": [
       "<matplotlib.colorbar.Colorbar at 0x7fa531436a90>"
      ]
     },
     "execution_count": 96,
     "metadata": {},
     "output_type": "execute_result"
    },
    {
     "data": {
      "image/png": "[encoded data removed]",
      "text/plain": [
       "<Figure size 432x288 with 2 Axes>"
      ]
     },
     "metadata": {
      "needs_background": "light"
     },
     "output_type": "display_data"
    }
   ],
   "source": [
    "fig, ax = plt.subplots()\n",
    "\n",
    "c = plt.imshow(tuol_masked)\n",
    "plt.colorbar(c)\n"
   ]
  },
  {
   "cell_type": "code",
   "execution_count": 102,
   "id": "891fe471",
   "metadata": {},
   "outputs": [
    {
     "data": {
      "text/plain": [
       "<matplotlib.colorbar.Colorbar at 0x7f9f8c4518e0>"
      ]
     },
     "execution_count": 102,
     "metadata": {},
     "output_type": "execute_result"
    },
    {
     "data": {
      "image/png": "[encoded data removed]",
      "text/plain": [
       "<Figure size 432x288 with 2 Axes>"
      ]
     },
     "metadata": {
      "needs_background": "light"
     },
     "output_type": "display_data"
    }
   ],
   "source": [
    "fig, ax = plt.subplots()\n",
    "\n",
    "c = plt.imshow(tuol_maskedtri)\n",
    "plt.colorbar(c)"
   ]
  },
  {
   "cell_type": "code",
   "execution_count": 99,
   "id": "a9f0a1ff",
   "metadata": {},
   "outputs": [
    {
     "data": {
      "text/html": [
       "<div><svg style=\"position: absolute; width: 0; height: 0; overflow: hidden\">\n",
       "<defs>\n",
       "<symbol id=\"icon-database\" viewBox=\"0 0 32 32\">\n",
       "<path d=\"M16 0c-8.837 0-16 2.239-16 5v4c0 2.761 7.163 5 16 5s16-2.239 16-5v-4c0-2.761-7.163-5-16-5z\"></path>\n",
       "<path d=\"M16 17c-8.837 0-16-2.239-16-5v6c0 2.761 7.163 5 16 5s16-2.239 16-5v-6c0 2.761-7.163 5-16 5z\"></path>\n",
       "<path d=\"M16 26c-8.837 0-16-2.239-16-5v6c0 2.761 7.163 5 16 5s16-2.239 16-5v-6c0 2.761-7.163 5-16 5z\"></path>\n",
       "</symbol>\n",
       "<symbol id=\"icon-file-text2\" viewBox=\"0 0 32 32\">\n",
       "<path d=\"M28.681 7.159c-0.694-0.947-1.662-2.053-2.724-3.116s-2.169-2.030-3.116-2.724c-1.612-1.182-2.393-1.319-2.841-1.319h-15.5c-1.378 0-2.5 1.121-2.5 2.5v27c0 1.378 1.122 2.5 2.5 2.5h23c1.378 0 2.5-1.122 2.5-2.5v-19.5c0-0.448-0.137-1.23-1.319-2.841zM24.543 5.457c0.959 0.959 1.712 1.825 2.268 2.543h-4.811v-4.811c0.718 0.556 1.584 1.309 2.543 2.268zM28 29.5c0 0.271-0.229 0.5-0.5 0.5h-23c-0.271 0-0.5-0.229-0.5-0.5v-27c0-0.271 0.229-0.5 0.5-0.5 0 0 15.499-0 15.5 0v7c0 0.552 0.448 1 1 1h7v19.5z\"></path>\n",
       "<path d=\"M23 26h-14c-0.552 0-1-0.448-1-1s0.448-1 1-1h14c0.552 0 1 0.448 1 1s-0.448 1-1 1z\"></path>\n",
       "<path d=\"M23 22h-14c-0.552 0-1-0.448-1-1s0.448-1 1-1h14c0.552 0 1 0.448 1 1s-0.448 1-1 1z\"></path>\n",
       "<path d=\"M23 18h-14c-0.552 0-1-0.448-1-1s0.448-1 1-1h14c0.552 0 1 0.448 1 1s-0.448 1-1 1z\"></path>\n",
       "</symbol>\n",
       "</defs>\n",
       "</svg>\n",
       "<style>/* CSS stylesheet for displaying xarray objects in jupyterlab.\n",
       " *\n",
       " */\n",
       "\n",
       ":root {\n",
       "  --xr-font-color0: var(--jp-content-font-color0, rgba(0, 0, 0, 1));\n",
       "  --xr-font-color2: var(--jp-content-font-color2, rgba(0, 0, 0, 0.54));\n",
       "  --xr-font-color3: var(--jp-content-font-color3, rgba(0, 0, 0, 0.38));\n",
       "  --xr-border-color: var(--jp-border-color2, #e0e0e0);\n",
       "  --xr-disabled-color: var(--jp-layout-color3, #bdbdbd);\n",
       "  --xr-background-color: var(--jp-layout-color0, white);\n",
       "  --xr-background-color-row-even: var(--jp-layout-color1, white);\n",
       "  --xr-background-color-row-odd: var(--jp-layout-color2, #eeeeee);\n",
       "}\n",
       "\n",
       "html[theme=dark],\n",
       "body.vscode-dark {\n",
       "  --xr-font-color0: rgba(255, 255, 255, 1);\n",
       "  --xr-font-color2: rgba(255, 255, 255, 0.54);\n",
       "  --xr-font-color3: rgba(255, 255, 255, 0.38);\n",
       "  --xr-border-color: #1F1F1F;\n",
       "  --xr-disabled-color: #515151;\n",
       "  --xr-background-color: #111111;\n",
       "  --xr-background-color-row-even: #111111;\n",
       "  --xr-background-color-row-odd: #313131;\n",
       "}\n",
       "\n",
       ".xr-wrap {\n",
       "  display: block;\n",
       "  min-width: 300px;\n",
       "  max-width: 700px;\n",
       "}\n",
       "\n",
       ".xr-text-repr-fallback {\n",
       "  /* fallback to plain text repr when CSS is not injected (untrusted notebook) */\n",
       "  display: none;\n",
       "}\n",
       "\n",
       ".xr-header {\n",
       "  padding-top: 6px;\n",
       "  padding-bottom: 6px;\n",
       "  margin-bottom: 4px;\n",
       "  border-bottom: solid 1px var(--xr-border-color);\n",
       "}\n",
       "\n",
       ".xr-header > div,\n",
       ".xr-header > ul {\n",
       "  display: inline;\n",
       "  margin-top: 0;\n",
       "  margin-bottom: 0;\n",
       "}\n",
       "\n",
       ".xr-obj-type,\n",
       ".xr-array-name {\n",
       "  margin-left: 2px;\n",
       "  margin-right: 10px;\n",
       "}\n",
       "\n",
       ".xr-obj-type {\n",
       "  color: var(--xr-font-color2);\n",
       "}\n",
       "\n",
       ".xr-sections {\n",
       "  padding-left: 0 !important;\n",
       "  display: grid;\n",
       "  grid-template-columns: 150px auto auto 1fr 20px 20px;\n",
       "}\n",
       "\n",
       ".xr-section-item {\n",
       "  display: contents;\n",
       "}\n",
       "\n",
       ".xr-section-item input {\n",
       "  display: none;\n",
       "}\n",
       "\n",
       ".xr-section-item input + label {\n",
       "  color: var(--xr-disabled-color);\n",
       "}\n",
       "\n",
       ".xr-section-item input:enabled + label {\n",
       "  cursor: pointer;\n",
       "  color: var(--xr-font-color2);\n",
       "}\n",
       "\n",
       ".xr-section-item input:enabled + label:hover {\n",
       "  color: var(--xr-font-color0);\n",
       "}\n",
       "\n",
       ".xr-section-summary {\n",
       "  grid-column: 1;\n",
       "  color: var(--xr-font-color2);\n",
       "  font-weight: 500;\n",
       "}\n",
       "\n",
       ".xr-section-summary > span {\n",
       "  display: inline-block;\n",
       "  padding-left: 0.5em;\n",
       "}\n",
       "\n",
       ".xr-section-summary-in:disabled + label {\n",
       "  color: var(--xr-font-color2);\n",
       "}\n",
       "\n",
       ".xr-section-summary-in + label:before {\n",
       "  display: inline-block;\n",
       "  content: '►';\n",
       "  font-size: 11px;\n",
       "  width: 15px;\n",
       "  text-align: center;\n",
       "}\n",
       "\n",
       ".xr-section-summary-in:disabled + label:before {\n",
       "  color: var(--xr-disabled-color);\n",
       "}\n",
       "\n",
       ".xr-section-summary-in:checked + label:before {\n",
       "  content: '▼';\n",
       "}\n",
       "\n",
       ".xr-section-summary-in:checked + label > span {\n",
       "  display: none;\n",
       "}\n",
       "\n",
       ".xr-section-summary,\n",
       ".xr-section-inline-details {\n",
       "  padding-top: 4px;\n",
       "  padding-bottom: 4px;\n",
       "}\n",
       "\n",
       ".xr-section-inline-details {\n",
       "  grid-column: 2 / -1;\n",
       "}\n",
       "\n",
       ".xr-section-details {\n",
       "  display: none;\n",
       "  grid-column: 1 / -1;\n",
       "  margin-bottom: 5px;\n",
       "}\n",
       "\n",
       ".xr-section-summary-in:checked ~ .xr-section-details {\n",
       "  display: contents;\n",
       "}\n",
       "\n",
       ".xr-array-wrap {\n",
       "  grid-column: 1 / -1;\n",
       "  display: grid;\n",
       "  grid-template-columns: 20px auto;\n",
       "}\n",
       "\n",
       ".xr-array-wrap > label {\n",
       "  grid-column: 1;\n",
       "  vertical-align: top;\n",
       "}\n",
       "\n",
       ".xr-preview {\n",
       "  color: var(--xr-font-color3);\n",
       "}\n",
       "\n",
       ".xr-array-preview,\n",
       ".xr-array-data {\n",
       "  padding: 0 5px !important;\n",
       "  grid-column: 2;\n",
       "}\n",
       "\n",
       ".xr-array-data,\n",
       ".xr-array-in:checked ~ .xr-array-preview {\n",
       "  display: none;\n",
       "}\n",
       "\n",
       ".xr-array-in:checked ~ .xr-array-data,\n",
       ".xr-array-preview {\n",
       "  display: inline-block;\n",
       "}\n",
       "\n",
       ".xr-dim-list {\n",
       "  display: inline-block !important;\n",
       "  list-style: none;\n",
       "  padding: 0 !important;\n",
       "  margin: 0;\n",
       "}\n",
       "\n",
       ".xr-dim-list li {\n",
       "  display: inline-block;\n",
       "  padding: 0;\n",
       "  margin: 0;\n",
       "}\n",
       "\n",
       ".xr-dim-list:before {\n",
       "  content: '(';\n",
       "}\n",
       "\n",
       ".xr-dim-list:after {\n",
       "  content: ')';\n",
       "}\n",
       "\n",
       ".xr-dim-list li:not(:last-child):after {\n",
       "  content: ',';\n",
       "  padding-right: 5px;\n",
       "}\n",
       "\n",
       ".xr-has-index {\n",
       "  font-weight: bold;\n",
       "}\n",
       "\n",
       ".xr-var-list,\n",
       ".xr-var-item {\n",
       "  display: contents;\n",
       "}\n",
       "\n",
       ".xr-var-item > div,\n",
       ".xr-var-item label,\n",
       ".xr-var-item > .xr-var-name span {\n",
       "  background-color: var(--xr-background-color-row-even);\n",
       "  margin-bottom: 0;\n",
       "}\n",
       "\n",
       ".xr-var-item > .xr-var-name:hover span {\n",
       "  padding-right: 5px;\n",
       "}\n",
       "\n",
       ".xr-var-list > li:nth-child(odd) > div,\n",
       ".xr-var-list > li:nth-child(odd) > label,\n",
       ".xr-var-list > li:nth-child(odd) > .xr-var-name span {\n",
       "  background-color: var(--xr-background-color-row-odd);\n",
       "}\n",
       "\n",
       ".xr-var-name {\n",
       "  grid-column: 1;\n",
       "}\n",
       "\n",
       ".xr-var-dims {\n",
       "  grid-column: 2;\n",
       "}\n",
       "\n",
       ".xr-var-dtype {\n",
       "  grid-column: 3;\n",
       "  text-align: right;\n",
       "  color: var(--xr-font-color2);\n",
       "}\n",
       "\n",
       ".xr-var-preview {\n",
       "  grid-column: 4;\n",
       "}\n",
       "\n",
       ".xr-var-name,\n",
       ".xr-var-dims,\n",
       ".xr-var-dtype,\n",
       ".xr-preview,\n",
       ".xr-attrs dt {\n",
       "  white-space: nowrap;\n",
       "  overflow: hidden;\n",
       "  text-overflow: ellipsis;\n",
       "  padding-right: 10px;\n",
       "}\n",
       "\n",
       ".xr-var-name:hover,\n",
       ".xr-var-dims:hover,\n",
       ".xr-var-dtype:hover,\n",
       ".xr-attrs dt:hover {\n",
       "  overflow: visible;\n",
       "  width: auto;\n",
       "  z-index: 1;\n",
       "}\n",
       "\n",
       ".xr-var-attrs,\n",
       ".xr-var-data {\n",
       "  display: none;\n",
       "  background-color: var(--xr-background-color) !important;\n",
       "  padding-bottom: 5px !important;\n",
       "}\n",
       "\n",
       ".xr-var-attrs-in:checked ~ .xr-var-attrs,\n",
       ".xr-var-data-in:checked ~ .xr-var-data {\n",
       "  display: block;\n",
       "}\n",
       "\n",
       ".xr-var-data > table {\n",
       "  float: right;\n",
       "}\n",
       "\n",
       ".xr-var-name span,\n",
       ".xr-var-data,\n",
       ".xr-attrs {\n",
       "  padding-left: 25px !important;\n",
       "}\n",
       "\n",
       ".xr-attrs,\n",
       ".xr-var-attrs,\n",
       ".xr-var-data {\n",
       "  grid-column: 1 / -1;\n",
       "}\n",
       "\n",
       "dl.xr-attrs {\n",
       "  padding: 0;\n",
       "  margin: 0;\n",
       "  display: grid;\n",
       "  grid-template-columns: 125px auto;\n",
       "}\n",
       "\n",
       ".xr-attrs dt,\n",
       ".xr-attrs dd {\n",
       "  padding: 0;\n",
       "  margin: 0;\n",
       "  float: left;\n",
       "  padding-right: 10px;\n",
       "  width: auto;\n",
       "}\n",
       "\n",
       ".xr-attrs dt {\n",
       "  font-weight: normal;\n",
       "  grid-column: 1;\n",
       "}\n",
       "\n",
       ".xr-attrs dt:hover span {\n",
       "  display: inline-block;\n",
       "  background: var(--xr-background-color);\n",
       "  padding-right: 10px;\n",
       "}\n",
       "\n",
       ".xr-attrs dd {\n",
       "  grid-column: 2;\n",
       "  white-space: pre-wrap;\n",
       "  word-break: break-all;\n",
       "}\n",
       "\n",
       ".xr-icon-database,\n",
       ".xr-icon-file-text2 {\n",
       "  display: inline-block;\n",
       "  vertical-align: middle;\n",
       "  width: 1em;\n",
       "  height: 1.5em !important;\n",
       "  stroke-width: 0;\n",
       "  stroke: currentColor;\n",
       "  fill: currentColor;\n",
       "}\n",
       "</style><pre class='xr-text-repr-fallback'>&lt;xarray.DataArray (y: 16771, x: 17468)&gt;\n",
       "[292955828 values with dtype=float32]\n",
       "Coordinates:\n",
       "    band         int64 1\n",
       "  * x            (x) float64 2.542e+05 2.543e+05 ... 3.066e+05 3.066e+05\n",
       "  * y            (y) float64 4.23e+06 4.23e+06 4.23e+06 ... 4.179e+06 4.179e+06\n",
       "    spatial_ref  int64 0\n",
       "Attributes:\n",
       "    scale_factor:  1.0\n",
       "    add_offset:    0.0</pre><div class='xr-wrap' hidden><div class='xr-header'><div class='xr-obj-type'>xarray.DataArray</div><div class='xr-array-name'></div><ul class='xr-dim-list'><li><span class='xr-has-index'>y</span>: 16771</li><li><span class='xr-has-index'>x</span>: 17468</li></ul></div><ul class='xr-sections'><li class='xr-section-item'><div class='xr-array-wrap'><input id='section-e172fe66-ffcc-4fbd-a998-1647bbfa90ae' class='xr-array-in' type='checkbox' checked><label for='section-e172fe66-ffcc-4fbd-a998-1647bbfa90ae' title='Show/hide data repr'><svg class='icon xr-icon-database'><use xlink:href='#icon-database'></use></svg></label><div class='xr-array-preview xr-preview'><span>...</span></div><div class='xr-array-data'><pre>[292955828 values with dtype=float32]</pre></div></div></li><li class='xr-section-item'><input id='section-45885409-0e6d-4008-94ed-912b7647efd3' class='xr-section-summary-in' type='checkbox'  checked><label for='section-45885409-0e6d-4008-94ed-912b7647efd3' class='xr-section-summary' >Coordinates: <span>(4)</span></label><div class='xr-section-inline-details'></div><div class='xr-section-details'><ul class='xr-var-list'><li class='xr-var-item'><div class='xr-var-name'><span>band</span></div><div class='xr-var-dims'>()</div><div class='xr-var-dtype'>int64</div><div class='xr-var-preview xr-preview'>1</div><input id='attrs-0859b1c6-27c7-477b-a304-ff965b5e5bf8' class='xr-var-attrs-in' type='checkbox' disabled><label for='attrs-0859b1c6-27c7-477b-a304-ff965b5e5bf8' title='Show/Hide attributes'><svg class='icon xr-icon-file-text2'><use xlink:href='#icon-file-text2'></use></svg></label><input id='data-cd03f51e-d831-4d74-a8ff-1dedc739fcd2' class='xr-var-data-in' type='checkbox'><label for='data-cd03f51e-d831-4d74-a8ff-1dedc739fcd2' title='Show/Hide data repr'><svg class='icon xr-icon-database'><use xlink:href='#icon-database'></use></svg></label><div class='xr-var-attrs'><dl class='xr-attrs'></dl></div><div class='xr-var-data'><pre>array(1)</pre></div></li><li class='xr-var-item'><div class='xr-var-name'><span class='xr-has-index'>x</span></div><div class='xr-var-dims'>(x)</div><div class='xr-var-dtype'>float64</div><div class='xr-var-preview xr-preview'>2.542e+05 2.543e+05 ... 3.066e+05</div><input id='attrs-1aa3bc80-3d9f-4105-8009-a4bfc39a28c8' class='xr-var-attrs-in' type='checkbox' disabled><label for='attrs-1aa3bc80-3d9f-4105-8009-a4bfc39a28c8' title='Show/Hide attributes'><svg class='icon xr-icon-file-text2'><use xlink:href='#icon-file-text2'></use></svg></label><input id='data-5725e642-da00-4d0c-bd89-0883f47dbafd' class='xr-var-data-in' type='checkbox'><label for='data-5725e642-da00-4d0c-bd89-0883f47dbafd' title='Show/Hide data repr'><svg class='icon xr-icon-database'><use xlink:href='#icon-database'></use></svg></label><div class='xr-var-attrs'><dl class='xr-attrs'></dl></div><div class='xr-var-data'><pre>array([254248.5, 254251.5, 254254.5, ..., 306643.5, 306646.5, 306649.5])</pre></div></li><li class='xr-var-item'><div class='xr-var-name'><span class='xr-has-index'>y</span></div><div class='xr-var-dims'>(y)</div><div class='xr-var-dtype'>float64</div><div class='xr-var-preview xr-preview'>4.23e+06 4.23e+06 ... 4.179e+06</div><input id='attrs-2bba56c1-3bb0-4e05-942f-b1dc3d175708' class='xr-var-attrs-in' type='checkbox' disabled><label for='attrs-2bba56c1-3bb0-4e05-942f-b1dc3d175708' title='Show/Hide attributes'><svg class='icon xr-icon-file-text2'><use xlink:href='#icon-file-text2'></use></svg></label><input id='data-a48bfd28-e142-4852-a579-7092bde30a5c' class='xr-var-data-in' type='checkbox'><label for='data-a48bfd28-e142-4852-a579-7092bde30a5c' title='Show/Hide data repr'><svg class='icon xr-icon-database'><use xlink:href='#icon-database'></use></svg></label><div class='xr-var-attrs'><dl class='xr-attrs'></dl></div><div class='xr-var-data'><pre>array([4229641.5, 4229638.5, 4229635.5, ..., 4179337.5, 4179334.5, 4179331.5])</pre></div></li><li class='xr-var-item'><div class='xr-var-name'><span>spatial_ref</span></div><div class='xr-var-dims'>()</div><div class='xr-var-dtype'>int64</div><div class='xr-var-preview xr-preview'>0</div><input id='attrs-7c937951-1076-42c3-beb4-d06e216fb62f' class='xr-var-attrs-in' type='checkbox' ><label for='attrs-7c937951-1076-42c3-beb4-d06e216fb62f' title='Show/Hide attributes'><svg class='icon xr-icon-file-text2'><use xlink:href='#icon-file-text2'></use></svg></label><input id='data-e266d55e-d056-45ae-a457-ca42aab7607c' class='xr-var-data-in' type='checkbox'><label for='data-e266d55e-d056-45ae-a457-ca42aab7607c' title='Show/Hide data repr'><svg class='icon xr-icon-database'><use xlink:href='#icon-database'></use></svg></label><div class='xr-var-attrs'><dl class='xr-attrs'><dt><span>crs_wkt :</span></dt><dd>PROJCS[&quot;WGS 84 / UTM zone 11N&quot;,GEOGCS[&quot;WGS 84&quot;,DATUM[&quot;WGS_1984&quot;,SPHEROID[&quot;WGS 84&quot;,6378137,298.257223563,AUTHORITY[&quot;EPSG&quot;,&quot;7030&quot;]],AUTHORITY[&quot;EPSG&quot;,&quot;6326&quot;]],PRIMEM[&quot;Greenwich&quot;,0,AUTHORITY[&quot;EPSG&quot;,&quot;8901&quot;]],UNIT[&quot;degree&quot;,0.0174532925199433,AUTHORITY[&quot;EPSG&quot;,&quot;9122&quot;]],AUTHORITY[&quot;EPSG&quot;,&quot;4326&quot;]],PROJECTION[&quot;Transverse_Mercator&quot;],PARAMETER[&quot;latitude_of_origin&quot;,0],PARAMETER[&quot;central_meridian&quot;,-117],PARAMETER[&quot;scale_factor&quot;,0.9996],PARAMETER[&quot;false_easting&quot;,500000],PARAMETER[&quot;false_northing&quot;,0],UNIT[&quot;metre&quot;,1,AUTHORITY[&quot;EPSG&quot;,&quot;9001&quot;]],AXIS[&quot;Easting&quot;,EAST],AXIS[&quot;Northing&quot;,NORTH],AUTHORITY[&quot;EPSG&quot;,&quot;32611&quot;]]</dd><dt><span>semi_major_axis :</span></dt><dd>6378137.0</dd><dt><span>semi_minor_axis :</span></dt><dd>6356752.314245179</dd><dt><span>inverse_flattening :</span></dt><dd>298.257223563</dd><dt><span>reference_ellipsoid_name :</span></dt><dd>WGS 84</dd><dt><span>longitude_of_prime_meridian :</span></dt><dd>0.0</dd><dt><span>prime_meridian_name :</span></dt><dd>Greenwich</dd><dt><span>geographic_crs_name :</span></dt><dd>WGS 84</dd><dt><span>horizontal_datum_name :</span></dt><dd>World Geodetic System 1984</dd><dt><span>projected_crs_name :</span></dt><dd>WGS 84 / UTM zone 11N</dd><dt><span>grid_mapping_name :</span></dt><dd>transverse_mercator</dd><dt><span>latitude_of_projection_origin :</span></dt><dd>0.0</dd><dt><span>longitude_of_central_meridian :</span></dt><dd>-117.0</dd><dt><span>false_easting :</span></dt><dd>500000.0</dd><dt><span>false_northing :</span></dt><dd>0.0</dd><dt><span>scale_factor_at_central_meridian :</span></dt><dd>0.9996</dd><dt><span>spatial_ref :</span></dt><dd>PROJCS[&quot;WGS 84 / UTM zone 11N&quot;,GEOGCS[&quot;WGS 84&quot;,DATUM[&quot;WGS_1984&quot;,SPHEROID[&quot;WGS 84&quot;,6378137,298.257223563,AUTHORITY[&quot;EPSG&quot;,&quot;7030&quot;]],AUTHORITY[&quot;EPSG&quot;,&quot;6326&quot;]],PRIMEM[&quot;Greenwich&quot;,0,AUTHORITY[&quot;EPSG&quot;,&quot;8901&quot;]],UNIT[&quot;degree&quot;,0.0174532925199433,AUTHORITY[&quot;EPSG&quot;,&quot;9122&quot;]],AUTHORITY[&quot;EPSG&quot;,&quot;4326&quot;]],PROJECTION[&quot;Transverse_Mercator&quot;],PARAMETER[&quot;latitude_of_origin&quot;,0],PARAMETER[&quot;central_meridian&quot;,-117],PARAMETER[&quot;scale_factor&quot;,0.9996],PARAMETER[&quot;false_easting&quot;,500000],PARAMETER[&quot;false_northing&quot;,0],UNIT[&quot;metre&quot;,1,AUTHORITY[&quot;EPSG&quot;,&quot;9001&quot;]],AXIS[&quot;Easting&quot;,EAST],AXIS[&quot;Northing&quot;,NORTH],AUTHORITY[&quot;EPSG&quot;,&quot;32611&quot;]]</dd><dt><span>GeoTransform :</span></dt><dd>254247.0 3.0 0.0 4229643.0 0.0 -3.0</dd></dl></div><div class='xr-var-data'><pre>array(0)</pre></div></li></ul></div></li><li class='xr-section-item'><input id='section-377dbc04-035c-4456-abde-c866f0089131' class='xr-section-summary-in' type='checkbox'  checked><label for='section-377dbc04-035c-4456-abde-c866f0089131' class='xr-section-summary' >Attributes: <span>(2)</span></label><div class='xr-section-inline-details'></div><div class='xr-section-details'><dl class='xr-attrs'><dt><span>scale_factor :</span></dt><dd>1.0</dd><dt><span>add_offset :</span></dt><dd>0.0</dd></dl></div></li></ul></div></div>"
      ],
      "text/plain": [
       "<xarray.DataArray (y: 16771, x: 17468)>\n",
       "[292955828 values with dtype=float32]\n",
       "Coordinates:\n",
       "    band         int64 1\n",
       "  * x            (x) float64 2.542e+05 2.543e+05 ... 3.066e+05 3.066e+05\n",
       "  * y            (y) float64 4.23e+06 4.23e+06 4.23e+06 ... 4.179e+06 4.179e+06\n",
       "    spatial_ref  int64 0\n",
       "Attributes:\n",
       "    scale_factor:  1.0\n",
       "    add_offset:    0.0"
      ]
     },
     "execution_count": 99,
     "metadata": {},
     "output_type": "execute_result"
    }
   ],
   "source": [
    "rxr.open_rasterio('../../data/lidar/native_res/mcc_dem_3p0m_agg_TUOtrimmed_MANUAL_ma.tif', masked=True).squeeze()"
   ]
  },
  {
   "cell_type": "code",
   "execution_count": 112,
   "id": "bcc64098",
   "metadata": {},
   "outputs": [
    {
     "data": {
      "text/plain": [
       "2573.1997"
      ]
     },
     "execution_count": 112,
     "metadata": {},
     "output_type": "execute_result"
    }
   ],
   "source": [
    "tuol_maskedtri.max()"
   ]
  },
  {
   "cell_type": "code",
   "execution_count": 113,
   "id": "b1a38a86",
   "metadata": {},
   "outputs": [
    {
     "data": {
      "text/plain": [
       "0.008943682"
      ]
     },
     "execution_count": 113,
     "metadata": {},
     "output_type": "execute_result"
    }
   ],
   "source": [
    "tuol_maskedtri.min()"
   ]
  },
  {
   "cell_type": "code",
   "execution_count": 119,
   "id": "6db2aae9",
   "metadata": {},
   "outputs": [
    {
     "data": {
      "image/png": "[encoded data removed]",
      "text/plain": [
       "<Figure size 432x288 with 1 Axes>"
      ]
     },
     "metadata": {
      "needs_background": "light"
     },
     "output_type": "display_data"
    }
   ],
   "source": [
    "f,ax = plt.subplots()\n",
    "plt.hist(np.ravel(tuol_maskedtri), bins=400)\n",
    "plt.ylim(0,444);"
   ]
  },
  {
   "cell_type": "markdown",
   "id": "18987421",
   "metadata": {},
   "source": [
    "### SLOPE"
   ]
  },
  {
   "cell_type": "code",
   "execution_count": 68,
   "id": "d56e35d3",
   "metadata": {},
   "outputs": [
    {
     "data": {
      "text/plain": [
       "[{'min': 0.0,\n",
       "  'max': 89.7177734375,\n",
       "  'mean': 22.053019720913767,\n",
       "  'std': 13.816843294064707,\n",
       "  'median': 19.895065307617188,\n",
       "  'percentile_25': 11.203753471374512,\n",
       "  'percentile_75': 30.54454231262207},\n",
       " {'min': 0.0,\n",
       "  'max': 89.7177734375,\n",
       "  'mean': 22.053019720913767,\n",
       "  'std': 13.816843294064707,\n",
       "  'median': 19.895065307617188,\n",
       "  'percentile_25': 11.203753471374512,\n",
       "  'percentile_75': 30.54454231262207}]"
      ]
     },
     "execution_count": 68,
     "metadata": {},
     "output_type": "execute_result"
    }
   ],
   "source": [
    "stats_tuol_slope_3m = zonal_stats(tuol_outline_nolakes, '../../data/lidar/native_res/mcc_dem_3p0m_agg_TUOtrimmed_MANUAL_ma_slope.tif',\n",
    "            stats=\"mean min max median std percentile_25 percentile_75\")\n",
    "stats_tuol_slope_3m"
   ]
  },
  {
   "cell_type": "code",
   "execution_count": 69,
   "id": "86173113",
   "metadata": {},
   "outputs": [
    {
     "data": {
      "text/plain": [
       "[{'min': 0.0012608817778527737,\n",
       "  'max': 82.43804168701172,\n",
       "  'mean': 20.678076192358258,\n",
       "  'std': 12.773713473163074,\n",
       "  'median': 18.706737518310547,\n",
       "  'percentile_25': 10.42603874206543,\n",
       "  'percentile_75': 29.25722885131836},\n",
       " {'min': 0.0012608817778527737,\n",
       "  'max': 82.43804168701172,\n",
       "  'mean': 20.678076192358258,\n",
       "  'std': 12.773713473163074,\n",
       "  'median': 18.706737518310547,\n",
       "  'percentile_25': 10.42603874206543,\n",
       "  'percentile_75': 29.25722885131836}]"
      ]
     },
     "execution_count": 69,
     "metadata": {},
     "output_type": "execute_result"
    }
   ],
   "source": [
    "stats_tuol_slope_20m = zonal_stats(tuol_outline_nolakes, '../../data/lidar/native_res/mcc_dem_3p0m_agg_TUOtrimmed_MANUAL_ma_20m_slope.tif',\n",
    "            stats=\"mean min max median std percentile_25 percentile_75\")\n",
    "stats_tuol_slope_20m"
   ]
  },
  {
   "cell_type": "code",
   "execution_count": 70,
   "id": "f122a567",
   "metadata": {},
   "outputs": [
    {
     "data": {
      "text/plain": [
       "[{'min': 0.009732679463922977,\n",
       "  'max': 66.95703125,\n",
       "  'mean': 18.806789318957666,\n",
       "  'std': 11.203804402007185,\n",
       "  'median': 17.108997344970703,\n",
       "  'percentile_25': 9.727766036987305,\n",
       "  'percentile_75': 26.553977012634277},\n",
       " {'min': 0.009732679463922977,\n",
       "  'max': 66.95703125,\n",
       "  'mean': 18.806789318957666,\n",
       "  'std': 11.203804402007185,\n",
       "  'median': 17.108997344970703,\n",
       "  'percentile_25': 9.727766036987305,\n",
       "  'percentile_75': 26.553977012634277}]"
      ]
     },
     "execution_count": 70,
     "metadata": {},
     "output_type": "execute_result"
    }
   ],
   "source": [
    "stats_tuol_slope_90m = zonal_stats(tuol_outline_nolakes, '../../data/lidar/native_res/mcc_dem_3p0m_agg_TUOtrimmed_MANUAL_ma_90m_slope.tif',\n",
    "            stats=\"mean min max median std percentile_25 percentile_75\")\n",
    "stats_tuol_slope_90m"
   ]
  },
  {
   "cell_type": "markdown",
   "id": "d481b219",
   "metadata": {},
   "source": [
    "### TRI"
   ]
  },
  {
   "cell_type": "code",
   "execution_count": 123,
   "id": "be3cb562",
   "metadata": {},
   "outputs": [],
   "source": [
    "stats_tuol_tri = zonal_stats(tuol_outline_nolakes, '../../data/lidar/native_res/mcc_dem_3p0m_agg_TUOtrimmed_MANUAL_ma_tri.tif',\n",
    "            stats=\"mean min max median std percentile_25 percentile_75\")"
   ]
  },
  {
   "cell_type": "code",
   "execution_count": 124,
   "id": "f73d6d30",
   "metadata": {},
   "outputs": [
    {
     "data": {
      "text/plain": [
       "[{'min': 0.0054591502994298935,\n",
       "  'max': 2573.19970703125,\n",
       "  'mean': 3.550888612496014,\n",
       "  'std': 3.6770947884327354,\n",
       "  'median': 2.8609323501586914,\n",
       "  'percentile_25': 1.6733325719833374,\n",
       "  'percentile_75': 4.511236667633057},\n",
       " {'min': 0.0054591502994298935,\n",
       "  'max': 2573.19970703125,\n",
       "  'mean': 3.550888612496014,\n",
       "  'std': 3.6770947884327354,\n",
       "  'median': 2.8609323501586914,\n",
       "  'percentile_25': 1.6733325719833374,\n",
       "  'percentile_75': 4.511236667633057}]"
      ]
     },
     "execution_count": 124,
     "metadata": {},
     "output_type": "execute_result"
    }
   ],
   "source": [
    "stats_tuol_tri"
   ]
  },
  {
   "cell_type": "code",
   "execution_count": 126,
   "id": "37dc3657",
   "metadata": {},
   "outputs": [],
   "source": [
    "stats_tuol_tri20 = zonal_stats(tuol_outline_nolakes, '../../data/lidar/native_res/mcc_dem_3p0m_agg_TUOtrimmed_MANUAL_ma_20m_tri.tif',\n",
    "            stats=\"mean min max median std percentile_25 percentile_75\")"
   ]
  },
  {
   "cell_type": "code",
   "execution_count": 127,
   "id": "4dd64462",
   "metadata": {},
   "outputs": [
    {
     "data": {
      "text/plain": [
       "[{'min': 0.08045387268066406,\n",
       "  'max': 726.405517578125,\n",
       "  'mean': 21.036188223065594,\n",
       "  'std': 15.664345739143323,\n",
       "  'median': 17.553375244140625,\n",
       "  'percentile_25': 9.91866683959961,\n",
       "  'percentile_75': 28.352954864501953},\n",
       " {'min': 0.08045387268066406,\n",
       "  'max': 726.405517578125,\n",
       "  'mean': 21.036188223065594,\n",
       "  'std': 15.664345739143323,\n",
       "  'median': 17.553375244140625,\n",
       "  'percentile_25': 9.91866683959961,\n",
       "  'percentile_75': 28.352954864501953}]"
      ]
     },
     "execution_count": 127,
     "metadata": {},
     "output_type": "execute_result"
    }
   ],
   "source": [
    "stats_tuol_tri20"
   ]
  },
  {
   "cell_type": "code",
   "execution_count": 128,
   "id": "37f8d084",
   "metadata": {},
   "outputs": [],
   "source": [
    "stats_tuol_tri100 = zonal_stats(tuol_outline_nolakes, '../../data/lidar/native_res/mcc_dem_3p0m_agg_TUOtrimmed_MANUAL_ma_100m_tri.tif',\n",
    "            stats=\"mean min max median std percentile_25 percentile_75\")"
   ]
  },
  {
   "cell_type": "code",
   "execution_count": 129,
   "id": "0cbf42ad",
   "metadata": {},
   "outputs": [
    {
     "data": {
      "text/plain": [
       "[{'min': 0.4514288902282715,\n",
       "  'max': 576.2339477539062,\n",
       "  'mean': 95.27735618788941,\n",
       "  'std': 58.609217529086145,\n",
       "  'median': 84.08203887939453,\n",
       "  'percentile_25': 50.218563079833984,\n",
       "  'percentile_75': 129.6288070678711},\n",
       " {'min': 0.4514288902282715,\n",
       "  'max': 576.2339477539062,\n",
       "  'mean': 95.27735618788941,\n",
       "  'std': 58.609217529086145,\n",
       "  'median': 84.08203887939453,\n",
       "  'percentile_25': 50.218563079833984,\n",
       "  'percentile_75': 129.6288070678711}]"
      ]
     },
     "execution_count": 129,
     "metadata": {},
     "output_type": "execute_result"
    }
   ],
   "source": [
    "stats_tuol_tri100"
   ]
  },
  {
   "cell_type": "code",
   "execution_count": 40,
   "id": "930e673f",
   "metadata": {},
   "outputs": [],
   "source": [
    "stats_tuol_tri90 = zonal_stats(tuol_outline_nolakes, '../../data/lidar/native_res/mcc_dem_3p0m_agg_TUOtrimmed_MANUAL_ma_90m_tri.tif',\n",
    "            stats=\"mean min max median std percentile_25 percentile_75\")"
   ]
  },
  {
   "cell_type": "code",
   "execution_count": 41,
   "id": "24db3dc4",
   "metadata": {},
   "outputs": [
    {
     "data": {
      "text/plain": [
       "[{'min': 0.30865025520324707,\n",
       "  'max': 530.9514770507812,\n",
       "  'mean': 86.59249276156484,\n",
       "  'std': 54.082781775392256,\n",
       "  'median': 76.12874603271484,\n",
       "  'percentile_25': 45.16400337219238,\n",
       "  'percentile_75': 118.13136291503906},\n",
       " {'min': 0.30865025520324707,\n",
       "  'max': 530.9514770507812,\n",
       "  'mean': 86.59249276156484,\n",
       "  'std': 54.082781775392256,\n",
       "  'median': 76.12874603271484,\n",
       "  'percentile_25': 45.16400337219238,\n",
       "  'percentile_75': 118.13136291503906}]"
      ]
     },
     "execution_count": 41,
     "metadata": {},
     "output_type": "execute_result"
    }
   ],
   "source": [
    "stats_tuol_tri90"
   ]
  },
  {
   "cell_type": "markdown",
   "id": "1b1b0626",
   "metadata": {},
   "source": [
    "## Methow"
   ]
  },
  {
   "cell_type": "code",
   "execution_count": 137,
   "id": "a0beed53",
   "metadata": {},
   "outputs": [],
   "source": [
    "methow1_src = rio.open('../../data/lidar/native_res/methow_basin_2018_dtm_origcrs_combined_1m.tif')"
   ]
  },
  {
   "cell_type": "code",
   "execution_count": 138,
   "id": "b87522ee",
   "metadata": {},
   "outputs": [
    {
     "data": {
      "text/plain": [
       "{'driver': 'GTiff', 'dtype': 'float32', 'nodata': -3.4028230607370965e+38, 'width': 58261, 'height': 69655, 'count': 1, 'crs': CRS.from_wkt('PROJCS[\"NAD83(HARN) / Washington South (ftUS)\",GEOGCS[\"NAD83(HARN)\",DATUM[\"NAD83_High_Accuracy_Reference_Network\",SPHEROID[\"GRS 1980\",6378137,298.257222101004,AUTHORITY[\"EPSG\",\"7019\"]],AUTHORITY[\"EPSG\",\"6152\"]],PRIMEM[\"Greenwich\",0],UNIT[\"degree\",0.0174532925199433,AUTHORITY[\"EPSG\",\"9122\"]]],PROJECTION[\"Lambert_Conformal_Conic_2SP\"],PARAMETER[\"latitude_of_origin\",45.3333333333333],PARAMETER[\"central_meridian\",-120.5],PARAMETER[\"standard_parallel_1\",45.8333333333333],PARAMETER[\"standard_parallel_2\",47.3333333333333],PARAMETER[\"false_easting\",1640416.66666667],PARAMETER[\"false_northing\",0],UNIT[\"US survey foot\",0.304800609601219,AUTHORITY[\"EPSG\",\"9003\"]],AXIS[\"Easting\",EAST],AXIS[\"Northing\",NORTH]]'), 'transform': Affine(2.9999999999999996, 0.0, 1617506.0,\n",
       "       0.0, -2.9999999999999996, 1268590.0), 'blockxsize': 256, 'blockysize': 256, 'tiled': True, 'compress': 'lzw', 'interleave': 'band'}"
      ]
     },
     "execution_count": 138,
     "metadata": {},
     "output_type": "execute_result"
    }
   ],
   "source": [
    "methow1_src.profile"
   ]
  },
  {
   "cell_type": "code",
   "execution_count": 10,
   "id": "4e5fa25f",
   "metadata": {},
   "outputs": [],
   "source": [
    "methow_tri20_src = rio.open('../../data/lidar/native_res/methow_basin_2018_dtm_origcrs_combined_1m_20_tri.tif')"
   ]
  },
  {
   "cell_type": "code",
   "execution_count": 171,
   "id": "e8c18334",
   "metadata": {},
   "outputs": [],
   "source": [
    "methow_tri20_rxr = rxr.open_rasterio('../../data/lidar/native_res/methow_basin_2018_dtm_origcrs_combined_1m_20_tri.tif', masked=True).squeeze()"
   ]
  },
  {
   "cell_type": "code",
   "execution_count": 159,
   "id": "5e3c95d3",
   "metadata": {},
   "outputs": [
    {
     "data": {
      "text/plain": [
       "CRS.from_wkt('PROJCS[\"NAD83(HARN) / Washington South (ftUS)\",GEOGCS[\"NAD83(HARN)\",DATUM[\"NAD83_High_Accuracy_Reference_Network\",SPHEROID[\"GRS 1980\",6378137,298.257222101004,AUTHORITY[\"EPSG\",\"7019\"]],AUTHORITY[\"EPSG\",\"6152\"]],PRIMEM[\"Greenwich\",0],UNIT[\"degree\",0.0174532925199433,AUTHORITY[\"EPSG\",\"9122\"]]],PROJECTION[\"Lambert_Conformal_Conic_2SP\"],PARAMETER[\"latitude_of_origin\",45.3333333333333],PARAMETER[\"central_meridian\",-120.5],PARAMETER[\"standard_parallel_1\",45.8333333333333],PARAMETER[\"standard_parallel_2\",47.3333333333333],PARAMETER[\"false_easting\",1640416.66666667],PARAMETER[\"false_northing\",0],UNIT[\"US survey foot\",0.304800609601219,AUTHORITY[\"EPSG\",\"9003\"]],AXIS[\"Easting\",EAST],AXIS[\"Northing\",NORTH]]')"
      ]
     },
     "execution_count": 159,
     "metadata": {},
     "output_type": "execute_result"
    }
   ],
   "source": [
    "methow_tri20_src.crs"
   ]
  },
  {
   "cell_type": "code",
   "execution_count": 5,
   "id": "d933e604",
   "metadata": {},
   "outputs": [],
   "source": [
    "methow_outline = gpd.read_file('../../data/site_outlines/methow_outline.geojson')"
   ]
  },
  {
   "cell_type": "code",
   "execution_count": 153,
   "id": "e5a1f213",
   "metadata": {},
   "outputs": [
    {
     "data": {
      "text/plain": [
       "<AxesSubplot:>"
      ]
     },
     "execution_count": 153,
     "metadata": {},
     "output_type": "execute_result"
    },
    {
     "data": {
      "image/png": "[encoded data removed]",
      "text/plain": [
       "<Figure size 432x288 with 1 Axes>"
      ]
     },
     "metadata": {
      "needs_background": "light"
     },
     "output_type": "display_data"
    }
   ],
   "source": [
    "methow_outline[3:].plot()"
   ]
  },
  {
   "cell_type": "code",
   "execution_count": 167,
   "id": "98f48c8a",
   "metadata": {},
   "outputs": [
    {
     "data": {
      "text/plain": [
       "<matplotlib.collections.QuadMesh at 0x7f9e6510f520>"
      ]
     },
     "execution_count": 167,
     "metadata": {},
     "output_type": "execute_result"
    },
    {
     "data": {
      "image/png": "[encoded data removed]",
      "text/plain": [
       "<Figure size 432x288 with 2 Axes>"
      ]
     },
     "metadata": {
      "needs_background": "light"
     },
     "output_type": "display_data"
    }
   ],
   "source": [
    "methow_tri20_rxr.plot()"
   ]
  },
  {
   "cell_type": "code",
   "execution_count": 142,
   "id": "e22bbbd6",
   "metadata": {},
   "outputs": [
    {
     "data": {
      "text/plain": [
       "<Geographic 2D CRS: EPSG:4326>\n",
       "Name: WGS 84\n",
       "Axis Info [ellipsoidal]:\n",
       "- Lat[north]: Geodetic latitude (degree)\n",
       "- Lon[east]: Geodetic longitude (degree)\n",
       "Area of Use:\n",
       "- name: World.\n",
       "- bounds: (-180.0, -90.0, 180.0, 90.0)\n",
       "Datum: World Geodetic System 1984\n",
       "- Ellipsoid: WGS 84\n",
       "- Prime Meridian: Greenwich"
      ]
     },
     "execution_count": 142,
     "metadata": {},
     "output_type": "execute_result"
    }
   ],
   "source": [
    "methow_outline.crs"
   ]
  },
  {
   "cell_type": "code",
   "execution_count": 11,
   "id": "d5746a53",
   "metadata": {},
   "outputs": [],
   "source": [
    "methow_outline = methow_outline.to_crs(methow_tri20_src.crs)"
   ]
  },
  {
   "cell_type": "code",
   "execution_count": 158,
   "id": "15c322a8",
   "metadata": {},
   "outputs": [
    {
     "data": {
      "text/plain": [
       "<Projected CRS: PROJCS[\"NAD83(HARN) / Washington South (ftUS)\",GEO ...>\n",
       "Name: NAD83(HARN) / Washington South (ftUS)\n",
       "Axis Info [cartesian]:\n",
       "- [east]: Easting (US survey foot)\n",
       "- [north]: Northing (US survey foot)\n",
       "Area of Use:\n",
       "- undefined\n",
       "Coordinate Operation:\n",
       "- name: unnamed\n",
       "- method: Lambert Conic Conformal (2SP)\n",
       "Datum: NAD83 (High Accuracy Reference Network)\n",
       "- Ellipsoid: GRS 1980\n",
       "- Prime Meridian: Greenwich"
      ]
     },
     "execution_count": 158,
     "metadata": {},
     "output_type": "execute_result"
    }
   ],
   "source": [
    "methow_outline.crs"
   ]
  },
  {
   "cell_type": "code",
   "execution_count": 145,
   "id": "ac72c445",
   "metadata": {},
   "outputs": [],
   "source": [
    "methow_tri20 = methow_tri20_src.read(1, masked=True)"
   ]
  },
  {
   "cell_type": "code",
   "execution_count": 162,
   "id": "5477cd3c",
   "metadata": {},
   "outputs": [
    {
     "data": {
      "text/plain": [
       "<AxesSubplot:>"
      ]
     },
     "execution_count": 162,
     "metadata": {},
     "output_type": "execute_result"
    },
    {
     "data": {
      "image/png": "[encoded data removed]",
      "text/plain": [
       "<Figure size 432x288 with 1 Axes>"
      ]
     },
     "metadata": {
      "needs_background": "light"
     },
     "output_type": "display_data"
    }
   ],
   "source": [
    "(methow_outline[3:]).to_crs(methow_tri20_src.crs).plot()"
   ]
  },
  {
   "cell_type": "code",
   "execution_count": 173,
   "id": "3c149aca",
   "metadata": {},
   "outputs": [
    {
     "data": {
      "text/plain": [
       "<matplotlib.collections.QuadMesh at 0x7f9b4f7c3130>"
      ]
     },
     "execution_count": 173,
     "metadata": {},
     "output_type": "execute_result"
    },
    {
     "data": {
      "image/png": "[encoded data removed]",
      "text/plain": [
       "<Figure size 432x288 with 2 Axes>"
      ]
     },
     "metadata": {
      "needs_background": "light"
     },
     "output_type": "display_data"
    }
   ],
   "source": [
    "fig, ax = plt.subplots()\n",
    "\n",
    "methow_outline[3:].plot(ax=ax)\n",
    "methow_tri20_rxr.plot(ax=ax)\n"
   ]
  },
  {
   "cell_type": "code",
   "execution_count": 2,
   "id": "63d9f2a7",
   "metadata": {},
   "outputs": [],
   "source": [
    "from rasterstats import zonal_stats"
   ]
  },
  {
   "cell_type": "markdown",
   "id": "b0fa55cf",
   "metadata": {},
   "source": [
    "### SLOPE"
   ]
  },
  {
   "cell_type": "code",
   "execution_count": 66,
   "id": "3b62dd1f",
   "metadata": {},
   "outputs": [
    {
     "data": {
      "text/plain": [
       "[{'min': 0.0,\n",
       "  'max': 77.68683624267578,\n",
       "  'mean': 20.016475527692588,\n",
       "  'std': 10.44408691996104,\n",
       "  'median': 20.36705780029297,\n",
       "  'percentile_25': 12.211202383041382,\n",
       "  'percentile_75': 27.74652671813965}]"
      ]
     },
     "execution_count": 66,
     "metadata": {},
     "output_type": "execute_result"
    }
   ],
   "source": [
    "stats_methow_slope_3m = zonal_stats(methow_outline[3:], '../../data/lidar/native_res/methow_basin_2018_dtm_origcrs_combined_3m_slope.tif',\n",
    "            stats=\"mean min max median std percentile_25 percentile_75\")"
   ]
  },
  {
   "cell_type": "code",
   "execution_count": 67,
   "id": "35009673",
   "metadata": {},
   "outputs": [
    {
     "data": {
      "text/plain": [
       "[{'min': 0.0,\n",
       "  'max': 86.4806137084961,\n",
       "  'mean': 21.095824095360516,\n",
       "  'std': 11.240044167597258,\n",
       "  'median': 21.506418228149414,\n",
       "  'percentile_25': 12.535143852233887,\n",
       "  'percentile_75': 29.38256072998047}]"
      ]
     },
     "execution_count": 67,
     "metadata": {},
     "output_type": "execute_result"
    }
   ],
   "source": [
    "stats_methow_slope_3m"
   ]
  },
  {
   "cell_type": "code",
   "execution_count": 65,
   "id": "26c3a652",
   "metadata": {},
   "outputs": [
    {
     "data": {
      "text/plain": [
       "[{'min': 0.0,\n",
       "  'max': 77.68683624267578,\n",
       "  'mean': 20.016475527692588,\n",
       "  'std': 10.44408691996104,\n",
       "  'median': 20.36705780029297,\n",
       "  'percentile_25': 12.211202383041382,\n",
       "  'percentile_75': 27.74652671813965}]"
      ]
     },
     "execution_count": 65,
     "metadata": {},
     "output_type": "execute_result"
    }
   ],
   "source": [
    "stats_methow_slope_20m = zonal_stats(methow_outline[3:], '../../data/lidar/native_res/methow_basin_2018_dtm_origcrs_combined_20m_slope.tif',\n",
    "            stats=\"mean min max median std percentile_25 percentile_75\")\n",
    "stats_methow_slope_20m"
   ]
  },
  {
   "cell_type": "code",
   "execution_count": 60,
   "id": "d62c8704",
   "metadata": {},
   "outputs": [],
   "source": [
    "stats_methow_slope_90m = zonal_stats(methow_outline[3:], '../../data/lidar/native_res/methow_basin_2018_dtm_origcrs_combined_90m_slope.tif',\n",
    "            stats=\"mean min max median std percentile_25 percentile_75\")"
   ]
  },
  {
   "cell_type": "code",
   "execution_count": 61,
   "id": "5445548a",
   "metadata": {},
   "outputs": [
    {
     "data": {
      "text/plain": [
       "[{'min': 0.008108447305858135,\n",
       "  'max': 58.05751419067383,\n",
       "  'mean': 17.731954409206292,\n",
       "  'std': 9.080844854549182,\n",
       "  'median': 17.83053207397461,\n",
       "  'percentile_25': 10.959393501281738,\n",
       "  'percentile_75': 24.40279197692871}]"
      ]
     },
     "execution_count": 61,
     "metadata": {},
     "output_type": "execute_result"
    }
   ],
   "source": [
    "stats_methow_slope_90m"
   ]
  },
  {
   "cell_type": "markdown",
   "id": "7ab1794b",
   "metadata": {},
   "source": [
    "### TRI"
   ]
  },
  {
   "cell_type": "code",
   "execution_count": 15,
   "id": "600fcc16",
   "metadata": {},
   "outputs": [],
   "source": [
    "stats_methow_tri3 = zonal_stats(methow_outline[3:], '../../data/lidar/native_res/methow_basin_2018_dtm_origcrs_combined_3m_tri.tif',\n",
    "            stats=\"mean min max median std percentile_25 percentile_75\")"
   ]
  },
  {
   "cell_type": "code",
   "execution_count": 16,
   "id": "fb96d2d2",
   "metadata": {},
   "outputs": [
    {
     "data": {
      "text/plain": [
       "[{'min': 0.0016194457421079278,\n",
       "  'max': 449.6305236816406,\n",
       "  'mean': 9.917840639876765,\n",
       "  'std': 6.26423838554815,\n",
       "  'median': 9.580155372619629,\n",
       "  'percentile_25': 5.502495765686035,\n",
       "  'percentile_75': 13.605724334716797}]"
      ]
     },
     "execution_count": 16,
     "metadata": {},
     "output_type": "execute_result"
    }
   ],
   "source": [
    "stats_methow_tri3"
   ]
  },
  {
   "cell_type": "code",
   "execution_count": 22,
   "id": "6a6958b6",
   "metadata": {},
   "outputs": [],
   "source": [
    "stats_methow_tri20 = zonal_stats(methow_outline[3:], '../../data/lidar/native_res/methow_basin_2018_dtm_origcrs_combined_20m_tri.tif',\n",
    "            stats=\"mean min max median std percentile_25 percentile_75\")"
   ]
  },
  {
   "cell_type": "code",
   "execution_count": 21,
   "id": "19625acc",
   "metadata": {},
   "outputs": [
    {
     "data": {
      "text/plain": [
       "[{'min': 0.0009765625,\n",
       "  'max': 447.4436950683594,\n",
       "  'mean': 19.99471976235281,\n",
       "  'std': 12.096178550937477,\n",
       "  'median': 19.415756225585938,\n",
       "  'percentile_25': 11.29884123802185,\n",
       "  'percentile_75': 27.461647033691406}]"
      ]
     },
     "execution_count": 21,
     "metadata": {},
     "output_type": "execute_result"
    }
   ],
   "source": [
    "stats_methow_tri20"
   ]
  },
  {
   "cell_type": "code",
   "execution_count": 24,
   "id": "ecd178c0",
   "metadata": {},
   "outputs": [],
   "source": [
    "stats_methow_tri100 = zonal_stats(methow_outline[3:], '../../data/lidar/native_res/methow_basin_2018_dtm_origcrs_combined_100m_tri.tif',\n",
    "            stats=\"mean min max median std percentile_25 percentile_75\")"
   ]
  },
  {
   "cell_type": "code",
   "execution_count": 25,
   "id": "f76116e7",
   "metadata": {},
   "outputs": [
    {
     "data": {
      "text/plain": [
       "[{'min': 1.068917155265808,\n",
       "  'max': 1270.302490234375,\n",
       "  'mean': 286.39724321465735,\n",
       "  'std': 139.98903041860012,\n",
       "  'median': 283.9802551269531,\n",
       "  'percentile_25': 188.2980194091797,\n",
       "  'percentile_75': 379.36993408203125}]"
      ]
     },
     "execution_count": 25,
     "metadata": {},
     "output_type": "execute_result"
    }
   ],
   "source": [
    "stats_methow_tri100"
   ]
  },
  {
   "cell_type": "code",
   "execution_count": 26,
   "id": "f19f5a4f",
   "metadata": {},
   "outputs": [],
   "source": [
    "stats_methow_tri90 = zonal_stats(methow_outline[3:], '../../data/lidar/native_res/methow_basin_2018_dtm_origcrs_combined_90m_tri.tif',\n",
    "            stats=\"mean min max median std percentile_25 percentile_75\")"
   ]
  },
  {
   "cell_type": "code",
   "execution_count": 27,
   "id": "2d441bed",
   "metadata": {},
   "outputs": [
    {
     "data": {
      "text/plain": [
       "[{'min': 0.3915100693702698,\n",
       "  'max': 1182.1636962890625,\n",
       "  'mean': 260.2925852991265,\n",
       "  'std': 128.57318669404023,\n",
       "  'median': 257.8448486328125,\n",
       "  'percentile_25': 170.02852630615234,\n",
       "  'percentile_75': 346.1239013671875}]"
      ]
     },
     "execution_count": 27,
     "metadata": {},
     "output_type": "execute_result"
    }
   ],
   "source": [
    "stats_methow_tri90"
   ]
  },
  {
   "cell_type": "markdown",
   "id": "438315ae",
   "metadata": {},
   "source": [
    "## Grand Mesa"
   ]
  },
  {
   "cell_type": "code",
   "execution_count": 42,
   "id": "c21df81e",
   "metadata": {},
   "outputs": [],
   "source": [
    "gm_src = rio.open('../../data/lidar/native_res/ASO_3M_PCDTM_USCOGM_20160926_20160926.tif')"
   ]
  },
  {
   "cell_type": "code",
   "execution_count": 51,
   "id": "e3a58d85",
   "metadata": {},
   "outputs": [
    {
     "data": {
      "text/plain": [
       "{'driver': 'GTiff', 'dtype': 'float32', 'nodata': -9999.0, 'width': 12450, 'height': 6500, 'count': 1, 'crs': CRS.from_epsg(32613), 'transform': Affine(3.0, 0.0, 218313.0,\n",
       "       0.0, -3.0, 4336122.0), 'tiled': False, 'interleave': 'band'}"
      ]
     },
     "execution_count": 51,
     "metadata": {},
     "output_type": "execute_result"
    }
   ],
   "source": [
    "gm_src.profile"
   ]
  },
  {
   "cell_type": "code",
   "execution_count": 43,
   "id": "da8de269",
   "metadata": {},
   "outputs": [],
   "source": [
    "gm = gm_src.read(1, masked=True)"
   ]
  },
  {
   "cell_type": "code",
   "execution_count": 44,
   "id": "6099d523",
   "metadata": {},
   "outputs": [
    {
     "data": {
      "text/plain": [
       "<matplotlib.colorbar.Colorbar at 0x7f95dd7a9370>"
      ]
     },
     "execution_count": 44,
     "metadata": {},
     "output_type": "execute_result"
    },
    {
     "data": {
      "image/png": "[encoded data removed]",
      "text/plain": [
       "<Figure size 432x288 with 2 Axes>"
      ]
     },
     "metadata": {
      "needs_background": "light"
     },
     "output_type": "display_data"
    }
   ],
   "source": [
    "fig, ax = plt.subplots()\n",
    "\n",
    "c = plt.imshow(gm)\n",
    "plt.colorbar(c)"
   ]
  },
  {
   "cell_type": "code",
   "execution_count": 45,
   "id": "099266d9",
   "metadata": {},
   "outputs": [],
   "source": [
    "gm_outline = gpd.read_file('../../data/site_outlines/gm_outline.geojson')"
   ]
  },
  {
   "cell_type": "code",
   "execution_count": 47,
   "id": "b9832246",
   "metadata": {},
   "outputs": [
    {
     "data": {
      "text/plain": [
       "<AxesSubplot:>"
      ]
     },
     "execution_count": 47,
     "metadata": {},
     "output_type": "execute_result"
    },
    {
     "data": {
      "image/png": "[encoded data removed]",
      "text/plain": [
       "<Figure size 432x288 with 1 Axes>"
      ]
     },
     "metadata": {
      "needs_background": "light"
     },
     "output_type": "display_data"
    }
   ],
   "source": [
    "fig, ax = plt.subplots()\n",
    "\n",
    "gm_outline.plot(facecolor=none, edgecolor='k')"
   ]
  },
  {
   "cell_type": "code",
   "execution_count": 48,
   "id": "615cf085",
   "metadata": {},
   "outputs": [
    {
     "data": {
      "text/plain": [
       "<Projected CRS: EPSG:32613>\n",
       "Name: WGS 84 / UTM zone 13N\n",
       "Axis Info [cartesian]:\n",
       "- E[east]: Easting (metre)\n",
       "- N[north]: Northing (metre)\n",
       "Area of Use:\n",
       "- name: Between 108°W and 102°W, northern hemisphere between equator and 84°N, onshore and offshore. Canada - Northwest Territories (NWT); Nunavut; Saskatchewan. Mexico. United States (USA).\n",
       "- bounds: (-108.0, 0.0, -102.0, 84.0)\n",
       "Coordinate Operation:\n",
       "- name: UTM zone 13N\n",
       "- method: Transverse Mercator\n",
       "Datum: World Geodetic System 1984\n",
       "- Ellipsoid: WGS 84\n",
       "- Prime Meridian: Greenwich"
      ]
     },
     "execution_count": 48,
     "metadata": {},
     "output_type": "execute_result"
    }
   ],
   "source": [
    "gm_outline.crs"
   ]
  },
  {
   "cell_type": "markdown",
   "id": "45e13854",
   "metadata": {},
   "source": [
    "### SLOPE"
   ]
  },
  {
   "cell_type": "code",
   "execution_count": 71,
   "id": "e5c4a2b5",
   "metadata": {},
   "outputs": [
    {
     "data": {
      "text/plain": [
       "[{'min': 0.0,\n",
       "  'max': 87.86670684814453,\n",
       "  'mean': 10.122798630075856,\n",
       "  'std': 9.635255917499181,\n",
       "  'median': 6.982396602630615,\n",
       "  'percentile_25': 2.8604423999786377,\n",
       "  'percentile_75': 14.663732528686523}]"
      ]
     },
     "execution_count": 71,
     "metadata": {},
     "output_type": "execute_result"
    }
   ],
   "source": [
    "stats_gm_3m_slope = zonal_stats(gm_outline, '../../data/lidar/native_res/ASO_3M_PCDTM_USCOGM_20160926_20160926_slope.tif',\n",
    "            stats=\"mean min max median std percentile_25 percentile_75\")\n",
    "stats_gm_3m_slope"
   ]
  },
  {
   "cell_type": "code",
   "execution_count": 72,
   "id": "1f8b673f",
   "metadata": {},
   "outputs": [
    {
     "data": {
      "text/plain": [
       "[{'min': 0.0,\n",
       "  'max': 68.18426513671875,\n",
       "  'mean': 8.810676371971216,\n",
       "  'std': 8.210305135408028,\n",
       "  'median': 6.27967643737793,\n",
       "  'percentile_25': 2.5813549757003784,\n",
       "  'percentile_75': 12.52809762954712}]"
      ]
     },
     "execution_count": 72,
     "metadata": {},
     "output_type": "execute_result"
    }
   ],
   "source": [
    "stats_gm_20m_slope = zonal_stats(gm_outline, '../../data/lidar/native_res/ASO_3M_PCDTM_USCOGM_20160926_20160926_20m_slope.tif',\n",
    "            stats=\"mean min max median std percentile_25 percentile_75\")\n",
    "stats_gm_20m_slope"
   ]
  },
  {
   "cell_type": "code",
   "execution_count": 73,
   "id": "1d4aa10a",
   "metadata": {},
   "outputs": [
    {
     "data": {
      "text/plain": [
       "[{'min': 0.005643652286380529,\n",
       "  'max': 43.20126724243164,\n",
       "  'mean': 7.079242278219172,\n",
       "  'std': 6.338145091135501,\n",
       "  'median': 5.226449966430664,\n",
       "  'percentile_25': 2.208379626274109,\n",
       "  'percentile_75': 9.881366968154907}]"
      ]
     },
     "execution_count": 73,
     "metadata": {},
     "output_type": "execute_result"
    }
   ],
   "source": [
    "stats_gm_90m_slope = zonal_stats(gm_outline, '../../data/lidar/native_res/ASO_3M_PCDTM_USCOGM_20160926_20160926_90m_slope.tif',\n",
    "            stats=\"mean min max median std percentile_25 percentile_75\")\n",
    "stats_gm_90m_slope"
   ]
  },
  {
   "cell_type": "markdown",
   "id": "2361a268",
   "metadata": {},
   "source": [
    "### TRI"
   ]
  },
  {
   "cell_type": "code",
   "execution_count": 50,
   "id": "506cf5b4",
   "metadata": {},
   "outputs": [],
   "source": [
    "stats_gm_tri3 = zonal_stats(gm_outline, '../../data/lidar/native_res/ASO_3M_PCDTM_USCOGM_20160926_20160926_tri.tif',\n",
    "            stats=\"mean min max median std percentile_25 percentile_75\")"
   ]
  },
  {
   "cell_type": "code",
   "execution_count": 52,
   "id": "964bcbe2",
   "metadata": {},
   "outputs": [
    {
     "data": {
      "text/plain": [
       "[{'min': 0.0,\n",
       "  'max': 316.64984130859375,\n",
       "  'mean': 1.5360632247283845,\n",
       "  'std': 2.3787887820846993,\n",
       "  'median': 0.999415397644043,\n",
       "  'percentile_25': 0.42789896577596664,\n",
       "  'percentile_75': 2.0736324787139893}]"
      ]
     },
     "execution_count": 52,
     "metadata": {},
     "output_type": "execute_result"
    }
   ],
   "source": [
    "stats_gm_tri3"
   ]
  },
  {
   "cell_type": "code",
   "execution_count": 53,
   "id": "d31d09c5",
   "metadata": {},
   "outputs": [
    {
     "data": {
      "text/plain": [
       "[{'min': 0.002560568507760763,\n",
       "  'max': 168.2681427001953,\n",
       "  'mean': 8.521870303931292,\n",
       "  'std': 8.219576571007785,\n",
       "  'median': 6.182427406311035,\n",
       "  'percentile_25': 2.59884774684906,\n",
       "  'percentile_75': 11.742660284042358}]"
      ]
     },
     "execution_count": 53,
     "metadata": {},
     "output_type": "execute_result"
    }
   ],
   "source": [
    "stats_gm_tri20 = zonal_stats(gm_outline, '../../data/lidar/native_res/ASO_3M_PCDTM_USCOGM_20160926_20160926_20m_tri.tif',\n",
    "            stats=\"mean min max median std percentile_25 percentile_75\")\n",
    "stats_gm_tri20"
   ]
  },
  {
   "cell_type": "code",
   "execution_count": 54,
   "id": "406c3428",
   "metadata": {},
   "outputs": [
    {
     "data": {
      "text/plain": [
       "[{'min': 0.04022545740008354,\n",
       "  'max': 210.1212158203125,\n",
       "  'mean': 31.784013445536175,\n",
       "  'std': 27.067450402061237,\n",
       "  'median': 24.492626190185547,\n",
       "  'percentile_25': 10.954405069351196,\n",
       "  'percentile_75': 43.64951038360596}]"
      ]
     },
     "execution_count": 54,
     "metadata": {},
     "output_type": "execute_result"
    }
   ],
   "source": [
    "stats_gm_tri90 = zonal_stats(gm_outline, '../../data/lidar/native_res/ASO_3M_PCDTM_USCOGM_20160926_20160926_90m_tri.tif',\n",
    "            stats=\"mean min max median std percentile_25 percentile_75\")\n",
    "stats_gm_tri90"
   ]
  }
 ],
 "metadata": {
  "kernelspec": {
   "display_name": "Python 3",
   "language": "python",
   "name": "python3"
  },
  "language_info": {
   "codemirror_mode": {
    "name": "ipython",
    "version": 3
   },
   "file_extension": ".py",
   "mimetype": "text/x-python",
   "name": "python",
   "nbconvert_exporter": "python",
   "pygments_lexer": "ipython3",
   "version": "3.8.10"
  }
 },
 "nbformat": 4,
 "nbformat_minor": 5
}
