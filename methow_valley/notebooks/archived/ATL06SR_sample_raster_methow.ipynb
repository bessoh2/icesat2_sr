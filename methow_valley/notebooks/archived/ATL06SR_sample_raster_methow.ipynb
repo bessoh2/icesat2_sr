{
 "cells": [
  {
   "cell_type": "markdown",
   "id": "69668327-49b4-484b-a980-07fb4057e32b",
   "metadata": {},
   "source": [
    "# Sample DEMs at ATL06SR Point Locations\n",
    "\n",
    "#### Steps:\n",
    "* Sample various rasters at various resolutions (3m, 20m, 100m) at each ATL06SR point: snow-off DTM and slope maps"
   ]
  },
  {
   "cell_type": "code",
   "execution_count": 2,
   "id": "4e132d4e-0a68-4b91-b960-2e64acb18d5f",
   "metadata": {},
   "outputs": [],
   "source": [
    "import os\n",
    "import numpy as np\n",
    "import pandas as pd\n",
    "import geopandas as gpd\n",
    "import matplotlib.pyplot as plt\n",
    "import rasterio as rio\n",
    "import pickle\n",
    "import pyproj\n",
    "\n",
    "# Import file containing sampling function written by Friedrich Knuth\n",
    "import core"
   ]
  },
  {
   "cell_type": "code",
   "execution_count": 3,
   "id": "32251e70-518f-45f5-82cd-830081d967ee",
   "metadata": {},
   "outputs": [],
   "source": [
    "%matplotlib inline"
   ]
  },
  {
   "cell_type": "code",
   "execution_count": 4,
   "id": "42091237-596e-4e7a-bd54-31ef7a8a5314",
   "metadata": {},
   "outputs": [],
   "source": [
    "pd.set_option('display.max_columns', None)"
   ]
  },
  {
   "cell_type": "markdown",
   "id": "747eaec6-601f-4fdd-8abf-203605bd6aa1",
   "metadata": {},
   "source": [
    "# Load SlideRule"
   ]
  },
  {
   "cell_type": "code",
   "execution_count": 5,
   "id": "cc951c3d-9cad-4105-ab28-686bdc5d8037",
   "metadata": {},
   "outputs": [
    {
     "name": "stderr",
     "output_type": "stream",
     "text": [
      "/var/folders/yr/1f67jccn6hl_lyxnqy7qjpq40000gp/T/ipykernel_4219/3116122126.py:2: UserWarning: Unpickling a shapely <2.0 geometry object. Please save the pickle again; shapely 2.1 will not have this compatibility.\n",
      "  atl06sr_gdf = pickle.load(open('../../data/atl06/methow_all_sr-atl06-10172022_processed_bicubic.pkl', 'rb'))\n",
      "/var/folders/yr/1f67jccn6hl_lyxnqy7qjpq40000gp/T/ipykernel_4219/3116122126.py:3: UserWarning: Unpickling a shapely <2.0 geometry object. Please save the pickle again; shapely 2.1 will not have this compatibility.\n",
      "  outline_gdf = pickle.load(open('../../data/site_outlines/methow_outline_32610.pkl', 'rb'))\n"
     ]
    }
   ],
   "source": [
    "#atl06sr_gdf = pickle.load(open('../../data/atl06/methow_all_sr-atl06-10172022_processed.pkl', 'rb'))\n",
    "atl06sr_gdf = pickle.load(open('../../data/atl06/methow_all_sr-atl06-10172022_processed_bicubic.pkl', 'rb'))\n",
    "outline_gdf = pickle.load(open('../../data/site_outlines/methow_outline_32610.pkl', 'rb'))"
   ]
  },
  {
   "cell_type": "code",
   "execution_count": 7,
   "id": "e8512fc3-01d3-415e-8a28-e628eababa75",
   "metadata": {},
   "outputs": [
    {
     "data": {
      "text/plain": [
       "<Projected CRS: EPSG:32610>\n",
       "Name: WGS 84 / UTM zone 10N\n",
       "Axis Info [cartesian]:\n",
       "- E[east]: Easting (metre)\n",
       "- N[north]: Northing (metre)\n",
       "Area of Use:\n",
       "- name: Between 126°W and 120°W, northern hemisphere between equator and 84°N, onshore and offshore. Canada - British Columbia (BC); Northwest Territories (NWT); Nunavut; Yukon. United States (USA) - Alaska (AK).\n",
       "- bounds: (-126.0, 0.0, -120.0, 84.0)\n",
       "Coordinate Operation:\n",
       "- name: UTM zone 10N\n",
       "- method: Transverse Mercator\n",
       "Datum: World Geodetic System 1984 ensemble\n",
       "- Ellipsoid: WGS 84\n",
       "- Prime Meridian: Greenwich"
      ]
     },
     "execution_count": 7,
     "metadata": {},
     "output_type": "execute_result"
    }
   ],
   "source": [
    "atl06sr_gdf.crs"
   ]
  },
  {
   "cell_type": "code",
   "execution_count": 13,
   "id": "07a2f3c9-468c-4f1c-94e4-39495fda955b",
   "metadata": {},
   "outputs": [],
   "source": [
    "from pyproj import Transformer\n",
    "transformer = Transformer.from_crs(\"EPSG:7912\", \"EPSG:2927+5703\", always_xy=True)\n",
    "\n"
   ]
  },
  {
   "cell_type": "code",
   "execution_count": 16,
   "id": "35654c38-7ca1-4746-b909-2e7646a69f2b",
   "metadata": {},
   "outputs": [],
   "source": [
    "atl06sr_gdf_7912 = atl06sr_gdf.to_crs('epsg:7912')"
   ]
  },
  {
   "cell_type": "code",
   "execution_count": 17,
   "id": "7d231996-85ed-42a3-bc90-62b38add9c85",
   "metadata": {},
   "outputs": [
    {
     "data": {
      "text/html": [
       "<div>\n",
       "<style scoped>\n",
       "    .dataframe tbody tr th:only-of-type {\n",
       "        vertical-align: middle;\n",
       "    }\n",
       "\n",
       "    .dataframe tbody tr th {\n",
       "        vertical-align: top;\n",
       "    }\n",
       "\n",
       "    .dataframe thead th {\n",
       "        text-align: right;\n",
       "    }\n",
       "</style>\n",
       "<table border=\"1\" class=\"dataframe\">\n",
       "  <thead>\n",
       "    <tr style=\"text-align: right;\">\n",
       "      <th></th>\n",
       "      <th>pflags</th>\n",
       "      <th>h_mean</th>\n",
       "      <th>dh_fit_dy</th>\n",
       "      <th>spot</th>\n",
       "      <th>w_surface_window_final</th>\n",
       "      <th>h_sigma</th>\n",
       "      <th>distance</th>\n",
       "      <th>segment_id</th>\n",
       "      <th>dh_fit_dx</th>\n",
       "      <th>rgt</th>\n",
       "      <th>cycle</th>\n",
       "      <th>delta_time</th>\n",
       "      <th>gt</th>\n",
       "      <th>n_fit_photons</th>\n",
       "      <th>rms_misfit</th>\n",
       "      <th>geometry</th>\n",
       "      <th>acqdate</th>\n",
       "      <th>doy</th>\n",
       "      <th>decyear</th>\n",
       "      <th>dowy</th>\n",
       "      <th>snow_presence</th>\n",
       "      <th>lidar_z</th>\n",
       "      <th>difference</th>\n",
       "      <th>lidar_z_20m</th>\n",
       "      <th>difference_20m</th>\n",
       "      <th>slope_3m</th>\n",
       "      <th>slope_20m</th>\n",
       "      <th>slope_100m</th>\n",
       "      <th>diff_plus</th>\n",
       "      <th>diff_plus_20m</th>\n",
       "      <th>zscore</th>\n",
       "      <th>n</th>\n",
       "      <th>diff_plus_lowslope</th>\n",
       "      <th>bicubic_lidar_z</th>\n",
       "      <th>sampling_dif</th>\n",
       "      <th>difference_bicubic</th>\n",
       "      <th>diff_plus_bicubic</th>\n",
       "      <th>median_slope20d</th>\n",
       "    </tr>\n",
       "    <tr>\n",
       "      <th>time</th>\n",
       "      <th></th>\n",
       "      <th></th>\n",
       "      <th></th>\n",
       "      <th></th>\n",
       "      <th></th>\n",
       "      <th></th>\n",
       "      <th></th>\n",
       "      <th></th>\n",
       "      <th></th>\n",
       "      <th></th>\n",
       "      <th></th>\n",
       "      <th></th>\n",
       "      <th></th>\n",
       "      <th></th>\n",
       "      <th></th>\n",
       "      <th></th>\n",
       "      <th></th>\n",
       "      <th></th>\n",
       "      <th></th>\n",
       "      <th></th>\n",
       "      <th></th>\n",
       "      <th></th>\n",
       "      <th></th>\n",
       "      <th></th>\n",
       "      <th></th>\n",
       "      <th></th>\n",
       "      <th></th>\n",
       "      <th></th>\n",
       "      <th></th>\n",
       "      <th></th>\n",
       "      <th></th>\n",
       "      <th></th>\n",
       "      <th></th>\n",
       "      <th></th>\n",
       "      <th></th>\n",
       "      <th></th>\n",
       "      <th></th>\n",
       "      <th></th>\n",
       "    </tr>\n",
       "  </thead>\n",
       "  <tbody>\n",
       "    <tr>\n",
       "      <th>2022-03-07 12:15:04.239183408</th>\n",
       "      <td>0</td>\n",
       "      <td>2234.139058</td>\n",
       "      <td>0.0</td>\n",
       "      <td>4</td>\n",
       "      <td>3.0</td>\n",
       "      <td>0.088278</td>\n",
       "      <td>5.398207e+06</td>\n",
       "      <td>269210</td>\n",
       "      <td>-0.05614</td>\n",
       "      <td>1149</td>\n",
       "      <td>14</td>\n",
       "      <td>1.318905e+08</td>\n",
       "      <td>40</td>\n",
       "      <td>13</td>\n",
       "      <td>0.298621</td>\n",
       "      <td>POINT (-120.52502 48.48523)</td>\n",
       "      <td>2022-03-07</td>\n",
       "      <td>66</td>\n",
       "      <td>2022.179481</td>\n",
       "      <td>158</td>\n",
       "      <td>1</td>\n",
       "      <td>2232.775879</td>\n",
       "      <td>1.363179</td>\n",
       "      <td>2232.966797</td>\n",
       "      <td>1.172261</td>\n",
       "      <td>2.780463</td>\n",
       "      <td>6.154667</td>\n",
       "      <td>7.82458</td>\n",
       "      <td>1.802961</td>\n",
       "      <td>1.607732</td>\n",
       "      <td>1.574034</td>\n",
       "      <td>361</td>\n",
       "      <td>1.715725</td>\n",
       "      <td>2232.769989</td>\n",
       "      <td>0.00589</td>\n",
       "      <td>1.369069</td>\n",
       "      <td>1.805264</td>\n",
       "      <td>5.495207</td>\n",
       "    </tr>\n",
       "  </tbody>\n",
       "</table>\n",
       "</div>"
      ],
      "text/plain": [
       "                               pflags       h_mean  dh_fit_dy  spot  \\\n",
       "time                                                                  \n",
       "2022-03-07 12:15:04.239183408       0  2234.139058        0.0     4   \n",
       "\n",
       "                               w_surface_window_final   h_sigma      distance  \\\n",
       "time                                                                            \n",
       "2022-03-07 12:15:04.239183408                     3.0  0.088278  5.398207e+06   \n",
       "\n",
       "                               segment_id  dh_fit_dx   rgt  cycle  \\\n",
       "time                                                                \n",
       "2022-03-07 12:15:04.239183408      269210   -0.05614  1149     14   \n",
       "\n",
       "                                 delta_time  gt  n_fit_photons  rms_misfit  \\\n",
       "time                                                                         \n",
       "2022-03-07 12:15:04.239183408  1.318905e+08  40             13    0.298621   \n",
       "\n",
       "                                                  geometry     acqdate  doy  \\\n",
       "time                                                                          \n",
       "2022-03-07 12:15:04.239183408  POINT (-120.52502 48.48523)  2022-03-07   66   \n",
       "\n",
       "                                   decyear  dowy snow_presence      lidar_z  \\\n",
       "time                                                                          \n",
       "2022-03-07 12:15:04.239183408  2022.179481   158             1  2232.775879   \n",
       "\n",
       "                               difference  lidar_z_20m  difference_20m  \\\n",
       "time                                                                     \n",
       "2022-03-07 12:15:04.239183408    1.363179  2232.966797        1.172261   \n",
       "\n",
       "                               slope_3m  slope_20m  slope_100m  diff_plus  \\\n",
       "time                                                                        \n",
       "2022-03-07 12:15:04.239183408  2.780463   6.154667     7.82458   1.802961   \n",
       "\n",
       "                               diff_plus_20m    zscore    n  \\\n",
       "time                                                          \n",
       "2022-03-07 12:15:04.239183408       1.607732  1.574034  361   \n",
       "\n",
       "                               diff_plus_lowslope  bicubic_lidar_z  \\\n",
       "time                                                                 \n",
       "2022-03-07 12:15:04.239183408            1.715725      2232.769989   \n",
       "\n",
       "                               sampling_dif  difference_bicubic  \\\n",
       "time                                                              \n",
       "2022-03-07 12:15:04.239183408       0.00589            1.369069   \n",
       "\n",
       "                               diff_plus_bicubic  median_slope20d  \n",
       "time                                                               \n",
       "2022-03-07 12:15:04.239183408           1.805264         5.495207  "
      ]
     },
     "execution_count": 17,
     "metadata": {},
     "output_type": "execute_result"
    }
   ],
   "source": [
    "atl06sr_gdf_7912[-2:-1]"
   ]
  },
  {
   "cell_type": "code",
   "execution_count": 22,
   "id": "af698d85-51d6-4bca-bf37-11f81530403e",
   "metadata": {},
   "outputs": [
    {
     "data": {
      "text/html": [
       "<div>\n",
       "<style scoped>\n",
       "    .dataframe tbody tr th:only-of-type {\n",
       "        vertical-align: middle;\n",
       "    }\n",
       "\n",
       "    .dataframe tbody tr th {\n",
       "        vertical-align: top;\n",
       "    }\n",
       "\n",
       "    .dataframe thead th {\n",
       "        text-align: right;\n",
       "    }\n",
       "</style>\n",
       "<table border=\"1\" class=\"dataframe\">\n",
       "  <thead>\n",
       "    <tr style=\"text-align: right;\">\n",
       "      <th></th>\n",
       "      <th>pflags</th>\n",
       "      <th>h_mean</th>\n",
       "      <th>dh_fit_dy</th>\n",
       "      <th>spot</th>\n",
       "      <th>w_surface_window_final</th>\n",
       "      <th>h_sigma</th>\n",
       "      <th>distance</th>\n",
       "      <th>segment_id</th>\n",
       "      <th>dh_fit_dx</th>\n",
       "      <th>rgt</th>\n",
       "      <th>cycle</th>\n",
       "      <th>delta_time</th>\n",
       "      <th>gt</th>\n",
       "      <th>n_fit_photons</th>\n",
       "      <th>rms_misfit</th>\n",
       "      <th>geometry</th>\n",
       "      <th>acqdate</th>\n",
       "      <th>doy</th>\n",
       "      <th>decyear</th>\n",
       "      <th>dowy</th>\n",
       "      <th>snow_presence</th>\n",
       "      <th>lidar_z</th>\n",
       "      <th>difference</th>\n",
       "      <th>lidar_z_20m</th>\n",
       "      <th>difference_20m</th>\n",
       "      <th>slope_3m</th>\n",
       "      <th>slope_20m</th>\n",
       "      <th>slope_100m</th>\n",
       "      <th>diff_plus</th>\n",
       "      <th>diff_plus_20m</th>\n",
       "      <th>zscore</th>\n",
       "      <th>n</th>\n",
       "      <th>diff_plus_lowslope</th>\n",
       "      <th>bicubic_lidar_z</th>\n",
       "      <th>sampling_dif</th>\n",
       "      <th>difference_bicubic</th>\n",
       "      <th>diff_plus_bicubic</th>\n",
       "      <th>median_slope20d</th>\n",
       "    </tr>\n",
       "    <tr>\n",
       "      <th>time</th>\n",
       "      <th></th>\n",
       "      <th></th>\n",
       "      <th></th>\n",
       "      <th></th>\n",
       "      <th></th>\n",
       "      <th></th>\n",
       "      <th></th>\n",
       "      <th></th>\n",
       "      <th></th>\n",
       "      <th></th>\n",
       "      <th></th>\n",
       "      <th></th>\n",
       "      <th></th>\n",
       "      <th></th>\n",
       "      <th></th>\n",
       "      <th></th>\n",
       "      <th></th>\n",
       "      <th></th>\n",
       "      <th></th>\n",
       "      <th></th>\n",
       "      <th></th>\n",
       "      <th></th>\n",
       "      <th></th>\n",
       "      <th></th>\n",
       "      <th></th>\n",
       "      <th></th>\n",
       "      <th></th>\n",
       "      <th></th>\n",
       "      <th></th>\n",
       "      <th></th>\n",
       "      <th></th>\n",
       "      <th></th>\n",
       "      <th></th>\n",
       "      <th></th>\n",
       "      <th></th>\n",
       "      <th></th>\n",
       "      <th></th>\n",
       "      <th></th>\n",
       "    </tr>\n",
       "  </thead>\n",
       "  <tbody>\n",
       "    <tr>\n",
       "      <th>2022-03-07 12:15:04.239183408</th>\n",
       "      <td>0</td>\n",
       "      <td>2234.139058</td>\n",
       "      <td>0.0</td>\n",
       "      <td>4</td>\n",
       "      <td>3.0</td>\n",
       "      <td>0.088278</td>\n",
       "      <td>5.398207e+06</td>\n",
       "      <td>269210</td>\n",
       "      <td>-0.05614</td>\n",
       "      <td>1149</td>\n",
       "      <td>14</td>\n",
       "      <td>1.318905e+08</td>\n",
       "      <td>40</td>\n",
       "      <td>13</td>\n",
       "      <td>0.298621</td>\n",
       "      <td>POINT (682879.288 5373191.645)</td>\n",
       "      <td>2022-03-07</td>\n",
       "      <td>66</td>\n",
       "      <td>2022.179481</td>\n",
       "      <td>158</td>\n",
       "      <td>1</td>\n",
       "      <td>2232.775879</td>\n",
       "      <td>1.363179</td>\n",
       "      <td>2232.966797</td>\n",
       "      <td>1.172261</td>\n",
       "      <td>2.780463</td>\n",
       "      <td>6.154667</td>\n",
       "      <td>7.82458</td>\n",
       "      <td>1.802961</td>\n",
       "      <td>1.607732</td>\n",
       "      <td>1.574034</td>\n",
       "      <td>361</td>\n",
       "      <td>1.715725</td>\n",
       "      <td>2232.769989</td>\n",
       "      <td>0.00589</td>\n",
       "      <td>1.369069</td>\n",
       "      <td>1.805264</td>\n",
       "      <td>5.495207</td>\n",
       "    </tr>\n",
       "  </tbody>\n",
       "</table>\n",
       "</div>"
      ],
      "text/plain": [
       "                               pflags       h_mean  dh_fit_dy  spot  \\\n",
       "time                                                                  \n",
       "2022-03-07 12:15:04.239183408       0  2234.139058        0.0     4   \n",
       "\n",
       "                               w_surface_window_final   h_sigma      distance  \\\n",
       "time                                                                            \n",
       "2022-03-07 12:15:04.239183408                     3.0  0.088278  5.398207e+06   \n",
       "\n",
       "                               segment_id  dh_fit_dx   rgt  cycle  \\\n",
       "time                                                                \n",
       "2022-03-07 12:15:04.239183408      269210   -0.05614  1149     14   \n",
       "\n",
       "                                 delta_time  gt  n_fit_photons  rms_misfit  \\\n",
       "time                                                                         \n",
       "2022-03-07 12:15:04.239183408  1.318905e+08  40             13    0.298621   \n",
       "\n",
       "                                                     geometry     acqdate  \\\n",
       "time                                                                        \n",
       "2022-03-07 12:15:04.239183408  POINT (682879.288 5373191.645)  2022-03-07   \n",
       "\n",
       "                               doy      decyear  dowy snow_presence  \\\n",
       "time                                                                  \n",
       "2022-03-07 12:15:04.239183408   66  2022.179481   158             1   \n",
       "\n",
       "                                   lidar_z  difference  lidar_z_20m  \\\n",
       "time                                                                  \n",
       "2022-03-07 12:15:04.239183408  2232.775879    1.363179  2232.966797   \n",
       "\n",
       "                               difference_20m  slope_3m  slope_20m  \\\n",
       "time                                                                 \n",
       "2022-03-07 12:15:04.239183408        1.172261  2.780463   6.154667   \n",
       "\n",
       "                               slope_100m  diff_plus  diff_plus_20m    zscore  \\\n",
       "time                                                                            \n",
       "2022-03-07 12:15:04.239183408     7.82458   1.802961       1.607732  1.574034   \n",
       "\n",
       "                                 n  diff_plus_lowslope  bicubic_lidar_z  \\\n",
       "time                                                                      \n",
       "2022-03-07 12:15:04.239183408  361            1.715725      2232.769989   \n",
       "\n",
       "                               sampling_dif  difference_bicubic  \\\n",
       "time                                                              \n",
       "2022-03-07 12:15:04.239183408       0.00589            1.369069   \n",
       "\n",
       "                               diff_plus_bicubic  median_slope20d  \n",
       "time                                                               \n",
       "2022-03-07 12:15:04.239183408           1.805264         5.495207  "
      ]
     },
     "execution_count": 22,
     "metadata": {},
     "output_type": "execute_result"
    }
   ],
   "source": [
    "atl06sr_gdf[-2:-1]"
   ]
  },
  {
   "cell_type": "code",
   "execution_count": 21,
   "id": "eed6d26f-5072-4cf1-b5b2-0c65641e192c",
   "metadata": {},
   "outputs": [
    {
     "data": {
      "text/plain": [
       "(1634353.6087010317, 1149645.10053732, 2251.2873888505574)"
      ]
     },
     "execution_count": 21,
     "metadata": {},
     "output_type": "execute_result"
    }
   ],
   "source": [
    "transformer.transform(-120.52502,48.48523,2234.139058)"
   ]
  },
  {
   "cell_type": "code",
   "execution_count": 23,
   "id": "623ac66d-becb-4a31-9be2-048f0e4b6c1e",
   "metadata": {},
   "outputs": [
    {
     "data": {
      "text/plain": [
       "17.14833085055716"
      ]
     },
     "execution_count": 23,
     "metadata": {},
     "output_type": "execute_result"
    }
   ],
   "source": [
    "2251.2873888505574 - 2234.139058"
   ]
  },
  {
   "cell_type": "code",
   "execution_count": 24,
   "id": "e4607ad5-b426-4c28-b2c4-df043a9b59f6",
   "metadata": {},
   "outputs": [
    {
     "data": {
      "text/plain": [
       "(1664635.6584199672, 1191552.2990717422, 1417.5373677251116)"
      ]
     },
     "execution_count": 24,
     "metadata": {},
     "output_type": "execute_result"
    }
   ],
   "source": [
    "transformer.transform(-120.40000,48.60000,1400.00000)"
   ]
  },
  {
   "cell_type": "code",
   "execution_count": 16,
   "id": "bfbe1cdd-1d2b-490d-9cb1-d644ea4670aa",
   "metadata": {
    "scrolled": true
   },
   "outputs": [
    {
     "data": {
      "text/plain": [
       "(array([1664631.84089118, 1634349.77412143]),\n",
       " array([1191554.23227549, 1149647.00428579]),\n",
       " array([1417.53738899, 2251.28741008]))"
      ]
     },
     "execution_count": 16,
     "metadata": {},
     "output_type": "execute_result"
    }
   ],
   "source": [
    "# Transform geopandas points via pyproj\n",
    "\n",
    "transformer = pyproj.Transformer.from_crs(\"EPSG:7912\", \"EPSG:2927+5703\", always_xy=True)\n",
    "\n",
    "gf = gpd.GeoDataFrame(geometry=gpd.points_from_xy([-120.4, -120.52502], [48.6, 48.48523], [1400, 2234.139058]),\n",
    "                  crs='EPSG:7912'\n",
    "                 )\n",
    "\n",
    "transformer.transform(gf.geometry.x.values, gf.geometry.y.values, gf.geometry.z.values)"
   ]
  },
  {
   "cell_type": "code",
   "execution_count": 19,
   "id": "188cb562-ea60-46db-bd87-be2142115089",
   "metadata": {},
   "outputs": [
    {
     "data": {
      "text/html": [
       "<div>\n",
       "<style scoped>\n",
       "    .dataframe tbody tr th:only-of-type {\n",
       "        vertical-align: middle;\n",
       "    }\n",
       "\n",
       "    .dataframe tbody tr th {\n",
       "        vertical-align: top;\n",
       "    }\n",
       "\n",
       "    .dataframe thead th {\n",
       "        text-align: right;\n",
       "    }\n",
       "</style>\n",
       "<table border=\"1\" class=\"dataframe\">\n",
       "  <thead>\n",
       "    <tr style=\"text-align: right;\">\n",
       "      <th></th>\n",
       "      <th>geometry</th>\n",
       "    </tr>\n",
       "  </thead>\n",
       "  <tbody>\n",
       "    <tr>\n",
       "      <th>0</th>\n",
       "      <td>POINT Z (1664631.841 1191554.232 1417.537)</td>\n",
       "    </tr>\n",
       "    <tr>\n",
       "      <th>1</th>\n",
       "      <td>POINT Z (1634349.774 1149647.004 2251.287)</td>\n",
       "    </tr>\n",
       "  </tbody>\n",
       "</table>\n",
       "</div>"
      ],
      "text/plain": [
       "                                     geometry\n",
       "0  POINT Z (1664631.841 1191554.232 1417.537)\n",
       "1  POINT Z (1634349.774 1149647.004 2251.287)"
      ]
     },
     "execution_count": 19,
     "metadata": {},
     "output_type": "execute_result"
    }
   ],
   "source": [
    "gf_new = gf.to_crs(\"EPSG:2927+5703\")\n",
    "gf_new"
   ]
  },
  {
   "cell_type": "code",
   "execution_count": 18,
   "id": "a988e9cf-bf9d-4ac8-bb88-a5558b9129a7",
   "metadata": {},
   "outputs": [
    {
     "data": {
      "text/html": [
       "<div>\n",
       "<style scoped>\n",
       "    .dataframe tbody tr th:only-of-type {\n",
       "        vertical-align: middle;\n",
       "    }\n",
       "\n",
       "    .dataframe tbody tr th {\n",
       "        vertical-align: top;\n",
       "    }\n",
       "\n",
       "    .dataframe thead th {\n",
       "        text-align: right;\n",
       "    }\n",
       "</style>\n",
       "<table border=\"1\" class=\"dataframe\">\n",
       "  <thead>\n",
       "    <tr style=\"text-align: right;\">\n",
       "      <th></th>\n",
       "      <th>geometry</th>\n",
       "    </tr>\n",
       "  </thead>\n",
       "  <tbody>\n",
       "    <tr>\n",
       "      <th>0</th>\n",
       "      <td>POINT Z (1664631.841 1191554.232 1417.537)</td>\n",
       "    </tr>\n",
       "    <tr>\n",
       "      <th>1</th>\n",
       "      <td>POINT Z (1634349.774 1149647.004 2251.287)</td>\n",
       "    </tr>\n",
       "  </tbody>\n",
       "</table>\n",
       "</div>"
      ],
      "text/plain": [
       "                                     geometry\n",
       "0  POINT Z (1664631.841 1191554.232 1417.537)\n",
       "1  POINT Z (1634349.774 1149647.004 2251.287)"
      ]
     },
     "execution_count": 18,
     "metadata": {},
     "output_type": "execute_result"
    }
   ],
   "source": []
  },
  {
   "cell_type": "code",
   "execution_count": 11,
   "id": "02ecbcf6-636b-4b84-9c8c-b3ce426023b0",
   "metadata": {},
   "outputs": [],
   "source": [
    "dep_gdf = gpd.read_file('../../data/methow_test_3dep.geojson')"
   ]
  },
  {
   "cell_type": "code",
   "execution_count": 16,
   "id": "35b3c8c5-d781-459b-a7de-20c8b0a6a269",
   "metadata": {},
   "outputs": [
    {
     "data": {
      "text/html": [
       "<div>\n",
       "<style scoped>\n",
       "    .dataframe tbody tr th:only-of-type {\n",
       "        vertical-align: middle;\n",
       "    }\n",
       "\n",
       "    .dataframe tbody tr th {\n",
       "        vertical-align: top;\n",
       "    }\n",
       "\n",
       "    .dataframe thead th {\n",
       "        text-align: right;\n",
       "    }\n",
       "</style>\n",
       "<table border=\"1\" class=\"dataframe\">\n",
       "  <thead>\n",
       "    <tr style=\"text-align: right;\">\n",
       "      <th></th>\n",
       "      <th>pflags</th>\n",
       "      <th>h_mean</th>\n",
       "      <th>dh_fit_dy</th>\n",
       "      <th>spot</th>\n",
       "      <th>w_surface_window_final</th>\n",
       "      <th>h_sigma</th>\n",
       "      <th>distance</th>\n",
       "      <th>segment_id</th>\n",
       "      <th>dh_fit_dx</th>\n",
       "      <th>rgt</th>\n",
       "      <th>cycle</th>\n",
       "      <th>delta_time</th>\n",
       "      <th>gt</th>\n",
       "      <th>n_fit_photons</th>\n",
       "      <th>rms_misfit</th>\n",
       "      <th>geometry</th>\n",
       "      <th>acqdate</th>\n",
       "      <th>doy</th>\n",
       "      <th>decyear</th>\n",
       "      <th>dowy</th>\n",
       "      <th>snow_presence</th>\n",
       "    </tr>\n",
       "    <tr>\n",
       "      <th>time</th>\n",
       "      <th></th>\n",
       "      <th></th>\n",
       "      <th></th>\n",
       "      <th></th>\n",
       "      <th></th>\n",
       "      <th></th>\n",
       "      <th></th>\n",
       "      <th></th>\n",
       "      <th></th>\n",
       "      <th></th>\n",
       "      <th></th>\n",
       "      <th></th>\n",
       "      <th></th>\n",
       "      <th></th>\n",
       "      <th></th>\n",
       "      <th></th>\n",
       "      <th></th>\n",
       "      <th></th>\n",
       "      <th></th>\n",
       "      <th></th>\n",
       "      <th></th>\n",
       "    </tr>\n",
       "  </thead>\n",
       "  <tbody>\n",
       "    <tr>\n",
       "      <th>2018-11-09 22:09:43.662511060</th>\n",
       "      <td>0</td>\n",
       "      <td>774.110259</td>\n",
       "      <td>0.0</td>\n",
       "      <td>5</td>\n",
       "      <td>9.386548</td>\n",
       "      <td>0.079705</td>\n",
       "      <td>5.382001e+06</td>\n",
       "      <td>268398</td>\n",
       "      <td>0.367318</td>\n",
       "      <td>646</td>\n",
       "      <td>1</td>\n",
       "      <td>2.703658e+07</td>\n",
       "      <td>20</td>\n",
       "      <td>41</td>\n",
       "      <td>0.506044</td>\n",
       "      <td>POINT (722265.057 5358346.501)</td>\n",
       "      <td>2018-11-09</td>\n",
       "      <td>313</td>\n",
       "      <td>2018.857324</td>\n",
       "      <td>40</td>\n",
       "      <td>0</td>\n",
       "    </tr>\n",
       "    <tr>\n",
       "      <th>2018-11-09 22:09:43.789049908</th>\n",
       "      <td>0</td>\n",
       "      <td>919.941824</td>\n",
       "      <td>0.0</td>\n",
       "      <td>5</td>\n",
       "      <td>3.000000</td>\n",
       "      <td>0.050617</td>\n",
       "      <td>5.382903e+06</td>\n",
       "      <td>268443</td>\n",
       "      <td>0.028568</td>\n",
       "      <td>646</td>\n",
       "      <td>1</td>\n",
       "      <td>2.703658e+07</td>\n",
       "      <td>20</td>\n",
       "      <td>42</td>\n",
       "      <td>0.305572</td>\n",
       "      <td>POINT (722145.580 5359238.959)</td>\n",
       "      <td>2018-11-09</td>\n",
       "      <td>313</td>\n",
       "      <td>2018.857324</td>\n",
       "      <td>40</td>\n",
       "      <td>0</td>\n",
       "    </tr>\n",
       "  </tbody>\n",
       "</table>\n",
       "</div>"
      ],
      "text/plain": [
       "                               pflags      h_mean  dh_fit_dy  spot  \\\n",
       "time                                                                 \n",
       "2018-11-09 22:09:43.662511060       0  774.110259        0.0     5   \n",
       "2018-11-09 22:09:43.789049908       0  919.941824        0.0     5   \n",
       "\n",
       "                               w_surface_window_final   h_sigma      distance  \\\n",
       "time                                                                            \n",
       "2018-11-09 22:09:43.662511060                9.386548  0.079705  5.382001e+06   \n",
       "2018-11-09 22:09:43.789049908                3.000000  0.050617  5.382903e+06   \n",
       "\n",
       "                               segment_id  dh_fit_dx  rgt  cycle  \\\n",
       "time                                                               \n",
       "2018-11-09 22:09:43.662511060      268398   0.367318  646      1   \n",
       "2018-11-09 22:09:43.789049908      268443   0.028568  646      1   \n",
       "\n",
       "                                 delta_time  gt  n_fit_photons  rms_misfit  \\\n",
       "time                                                                         \n",
       "2018-11-09 22:09:43.662511060  2.703658e+07  20             41    0.506044   \n",
       "2018-11-09 22:09:43.789049908  2.703658e+07  20             42    0.305572   \n",
       "\n",
       "                                                     geometry     acqdate  \\\n",
       "time                                                                        \n",
       "2018-11-09 22:09:43.662511060  POINT (722265.057 5358346.501)  2018-11-09   \n",
       "2018-11-09 22:09:43.789049908  POINT (722145.580 5359238.959)  2018-11-09   \n",
       "\n",
       "                               doy      decyear  dowy snow_presence  \n",
       "time                                                                 \n",
       "2018-11-09 22:09:43.662511060  313  2018.857324    40             0  \n",
       "2018-11-09 22:09:43.789049908  313  2018.857324    40             0  "
      ]
     },
     "execution_count": 16,
     "metadata": {},
     "output_type": "execute_result"
    }
   ],
   "source": [
    "atl06sr_gdf.head(2)"
   ]
  },
  {
   "cell_type": "markdown",
   "id": "55f395ec-1e34-42ba-94a4-c26ba1fd53e9",
   "metadata": {
    "tags": []
   },
   "source": [
    "# Difference with Reference DTM "
   ]
  },
  {
   "cell_type": "markdown",
   "id": "6d75b0bc-75e4-4377-951a-0a69bd967e8c",
   "metadata": {},
   "source": [
    "## Load Snow Off DTM & Slope DTMs\n",
    "DTM was commissioned by WaDNR, flown in summer 2018  \n",
    "Slope DTMs were produced via downscaling where necessary and then using gdaldem to output a slope file:  \n",
    "\"gdaldem slope $lidar_fn  $lidar_slope_fn -co COMPRESS=LZW -co TILED=YES -co BIGTIFF=IF_SAFER\"  \n",
    "\n",
    "Coarser DTMs were produced running gdaldem in the command line:  \n",
    "\"gdalwarp -tr 20 20 methow_basin_2018_dtm_combined_32610_1m.tif methow_basin_2018_dtm_combined_32610_20m.tif -co COMPRESS=LZW -co TILED=YES -co BIGTIFF=IF_SAFER\""
   ]
  },
  {
   "cell_type": "code",
   "execution_count": 12,
   "id": "111eab9a-db03-4738-93a7-488238b0ddca",
   "metadata": {},
   "outputs": [],
   "source": [
    "lidar_fn = '../../data/lidar/methow/dtm/methow_basin_2018_dtm_combined_32610_1m.tif'\n",
    "lidar20_fn = '../../data/lidar/methow/dtm/methow_basin_2018_dtm_combined_32610_20m.tif'"
   ]
  },
  {
   "cell_type": "markdown",
   "id": "309a4d44-5369-415b-b7c5-8c65e0888931",
   "metadata": {},
   "source": [
    "## Sample snow-off DEM  \n",
    "1. Using the sample_raster function from David Shean. This uses nearest neighbor, which isn't the best interpolation method. The below function not only samples the DTM, but then computes the difference between the data using: **ICESat-2 - DTM**  \n",
    "2. Using bicubic interopolation method written by Friedrich Knuth (UW) from https://github.com/uw-cryo/raster_sampling  \n",
    "  \n",
    "Then compare the two methods. Spoiler alert, bicubic is better and the IQR of the difference between the two has an IQR of about 0.36 m"
   ]
  },
  {
   "cell_type": "code",
   "execution_count": 13,
   "id": "f1b27ad4-1772-4a56-8806-c0d9b55a4b75",
   "metadata": {},
   "outputs": [],
   "source": [
    "lidar_snowoff_src = rio.open(lidar_fn)\n",
    "lidar_snowoff20_src = rio.open(lidar20_fn)"
   ]
  },
  {
   "cell_type": "code",
   "execution_count": 60,
   "id": "0475472f-4e36-4c80-922d-c47ca5bf9e35",
   "metadata": {},
   "outputs": [],
   "source": [
    "# Get statistics about the highest and lowest elevation in the basin\n",
    "\n",
    "#lidar_pre_arr = rxr.open_rasterio(lidar_fn)\n",
    "#lidar_pre_arr = lidar_pre_arr > 0\n",
    "#print(np.nanmin(lidar_pre_arr.values))\n",
    "#print(np.nanmax(lidar_pre_arr.values))"
   ]
  },
  {
   "cell_type": "markdown",
   "id": "8e3e5eef-9d44-4fe1-bfce-f7f27f4d2a3e",
   "metadata": {},
   "source": [
    "### 1) Nearest Neighbor"
   ]
  },
  {
   "cell_type": "code",
   "execution_count": 22,
   "id": "893bc892-cda4-46d5-b27e-c55f6f3de4c3",
   "metadata": {},
   "outputs": [],
   "source": [
    "# This function written by David Shean, UW\n",
    "# This function uses nearest neighbor, which is not ideal\n",
    "\n",
    "def sample_raster(df, src, diff_col=None):\n",
    "    #df_proj = df.to_crs(src.crs)\n",
    "    coord = [(pt.x, pt.y) for pt in df.to_crs(src.crs).geometry]\n",
    "    s = np.fromiter(src.sample(coord), dtype=src.dtypes[0])\n",
    "    #s[s == src.nodata] = np.nan\n",
    "    sm = np.ma.masked_equal(s, src.nodata)\n",
    "    sample_colname = os.path.splitext(os.path.split(src.name)[-1])[0]\n",
    "    df[sample_colname] = sm\n",
    "    if diff_col is not None:\n",
    "        out_colname = '{} {} diff'.format(diff_col, sample_colname)\n",
    "        df[out_colname] = df[diff_col] - df[sample_colname]\n",
    "    else:\n",
    "        out_colname = sample_colname\n",
    "    return out_colname"
   ]
  },
  {
   "cell_type": "code",
   "execution_count": 23,
   "id": "b19afe23-b0bf-45e2-9a45-6dc1e250d292",
   "metadata": {},
   "outputs": [
    {
     "data": {
      "text/plain": [
       "'h_mean methow_basin_2018_dtm_combined_32610_1m diff'"
      ]
     },
     "execution_count": 23,
     "metadata": {},
     "output_type": "execute_result"
    }
   ],
   "source": [
    "# Sample snow-off lidar at native resolution\n",
    "\n",
    "atl06sr_diff_col = sample_raster(atl06sr_gdf, lidar_snowoff_src, diff_col='h_mean')\n",
    "atl06sr_diff_col"
   ]
  },
  {
   "cell_type": "code",
   "execution_count": 24,
   "id": "44124fa5-e6e1-4d10-aede-c1e3dc3fd507",
   "metadata": {},
   "outputs": [
    {
     "data": {
      "text/plain": [
       "'h_mean methow_basin_2018_dtm_combined_32610_20m diff'"
      ]
     },
     "execution_count": 24,
     "metadata": {},
     "output_type": "execute_result"
    }
   ],
   "source": [
    "# Sample snow-off lidar at approximate resolution of ICESat-2 points\n",
    "\n",
    "atl06sr_diff20_col = sample_raster(atl06sr_gdf, lidar_snowoff20_src, diff_col='h_mean')\n",
    "atl06sr_diff20_col"
   ]
  },
  {
   "cell_type": "code",
   "execution_count": 63,
   "id": "e5a550c0-66a3-4dac-b84d-9b5ed666c828",
   "metadata": {},
   "outputs": [
    {
     "data": {
      "text/html": [
       "<div>\n",
       "<style scoped>\n",
       "    .dataframe tbody tr th:only-of-type {\n",
       "        vertical-align: middle;\n",
       "    }\n",
       "\n",
       "    .dataframe tbody tr th {\n",
       "        vertical-align: top;\n",
       "    }\n",
       "\n",
       "    .dataframe thead th {\n",
       "        text-align: right;\n",
       "    }\n",
       "</style>\n",
       "<table border=\"1\" class=\"dataframe\">\n",
       "  <thead>\n",
       "    <tr style=\"text-align: right;\">\n",
       "      <th></th>\n",
       "      <th>pflags</th>\n",
       "      <th>h_mean</th>\n",
       "      <th>dh_fit_dy</th>\n",
       "      <th>spot</th>\n",
       "      <th>w_surface_window_final</th>\n",
       "      <th>h_sigma</th>\n",
       "      <th>distance</th>\n",
       "      <th>segment_id</th>\n",
       "      <th>dh_fit_dx</th>\n",
       "      <th>rgt</th>\n",
       "      <th>cycle</th>\n",
       "      <th>delta_time</th>\n",
       "      <th>gt</th>\n",
       "      <th>n_fit_photons</th>\n",
       "      <th>rms_misfit</th>\n",
       "      <th>geometry</th>\n",
       "      <th>acqdate</th>\n",
       "      <th>doy</th>\n",
       "      <th>decyear</th>\n",
       "      <th>dowy</th>\n",
       "      <th>snow_presence</th>\n",
       "      <th>methow_basin_2018_dtm_combined_32610_1m</th>\n",
       "      <th>h_mean methow_basin_2018_dtm_combined_32610_1m diff</th>\n",
       "      <th>methow_basin_2018_dtm_combined_32610_20m</th>\n",
       "      <th>h_mean methow_basin_2018_dtm_combined_32610_20m diff</th>\n",
       "      <th>methow_basin_2018_dtm_combined_32610_3m_slope</th>\n",
       "      <th>methow_basin_2018_dtm_combined_32610_20m_slope</th>\n",
       "      <th>methow_basin_2018_dtm_combined_32610_100m_slope</th>\n",
       "    </tr>\n",
       "    <tr>\n",
       "      <th>time</th>\n",
       "      <th></th>\n",
       "      <th></th>\n",
       "      <th></th>\n",
       "      <th></th>\n",
       "      <th></th>\n",
       "      <th></th>\n",
       "      <th></th>\n",
       "      <th></th>\n",
       "      <th></th>\n",
       "      <th></th>\n",
       "      <th></th>\n",
       "      <th></th>\n",
       "      <th></th>\n",
       "      <th></th>\n",
       "      <th></th>\n",
       "      <th></th>\n",
       "      <th></th>\n",
       "      <th></th>\n",
       "      <th></th>\n",
       "      <th></th>\n",
       "      <th></th>\n",
       "      <th></th>\n",
       "      <th></th>\n",
       "      <th></th>\n",
       "      <th></th>\n",
       "      <th></th>\n",
       "      <th></th>\n",
       "      <th></th>\n",
       "    </tr>\n",
       "  </thead>\n",
       "  <tbody>\n",
       "    <tr>\n",
       "      <th>2018-11-09 22:09:43.662511060</th>\n",
       "      <td>0</td>\n",
       "      <td>774.110259</td>\n",
       "      <td>0.0</td>\n",
       "      <td>5</td>\n",
       "      <td>9.386548</td>\n",
       "      <td>0.079705</td>\n",
       "      <td>5.382001e+06</td>\n",
       "      <td>268398</td>\n",
       "      <td>0.367318</td>\n",
       "      <td>646</td>\n",
       "      <td>1</td>\n",
       "      <td>2.703658e+07</td>\n",
       "      <td>20</td>\n",
       "      <td>41</td>\n",
       "      <td>0.506044</td>\n",
       "      <td>POINT (722265.057 5358346.501)</td>\n",
       "      <td>2018-11-09</td>\n",
       "      <td>313</td>\n",
       "      <td>2018.857324</td>\n",
       "      <td>40</td>\n",
       "      <td>0</td>\n",
       "      <td>NaN</td>\n",
       "      <td>NaN</td>\n",
       "      <td>NaN</td>\n",
       "      <td>NaN</td>\n",
       "      <td>NaN</td>\n",
       "      <td>NaN</td>\n",
       "      <td>NaN</td>\n",
       "    </tr>\n",
       "    <tr>\n",
       "      <th>2018-11-09 22:09:43.789049908</th>\n",
       "      <td>0</td>\n",
       "      <td>919.941824</td>\n",
       "      <td>0.0</td>\n",
       "      <td>5</td>\n",
       "      <td>3.000000</td>\n",
       "      <td>0.050617</td>\n",
       "      <td>5.382903e+06</td>\n",
       "      <td>268443</td>\n",
       "      <td>0.028568</td>\n",
       "      <td>646</td>\n",
       "      <td>1</td>\n",
       "      <td>2.703658e+07</td>\n",
       "      <td>20</td>\n",
       "      <td>42</td>\n",
       "      <td>0.305572</td>\n",
       "      <td>POINT (722145.580 5359238.959)</td>\n",
       "      <td>2018-11-09</td>\n",
       "      <td>313</td>\n",
       "      <td>2018.857324</td>\n",
       "      <td>40</td>\n",
       "      <td>0</td>\n",
       "      <td>921.263184</td>\n",
       "      <td>-1.321359</td>\n",
       "      <td>924.401428</td>\n",
       "      <td>-4.459604</td>\n",
       "      <td>21.903059</td>\n",
       "      <td>11.596403</td>\n",
       "      <td>NaN</td>\n",
       "    </tr>\n",
       "  </tbody>\n",
       "</table>\n",
       "</div>"
      ],
      "text/plain": [
       "                               pflags      h_mean  dh_fit_dy  spot  \\\n",
       "time                                                                 \n",
       "2018-11-09 22:09:43.662511060       0  774.110259        0.0     5   \n",
       "2018-11-09 22:09:43.789049908       0  919.941824        0.0     5   \n",
       "\n",
       "                               w_surface_window_final   h_sigma      distance  \\\n",
       "time                                                                            \n",
       "2018-11-09 22:09:43.662511060                9.386548  0.079705  5.382001e+06   \n",
       "2018-11-09 22:09:43.789049908                3.000000  0.050617  5.382903e+06   \n",
       "\n",
       "                               segment_id  dh_fit_dx  rgt  cycle  \\\n",
       "time                                                               \n",
       "2018-11-09 22:09:43.662511060      268398   0.367318  646      1   \n",
       "2018-11-09 22:09:43.789049908      268443   0.028568  646      1   \n",
       "\n",
       "                                 delta_time  gt  n_fit_photons  rms_misfit  \\\n",
       "time                                                                         \n",
       "2018-11-09 22:09:43.662511060  2.703658e+07  20             41    0.506044   \n",
       "2018-11-09 22:09:43.789049908  2.703658e+07  20             42    0.305572   \n",
       "\n",
       "                                                     geometry     acqdate  \\\n",
       "time                                                                        \n",
       "2018-11-09 22:09:43.662511060  POINT (722265.057 5358346.501)  2018-11-09   \n",
       "2018-11-09 22:09:43.789049908  POINT (722145.580 5359238.959)  2018-11-09   \n",
       "\n",
       "                               doy      decyear  dowy snow_presence  \\\n",
       "time                                                                  \n",
       "2018-11-09 22:09:43.662511060  313  2018.857324    40             0   \n",
       "2018-11-09 22:09:43.789049908  313  2018.857324    40             0   \n",
       "\n",
       "                               methow_basin_2018_dtm_combined_32610_1m  \\\n",
       "time                                                                     \n",
       "2018-11-09 22:09:43.662511060                                      NaN   \n",
       "2018-11-09 22:09:43.789049908                               921.263184   \n",
       "\n",
       "                               h_mean methow_basin_2018_dtm_combined_32610_1m diff  \\\n",
       "time                                                                                 \n",
       "2018-11-09 22:09:43.662511060                                                NaN     \n",
       "2018-11-09 22:09:43.789049908                                          -1.321359     \n",
       "\n",
       "                               methow_basin_2018_dtm_combined_32610_20m  \\\n",
       "time                                                                      \n",
       "2018-11-09 22:09:43.662511060                                       NaN   \n",
       "2018-11-09 22:09:43.789049908                                924.401428   \n",
       "\n",
       "                               h_mean methow_basin_2018_dtm_combined_32610_20m diff  \\\n",
       "time                                                                                  \n",
       "2018-11-09 22:09:43.662511060                                                NaN      \n",
       "2018-11-09 22:09:43.789049908                                          -4.459604      \n",
       "\n",
       "                               methow_basin_2018_dtm_combined_32610_3m_slope  \\\n",
       "time                                                                           \n",
       "2018-11-09 22:09:43.662511060                                            NaN   \n",
       "2018-11-09 22:09:43.789049908                                      21.903059   \n",
       "\n",
       "                               methow_basin_2018_dtm_combined_32610_20m_slope  \\\n",
       "time                                                                            \n",
       "2018-11-09 22:09:43.662511060                                             NaN   \n",
       "2018-11-09 22:09:43.789049908                                       11.596403   \n",
       "\n",
       "                               methow_basin_2018_dtm_combined_32610_100m_slope  \n",
       "time                                                                            \n",
       "2018-11-09 22:09:43.662511060                                              NaN  \n",
       "2018-11-09 22:09:43.789049908                                              NaN  "
      ]
     },
     "execution_count": 63,
     "metadata": {},
     "output_type": "execute_result"
    }
   ],
   "source": [
    "atl06sr_gdf.head(2)"
   ]
  },
  {
   "cell_type": "code",
   "execution_count": 64,
   "id": "177c7401-c4fb-40a6-8c28-377cc385cb20",
   "metadata": {},
   "outputs": [
    {
     "data": {
      "text/plain": [
       "Index(['pflags', 'h_mean', 'dh_fit_dy', 'spot', 'w_surface_window_final',\n",
       "       'h_sigma', 'distance', 'segment_id', 'dh_fit_dx', 'rgt', 'cycle',\n",
       "       'delta_time', 'gt', 'n_fit_photons', 'rms_misfit', 'geometry',\n",
       "       'acqdate', 'doy', 'decyear', 'dowy', 'snow_presence', 'lidar_z',\n",
       "       'difference', 'lidar_z_20m', 'difference_20m', 'slope_3m', 'slope_20m',\n",
       "       'slope_100m'],\n",
       "      dtype='object')"
      ]
     },
     "execution_count": 64,
     "metadata": {},
     "output_type": "execute_result"
    }
   ],
   "source": [
    "atl06sr_gdf = atl06sr_gdf.rename(columns={'methow_basin_2018_dtm_combined_32610_1m':'lidar_z',\n",
    "                                          'methow_basin_2018_dtm_combined_32610_20m':'lidar_z_20m',\n",
    "                                          'h_mean methow_basin_2018_dtm_combined_32610_20m diff':'difference_20m',\n",
    "                                          'h_mean methow_basin_2018_dtm_combined_32610_1m diff':'difference', \n",
    "                                          'methow_basin_2018_dtm_combined_32610_3m_slope':'slope_3m',\n",
    "                                          'methow_basin_2018_dtm_combined_32610_20m_slope':'slope_20m',\n",
    "                                          'methow_basin_2018_dtm_combined_32610_100m_slope':'slope_100m'})\n",
    "atl06sr_gdf.columns"
   ]
  },
  {
   "cell_type": "code",
   "execution_count": 65,
   "id": "0c97f5d9-2f31-4000-9851-fdd28525f828",
   "metadata": {},
   "outputs": [
    {
     "data": {
      "text/html": [
       "<div>\n",
       "<style scoped>\n",
       "    .dataframe tbody tr th:only-of-type {\n",
       "        vertical-align: middle;\n",
       "    }\n",
       "\n",
       "    .dataframe tbody tr th {\n",
       "        vertical-align: top;\n",
       "    }\n",
       "\n",
       "    .dataframe thead th {\n",
       "        text-align: right;\n",
       "    }\n",
       "</style>\n",
       "<table border=\"1\" class=\"dataframe\">\n",
       "  <thead>\n",
       "    <tr style=\"text-align: right;\">\n",
       "      <th></th>\n",
       "      <th>pflags</th>\n",
       "      <th>h_mean</th>\n",
       "      <th>dh_fit_dy</th>\n",
       "      <th>spot</th>\n",
       "      <th>w_surface_window_final</th>\n",
       "      <th>h_sigma</th>\n",
       "      <th>distance</th>\n",
       "      <th>segment_id</th>\n",
       "      <th>dh_fit_dx</th>\n",
       "      <th>rgt</th>\n",
       "      <th>cycle</th>\n",
       "      <th>delta_time</th>\n",
       "      <th>gt</th>\n",
       "      <th>n_fit_photons</th>\n",
       "      <th>rms_misfit</th>\n",
       "      <th>geometry</th>\n",
       "      <th>acqdate</th>\n",
       "      <th>doy</th>\n",
       "      <th>decyear</th>\n",
       "      <th>dowy</th>\n",
       "      <th>snow_presence</th>\n",
       "      <th>lidar_z</th>\n",
       "      <th>difference</th>\n",
       "      <th>lidar_z_20m</th>\n",
       "      <th>difference_20m</th>\n",
       "      <th>slope_3m</th>\n",
       "      <th>slope_20m</th>\n",
       "      <th>slope_100m</th>\n",
       "    </tr>\n",
       "    <tr>\n",
       "      <th>time</th>\n",
       "      <th></th>\n",
       "      <th></th>\n",
       "      <th></th>\n",
       "      <th></th>\n",
       "      <th></th>\n",
       "      <th></th>\n",
       "      <th></th>\n",
       "      <th></th>\n",
       "      <th></th>\n",
       "      <th></th>\n",
       "      <th></th>\n",
       "      <th></th>\n",
       "      <th></th>\n",
       "      <th></th>\n",
       "      <th></th>\n",
       "      <th></th>\n",
       "      <th></th>\n",
       "      <th></th>\n",
       "      <th></th>\n",
       "      <th></th>\n",
       "      <th></th>\n",
       "      <th></th>\n",
       "      <th></th>\n",
       "      <th></th>\n",
       "      <th></th>\n",
       "      <th></th>\n",
       "      <th></th>\n",
       "      <th></th>\n",
       "    </tr>\n",
       "  </thead>\n",
       "  <tbody>\n",
       "    <tr>\n",
       "      <th>2018-11-09 22:09:43.662511060</th>\n",
       "      <td>0</td>\n",
       "      <td>774.110259</td>\n",
       "      <td>0.0</td>\n",
       "      <td>5</td>\n",
       "      <td>9.386548</td>\n",
       "      <td>0.079705</td>\n",
       "      <td>5.382001e+06</td>\n",
       "      <td>268398</td>\n",
       "      <td>0.367318</td>\n",
       "      <td>646</td>\n",
       "      <td>1</td>\n",
       "      <td>2.703658e+07</td>\n",
       "      <td>20</td>\n",
       "      <td>41</td>\n",
       "      <td>0.506044</td>\n",
       "      <td>POINT (722265.057 5358346.501)</td>\n",
       "      <td>2018-11-09</td>\n",
       "      <td>313</td>\n",
       "      <td>2018.857324</td>\n",
       "      <td>40</td>\n",
       "      <td>0</td>\n",
       "      <td>NaN</td>\n",
       "      <td>NaN</td>\n",
       "      <td>NaN</td>\n",
       "      <td>NaN</td>\n",
       "      <td>NaN</td>\n",
       "      <td>NaN</td>\n",
       "      <td>NaN</td>\n",
       "    </tr>\n",
       "    <tr>\n",
       "      <th>2018-11-09 22:09:43.789049908</th>\n",
       "      <td>0</td>\n",
       "      <td>919.941824</td>\n",
       "      <td>0.0</td>\n",
       "      <td>5</td>\n",
       "      <td>3.000000</td>\n",
       "      <td>0.050617</td>\n",
       "      <td>5.382903e+06</td>\n",
       "      <td>268443</td>\n",
       "      <td>0.028568</td>\n",
       "      <td>646</td>\n",
       "      <td>1</td>\n",
       "      <td>2.703658e+07</td>\n",
       "      <td>20</td>\n",
       "      <td>42</td>\n",
       "      <td>0.305572</td>\n",
       "      <td>POINT (722145.580 5359238.959)</td>\n",
       "      <td>2018-11-09</td>\n",
       "      <td>313</td>\n",
       "      <td>2018.857324</td>\n",
       "      <td>40</td>\n",
       "      <td>0</td>\n",
       "      <td>921.263184</td>\n",
       "      <td>-1.321359</td>\n",
       "      <td>924.401428</td>\n",
       "      <td>-4.459604</td>\n",
       "      <td>21.903059</td>\n",
       "      <td>11.596403</td>\n",
       "      <td>NaN</td>\n",
       "    </tr>\n",
       "  </tbody>\n",
       "</table>\n",
       "</div>"
      ],
      "text/plain": [
       "                               pflags      h_mean  dh_fit_dy  spot  \\\n",
       "time                                                                 \n",
       "2018-11-09 22:09:43.662511060       0  774.110259        0.0     5   \n",
       "2018-11-09 22:09:43.789049908       0  919.941824        0.0     5   \n",
       "\n",
       "                               w_surface_window_final   h_sigma      distance  \\\n",
       "time                                                                            \n",
       "2018-11-09 22:09:43.662511060                9.386548  0.079705  5.382001e+06   \n",
       "2018-11-09 22:09:43.789049908                3.000000  0.050617  5.382903e+06   \n",
       "\n",
       "                               segment_id  dh_fit_dx  rgt  cycle  \\\n",
       "time                                                               \n",
       "2018-11-09 22:09:43.662511060      268398   0.367318  646      1   \n",
       "2018-11-09 22:09:43.789049908      268443   0.028568  646      1   \n",
       "\n",
       "                                 delta_time  gt  n_fit_photons  rms_misfit  \\\n",
       "time                                                                         \n",
       "2018-11-09 22:09:43.662511060  2.703658e+07  20             41    0.506044   \n",
       "2018-11-09 22:09:43.789049908  2.703658e+07  20             42    0.305572   \n",
       "\n",
       "                                                     geometry     acqdate  \\\n",
       "time                                                                        \n",
       "2018-11-09 22:09:43.662511060  POINT (722265.057 5358346.501)  2018-11-09   \n",
       "2018-11-09 22:09:43.789049908  POINT (722145.580 5359238.959)  2018-11-09   \n",
       "\n",
       "                               doy      decyear  dowy snow_presence  \\\n",
       "time                                                                  \n",
       "2018-11-09 22:09:43.662511060  313  2018.857324    40             0   \n",
       "2018-11-09 22:09:43.789049908  313  2018.857324    40             0   \n",
       "\n",
       "                                  lidar_z  difference  lidar_z_20m  \\\n",
       "time                                                                 \n",
       "2018-11-09 22:09:43.662511060         NaN         NaN          NaN   \n",
       "2018-11-09 22:09:43.789049908  921.263184   -1.321359   924.401428   \n",
       "\n",
       "                               difference_20m   slope_3m  slope_20m  \\\n",
       "time                                                                  \n",
       "2018-11-09 22:09:43.662511060             NaN        NaN        NaN   \n",
       "2018-11-09 22:09:43.789049908       -4.459604  21.903059  11.596403   \n",
       "\n",
       "                               slope_100m  \n",
       "time                                       \n",
       "2018-11-09 22:09:43.662511060         NaN  \n",
       "2018-11-09 22:09:43.789049908         NaN  "
      ]
     },
     "execution_count": 65,
     "metadata": {},
     "output_type": "execute_result"
    }
   ],
   "source": [
    "atl06sr_gdf.head(2)"
   ]
  },
  {
   "cell_type": "code",
   "execution_count": null,
   "id": "926317d5-e91a-40fe-ad43-3bf8e6ab061f",
   "metadata": {},
   "outputs": [],
   "source": []
  },
  {
   "cell_type": "code",
   "execution_count": 66,
   "id": "f3faf8ad-c87b-45d2-94c4-e60dc1ba504e",
   "metadata": {},
   "outputs": [
    {
     "name": "stderr",
     "output_type": "stream",
     "text": [
      "/Users/Hannah/opt/miniconda3/envs/analysis_2022/lib/python3.8/site-packages/numpy/lib/function_base.py:4691: UserWarning: Warning: 'partition' will ignore the 'mask' of the MaskedArray.\n",
      "  arr.partition(\n"
     ]
    },
    {
     "data": {
      "text/plain": [
       "count    146647.000000\n",
       "mean         -0.517273\n",
       "std           1.205088\n",
       "min         -21.648634\n",
       "25%          -1.019876\n",
       "50%          -0.375062\n",
       "75%           0.097123\n",
       "max          15.269414\n",
       "Name: difference, dtype: float64"
      ]
     },
     "execution_count": 66,
     "metadata": {},
     "output_type": "execute_result"
    }
   ],
   "source": [
    "atl06sr_gdf['difference'].describe()"
   ]
  },
  {
   "cell_type": "code",
   "execution_count": 67,
   "id": "f79e7ef1-e022-43f5-9974-84c4c407f89d",
   "metadata": {},
   "outputs": [
    {
     "name": "stderr",
     "output_type": "stream",
     "text": [
      "/Users/Hannah/opt/miniconda3/envs/analysis_2022/lib/python3.8/site-packages/numpy/lib/function_base.py:4691: UserWarning: Warning: 'partition' will ignore the 'mask' of the MaskedArray.\n",
      "  arr.partition(\n"
     ]
    },
    {
     "data": {
      "text/plain": [
       "count    146662.000000\n",
       "mean         -0.545213\n",
       "std           2.364963\n",
       "min         -32.482130\n",
       "25%          -1.626569\n",
       "50%          -0.369045\n",
       "75%           0.625908\n",
       "max          26.855712\n",
       "Name: difference_20m, dtype: float64"
      ]
     },
     "execution_count": 67,
     "metadata": {},
     "output_type": "execute_result"
    }
   ],
   "source": [
    "atl06sr_gdf['difference_20m'].describe()"
   ]
  },
  {
   "cell_type": "markdown",
   "id": "2a586141-f43e-4979-ad39-034b59175a59",
   "metadata": {},
   "source": [
    "^ These differences include snow on data. They differ slightly depending on the resolution of the snow off lidar data"
   ]
  },
  {
   "cell_type": "markdown",
   "id": "5f803797-7695-4fc2-b738-6193fe11177d",
   "metadata": {},
   "source": [
    "### 2) Bicubic Interpolation"
   ]
  },
  {
   "cell_type": "code",
   "execution_count": 5,
   "id": "2cdcefa1-9f93-4b84-ac99-b9aec7e3bea4",
   "metadata": {},
   "outputs": [
    {
     "data": {
      "text/plain": [
       "<Geographic 3D CRS: EPSG:4979>\n",
       "Name: WGS 84\n",
       "Axis Info [ellipsoidal]:\n",
       "- Lat[north]: Geodetic latitude (degree)\n",
       "- Lon[east]: Geodetic longitude (degree)\n",
       "- h[up]: Ellipsoidal height (metre)\n",
       "Area of Use:\n",
       "- name: World.\n",
       "- bounds: (-180.0, -90.0, 180.0, 90.0)\n",
       "Datum: World Geodetic System 1984 ensemble\n",
       "- Ellipsoid: WGS 84\n",
       "- Prime Meridian: Greenwich"
      ]
     },
     "execution_count": 5,
     "metadata": {},
     "output_type": "execute_result"
    }
   ],
   "source": [
    "CRS(\"EPSG:4326\").to_3d()"
   ]
  },
  {
   "cell_type": "code",
   "execution_count": 9,
   "id": "74a95da5-8165-40b3-9da1-df90b54c7c58",
   "metadata": {},
   "outputs": [
    {
     "data": {
      "text/plain": [
       "<Projected CRS: PROJCRS[\"NAD83 / UTM zone 10N\",BASEGEOGCRS[\"NAD83\" ...>\n",
       "Name: NAD83 / UTM zone 10N\n",
       "Axis Info [cartesian]:\n",
       "- E[east]: Easting (metre)\n",
       "- N[north]: Northing (metre)\n",
       "- h[up]: Ellipsoidal height (metre)\n",
       "Area of Use:\n",
       "- name: North America - between 126°W and 120°W - onshore and offshore. Canada - British Columbia; Northwest Territories; Yukon. United States (USA) - California; Oregon; Washington.\n",
       "- bounds: (-126.0, 30.54, -119.99, 81.8)\n",
       "Coordinate Operation:\n",
       "- name: UTM zone 10N\n",
       "- method: Transverse Mercator\n",
       "Datum: North American Datum 1983\n",
       "- Ellipsoid: GRS 1980\n",
       "- Prime Meridian: Greenwich"
      ]
     },
     "execution_count": 9,
     "metadata": {},
     "output_type": "execute_result"
    }
   ],
   "source": [
    "CRS(\"EPSG:26910\").to_3d()"
   ]
  },
  {
   "cell_type": "code",
   "execution_count": 11,
   "id": "9287e6ca-a446-43a2-bc40-54953b05ce92",
   "metadata": {},
   "outputs": [
    {
     "data": {
      "text/plain": [
       "(-121.76029620273553, 46.8522969941696, 1000.01)"
      ]
     },
     "execution_count": 11,
     "metadata": {},
     "output_type": "execute_result"
    }
   ],
   "source": [
    "from pyproj import CRS, Transformer\n",
    "\n",
    "transformer_3d = Transformer.from_crs(CRS(\"EPSG:4269\").to_3d(), \n",
    "                                      CRS(\"EPSG:4326\").to_3d(),\n",
    "                                      always_xy=True,)\n",
    "\n",
    "\n",
    "\n",
    "\n",
    "transformer_3d.transform(-121.7603, 46.8523, 1000.01)\n",
    "\n",
    "# transformer = Transformer.from_crs(\"EPSG:4326\", \"EPSG:2056\", always_xy=True)\n",
    "\n",
    "# transformer.transform(8.37909, 47.01987, 1000)\n",
    "# (2671499.8913080636, 1208075.1135782297, 1000.0)\n",
    "\n",
    "# transformer_3d = Transformer.from_crs(\n",
    "\n",
    "#     CRS(\"EPSG:4326\").to_3d(),\n",
    "\n",
    "#     CRS(\"EPSG:2056\").to_3d(),\n",
    "\n",
    "#     always_xy=True,\n",
    "# )\n",
    "\n",
    "# transformer_3d.transform(8.37909, 47.01987, 1000)"
   ]
  },
  {
   "cell_type": "code",
   "execution_count": 27,
   "id": "88859a3a-6bac-4909-ab71-3f95de013b73",
   "metadata": {},
   "outputs": [],
   "source": [
    "coord = [(pt.x, pt.y) for pt in atl06sr_gdf.to_crs(lidar_snowoff_src.crs).geometry]"
   ]
  },
  {
   "cell_type": "markdown",
   "id": "0a65579b-a37e-488d-8e68-a50a12d5dfa6",
   "metadata": {},
   "source": [
    "## Compare the 3dep"
   ]
  },
  {
   "cell_type": "code",
   "execution_count": 15,
   "id": "ea832198-a0bd-4ee1-a818-3da761f40aa6",
   "metadata": {},
   "outputs": [],
   "source": [
    "coord = [(pt.x, pt.y) for pt in dep_gdf.to_crs(lidar_snowoff_src.crs).geometry]\n",
    "\n",
    "bicubic_interp_3dep = core.interpolate(lidar_fn, coord, offset=3, kind='cubic')"
   ]
  },
  {
   "cell_type": "code",
   "execution_count": 16,
   "id": "d2cf15be-5762-42ea-b4f4-fb7d215ba493",
   "metadata": {},
   "outputs": [],
   "source": [
    "dep_gdf['bicubic_lidar_z'] = bicubic_interp_3dep"
   ]
  },
  {
   "cell_type": "code",
   "execution_count": 60,
   "id": "5c3f85ee-56a4-4c69-a9d0-650c42a89b98",
   "metadata": {},
   "outputs": [
    {
     "data": {
      "text/plain": [
       "count    338.000000\n",
       "mean      -0.500028\n",
       "std        2.569377\n",
       "min      -21.067148\n",
       "25%       -1.838787\n",
       "50%       -0.393713\n",
       "75%        0.640161\n",
       "max       12.926314\n",
       "Name: difference_bicubic, dtype: float64"
      ]
     },
     "execution_count": 60,
     "metadata": {},
     "output_type": "execute_result"
    }
   ],
   "source": [
    "dep_gdf['difference_bicubic'].describe()"
   ]
  },
  {
   "cell_type": "code",
   "execution_count": 61,
   "id": "e46304f5-edaf-45a5-9824-4535456b0c53",
   "metadata": {},
   "outputs": [
    {
     "data": {
      "text/plain": [
       "count    340.000000\n",
       "mean      -0.479200\n",
       "std        2.608950\n",
       "min      -31.078445\n",
       "25%       -1.705565\n",
       "50%       -0.346021\n",
       "75%        0.682472\n",
       "max       10.062937\n",
       "Name: difference_3dep, dtype: float64"
      ]
     },
     "execution_count": 61,
     "metadata": {},
     "output_type": "execute_result"
    }
   ],
   "source": [
    "dep_gdf['difference_3dep'].describe()"
   ]
  },
  {
   "cell_type": "code",
   "execution_count": 35,
   "id": "a6c92839-d448-41e5-be44-92387ca91193",
   "metadata": {},
   "outputs": [],
   "source": [
    "dep_gdf['difference_bicubic'] = dep_gdf['h_mean'] - dep_gdf['bicubic_lidar_z']"
   ]
  },
  {
   "cell_type": "code",
   "execution_count": 40,
   "id": "62ca218e-11c0-4ac9-ad04-6c71e65f1b79",
   "metadata": {},
   "outputs": [],
   "source": [
    "dep_gdf = dep_gdf.assign(diff_plus_bicubic = dep_gdf['difference_bicubic'] - (-0.436195635256297))"
   ]
  },
  {
   "cell_type": "code",
   "execution_count": 41,
   "id": "32c8e96e-4125-454f-a893-748a7cba6de7",
   "metadata": {},
   "outputs": [],
   "source": [
    "dep_gdf['difference_3dep'] = dep_gdf['h_mean'] - dep_gdf['3dep']"
   ]
  },
  {
   "cell_type": "code",
   "execution_count": 67,
   "id": "7da0df32-ee8b-407e-a6e9-f7838544015a",
   "metadata": {},
   "outputs": [],
   "source": [
    "dep_gdf['compare_3dep'] = dep_gdf['difference_bicubic'] - dep_gdf['difference_3dep']"
   ]
  },
  {
   "cell_type": "code",
   "execution_count": 68,
   "id": "9fef8fff-962e-471b-ada3-13163d7226ac",
   "metadata": {},
   "outputs": [
    {
     "data": {
      "text/plain": [
       "count    338.000000\n",
       "mean      -0.025796\n",
       "std        1.180365\n",
       "min       -4.522874\n",
       "25%       -0.558769\n",
       "50%       -0.038093\n",
       "75%        0.415120\n",
       "max       10.011297\n",
       "Name: compare_3dep, dtype: float64"
      ]
     },
     "execution_count": 68,
     "metadata": {},
     "output_type": "execute_result"
    }
   ],
   "source": [
    "dep_gdf['compare_3dep'].describe()"
   ]
  },
  {
   "cell_type": "code",
   "execution_count": 28,
   "id": "29eae2dd-2d9c-4cb3-996e-e51319e236a8",
   "metadata": {},
   "outputs": [
    {
     "data": {
      "text/plain": [
       "count     338.000000\n",
       "mean     1619.681926\n",
       "std       362.895766\n",
       "min       918.643372\n",
       "25%      1314.723985\n",
       "50%      1663.623359\n",
       "75%      1947.720467\n",
       "max      2234.270775\n",
       "Name: diff_plus_bicubic, dtype: float64"
      ]
     },
     "execution_count": 28,
     "metadata": {},
     "output_type": "execute_result"
    }
   ],
   "source": [
    "dep_gdf['diff_plus_bicubic'].describe()"
   ]
  },
  {
   "cell_type": "code",
   "execution_count": 30,
   "id": "fb0047fe-b59d-4a33-bc06-1ead9339686a",
   "metadata": {},
   "outputs": [
    {
     "data": {
      "text/plain": [
       "count    338.000000\n",
       "mean       0.461992\n",
       "std        1.180365\n",
       "min       -9.575101\n",
       "25%        0.021075\n",
       "50%        0.474289\n",
       "75%        0.994965\n",
       "max        4.959070\n",
       "Name: dif_bicubic_3dep, dtype: float64"
      ]
     },
     "execution_count": 30,
     "metadata": {},
     "output_type": "execute_result"
    }
   ],
   "source": [
    "dep_gdf['dif_bicubic_3dep'].describe()"
   ]
  },
  {
   "cell_type": "code",
   "execution_count": 43,
   "id": "97d09734-35d3-4de7-9ad5-73865e099ef2",
   "metadata": {},
   "outputs": [
    {
     "data": {
      "text/plain": [
       "<AxesSubplot: >"
      ]
     },
     "execution_count": 43,
     "metadata": {},
     "output_type": "execute_result"
    },
    {
     "data": {
      "image/png": "[encoded data removed]",
      "text/plain": [
       "<Figure size 640x480 with 2 Axes>"
      ]
     },
     "metadata": {},
     "output_type": "display_data"
    }
   ],
   "source": [
    "dep_gdf.plot(column='compare_3dep', legend=True)"
   ]
  },
  {
   "cell_type": "code",
   "execution_count": 44,
   "id": "96e205de-4a45-42bd-ba9b-ea2243097e13",
   "metadata": {},
   "outputs": [
    {
     "data": {
      "text/plain": [
       "(array([ 1.,  0.,  0.,  0.,  0.,  0.,  1.,  2.,  6.,  5., 10., 20., 23.,\n",
       "        31., 51., 56., 48., 29., 13., 23.,  8.,  4.,  3.,  0.,  0.,  1.,\n",
       "         1.,  0.,  0.,  0.,  0.,  0.,  0.,  0.,  0.,  0.,  0.,  0.,  0.,\n",
       "         0.,  0.,  0.,  0.,  0.,  0.,  0.,  0.,  0.,  0.,  2.]),\n",
       " array([-4.08667885, -3.79599542, -3.50531199, -3.21462856, -2.92394513,\n",
       "        -2.63326169, -2.34257826, -2.05189483, -1.7612114 , -1.47052797,\n",
       "        -1.17984454, -0.88916111, -0.59847768, -0.30779425, -0.01711082,\n",
       "         0.27357262,  0.56425605,  0.85493948,  1.14562291,  1.43630634,\n",
       "         1.72698977,  2.0176732 ,  2.30835663,  2.59904006,  2.8897235 ,\n",
       "         3.18040693,  3.47109036,  3.76177379,  4.05245722,  4.34314065,\n",
       "         4.63382408,  4.92450751,  5.21519094,  5.50587437,  5.79655781,\n",
       "         6.08724124,  6.37792467,  6.6686081 ,  6.95929153,  7.24997496,\n",
       "         7.54065839,  7.83134182,  8.12202525,  8.41270869,  8.70339212,\n",
       "         8.99407555,  9.28475898,  9.57544241,  9.86612584, 10.15680927,\n",
       "        10.4474927 ]),\n",
       " <BarContainer object of 50 artists>)"
      ]
     },
     "execution_count": 44,
     "metadata": {},
     "output_type": "execute_result"
    },
    {
     "data": {
      "image/png": "[encoded data removed]",
      "text/plain": [
       "<Figure size 640x480 with 1 Axes>"
      ]
     },
     "metadata": {},
     "output_type": "display_data"
    }
   ],
   "source": [
    "plt.hist(dep_gdf['compare_3dep'], bins=50)"
   ]
  },
  {
   "cell_type": "code",
   "execution_count": 45,
   "id": "a5ef8df2-7a9d-41ed-a7dc-a15e79634042",
   "metadata": {},
   "outputs": [
    {
     "data": {
      "text/plain": [
       "count    338.000000\n",
       "mean       0.410400\n",
       "std        1.180365\n",
       "min       -4.086679\n",
       "25%       -0.122573\n",
       "50%        0.398102\n",
       "75%        0.851316\n",
       "max       10.447493\n",
       "Name: compare_3dep, dtype: float64"
      ]
     },
     "execution_count": 45,
     "metadata": {},
     "output_type": "execute_result"
    }
   ],
   "source": [
    "dep_gdf['compare_3dep'].describe()"
   ]
  },
  {
   "cell_type": "code",
   "execution_count": 64,
   "id": "e0ff687f-758a-41ba-8769-5203b042ed43",
   "metadata": {},
   "outputs": [
    {
     "data": {
      "text/plain": [
       "Text(0.5, 1.0, 'Difference between: ATL06SR - 3dep \\nand ATL06SR - DNR')"
      ]
     },
     "execution_count": 64,
     "metadata": {},
     "output_type": "execute_result"
    },
    {
     "data": {
      "image/png": "[encoded data removed]",
      "text/plain": [
       "<Figure size 640x480 with 1 Axes>"
      ]
     },
     "metadata": {},
     "output_type": "display_data"
    }
   ],
   "source": [
    "fig, ax = plt.subplots()\n",
    "plt.hist((dep_gdf['difference_bicubic'] - dep_gdf['difference_3dep']), bins=50)\n",
    "plt.axvline(x=np.nanmedian(dep_gdf['difference_bicubic'] - dep_gdf['difference_3dep']), color='k')\n",
    "plt.title('Difference between: ATL06SR - 3dep \\nand ATL06SR - DNR')"
   ]
  },
  {
   "cell_type": "code",
   "execution_count": 28,
   "id": "fd96fdd1-2952-4267-b7a1-ea95ea6e9d8d",
   "metadata": {},
   "outputs": [],
   "source": [
    "# This function was written by Friedrich Knuth, UW and is contained in core.py\n",
    "# The sampling technique can be specified, here we use bicubic\n",
    "\n",
    "bicubic_interp = core.interpolate(lidar_fn, coord, offset=3, kind='cubic')"
   ]
  },
  {
   "cell_type": "code",
   "execution_count": 20,
   "id": "ce49a60a-7895-4ffe-9a31-f90300a8d88f",
   "metadata": {},
   "outputs": [
    {
     "data": {
      "text/plain": [
       "array([2501.69532602, 2501.24915136, 2501.22492284, ...,           nan,\n",
       "                 nan,           nan])"
      ]
     },
     "execution_count": 20,
     "metadata": {},
     "output_type": "execute_result"
    }
   ],
   "source": [
    "bicubic_interp"
   ]
  },
  {
   "cell_type": "code",
   "execution_count": 29,
   "id": "f7f277d1-6d3b-4873-affc-ae9799a98b00",
   "metadata": {},
   "outputs": [],
   "source": [
    "atl06sr_gdf['bicubic_lidar_z'] = bicubic_interp"
   ]
  },
  {
   "cell_type": "markdown",
   "id": "572e4fac-071c-487b-bee9-30265d8fe921",
   "metadata": {},
   "source": [
    "### Comparison of the Sampling Methods:"
   ]
  },
  {
   "cell_type": "code",
   "execution_count": 30,
   "id": "82a80a34-430c-4a1e-8d04-5c4ee8d50789",
   "metadata": {},
   "outputs": [],
   "source": [
    "atl06sr_gdf['sampling_dif'] = atl06sr_gdf['lidar_z'] - atl06sr_gdf['bicubic_lidar_z']"
   ]
  },
  {
   "cell_type": "code",
   "execution_count": 31,
   "id": "f12c1448-7647-443a-8674-00e8877124b5",
   "metadata": {},
   "outputs": [
    {
     "name": "stderr",
     "output_type": "stream",
     "text": [
      "/Users/Hannah/opt/miniconda3/envs/analysis_2022/lib/python3.8/site-packages/numpy/lib/function_base.py:4691: UserWarning: Warning: 'partition' will ignore the 'mask' of the MaskedArray.\n",
      "  arr.partition(\n"
     ]
    },
    {
     "data": {
      "text/plain": [
       "count    146613.000000\n",
       "mean          0.000126\n",
       "std           0.102215\n",
       "min          -1.242832\n",
       "25%          -0.048034\n",
       "50%           0.000040\n",
       "75%           0.048072\n",
       "max           2.545810\n",
       "Name: sampling_dif, dtype: float64"
      ]
     },
     "execution_count": 31,
     "metadata": {},
     "output_type": "execute_result"
    }
   ],
   "source": [
    "atl06sr_gdf['sampling_dif'].describe()"
   ]
  },
  {
   "cell_type": "code",
   "execution_count": 33,
   "id": "90d7573c-fd21-4749-a105-5096438eaeea",
   "metadata": {},
   "outputs": [],
   "source": [
    "atl06sr_gdf['difference_bicubic'] = atl06sr_gdf['h_mean'] - atl06sr_gdf['bicubic_lidar_z']"
   ]
  },
  {
   "cell_type": "code",
   "execution_count": 34,
   "id": "055ed798-29bd-4ada-a899-1d21e3f9c885",
   "metadata": {},
   "outputs": [
    {
     "name": "stderr",
     "output_type": "stream",
     "text": [
      "/Users/Hannah/opt/miniconda3/envs/analysis_2022/lib/python3.8/site-packages/numpy/lib/function_base.py:4691: UserWarning: Warning: 'partition' will ignore the 'mask' of the MaskedArray.\n",
      "  arr.partition(\n"
     ]
    },
    {
     "data": {
      "text/plain": [
       "count    146613.000000\n",
       "mean         -0.517175\n",
       "std           1.200843\n",
       "min         -21.067148\n",
       "25%          -1.018944\n",
       "50%          -0.375648\n",
       "75%           0.095410\n",
       "max          15.097490\n",
       "Name: difference_bicubic, dtype: float64"
      ]
     },
     "execution_count": 34,
     "metadata": {},
     "output_type": "execute_result"
    }
   ],
   "source": [
    "atl06sr_gdf['difference_bicubic'].describe()"
   ]
  },
  {
   "cell_type": "markdown",
   "id": "804033b5-0499-4a21-9fd5-5d4be0f26f15",
   "metadata": {},
   "source": [
    "## Remove Offset Between Datasets  \n",
    "* ICESat-2 is measuring the ground surface as slightly below the surface of the DEM.\n",
    "* **Question:** What resolution for the snow off data? Highest resolution looks better, but is it acceptible to use different resolution data?"
   ]
  },
  {
   "cell_type": "markdown",
   "id": "b83186ba-4182-4ec4-bca7-702855fef333",
   "metadata": {
    "tags": []
   },
   "source": [
    "## Filter Outliers  \n",
    "Using David's code  \n",
    "Less concerned about doing this since I use the Median in my anayses"
   ]
  },
  {
   "cell_type": "code",
   "execution_count": 23,
   "id": "e3ec707c-2b78-49c7-8d5a-60248676f20e",
   "metadata": {},
   "outputs": [],
   "source": [
    "atl06sr_gdf = pickle.load(open('../../data/atl06/methow_all_sr-atl06-10172022_processed_bicubic.pkl', 'rb'))"
   ]
  },
  {
   "cell_type": "code",
   "execution_count": 24,
   "id": "03fa4ae3-de5f-463a-84f7-d1df2e6107a9",
   "metadata": {},
   "outputs": [],
   "source": [
    "atl06sr_gdf['zscore'] = (atl06sr_gdf['difference_bicubic'] - atl06sr_gdf['difference_bicubic'].mean()) / atl06sr_gdf['difference_bicubic'].std()\n",
    "\n",
    "zscore_thresh = 3\n",
    "absdiff_thresh = 5.0"
   ]
  },
  {
   "cell_type": "code",
   "execution_count": 25,
   "id": "52325c94-c903-461d-937b-fd407634f47b",
   "metadata": {},
   "outputs": [],
   "source": [
    "# trying to get different zscore values for snow on versus snow off values\n",
    "\n",
    "atl06_idx = (atl06sr_gdf['zscore'].abs() <= zscore_thresh)\n",
    "\n",
    "inner_snowoff_idx = (atl06sr_gdf['zscore'].abs() <= zscore_thresh) & \\\n",
    "    (atl06sr_gdf['difference_bicubic'].abs() <=absdiff_thresh) & \\\n",
    "    (atl06sr_gdf['snow_presence'] == 0)\n",
    "\n",
    "inner_snowon_idx = (atl06sr_gdf['zscore'].abs() <= zscore_thresh) & \\\n",
    "    (atl06sr_gdf['difference_bicubic'].abs() <=absdiff_thresh) & \\\n",
    "    (atl06sr_gdf['snow_presence'] == 1)"
   ]
  },
  {
   "cell_type": "code",
   "execution_count": null,
   "id": "80b2e5a0-f42d-4858-a5a7-fb9a89b20cb2",
   "metadata": {},
   "outputs": [],
   "source": [
    "atl06sr_gdf['difference_bicubic'].describe()"
   ]
  },
  {
   "cell_type": "code",
   "execution_count": 28,
   "id": "adb2cb8e-cf99-47a1-a01a-10db4562c5ff",
   "metadata": {},
   "outputs": [
    {
     "data": {
      "text/plain": [
       "count    146533.000000\n",
       "mean         -0.517483\n",
       "std           1.198546\n",
       "min         -17.800872\n",
       "25%          -1.019377\n",
       "50%          -0.375760\n",
       "75%           0.095302\n",
       "max          15.097490\n",
       "Name: difference_bicubic, dtype: float64"
      ]
     },
     "execution_count": 28,
     "metadata": {},
     "output_type": "execute_result"
    }
   ],
   "source": [
    "atl06sr_gdf['difference_bicubic'].describe()"
   ]
  },
  {
   "cell_type": "code",
   "execution_count": 27,
   "id": "4256f00d-b68f-499a-b69e-d5fc8152db62",
   "metadata": {},
   "outputs": [
    {
     "data": {
      "text/plain": [
       "count    144328.000000\n",
       "mean         -0.483697\n",
       "std           1.038808\n",
       "min          -4.112953\n",
       "25%          -0.990424\n",
       "50%          -0.370530\n",
       "75%           0.094810\n",
       "max           3.074834\n",
       "Name: difference_bicubic, dtype: float64"
      ]
     },
     "execution_count": 27,
     "metadata": {},
     "output_type": "execute_result"
    }
   ],
   "source": [
    "atl06sr_gdf[atl06_idx]['difference_bicubic'].describe()"
   ]
  },
  {
   "cell_type": "code",
   "execution_count": 68,
   "id": "c4516282-3f66-48e7-97df-86ff003345cd",
   "metadata": {},
   "outputs": [
    {
     "data": {
      "text/plain": [
       "count    79932.000000\n",
       "mean        -0.591621\n",
       "std          1.193962\n",
       "min        -21.648634\n",
       "25%         -1.074308\n",
       "50%         -0.439782\n",
       "75%         -0.041374\n",
       "max         15.269414\n",
       "Name: difference, dtype: float64"
      ]
     },
     "execution_count": 68,
     "metadata": {},
     "output_type": "execute_result"
    }
   ],
   "source": [
    "atl06sr_gdf[atl06sr_gdf['snow_presence'] == 0]['difference'].describe()"
   ]
  },
  {
   "cell_type": "code",
   "execution_count": 35,
   "id": "7cfd2c57-85f4-4d02-a1f2-ad65c45195bd",
   "metadata": {},
   "outputs": [
    {
     "data": {
      "text/plain": [
       "count    79916.000000\n",
       "mean        -0.591337\n",
       "std          1.190067\n",
       "min        -21.067148\n",
       "25%         -1.070773\n",
       "50%         -0.440047\n",
       "75%         -0.045103\n",
       "max         15.097490\n",
       "Name: difference_bicubic, dtype: float64"
      ]
     },
     "execution_count": 35,
     "metadata": {},
     "output_type": "execute_result"
    }
   ],
   "source": [
    "atl06sr_gdf[atl06sr_gdf['snow_presence'] == 0]['difference_bicubic'].describe()"
   ]
  },
  {
   "cell_type": "code",
   "execution_count": 69,
   "id": "8d2c5bcb-9651-4424-8035-e2b457179da1",
   "metadata": {},
   "outputs": [
    {
     "data": {
      "text/plain": [
       "count    79933.000000\n",
       "mean        -0.623840\n",
       "std          2.270651\n",
       "min        -32.482130\n",
       "25%         -1.617036\n",
       "50%         -0.435471\n",
       "75%          0.442228\n",
       "max         26.855712\n",
       "Name: difference_20m, dtype: float64"
      ]
     },
     "execution_count": 69,
     "metadata": {},
     "output_type": "execute_result"
    }
   ],
   "source": [
    "atl06sr_gdf[atl06sr_gdf['snow_presence'] == 0]['difference_20m'].describe()"
   ]
  },
  {
   "cell_type": "code",
   "execution_count": 70,
   "id": "2b3b67ba-56c2-4fa1-98b7-3958270d0e41",
   "metadata": {},
   "outputs": [
    {
     "data": {
      "text/plain": [
       "count    79932.000000\n",
       "mean        -0.151839\n",
       "std          1.193962\n",
       "min        -21.208852\n",
       "25%         -0.634525\n",
       "50%          0.000000\n",
       "75%          0.398409\n",
       "max         15.709196\n",
       "Name: diff_plus, dtype: float64"
      ]
     },
     "execution_count": 70,
     "metadata": {},
     "output_type": "execute_result"
    }
   ],
   "source": [
    "atl06sr_gdf['diff_plus'] = atl06sr_gdf['difference'] - atl06sr_gdf[atl06sr_gdf['snow_presence'] == 0]['difference'].median()\n",
    "atl06sr_gdf[atl06sr_gdf['snow_presence'] == 0]['diff_plus'].describe()"
   ]
  },
  {
   "cell_type": "code",
   "execution_count": 15,
   "id": "630fcd47-2435-4335-a598-4ea3c4b7e4c1",
   "metadata": {},
   "outputs": [
    {
     "data": {
      "text/plain": [
       "-0.436195635256297"
      ]
     },
     "execution_count": 15,
     "metadata": {},
     "output_type": "execute_result"
    }
   ],
   "source": [
    "atl06sr_gdf.loc[inner_snowoff_idx,'difference_bicubic'].median()"
   ]
  },
  {
   "cell_type": "code",
   "execution_count": 16,
   "id": "6445daf6-997f-4b4f-b538-e8ee202db741",
   "metadata": {},
   "outputs": [
    {
     "data": {
      "text/plain": [
       "-0.37575965582095705"
      ]
     },
     "execution_count": 16,
     "metadata": {},
     "output_type": "execute_result"
    }
   ],
   "source": [
    "atl06sr_gdf['difference_bicubic'].median()"
   ]
  },
  {
   "cell_type": "code",
   "execution_count": 14,
   "id": "9ff475c3-d9a3-4726-806b-9a533e90cdab",
   "metadata": {},
   "outputs": [
    {
     "data": {
      "text/plain": [
       "count    78596.000000\n",
       "mean        -0.128181\n",
       "std          1.018062\n",
       "min         -3.676757\n",
       "25%         -0.607190\n",
       "50%          0.000000\n",
       "75%          0.388306\n",
       "max          3.511030\n",
       "Name: diff_plus_bicubic, dtype: float64"
      ]
     },
     "execution_count": 14,
     "metadata": {},
     "output_type": "execute_result"
    }
   ],
   "source": [
    "atl06sr_gdf = atl06sr_gdf.assign(diff_plus_bicubic = atl06sr_gdf['difference_bicubic'] - atl06sr_gdf.loc[inner_snowoff_idx,'difference_bicubic'].median()) \n",
    "atl06sr_gdf[inner_snowoff_idx]['diff_plus_bicubic'].describe()"
   ]
  },
  {
   "cell_type": "code",
   "execution_count": 26,
   "id": "4c2a3644-e46d-4ede-808b-c8b84f181411",
   "metadata": {},
   "outputs": [
    {
     "data": {
      "text/plain": [
       "-0.436195635256297"
      ]
     },
     "execution_count": 26,
     "metadata": {},
     "output_type": "execute_result"
    }
   ],
   "source": [
    "atl06sr_gdf.loc[inner_snowoff_idx,'difference_bicubic'].median()"
   ]
  },
  {
   "cell_type": "markdown",
   "id": "0ace4df7-6a8c-4002-9d1d-fefc09e2f19a",
   "metadata": {},
   "source": [
    "### Do the same thing, but for the data differenced from the 20m DTM"
   ]
  },
  {
   "cell_type": "code",
   "execution_count": 71,
   "id": "51929294-6080-4833-87de-e0b1f8866cc3",
   "metadata": {},
   "outputs": [
    {
     "data": {
      "text/plain": [
       "count    79933.000000\n",
       "mean        -0.188369\n",
       "std          2.270651\n",
       "min        -32.046659\n",
       "25%         -1.181565\n",
       "50%          0.000000\n",
       "75%          0.877699\n",
       "max         27.291183\n",
       "Name: diff_plus_20m, dtype: float64"
      ]
     },
     "execution_count": 71,
     "metadata": {},
     "output_type": "execute_result"
    }
   ],
   "source": [
    "atl06sr_gdf['diff_plus_20m'] = atl06sr_gdf['difference_20m'] - atl06sr_gdf[atl06sr_gdf['snow_presence'] == 0]['difference_20m'].median()\n",
    "atl06sr_gdf[atl06sr_gdf['snow_presence'] == 0]['diff_plus_20m'].describe()"
   ]
  },
  {
   "cell_type": "code",
   "execution_count": 72,
   "id": "d289397c-a9ed-4deb-8ff8-cd893e72a307",
   "metadata": {},
   "outputs": [
    {
     "name": "stderr",
     "output_type": "stream",
     "text": [
      "/Users/Hannah/opt/miniconda3/envs/analysis_2022/lib/python3.8/site-packages/numpy/lib/function_base.py:4691: UserWarning: Warning: 'partition' will ignore the 'mask' of the MaskedArray.\n",
      "  arr.partition(\n"
     ]
    },
    {
     "data": {
      "text/plain": [
       "count    146647.000000\n",
       "mean         -0.077491\n",
       "std           1.205088\n",
       "min         -21.208852\n",
       "25%          -0.580094\n",
       "50%           0.064720\n",
       "75%           0.536906\n",
       "max          15.709196\n",
       "Name: diff_plus, dtype: float64"
      ]
     },
     "execution_count": 72,
     "metadata": {},
     "output_type": "execute_result"
    }
   ],
   "source": [
    "atl06sr_gdf['diff_plus'].describe()"
   ]
  },
  {
   "cell_type": "code",
   "execution_count": 73,
   "id": "e65e1a76-4dc4-4f92-984d-a807f4a40909",
   "metadata": {},
   "outputs": [
    {
     "name": "stderr",
     "output_type": "stream",
     "text": [
      "/Users/Hannah/opt/miniconda3/envs/analysis_2022/lib/python3.8/site-packages/numpy/lib/function_base.py:4691: UserWarning: Warning: 'partition' will ignore the 'mask' of the MaskedArray.\n",
      "  arr.partition(\n"
     ]
    },
    {
     "data": {
      "text/plain": [
       "count    146662.000000\n",
       "mean         -0.109742\n",
       "std           2.364963\n",
       "min         -32.046659\n",
       "25%          -1.191098\n",
       "50%           0.066426\n",
       "75%           1.061379\n",
       "max          27.291183\n",
       "Name: diff_plus_20m, dtype: float64"
      ]
     },
     "execution_count": 73,
     "metadata": {},
     "output_type": "execute_result"
    }
   ],
   "source": [
    "atl06sr_gdf['diff_plus_20m'].describe()"
   ]
  },
  {
   "cell_type": "markdown",
   "id": "0bd228b9-f2b6-4cff-97f7-ef3a1a0d6e82",
   "metadata": {},
   "source": [
    "### And again, for the low slope values"
   ]
  },
  {
   "cell_type": "code",
   "execution_count": 13,
   "id": "c58bf068-ab53-4823-962d-231d4db88eb6",
   "metadata": {},
   "outputs": [],
   "source": [
    "atl06sr_gdf = pickle.load(open('../../data/atl06/methow_all_sr-atl06-10172022_processed.pkl', 'rb'))"
   ]
  },
  {
   "cell_type": "code",
   "execution_count": 15,
   "id": "7be59f2f-f16a-47b5-bae8-06525711cb2d",
   "metadata": {},
   "outputs": [
    {
     "data": {
      "text/plain": [
       "count    79932.000000\n",
       "mean        -0.239075\n",
       "std          1.193962\n",
       "min        -21.296088\n",
       "25%         -0.721762\n",
       "50%         -0.087236\n",
       "75%          0.311172\n",
       "max         15.621959\n",
       "Name: diff_plus_lowslope, dtype: float64"
      ]
     },
     "execution_count": 15,
     "metadata": {},
     "output_type": "execute_result"
    }
   ],
   "source": [
    "atl06sr_gdf['diff_plus_lowslope'] = atl06sr_gdf['difference'] - atl06sr_gdf[(atl06sr_gdf['snow_presence'] == 0) & (atl06sr_gdf['slope_20m'] < 10)]['difference'].median()\n",
    "atl06sr_gdf[(atl06sr_gdf['snow_presence'] == 0) & (atl06sr_gdf['slope_20m'] < 10)]['diff_plus_lowslope'].describe()"
   ]
  },
  {
   "cell_type": "code",
   "execution_count": 17,
   "id": "16b27f62-05e2-4980-b948-a5e47c63a98b",
   "metadata": {},
   "outputs": [
    {
     "data": {
      "text/plain": [
       "count    27189.000000\n",
       "mean        -0.012904\n",
       "std          0.544310\n",
       "min         -8.496083\n",
       "25%         -0.204390\n",
       "50%          0.000000\n",
       "75%          0.198143\n",
       "max          6.882008\n",
       "Name: diff_plus_lowslope, dtype: float64"
      ]
     },
     "execution_count": 17,
     "metadata": {},
     "output_type": "execute_result"
    }
   ],
   "source": [
    "atl06sr_gdf[(atl06sr_gdf['snow_presence'] == 0) & (atl06sr_gdf['slope_20m'] < 10)]['diff_plus_lowslope'].describe()"
   ]
  },
  {
   "cell_type": "code",
   "execution_count": 18,
   "id": "95c42c61-c3b7-4559-8e61-89341e19b6d0",
   "metadata": {},
   "outputs": [
    {
     "name": "stderr",
     "output_type": "stream",
     "text": [
      "/Users/Hannah/opt/miniconda3/envs/analysis_2022/lib/python3.8/site-packages/numpy/lib/function_base.py:4691: UserWarning: Warning: 'partition' will ignore the 'mask' of the MaskedArray.\n",
      "  arr.partition(\n"
     ]
    },
    {
     "data": {
      "text/plain": [
       "count    146647.000000\n",
       "mean         -0.164727\n",
       "std           1.205088\n",
       "min         -21.296088\n",
       "25%          -0.667330\n",
       "50%          -0.022517\n",
       "75%           0.449669\n",
       "max          15.621959\n",
       "Name: diff_plus_lowslope, dtype: float64"
      ]
     },
     "execution_count": 18,
     "metadata": {},
     "output_type": "execute_result"
    }
   ],
   "source": [
    "atl06sr_gdf['diff_plus_lowslope'].describe()"
   ]
  },
  {
   "cell_type": "code",
   "execution_count": 16,
   "id": "e1c65c5e-af3a-4508-bfc8-94206448f81e",
   "metadata": {},
   "outputs": [
    {
     "data": {
      "text/plain": [
       "count    27189.000000\n",
       "mean        -0.365450\n",
       "std          0.544310\n",
       "min         -8.848629\n",
       "25%         -0.556935\n",
       "50%         -0.352546\n",
       "75%         -0.154402\n",
       "max          6.529462\n",
       "Name: difference, dtype: float64"
      ]
     },
     "execution_count": 16,
     "metadata": {},
     "output_type": "execute_result"
    }
   ],
   "source": [
    "atl06sr_gdf[(atl06sr_gdf['snow_presence'] == 0) & (atl06sr_gdf['slope_20m'] < 10)]['difference'].describe()"
   ]
  },
  {
   "cell_type": "code",
   "execution_count": 74,
   "id": "2e193b82-b656-4107-b7c9-f8018566a6db",
   "metadata": {},
   "outputs": [
    {
     "data": {
      "text/plain": [
       "Text(0.5, 1.0, '20m')"
      ]
     },
     "execution_count": 74,
     "metadata": {},
     "output_type": "execute_result"
    },
    {
     "data": {
      "image/png": "[encoded data removed]",
      "text/plain": [
       "<Figure size 640x480 with 4 Axes>"
      ]
     },
     "metadata": {},
     "output_type": "display_data"
    }
   ],
   "source": [
    "fig, ax = plt.subplots(1,4, sharey=True)\n",
    "atl06sr_gdf[atl06sr_gdf['snow_presence'] == 0].boxplot(column=['difference'], showfliers=False, ax=ax[0])\n",
    "atl06sr_gdf[atl06sr_gdf['snow_presence'] == 0].boxplot(column=['difference_20m'], showfliers=False, ax=ax[1])\n",
    "atl06sr_gdf.boxplot(column=['diff_plus'], showfliers=False, ax=ax[2])\n",
    "atl06sr_gdf.boxplot(column=['diff_plus_20m'], showfliers=False, ax=ax[3])\n",
    "ax[0].set_ylabel('ATL06SR - ASO Snow Off (m)')\n",
    "fig.suptitle('Snow Off | All Data')\n",
    "ax[0].set_title('3m')\n",
    "ax[1].set_title('20m')\n",
    "ax[2].set_title('3m')\n",
    "ax[3].set_title('20m')"
   ]
  },
  {
   "cell_type": "code",
   "execution_count": 38,
   "id": "6ce34d58-402d-4440-8d88-733842143c02",
   "metadata": {},
   "outputs": [
    {
     "data": {
      "text/plain": [
       "Text(0.5, 0, 'dif_plus')"
      ]
     },
     "execution_count": 38,
     "metadata": {},
     "output_type": "execute_result"
    },
    {
     "data": {
      "image/png": "[encoded data removed]",
      "text/plain": [
       "<Figure size 640x480 with 4 Axes>"
      ]
     },
     "metadata": {},
     "output_type": "display_data"
    }
   ],
   "source": [
    "fig, ax = plt.subplots(1,4, sharey=True)\n",
    "atl06sr_gdf[atl06sr_gdf['snow_presence'] == 0].boxplot(column=['difference'], showfliers=False, ax=ax[0])\n",
    "atl06sr_gdf[atl06sr_gdf['snow_presence'] == 0].boxplot(column=['difference_bicubic'], showfliers=False, ax=ax[1])\n",
    "atl06sr_gdf.boxplot(column=['diff_plus'], showfliers=False, ax=ax[2])\n",
    "atl06sr_gdf.boxplot(column=['diff_plus_bicubic'], showfliers=False, ax=ax[3])\n",
    "ax[0].set_ylabel('ATL06SR - DTM (m)')\n",
    "fig.suptitle('Snow Off | All Data')\n",
    "ax[0].set_title('nn')\n",
    "ax[0].set_xlabel('dif')\n",
    "ax[1].set_title('cub')\n",
    "ax[1].set_xlabel('dif')\n",
    "ax[2].set_title('nn')\n",
    "ax[2].set_xlabel('dif_plus')\n",
    "ax[3].set_title('cub')\n",
    "ax[3].set_xlabel('dif_plus')"
   ]
  },
  {
   "cell_type": "markdown",
   "id": "5844270f-59bb-42f1-b7a9-50c6b4c0486c",
   "metadata": {},
   "source": [
    "## Remove Dates with N < 30"
   ]
  },
  {
   "cell_type": "code",
   "execution_count": 40,
   "id": "4d52fd96-f3df-48cc-b91e-1e1d33d7d8b1",
   "metadata": {},
   "outputs": [],
   "source": [
    "atl06sr_gdf = pickle.load(open('../../data/atl06/methow_all_sr-atl06-10172022_processed_bicubic.pkl', 'rb'))"
   ]
  },
  {
   "cell_type": "code",
   "execution_count": 41,
   "id": "1e9e2265-78bf-4a9b-80c6-89c7c01990b6",
   "metadata": {},
   "outputs": [],
   "source": [
    "atl06sr_gdf['n'] = atl06sr_gdf.groupby('acqdate')['acqdate'].transform('count')"
   ]
  },
  {
   "cell_type": "code",
   "execution_count": 43,
   "id": "80350647-526b-44bb-aa21-eb4928b90f74",
   "metadata": {},
   "outputs": [
    {
     "data": {
      "text/html": [
       "<div>\n",
       "<style scoped>\n",
       "    .dataframe tbody tr th:only-of-type {\n",
       "        vertical-align: middle;\n",
       "    }\n",
       "\n",
       "    .dataframe tbody tr th {\n",
       "        vertical-align: top;\n",
       "    }\n",
       "\n",
       "    .dataframe thead th {\n",
       "        text-align: right;\n",
       "    }\n",
       "</style>\n",
       "<table border=\"1\" class=\"dataframe\">\n",
       "  <thead>\n",
       "    <tr style=\"text-align: right;\">\n",
       "      <th></th>\n",
       "      <th>pflags</th>\n",
       "      <th>h_mean</th>\n",
       "      <th>dh_fit_dy</th>\n",
       "      <th>spot</th>\n",
       "      <th>w_surface_window_final</th>\n",
       "      <th>h_sigma</th>\n",
       "      <th>distance</th>\n",
       "      <th>segment_id</th>\n",
       "      <th>dh_fit_dx</th>\n",
       "      <th>rgt</th>\n",
       "      <th>cycle</th>\n",
       "      <th>delta_time</th>\n",
       "      <th>gt</th>\n",
       "      <th>n_fit_photons</th>\n",
       "      <th>rms_misfit</th>\n",
       "      <th>geometry</th>\n",
       "      <th>acqdate</th>\n",
       "      <th>doy</th>\n",
       "      <th>decyear</th>\n",
       "      <th>dowy</th>\n",
       "      <th>snow_presence</th>\n",
       "      <th>lidar_z</th>\n",
       "      <th>difference</th>\n",
       "      <th>lidar_z_20m</th>\n",
       "      <th>difference_20m</th>\n",
       "      <th>slope_3m</th>\n",
       "      <th>slope_20m</th>\n",
       "      <th>slope_100m</th>\n",
       "      <th>diff_plus</th>\n",
       "      <th>diff_plus_20m</th>\n",
       "      <th>zscore</th>\n",
       "      <th>n</th>\n",
       "      <th>diff_plus_lowslope</th>\n",
       "      <th>bicubic_lidar_z</th>\n",
       "      <th>sampling_dif</th>\n",
       "      <th>difference_bicubic</th>\n",
       "      <th>diff_plus_bicubic</th>\n",
       "    </tr>\n",
       "    <tr>\n",
       "      <th>time</th>\n",
       "      <th></th>\n",
       "      <th></th>\n",
       "      <th></th>\n",
       "      <th></th>\n",
       "      <th></th>\n",
       "      <th></th>\n",
       "      <th></th>\n",
       "      <th></th>\n",
       "      <th></th>\n",
       "      <th></th>\n",
       "      <th></th>\n",
       "      <th></th>\n",
       "      <th></th>\n",
       "      <th></th>\n",
       "      <th></th>\n",
       "      <th></th>\n",
       "      <th></th>\n",
       "      <th></th>\n",
       "      <th></th>\n",
       "      <th></th>\n",
       "      <th></th>\n",
       "      <th></th>\n",
       "      <th></th>\n",
       "      <th></th>\n",
       "      <th></th>\n",
       "      <th></th>\n",
       "      <th></th>\n",
       "      <th></th>\n",
       "      <th></th>\n",
       "      <th></th>\n",
       "      <th></th>\n",
       "      <th></th>\n",
       "      <th></th>\n",
       "      <th></th>\n",
       "      <th></th>\n",
       "      <th></th>\n",
       "      <th></th>\n",
       "    </tr>\n",
       "  </thead>\n",
       "  <tbody>\n",
       "    <tr>\n",
       "      <th>2018-11-09 22:09:43.662511060</th>\n",
       "      <td>0</td>\n",
       "      <td>774.110259</td>\n",
       "      <td>0.0</td>\n",
       "      <td>5</td>\n",
       "      <td>9.386548</td>\n",
       "      <td>0.079705</td>\n",
       "      <td>5.382001e+06</td>\n",
       "      <td>268398</td>\n",
       "      <td>0.367318</td>\n",
       "      <td>646</td>\n",
       "      <td>1</td>\n",
       "      <td>2.703658e+07</td>\n",
       "      <td>20</td>\n",
       "      <td>41</td>\n",
       "      <td>0.506044</td>\n",
       "      <td>POINT (722265.057 5358346.501)</td>\n",
       "      <td>2018-11-09</td>\n",
       "      <td>313</td>\n",
       "      <td>2018.857324</td>\n",
       "      <td>40</td>\n",
       "      <td>0</td>\n",
       "      <td>NaN</td>\n",
       "      <td>NaN</td>\n",
       "      <td>NaN</td>\n",
       "      <td>NaN</td>\n",
       "      <td>NaN</td>\n",
       "      <td>NaN</td>\n",
       "      <td>NaN</td>\n",
       "      <td>NaN</td>\n",
       "      <td>NaN</td>\n",
       "      <td>NaN</td>\n",
       "      <td>1496</td>\n",
       "      <td>NaN</td>\n",
       "      <td>NaN</td>\n",
       "      <td>NaN</td>\n",
       "      <td>NaN</td>\n",
       "      <td>NaN</td>\n",
       "    </tr>\n",
       "    <tr>\n",
       "      <th>2018-11-09 22:09:43.789049908</th>\n",
       "      <td>0</td>\n",
       "      <td>919.941824</td>\n",
       "      <td>0.0</td>\n",
       "      <td>5</td>\n",
       "      <td>3.000000</td>\n",
       "      <td>0.050617</td>\n",
       "      <td>5.382903e+06</td>\n",
       "      <td>268443</td>\n",
       "      <td>0.028568</td>\n",
       "      <td>646</td>\n",
       "      <td>1</td>\n",
       "      <td>2.703658e+07</td>\n",
       "      <td>20</td>\n",
       "      <td>42</td>\n",
       "      <td>0.305572</td>\n",
       "      <td>POINT (722145.580 5359238.959)</td>\n",
       "      <td>2018-11-09</td>\n",
       "      <td>313</td>\n",
       "      <td>2018.857324</td>\n",
       "      <td>40</td>\n",
       "      <td>0</td>\n",
       "      <td>921.263184</td>\n",
       "      <td>-1.321359</td>\n",
       "      <td>924.401428</td>\n",
       "      <td>-4.459604</td>\n",
       "      <td>21.903059</td>\n",
       "      <td>11.596403</td>\n",
       "      <td>NaN</td>\n",
       "      <td>-0.881577</td>\n",
       "      <td>-4.024133</td>\n",
       "      <td>-0.667243</td>\n",
       "      <td>1496</td>\n",
       "      <td>-0.968813</td>\n",
       "      <td>921.309377</td>\n",
       "      <td>-0.046193</td>\n",
       "      <td>-1.367552</td>\n",
       "      <td>-0.927506</td>\n",
       "    </tr>\n",
       "    <tr>\n",
       "      <th>2018-11-09 22:09:43.794872008</th>\n",
       "      <td>0</td>\n",
       "      <td>918.460968</td>\n",
       "      <td>0.0</td>\n",
       "      <td>5</td>\n",
       "      <td>3.029108</td>\n",
       "      <td>0.046853</td>\n",
       "      <td>5.382943e+06</td>\n",
       "      <td>268445</td>\n",
       "      <td>-0.116342</td>\n",
       "      <td>646</td>\n",
       "      <td>1</td>\n",
       "      <td>2.703658e+07</td>\n",
       "      <td>20</td>\n",
       "      <td>31</td>\n",
       "      <td>0.240537</td>\n",
       "      <td>POINT (722140.182 5359280.079)</td>\n",
       "      <td>2018-11-09</td>\n",
       "      <td>313</td>\n",
       "      <td>2018.857324</td>\n",
       "      <td>40</td>\n",
       "      <td>0</td>\n",
       "      <td>920.253967</td>\n",
       "      <td>-1.792999</td>\n",
       "      <td>916.323120</td>\n",
       "      <td>2.137848</td>\n",
       "      <td>20.189816</td>\n",
       "      <td>19.377096</td>\n",
       "      <td>17.052359</td>\n",
       "      <td>-1.353217</td>\n",
       "      <td>2.573319</td>\n",
       "      <td>-1.058617</td>\n",
       "      <td>1496</td>\n",
       "      <td>-1.440454</td>\n",
       "      <td>920.302309</td>\n",
       "      <td>-0.048342</td>\n",
       "      <td>-1.841341</td>\n",
       "      <td>-1.401294</td>\n",
       "    </tr>\n",
       "    <tr>\n",
       "      <th>2018-11-09 22:09:43.797684372</th>\n",
       "      <td>0</td>\n",
       "      <td>916.399163</td>\n",
       "      <td>0.0</td>\n",
       "      <td>5</td>\n",
       "      <td>3.000000</td>\n",
       "      <td>0.059160</td>\n",
       "      <td>5.382963e+06</td>\n",
       "      <td>268446</td>\n",
       "      <td>-0.091024</td>\n",
       "      <td>646</td>\n",
       "      <td>1</td>\n",
       "      <td>2.703658e+07</td>\n",
       "      <td>20</td>\n",
       "      <td>39</td>\n",
       "      <td>0.325805</td>\n",
       "      <td>POINT (722137.582 5359299.951)</td>\n",
       "      <td>2018-11-09</td>\n",
       "      <td>313</td>\n",
       "      <td>2018.857324</td>\n",
       "      <td>40</td>\n",
       "      <td>0</td>\n",
       "      <td>916.869568</td>\n",
       "      <td>-0.470405</td>\n",
       "      <td>916.078796</td>\n",
       "      <td>0.320367</td>\n",
       "      <td>10.068434</td>\n",
       "      <td>15.654634</td>\n",
       "      <td>17.052359</td>\n",
       "      <td>-0.030623</td>\n",
       "      <td>0.755838</td>\n",
       "      <td>0.038892</td>\n",
       "      <td>1496</td>\n",
       "      <td>-0.117859</td>\n",
       "      <td>916.932254</td>\n",
       "      <td>-0.062686</td>\n",
       "      <td>-0.533091</td>\n",
       "      <td>-0.093044</td>\n",
       "    </tr>\n",
       "    <tr>\n",
       "      <th>2018-11-09 22:09:43.800494952</th>\n",
       "      <td>0</td>\n",
       "      <td>915.721672</td>\n",
       "      <td>0.0</td>\n",
       "      <td>5</td>\n",
       "      <td>3.000000</td>\n",
       "      <td>0.038990</td>\n",
       "      <td>5.382983e+06</td>\n",
       "      <td>268447</td>\n",
       "      <td>-0.027886</td>\n",
       "      <td>646</td>\n",
       "      <td>1</td>\n",
       "      <td>2.703658e+07</td>\n",
       "      <td>20</td>\n",
       "      <td>40</td>\n",
       "      <td>0.245902</td>\n",
       "      <td>POINT (722134.962 5359319.820)</td>\n",
       "      <td>2018-11-09</td>\n",
       "      <td>313</td>\n",
       "      <td>2018.857324</td>\n",
       "      <td>40</td>\n",
       "      <td>0</td>\n",
       "      <td>917.229431</td>\n",
       "      <td>-1.507760</td>\n",
       "      <td>916.709717</td>\n",
       "      <td>-0.988045</td>\n",
       "      <td>7.963524</td>\n",
       "      <td>12.223098</td>\n",
       "      <td>17.052359</td>\n",
       "      <td>-1.067977</td>\n",
       "      <td>-0.552574</td>\n",
       "      <td>-0.821921</td>\n",
       "      <td>1496</td>\n",
       "      <td>-1.155214</td>\n",
       "      <td>917.339460</td>\n",
       "      <td>-0.110029</td>\n",
       "      <td>-1.617788</td>\n",
       "      <td>-1.177742</td>\n",
       "    </tr>\n",
       "  </tbody>\n",
       "</table>\n",
       "</div>"
      ],
      "text/plain": [
       "                               pflags      h_mean  dh_fit_dy  spot  \\\n",
       "time                                                                 \n",
       "2018-11-09 22:09:43.662511060       0  774.110259        0.0     5   \n",
       "2018-11-09 22:09:43.789049908       0  919.941824        0.0     5   \n",
       "2018-11-09 22:09:43.794872008       0  918.460968        0.0     5   \n",
       "2018-11-09 22:09:43.797684372       0  916.399163        0.0     5   \n",
       "2018-11-09 22:09:43.800494952       0  915.721672        0.0     5   \n",
       "\n",
       "                               w_surface_window_final   h_sigma      distance  \\\n",
       "time                                                                            \n",
       "2018-11-09 22:09:43.662511060                9.386548  0.079705  5.382001e+06   \n",
       "2018-11-09 22:09:43.789049908                3.000000  0.050617  5.382903e+06   \n",
       "2018-11-09 22:09:43.794872008                3.029108  0.046853  5.382943e+06   \n",
       "2018-11-09 22:09:43.797684372                3.000000  0.059160  5.382963e+06   \n",
       "2018-11-09 22:09:43.800494952                3.000000  0.038990  5.382983e+06   \n",
       "\n",
       "                               segment_id  dh_fit_dx  rgt  cycle  \\\n",
       "time                                                               \n",
       "2018-11-09 22:09:43.662511060      268398   0.367318  646      1   \n",
       "2018-11-09 22:09:43.789049908      268443   0.028568  646      1   \n",
       "2018-11-09 22:09:43.794872008      268445  -0.116342  646      1   \n",
       "2018-11-09 22:09:43.797684372      268446  -0.091024  646      1   \n",
       "2018-11-09 22:09:43.800494952      268447  -0.027886  646      1   \n",
       "\n",
       "                                 delta_time  gt  n_fit_photons  rms_misfit  \\\n",
       "time                                                                         \n",
       "2018-11-09 22:09:43.662511060  2.703658e+07  20             41    0.506044   \n",
       "2018-11-09 22:09:43.789049908  2.703658e+07  20             42    0.305572   \n",
       "2018-11-09 22:09:43.794872008  2.703658e+07  20             31    0.240537   \n",
       "2018-11-09 22:09:43.797684372  2.703658e+07  20             39    0.325805   \n",
       "2018-11-09 22:09:43.800494952  2.703658e+07  20             40    0.245902   \n",
       "\n",
       "                                                     geometry     acqdate  \\\n",
       "time                                                                        \n",
       "2018-11-09 22:09:43.662511060  POINT (722265.057 5358346.501)  2018-11-09   \n",
       "2018-11-09 22:09:43.789049908  POINT (722145.580 5359238.959)  2018-11-09   \n",
       "2018-11-09 22:09:43.794872008  POINT (722140.182 5359280.079)  2018-11-09   \n",
       "2018-11-09 22:09:43.797684372  POINT (722137.582 5359299.951)  2018-11-09   \n",
       "2018-11-09 22:09:43.800494952  POINT (722134.962 5359319.820)  2018-11-09   \n",
       "\n",
       "                               doy      decyear  dowy snow_presence  \\\n",
       "time                                                                  \n",
       "2018-11-09 22:09:43.662511060  313  2018.857324    40             0   \n",
       "2018-11-09 22:09:43.789049908  313  2018.857324    40             0   \n",
       "2018-11-09 22:09:43.794872008  313  2018.857324    40             0   \n",
       "2018-11-09 22:09:43.797684372  313  2018.857324    40             0   \n",
       "2018-11-09 22:09:43.800494952  313  2018.857324    40             0   \n",
       "\n",
       "                                  lidar_z  difference  lidar_z_20m  \\\n",
       "time                                                                 \n",
       "2018-11-09 22:09:43.662511060         NaN         NaN          NaN   \n",
       "2018-11-09 22:09:43.789049908  921.263184   -1.321359   924.401428   \n",
       "2018-11-09 22:09:43.794872008  920.253967   -1.792999   916.323120   \n",
       "2018-11-09 22:09:43.797684372  916.869568   -0.470405   916.078796   \n",
       "2018-11-09 22:09:43.800494952  917.229431   -1.507760   916.709717   \n",
       "\n",
       "                               difference_20m   slope_3m  slope_20m  \\\n",
       "time                                                                  \n",
       "2018-11-09 22:09:43.662511060             NaN        NaN        NaN   \n",
       "2018-11-09 22:09:43.789049908       -4.459604  21.903059  11.596403   \n",
       "2018-11-09 22:09:43.794872008        2.137848  20.189816  19.377096   \n",
       "2018-11-09 22:09:43.797684372        0.320367  10.068434  15.654634   \n",
       "2018-11-09 22:09:43.800494952       -0.988045   7.963524  12.223098   \n",
       "\n",
       "                               slope_100m  diff_plus  diff_plus_20m    zscore  \\\n",
       "time                                                                            \n",
       "2018-11-09 22:09:43.662511060         NaN        NaN            NaN       NaN   \n",
       "2018-11-09 22:09:43.789049908         NaN  -0.881577      -4.024133 -0.667243   \n",
       "2018-11-09 22:09:43.794872008   17.052359  -1.353217       2.573319 -1.058617   \n",
       "2018-11-09 22:09:43.797684372   17.052359  -0.030623       0.755838  0.038892   \n",
       "2018-11-09 22:09:43.800494952   17.052359  -1.067977      -0.552574 -0.821921   \n",
       "\n",
       "                                  n  diff_plus_lowslope  bicubic_lidar_z  \\\n",
       "time                                                                       \n",
       "2018-11-09 22:09:43.662511060  1496                 NaN              NaN   \n",
       "2018-11-09 22:09:43.789049908  1496           -0.968813       921.309377   \n",
       "2018-11-09 22:09:43.794872008  1496           -1.440454       920.302309   \n",
       "2018-11-09 22:09:43.797684372  1496           -0.117859       916.932254   \n",
       "2018-11-09 22:09:43.800494952  1496           -1.155214       917.339460   \n",
       "\n",
       "                               sampling_dif  difference_bicubic  \\\n",
       "time                                                              \n",
       "2018-11-09 22:09:43.662511060           NaN                 NaN   \n",
       "2018-11-09 22:09:43.789049908     -0.046193           -1.367552   \n",
       "2018-11-09 22:09:43.794872008     -0.048342           -1.841341   \n",
       "2018-11-09 22:09:43.797684372     -0.062686           -0.533091   \n",
       "2018-11-09 22:09:43.800494952     -0.110029           -1.617788   \n",
       "\n",
       "                               diff_plus_bicubic  \n",
       "time                                              \n",
       "2018-11-09 22:09:43.662511060                NaN  \n",
       "2018-11-09 22:09:43.789049908          -0.927506  \n",
       "2018-11-09 22:09:43.794872008          -1.401294  \n",
       "2018-11-09 22:09:43.797684372          -0.093044  \n",
       "2018-11-09 22:09:43.800494952          -1.177742  "
      ]
     },
     "execution_count": 43,
     "metadata": {},
     "output_type": "execute_result"
    }
   ],
   "source": [
    "atl06sr_gdf.head()"
   ]
  },
  {
   "cell_type": "code",
   "execution_count": 44,
   "id": "2b825435-9f73-4013-a343-efebc6117594",
   "metadata": {},
   "outputs": [],
   "source": [
    "atl06sr_gdf = atl06sr_gdf[atl06sr_gdf['n'] > 30]"
   ]
  },
  {
   "cell_type": "markdown",
   "id": "08fa2b46-3847-413b-aafa-c39cfed795b0",
   "metadata": {
    "tags": []
   },
   "source": [
    "### Bicubic Interpolation of 20m Slope"
   ]
  },
  {
   "cell_type": "code",
   "execution_count": null,
   "id": "8e9cad59-6f5e-4f37-a548-29287450a00c",
   "metadata": {},
   "outputs": [],
   "source": [
    "slope_fn_20m = '../../data/lidar/methow/dtm/methow_basin_2018_dtm_combined_32610_20m_slope.tif'\n",
    "src_slo_20m = rio.open(slope_fn_20m)"
   ]
  },
  {
   "cell_type": "code",
   "execution_count": 20,
   "id": "6d6cac8f-502d-47e8-85ff-e328b237d8a8",
   "metadata": {},
   "outputs": [],
   "source": [
    "coord = [(pt.x, pt.y) for pt in atl06sr_gdf.to_crs(src_slo_20m.crs).geometry]"
   ]
  },
  {
   "cell_type": "code",
   "execution_count": 21,
   "id": "2d454216-8517-417d-9d44-da504a0a5a63",
   "metadata": {},
   "outputs": [],
   "source": [
    "# This function was written by Friedrich Knuth, UW and is contained in core.py\n",
    "# The sampling technique can be specified, here we use bicubic\n",
    "\n",
    "bicubic_interp = core.interpolate(slope_fn_20m, coord, offset=3, kind='cubic')"
   ]
  },
  {
   "cell_type": "code",
   "execution_count": 22,
   "id": "1a03ee18-7aad-405f-8a8c-cff9318eaeeb",
   "metadata": {},
   "outputs": [
    {
     "data": {
      "text/plain": [
       "array([        nan, 16.22180619, 14.96193022, ...,  8.17363462,\n",
       "        5.49520709, 15.47154646])"
      ]
     },
     "execution_count": 22,
     "metadata": {},
     "output_type": "execute_result"
    }
   ],
   "source": [
    "bicubic_interp"
   ]
  },
  {
   "cell_type": "code",
   "execution_count": 23,
   "id": "d03a07bd-505b-43c6-87e2-a76957b175d4",
   "metadata": {},
   "outputs": [],
   "source": [
    "atl06sr_gdf['median_slope20d'] = bicubic_interp"
   ]
  },
  {
   "cell_type": "markdown",
   "id": "0b97e2c6-5e1e-42d4-b079-6d9a40213b33",
   "metadata": {
    "tags": []
   },
   "source": [
    "# Save a file with all the sampled data  "
   ]
  },
  {
   "cell_type": "code",
   "execution_count": 26,
   "id": "66fddcb3-6913-4665-8901-500e0118ee4b",
   "metadata": {},
   "outputs": [],
   "source": [
    "atl06sr_out_fn = '../../data/atl06/methow_all_sr-atl06-10172022_processed_bicubic.pkl'\n",
    "\n",
    "with open(atl06sr_out_fn, 'wb') as f:\n",
    "    pickle.dump(atl06sr_gdf, f)"
   ]
  },
  {
   "cell_type": "markdown",
   "id": "cb10b6b3-cd61-4988-b1b5-84d64ac00fd3",
   "metadata": {},
   "source": [
    "### This is as far as I've gotten with the bicubic resampling"
   ]
  },
  {
   "cell_type": "markdown",
   "id": "adf1f05f-d378-4ce7-ae77-c6616cdaaab1",
   "metadata": {
    "tags": []
   },
   "source": [
    "## Filter Outliers  \n",
    "Using David's code  \n",
    "Less concerned about doing this since I use the Median in my anayses"
   ]
  },
  {
   "cell_type": "code",
   "execution_count": 75,
   "id": "8978d7f8-0a40-4c59-bb12-05bcd7d60e83",
   "metadata": {},
   "outputs": [],
   "source": [
    "atl06sr_gdf['zscore'] = (atl06sr_gdf['diff_plus'] - atl06sr_gdf['diff_plus'].mean()) / atl06sr_gdf['diff_plus'].std()\n",
    "\n",
    "zscore_thresh = 3\n",
    "absdiff_thresh = 5.0"
   ]
  },
  {
   "cell_type": "code",
   "execution_count": 76,
   "id": "70b97b35-3bdd-4f54-8665-286a696355d0",
   "metadata": {},
   "outputs": [],
   "source": [
    "atl06_idx = (atl06sr_gdf['zscore'].abs() <= zscore_thresh) & (atl06sr_gdf['diff_plus'].abs() <= absdiff_thresh)\n",
    "\n",
    "inner_snowoff_idx = (atl06sr_gdf['zscore'].abs() <= zscore_thresh) & \\\n",
    "    (atl06sr_gdf['diff_plus'].abs() <= absdiff_thresh) & \\\n",
    "    (atl06sr_gdf['snow_presence'] == 0)\n",
    "\n",
    "inner_snowon_idx = (atl06sr_gdf['zscore'].abs() <= zscore_thresh) & \\\n",
    "    (atl06sr_gdf['diff_plus'].abs() <= absdiff_thresh) & \\\n",
    "    (atl06sr_gdf['snow_presence'] == 1)"
   ]
  },
  {
   "cell_type": "code",
   "execution_count": 77,
   "id": "0ccf14f5-1c45-4017-83d2-943cfc9c9873",
   "metadata": {},
   "outputs": [
    {
     "data": {
      "text/plain": [
       "count    144467.000000\n",
       "mean         -0.044017\n",
       "std           1.044224\n",
       "min          -3.692366\n",
       "25%          -0.551577\n",
       "50%           0.070023\n",
       "75%           0.536296\n",
       "max           3.534498\n",
       "Name: diff_plus, dtype: float64"
      ]
     },
     "execution_count": 77,
     "metadata": {},
     "output_type": "execute_result"
    }
   ],
   "source": [
    "atl06sr_gdf[atl06_idx]['diff_plus'].describe()"
   ]
  },
  {
   "cell_type": "code",
   "execution_count": 78,
   "id": "69c13a6a-c382-4aa4-9527-d9cc5d856c47",
   "metadata": {},
   "outputs": [
    {
     "data": {
      "text/plain": [
       "count    78710.000000\n",
       "mean        -0.124156\n",
       "std          1.023742\n",
       "min         -3.692366\n",
       "25%         -0.604602\n",
       "50%          0.004464\n",
       "75%          0.396107\n",
       "max          3.534498\n",
       "Name: diff_plus, dtype: float64"
      ]
     },
     "execution_count": 78,
     "metadata": {},
     "output_type": "execute_result"
    }
   ],
   "source": [
    "atl06sr_gdf[inner_snowoff_idx]['diff_plus'].describe()"
   ]
  },
  {
   "cell_type": "code",
   "execution_count": 79,
   "id": "eb930806-189c-4d7e-b2f4-1e4e0e23edff",
   "metadata": {},
   "outputs": [
    {
     "data": {
      "text/plain": [
       "count    65757.000000\n",
       "mean         0.051908\n",
       "std          1.060298\n",
       "min         -3.691610\n",
       "25%         -0.482775\n",
       "50%          0.185642\n",
       "75%          0.678546\n",
       "max          3.533152\n",
       "Name: diff_plus, dtype: float64"
      ]
     },
     "execution_count": 79,
     "metadata": {},
     "output_type": "execute_result"
    }
   ],
   "source": [
    "atl06sr_gdf[inner_snowon_idx]['diff_plus'].describe()"
   ]
  },
  {
   "cell_type": "code",
   "execution_count": 146,
   "id": "eba103a9-3a0a-46a9-b1ca-cfdf8e7c964d",
   "metadata": {},
   "outputs": [],
   "source": [
    "atl06sr_gdf['n'] = np.nan\n",
    "for date in atl06sr_gdf['acqdate'].unique():\n",
    "    atl06sr_gdf.loc[atl06sr_gdf['acqdate']==date, 'n'] = atl06sr_gdf.loc[atl06sr_gdf['acqdate']==date, 'diff_plus'].count()"
   ]
  },
  {
   "cell_type": "code",
   "execution_count": 147,
   "id": "649b7fb3-9531-4466-91f0-93448033091a",
   "metadata": {},
   "outputs": [
    {
     "data": {
      "text/html": [
       "<div>\n",
       "<style scoped>\n",
       "    .dataframe tbody tr th:only-of-type {\n",
       "        vertical-align: middle;\n",
       "    }\n",
       "\n",
       "    .dataframe tbody tr th {\n",
       "        vertical-align: top;\n",
       "    }\n",
       "\n",
       "    .dataframe thead th {\n",
       "        text-align: right;\n",
       "    }\n",
       "</style>\n",
       "<table border=\"1\" class=\"dataframe\">\n",
       "  <thead>\n",
       "    <tr style=\"text-align: right;\">\n",
       "      <th></th>\n",
       "      <th>pflags</th>\n",
       "      <th>h_mean</th>\n",
       "      <th>dh_fit_dy</th>\n",
       "      <th>spot</th>\n",
       "      <th>w_surface_window_final</th>\n",
       "      <th>h_sigma</th>\n",
       "      <th>distance</th>\n",
       "      <th>segment_id</th>\n",
       "      <th>dh_fit_dx</th>\n",
       "      <th>rgt</th>\n",
       "      <th>cycle</th>\n",
       "      <th>delta_time</th>\n",
       "      <th>gt</th>\n",
       "      <th>n_fit_photons</th>\n",
       "      <th>rms_misfit</th>\n",
       "      <th>geometry</th>\n",
       "      <th>acqdate</th>\n",
       "      <th>doy</th>\n",
       "      <th>decyear</th>\n",
       "      <th>dowy</th>\n",
       "      <th>snow_presence</th>\n",
       "      <th>lidar_z</th>\n",
       "      <th>difference</th>\n",
       "      <th>lidar_z_20m</th>\n",
       "      <th>difference_20m</th>\n",
       "      <th>slope_3m</th>\n",
       "      <th>slope_20m</th>\n",
       "      <th>slope_100m</th>\n",
       "      <th>diff_plus</th>\n",
       "      <th>diff_plus_20m</th>\n",
       "      <th>zscore</th>\n",
       "      <th>n</th>\n",
       "    </tr>\n",
       "    <tr>\n",
       "      <th>time</th>\n",
       "      <th></th>\n",
       "      <th></th>\n",
       "      <th></th>\n",
       "      <th></th>\n",
       "      <th></th>\n",
       "      <th></th>\n",
       "      <th></th>\n",
       "      <th></th>\n",
       "      <th></th>\n",
       "      <th></th>\n",
       "      <th></th>\n",
       "      <th></th>\n",
       "      <th></th>\n",
       "      <th></th>\n",
       "      <th></th>\n",
       "      <th></th>\n",
       "      <th></th>\n",
       "      <th></th>\n",
       "      <th></th>\n",
       "      <th></th>\n",
       "      <th></th>\n",
       "      <th></th>\n",
       "      <th></th>\n",
       "      <th></th>\n",
       "      <th></th>\n",
       "      <th></th>\n",
       "      <th></th>\n",
       "      <th></th>\n",
       "      <th></th>\n",
       "      <th></th>\n",
       "      <th></th>\n",
       "      <th></th>\n",
       "    </tr>\n",
       "  </thead>\n",
       "  <tbody>\n",
       "    <tr>\n",
       "      <th>2018-11-09 22:09:43.662511060</th>\n",
       "      <td>0</td>\n",
       "      <td>774.110259</td>\n",
       "      <td>0.0</td>\n",
       "      <td>5</td>\n",
       "      <td>9.386548</td>\n",
       "      <td>0.079705</td>\n",
       "      <td>5.382001e+06</td>\n",
       "      <td>268398</td>\n",
       "      <td>0.367318</td>\n",
       "      <td>646</td>\n",
       "      <td>1</td>\n",
       "      <td>2.703658e+07</td>\n",
       "      <td>20</td>\n",
       "      <td>41</td>\n",
       "      <td>0.506044</td>\n",
       "      <td>POINT (722265.057 5358346.501)</td>\n",
       "      <td>2018-11-09</td>\n",
       "      <td>313</td>\n",
       "      <td>2018.857324</td>\n",
       "      <td>40</td>\n",
       "      <td>0</td>\n",
       "      <td>NaN</td>\n",
       "      <td>NaN</td>\n",
       "      <td>NaN</td>\n",
       "      <td>NaN</td>\n",
       "      <td>NaN</td>\n",
       "      <td>NaN</td>\n",
       "      <td>NaN</td>\n",
       "      <td>NaN</td>\n",
       "      <td>NaN</td>\n",
       "      <td>NaN</td>\n",
       "      <td>1468.0</td>\n",
       "    </tr>\n",
       "    <tr>\n",
       "      <th>2018-11-09 22:09:43.789049908</th>\n",
       "      <td>0</td>\n",
       "      <td>919.941824</td>\n",
       "      <td>0.0</td>\n",
       "      <td>5</td>\n",
       "      <td>3.000000</td>\n",
       "      <td>0.050617</td>\n",
       "      <td>5.382903e+06</td>\n",
       "      <td>268443</td>\n",
       "      <td>0.028568</td>\n",
       "      <td>646</td>\n",
       "      <td>1</td>\n",
       "      <td>2.703658e+07</td>\n",
       "      <td>20</td>\n",
       "      <td>42</td>\n",
       "      <td>0.305572</td>\n",
       "      <td>POINT (722145.580 5359238.959)</td>\n",
       "      <td>2018-11-09</td>\n",
       "      <td>313</td>\n",
       "      <td>2018.857324</td>\n",
       "      <td>40</td>\n",
       "      <td>0</td>\n",
       "      <td>921.263184</td>\n",
       "      <td>-1.321359</td>\n",
       "      <td>924.401428</td>\n",
       "      <td>-4.459604</td>\n",
       "      <td>21.903059</td>\n",
       "      <td>11.596403</td>\n",
       "      <td>NaN</td>\n",
       "      <td>-0.881577</td>\n",
       "      <td>-4.024133</td>\n",
       "      <td>-0.667243</td>\n",
       "      <td>1468.0</td>\n",
       "    </tr>\n",
       "  </tbody>\n",
       "</table>\n",
       "</div>"
      ],
      "text/plain": [
       "                               pflags      h_mean  dh_fit_dy  spot  \\\n",
       "time                                                                 \n",
       "2018-11-09 22:09:43.662511060       0  774.110259        0.0     5   \n",
       "2018-11-09 22:09:43.789049908       0  919.941824        0.0     5   \n",
       "\n",
       "                               w_surface_window_final   h_sigma      distance  \\\n",
       "time                                                                            \n",
       "2018-11-09 22:09:43.662511060                9.386548  0.079705  5.382001e+06   \n",
       "2018-11-09 22:09:43.789049908                3.000000  0.050617  5.382903e+06   \n",
       "\n",
       "                               segment_id  dh_fit_dx  rgt  cycle  \\\n",
       "time                                                               \n",
       "2018-11-09 22:09:43.662511060      268398   0.367318  646      1   \n",
       "2018-11-09 22:09:43.789049908      268443   0.028568  646      1   \n",
       "\n",
       "                                 delta_time  gt  n_fit_photons  rms_misfit  \\\n",
       "time                                                                         \n",
       "2018-11-09 22:09:43.662511060  2.703658e+07  20             41    0.506044   \n",
       "2018-11-09 22:09:43.789049908  2.703658e+07  20             42    0.305572   \n",
       "\n",
       "                                                     geometry     acqdate  \\\n",
       "time                                                                        \n",
       "2018-11-09 22:09:43.662511060  POINT (722265.057 5358346.501)  2018-11-09   \n",
       "2018-11-09 22:09:43.789049908  POINT (722145.580 5359238.959)  2018-11-09   \n",
       "\n",
       "                               doy      decyear  dowy snow_presence  \\\n",
       "time                                                                  \n",
       "2018-11-09 22:09:43.662511060  313  2018.857324    40             0   \n",
       "2018-11-09 22:09:43.789049908  313  2018.857324    40             0   \n",
       "\n",
       "                                  lidar_z  difference  lidar_z_20m  \\\n",
       "time                                                                 \n",
       "2018-11-09 22:09:43.662511060         NaN         NaN          NaN   \n",
       "2018-11-09 22:09:43.789049908  921.263184   -1.321359   924.401428   \n",
       "\n",
       "                               difference_20m   slope_3m  slope_20m  \\\n",
       "time                                                                  \n",
       "2018-11-09 22:09:43.662511060             NaN        NaN        NaN   \n",
       "2018-11-09 22:09:43.789049908       -4.459604  21.903059  11.596403   \n",
       "\n",
       "                               slope_100m  diff_plus  diff_plus_20m    zscore  \\\n",
       "time                                                                            \n",
       "2018-11-09 22:09:43.662511060         NaN        NaN            NaN       NaN   \n",
       "2018-11-09 22:09:43.789049908         NaN  -0.881577      -4.024133 -0.667243   \n",
       "\n",
       "                                    n  \n",
       "time                                   \n",
       "2018-11-09 22:09:43.662511060  1468.0  \n",
       "2018-11-09 22:09:43.789049908  1468.0  "
      ]
     },
     "execution_count": 147,
     "metadata": {},
     "output_type": "execute_result"
    }
   ],
   "source": [
    "atl06sr_gdf.head(2)"
   ]
  },
  {
   "cell_type": "code",
   "execution_count": null,
   "id": "cfda4652-adfd-4d15-b7ac-530a501d87fe",
   "metadata": {},
   "outputs": [],
   "source": []
  },
  {
   "cell_type": "code",
   "execution_count": null,
   "id": "e1b91500-b9af-471a-ab2c-03abe744a869",
   "metadata": {},
   "outputs": [],
   "source": []
  },
  {
   "cell_type": "markdown",
   "id": "d39b8b94-2360-4a12-86c1-52ebc45bf71d",
   "metadata": {
    "tags": []
   },
   "source": [
    "# Repeat again, sampling slope at different resolutions  \n",
    "Slope DEMs were produced via downscaling where necessary and then using gdaldem to output a slope file:  \n",
    "\"gdaldem slope $lidar_fn  $lidar_slope_fn -co COMPRESS=LZW -co TILED=YES\""
   ]
  },
  {
   "cell_type": "code",
   "execution_count": 18,
   "id": "2f5947a1-7954-4b35-a88b-1c7552950d46",
   "metadata": {},
   "outputs": [],
   "source": [
    "slope_fn_3m = '../../data/lidar/methow/dtm/methow_basin_2018_dtm_combined_32610_3m_slope.tif'\n",
    "\n",
    "slope_fn_100m = '../../data/lidar/methow/dtm/methow_basin_2018_dtm_combined_32610_100m_slope.tif'"
   ]
  },
  {
   "cell_type": "code",
   "execution_count": 19,
   "id": "b4758104-85cb-4175-ba1f-518a376c270b",
   "metadata": {},
   "outputs": [],
   "source": [
    "#src_slo_3m = rio.open(slope_fn_3m)\n",
    "\n",
    "#src_slo_100m = rio.open(slope_fn_100m)\n"
   ]
  },
  {
   "cell_type": "code",
   "execution_count": null,
   "id": "8601caa8-55c5-4ceb-91f9-ffdb1fd7bc60",
   "metadata": {},
   "outputs": [],
   "source": []
  },
  {
   "cell_type": "code",
   "execution_count": 25,
   "id": "3319f4d4-6546-4baa-9f21-02718341ff5a",
   "metadata": {},
   "outputs": [
    {
     "ename": "NameError",
     "evalue": "name 'src_slo_3m' is not defined",
     "output_type": "error",
     "traceback": [
      "\u001b[0;31m---------------------------------------------------------------------------\u001b[0m",
      "\u001b[0;31mNameError\u001b[0m                                 Traceback (most recent call last)",
      "Cell \u001b[0;32mIn [25], line 3\u001b[0m\n\u001b[1;32m      1\u001b[0m \u001b[38;5;66;03m# Sample 3m resolution slope map\u001b[39;00m\n\u001b[0;32m----> 3\u001b[0m sample_raster(atl06sr_gdf, \u001b[43msrc_slo_3m\u001b[49m)\n",
      "\u001b[0;31mNameError\u001b[0m: name 'src_slo_3m' is not defined"
     ]
    }
   ],
   "source": [
    "# Sample 3m resolution slope map\n",
    "\n",
    "sample_raster(atl06sr_gdf, src_slo_3m)"
   ]
  },
  {
   "cell_type": "code",
   "execution_count": null,
   "id": "f5c4093f-56b5-4779-93e4-fa562f8b9e66",
   "metadata": {},
   "outputs": [],
   "source": [
    "# Sample 20m resolution slope map\n",
    "\n",
    "sample_raster(atl06sr_gdf, src_slo_20m)"
   ]
  },
  {
   "cell_type": "code",
   "execution_count": null,
   "id": "14dd2684-4b04-4746-b9fc-b74d033e15bd",
   "metadata": {},
   "outputs": [],
   "source": [
    "# Sample 100m resolution slope map\n",
    "\n",
    "sample_raster(atl06sr_gdf, src_slo_100m)"
   ]
  }
 ],
 "metadata": {
  "kernelspec": {
   "display_name": "Python 3 (ipykernel)",
   "language": "python",
   "name": "python3"
  },
  "language_info": {
   "codemirror_mode": {
    "name": "ipython",
    "version": 3
   },
   "file_extension": ".py",
   "mimetype": "text/x-python",
   "name": "python",
   "nbconvert_exporter": "python",
   "pygments_lexer": "ipython3",
   "version": "3.9.16"
  }
 },
 "nbformat": 4,
 "nbformat_minor": 5
}
