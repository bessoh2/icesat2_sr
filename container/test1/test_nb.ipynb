{
 "cells": [
  {
   "cell_type": "markdown",
   "id": "2f7e18a8-7dd5-4303-b56e-1659409a6433",
   "metadata": {},
   "source": [
    "# Testing if I can keep a file and folder history if I move it to a new folder"
   ]
  },
  {
   "cell_type": "code",
   "execution_count": 1,
   "id": "eae773a4-63af-4fad-a2b6-8b90ceab8fa1",
   "metadata": {},
   "outputs": [],
   "source": [
    "import pandas as pd"
   ]
  },
  {
   "cell_type": "code",
   "execution_count": 2,
   "id": "a9ed1d9a-4f17-4e87-ba58-af644acbb616",
   "metadata": {},
   "outputs": [
    {
     "data": {
      "text/plain": [
       "7"
      ]
     },
     "execution_count": 2,
     "metadata": {},
     "output_type": "execute_result"
    }
   ],
   "source": [
    "5 + 2"
   ]
  },
  {
   "cell_type": "code",
   "execution_count": null,
   "id": "81e32b21-000e-4d99-803d-d2371d808305",
   "metadata": {},
   "outputs": [],
   "source": []
  }
 ],
 "metadata": {
  "kernelspec": {
   "display_name": "Python 3 (ipykernel)",
   "language": "python",
   "name": "python3"
  },
  "language_info": {
   "codemirror_mode": {
    "name": "ipython",
    "version": 3
   },
   "file_extension": ".py",
   "mimetype": "text/x-python",
   "name": "python",
   "nbconvert_exporter": "python",
   "pygments_lexer": "ipython3",
   "version": "3.9.16"
  }
 },
 "nbformat": 4,
 "nbformat_minor": 5
}
